{
 "metadata": {
  "name": "bq_expected_variance"
 },
 "nbformat": 3,
 "nbformat_minor": 0,
 "worksheets": [
  {
   "cells": [
    {
     "cell_type": "markdown",
     "metadata": {},
     "source": [
      "The equation for the expected variance is given by Equation 13 of \\cite{Osborne:2012tm}:\n",
      "\n",
      "$$\n",
      "\\begin{align*}\n",
      "E[V_Z|\\log\\ell_{s,a}] = S(Z\\ |\\ \\log\\ell_{s}) - \\int m(Z\\ |\\ \\log\\ell_{s,a})^2 \\mathcal{N}\\left( \\log\\ell_a \\ \\big\\vert\\ \\hat{m}_a, \\hat{C}_a + \\frac{\\partial \\hat{m}_a}{\\partial W} C_W \\frac{\\partial\\hat{m}_a}{\\partial W}\\right)\\ \\mathrm{d}\\log\\ell_a\n",
      "\\end{align*}\n",
      "$$"
     ]
    },
    {
     "cell_type": "markdown",
     "metadata": {},
     "source": [
      "From before, we have:\n",
      "\n",
      "$$\n",
      "\\begin{align*}\n",
      "m(Z\\ |\\ \\log\\ell_{s,a})&=E[m_\\ell|x_{s,a}] + E[m_\\ell m_\\Delta|x_{s,a}, x_{c,a}] + \\gamma E[m_\\Delta|x_{s,a}, x_{c,a}]\\\\\\\\\n",
      "&= h_\\ell^2 \\mathcal{N}\\left(x_{s,a}\\ \\big\\vert\\  \\mu, W_\\ell + \\Sigma\\right)K_\\ell(x_{s,a}, x_{s,a})^{-1}\\ell_{s,a} +\\\\\\\\\n",
      "&\\ \\ \\ \\ \\ \\ \\Delta_{c,a}^\\top K_\\Delta(x_{c,a}, x_{c,a})^{-1}h_\\Delta^2 h_\\ell^2 \\mathcal{N}\\left([x_{c,a,i}, x_{s,a,j}]\\ \\big\\vert\\  [\\mu, \\mu], [W_\\Delta+\\Sigma, \\Sigma; \\Sigma, W_\\ell+\\Sigma]\\right) K_\\ell(x_{s,a}, x_{s,a})^{-1}\\ell_{s,a} +\\\\\\\\\n",
      "&\\ \\ \\ \\ \\ \\ \\gamma h_\\Delta^2 \\mathcal{N}\\left(x_{c,a}\\ \\big\\vert\\  \\mu, W_\\Delta + \\Sigma\\right) K_\\Delta(x_{c,a}, x_{c,a})^{-1}\\Delta_{c,a}\n",
      "\\end{align*}\n",
      "$$"
     ]
    },
    {
     "cell_type": "markdown",
     "metadata": {},
     "source": [
      "For brevity, let:\n",
      "\n",
      "$$\n",
      "\\begin{align*}\n",
      "A_{s,a} &= h_\\ell^2 \\mathcal{N}\\left(x_{s,a}\\ \\big\\vert\\  \\mu, W_\\ell + \\Sigma\\right)K_\\ell(x_{s,a}, x_{s,a})^{-1} + \\Delta_{c,a}^\\top K_\\Delta(x_{c,a}, x_{c,a})^{-1}h_\\Delta^2 h_\\ell^2 \\mathcal{N}\\left([x_{c,a,i}, x_{s,a,j}]\\ \\big\\vert\\  [\\mu, \\mu], [W_\\Delta+\\Sigma, \\Sigma; \\Sigma, W_\\ell+\\Sigma]\\right) K_\\ell(x_{s,a}, x_{s,a})^{-1},\\\\\\\\\n",
      "B &= h_\\Delta^2 \\mathcal{N}\\left(x_{c,a}\\ \\big\\vert\\  \\mu, W_\\Delta + \\Sigma\\right) K_\\Delta(x_{c,a}, x_{c,a})^{-1}\\Delta_{c,a},\n",
      "\\end{align*}\n",
      "$$\n",
      "\n",
      "such that $m(Z\\ |\\ \\log\\ell_{s,a})=A_{s,a}\\ell_{s,a} + \\gamma B$."
     ]
    },
    {
     "cell_type": "markdown",
     "metadata": {},
     "source": [
      "We have that $\\int\\exp(cy)\\mathcal{N}\\left( y \\ \\big\\vert\\ m, S \\right)=\\exp(cm + \\frac{1}{2}c^2 S)$, which allows us to marginalize out $\\ell_a$. Thus, we need to break apart $\\ell_{s,a}=[\\ell_s; \\ell_a]$, giving:\n",
      "\n",
      "$$\n",
      "\\begin{align*}\n",
      "m(Z\\ |\\ \\log\\ell_{s,a})^2 &= \\left([A_{s}, A_a][\\ell_s; \\ell_a] + \\gamma B\\right)^2\\\\\\\\\n",
      "&= [A_s, A_a][\\ell_s; \\ell_a][A_s, A_a][\\ell_s; \\ell_a] + 2\\gamma B [A_s, A_a][\\ell_s; \\ell_a] + \\gamma^2 B^2\\\\\\\\\n",
      "&= \\left( A_s\\ell_s + A_a\\ell_a \\right)\\left( A_s\\ell_s + A_a\\ell_a \\right) + 2\\gamma B \\left( A_s\\ell_s + A_a\\ell_a \\right) + \\gamma^2 B^2\\\\\\\\\n",
      "&= A_s^2\\ell_s^2 + 2A_sA_a\\ell_s\\ell_a + A_a^2\\ell_a^2 + 2\\gamma BA_s\\ell_s + 2\\gamma BA_a\\ell_a + \\gamma^2 B^2\n",
      "\\end{align*}\n",
      "$$"
     ]
    },
    {
     "cell_type": "markdown",
     "metadata": {},
     "source": [
      "Plugging this into the expected squared mean:\n",
      "\n",
      "$$\n",
      "\\begin{align*}\n",
      "E[m_Z^2|\\log\\ell_{s,a}] &= \\int m(Z\\ |\\ \\log\\ell_{s,a})^2 \\mathcal{N}\\left( \\log\\ell_a \\ \\big\\vert\\ \\hat{m}_a, \\hat{C}_a + \\frac{\\partial \\hat{m}_a}{\\partial W} C_W \\frac{\\partial\\hat{m}_a}{\\partial W}\\right)\\ \\mathrm{d}\\log\\ell_a\\\\\\\\\n",
      "&= A_s^2\\ell_s^2 + 2\\gamma BA_s\\ell_s + \\gamma^2 B^2 + \\int \\left( 2A_sA_a\\ell_s\\ell_a + 2\\gamma BA_a\\ell_a + A_a^2\\ell_a^2 \\right)p(\\log\\ell_a) \\ \\mathrm{d}\\log\\ell_a\n",
      "\\end{align*}\n",
      "$$\n"
     ]
    },
    {
     "cell_type": "markdown",
     "metadata": {},
     "source": [
      "In practice, the log transform is actually $\\log\\ell_a = \\log\\left(\\frac{\\ell_a}{\\gamma} + 1\\right)$, so we need to put $\\ell_a$ in this form. This gives us:\n",
      "\n",
      "$$\n",
      "\\begin{align*}\n",
      "&= A_s^2\\ell_s^2 + 2\\gamma BA_s\\ell_s + \\gamma^2 B^2 + \\int \\left[ 2\\gamma A_sA_a\\ell_s\\left(\\exp(\\log\\ell_a)-1\\right) + 2\\gamma^2 BA_a\\left(\\exp(\\log\\ell_a)-1\\right) + \\gamma^2 A_a^2\\left( \\exp(2\\log\\ell_a) - 2\\exp(\\log\\ell_a) + 1 \\right) \\right]p(\\log\\ell_a) \\ \\mathrm{d}\\log\\ell_a\\\\\\\\\n",
      "&= A_s^2\\ell_s^2 + 2\\gamma BA_s\\ell_s + \\gamma^2 B^2 + 2\\gamma A_sA_a\\ell_s( E_1 - 1) + 2\\gamma^2 BA_a(E_1 - 1) + \\gamma^2 A_a^2(E_2 - 2E_1 + 1)\\\\\\\\\n",
      "&= (A_s\\ell_s + \\gamma B)^2 + 2\\gamma A_a(A_s\\ell_s + \\gamma B)(E_1 - 1) + \\gamma^2 A_a^2 (E_2 - 2E_1 + 1)\n",
      "\\end{align*}\n",
      "$$\n",
      "\n",
      "where:\n",
      "\n",
      "$$\n",
      "\\begin{align*}\n",
      "E_1&=\\exp\\left(\\hat{m}_a + \\frac{1}{2}\\left( \\hat{C}_a + \\frac{\\partial \\hat{m}_a}{W}C_W\\frac{\\partial \\hat{m}_a}{W} \\right)\\right)\\\\\\\\\n",
      "E_2&=\\exp\\left(2\\hat{m}_a + 2\\left( \\hat{C}_a + \\frac{\\partial \\hat{m}_a}{W}C_W\\frac{\\partial \\hat{m}_a}{W} \\right)\\right)\n",
      "\\end{align*}\n",
      "$$"
     ]
    },
    {
     "cell_type": "markdown",
     "metadata": {},
     "source": [
      "Putting it all together, we obtain:\n",
      "\n",
      "$$\n",
      "\\begin{align*}\n",
      "E[V_Z|\\log\\ell_{s,a}] &= S(Z\\ |\\ \\log\\ell_{s}) - \\left( (A_s\\ell_s + \\gamma B)^2 + 2\\gamma A_a(A_s\\ell_s + \\gamma B)(E_1 - 1) + \\gamma^2 A_a^2 (E_2 - 2E_1 + 1)\\right)\\\\\\\\\n",
      "&= V_Z + m_Z^2 - \\left( (A_s\\ell_s + \\gamma B)^2 + 2\\gamma A_a(A_s\\ell_s + \\gamma B)(E_1 - 1) + \\gamma^2 A_a^2 (E_2 - 2E_1 + 1)\\right)\n",
      "\\end{align*}\n",
      "$$\n",
      "\n",
      "where $S(Z\\ |\\ \\log\\ell_s) = V_Z + m_Z^2$ from Equation 9 of \\cite{Osborne:2012tm}."
     ]
    }
   ],
   "metadata": {}
  }
 ]
}