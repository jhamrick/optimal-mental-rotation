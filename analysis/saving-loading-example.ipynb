{
 "metadata": {
  "name": ""
 },
 "nbformat": 3,
 "nbformat_minor": 0,
 "worksheets": [
  {
   "cells": [
    {
     "cell_type": "heading",
     "level": 1,
     "metadata": {},
     "source": [
      "Saving and loading a model"
     ]
    },
    {
     "cell_type": "code",
     "collapsed": false,
     "input": [
      "%matplotlib inline\n",
      "%load_ext autoreload\n",
      "%autoreload 2"
     ],
     "language": "python",
     "metadata": {},
     "outputs": [],
     "prompt_number": 1
    },
    {
     "cell_type": "code",
     "collapsed": false,
     "input": [
      "import matplotlib.cm as cm\n",
      "import matplotlib.pyplot as plt\n",
      "import matplotlib.gridspec as gridspec\n",
      "import numpy as np\n",
      "from path import path\n",
      "\n",
      "import mental_rotation.model as models\n",
      "from mental_rotation.stimulus import Stimulus2D\n",
      "import plots.util as util\n",
      "\n",
      "np.seterr(invalid='ignore')"
     ],
     "language": "python",
     "metadata": {},
     "outputs": [
      {
       "metadata": {},
       "output_type": "pyout",
       "prompt_number": 2,
       "text": [
        "{'divide': 'ignore', 'invalid': 'ignore', 'over': 'ignore', 'under': 'ignore'}"
       ]
      }
     ],
     "prompt_number": 2
    },
    {
     "cell_type": "code",
     "collapsed": false,
     "input": [
      "ROOT = path(\"../\")\n",
      "CONFIG = util.load_config(ROOT.joinpath(\"config.ini\"))\n",
      "VERSION = CONFIG.get(\"global\", \"version\")\n",
      "SEED = CONFIG.getint(\"global\", \"seed\")\n",
      "STIM_PATH = ROOT.joinpath(CONFIG.get(\"paths\", \"stimuli\"))\n",
      "FIG_PATH = ROOT.joinpath(CONFIG.get(\"paths\", \"figures\"), VERSION)\n",
      "\n",
      "opts = {\n",
      "    'S_sigma': CONFIG.getfloat(\"model\", \"S_sigma\")\n",
      "}"
     ],
     "language": "python",
     "metadata": {},
     "outputs": [],
     "prompt_number": 3
    },
    {
     "cell_type": "heading",
     "level": 2,
     "metadata": {},
     "source": [
      "Example stimulus"
     ]
    },
    {
     "cell_type": "code",
     "collapsed": false,
     "input": [
      "X = Stimulus2D.load(STIM_PATH.joinpath(VERSION, \"002_120_0.json\"))\n",
      "Xa = X.copy_from_initial()\n",
      "Xb = X.copy_from_vertices()\n",
      "\n",
      "fig, (ax1, ax2) = plt.subplots(1, 2)\n",
      "Xa.plot(ax1)\n",
      "Xb.plot(ax2)"
     ],
     "language": "python",
     "metadata": {},
     "outputs": [
      {
       "metadata": {},
       "output_type": "display_data",
       "png": "[encoded data removed]",
       "text": [
        "<matplotlib.figure.Figure at 0x10cedcb50>"
       ]
      }
     ],
     "prompt_number": 4
    },
    {
     "cell_type": "heading",
     "level": 3,
     "metadata": {},
     "source": [
      "Create the model"
     ]
    },
    {
     "cell_type": "code",
     "collapsed": false,
     "input": [
      "np.random.seed(SEED + 1)\n",
      "model = models.GoldStandardModel(Xa.vertices, Xb.vertices, step=0.1, prior=0.5, **opts)"
     ],
     "language": "python",
     "metadata": {},
     "outputs": [],
     "prompt_number": 5
    },
    {
     "cell_type": "heading",
     "level": 3,
     "metadata": {},
     "source": [
      "Save it"
     ]
    },
    {
     "cell_type": "code",
     "collapsed": false,
     "input": [
      "model.save(\"/tmp/model\", force=True)"
     ],
     "language": "python",
     "metadata": {},
     "outputs": [],
     "prompt_number": 6
    },
    {
     "cell_type": "heading",
     "level": 3,
     "metadata": {},
     "source": [
      "Load from the saved file"
     ]
    },
    {
     "cell_type": "code",
     "collapsed": false,
     "input": [
      "model = models.GoldStandardModel.load(\"/tmp/model\")"
     ],
     "language": "python",
     "metadata": {},
     "outputs": [],
     "prompt_number": 7
    },
    {
     "cell_type": "heading",
     "level": 3,
     "metadata": {},
     "source": [
      "Run the model and print the result"
     ]
    },
    {
     "cell_type": "code",
     "collapsed": false,
     "input": [
      "model.sample()\n",
      "model.print_stats()"
     ],
     "language": "python",
     "metadata": {},
     "outputs": [
      {
       "output_type": "stream",
       "stream": "stdout",
       "text": [
        "log LH(h0) = -2.128895\n",
        "log LH(h1) = -4.243255\n",
        "log LH(h0) / LH(h1) = 2.114360\n",
        "--> STOP and accept hypothesis 0 (same)\n"
       ]
      }
     ],
     "prompt_number": 8
    },
    {
     "cell_type": "heading",
     "level": 3,
     "metadata": {},
     "source": [
      "Plot the results"
     ]
    },
    {
     "cell_type": "code",
     "collapsed": false,
     "input": [
      "fig, axes = plt.subplots(1, 2, sharex=True, sharey=True)\n",
      "model.plot(axes[0], 0)\n",
      "model.plot(axes[1], 1)\n",
      "plt.tight_layout()"
     ],
     "language": "python",
     "metadata": {},
     "outputs": [
      {
       "metadata": {},
       "output_type": "display_data",
       "png": "[encoded data removed]",
       "text": [
        "<matplotlib.figure.Figure at 0x10cf39150>"
       ]
      }
     ],
     "prompt_number": 9
    },
    {
     "cell_type": "heading",
     "level": 3,
     "metadata": {},
     "source": [
      "Save it again"
     ]
    },
    {
     "cell_type": "code",
     "collapsed": false,
     "input": [
      "model.save(\"/tmp/model_run\", force=True)"
     ],
     "language": "python",
     "metadata": {},
     "outputs": [],
     "prompt_number": 10
    }
   ],
   "metadata": {}
  }
 ]
}