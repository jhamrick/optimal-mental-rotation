{
 "metadata": {
  "name": ""
 },
 "nbformat": 3,
 "nbformat_minor": 0,
 "worksheets": [
  {
   "cells": [
    {
     "cell_type": "heading",
     "level": 1,
     "metadata": {},
     "source": [
      "Fitting model parameters"
     ]
    },
    {
     "cell_type": "code",
     "collapsed": false,
     "input": [
      "%matplotlib inline"
     ],
     "language": "python",
     "metadata": {},
     "outputs": [],
     "prompt_number": 1
    },
    {
     "cell_type": "code",
     "collapsed": false,
     "input": [
      "%load_ext autoreload\n",
      "%autoreload 2"
     ],
     "language": "python",
     "metadata": {},
     "outputs": [],
     "prompt_number": 2
    },
    {
     "cell_type": "code",
     "collapsed": false,
     "input": [
      "import matplotlib.pyplot as plt\n",
      "import numpy as np\n",
      "import pandas as pd\n",
      "from datetime import timedelta\n",
      "from path import path\n",
      "\n",
      "from snippets import datapackage as dpkg\n",
      "import analyses\n",
      "import analyses.util as util\n",
      "import plots"
     ],
     "language": "python",
     "metadata": {},
     "outputs": [],
     "prompt_number": 3
    },
    {
     "cell_type": "code",
     "collapsed": false,
     "input": [
      "ROOT = path(\"../\")\n",
      "CONFIG = util.load_config(ROOT.joinpath(\"config.ini\"))\n",
      "VERSION = CONFIG.get(\"global\", \"version\")\n",
      "SEED = CONFIG.getint(\"global\", \"seed\")\n",
      "FIG_PATH = ROOT.joinpath(CONFIG.get(\"paths\", \"figures\"), VERSION)\n",
      "DATA_PATH = ROOT.joinpath(CONFIG.get(\"paths\", \"data\"))\n",
      "RESULTS_PATH = ROOT.joinpath(CONFIG.get(\"paths\", \"results\"), VERSION)\n",
      "RUN_ANALYSES = False"
     ],
     "language": "python",
     "metadata": {},
     "outputs": [],
     "prompt_number": 4
    },
    {
     "cell_type": "code",
     "collapsed": false,
     "input": [
      "def response_mean(df):\n",
      "    x = df[df['correct']].groupby(['stimulus', 'modtheta', 'flipped'])['time'].apply(lambda x: 1. / (1. / x).mean())\n",
      "    if hasattr(df, 'name'):\n",
      "        x.name = df.name\n",
      "    return x"
     ],
     "language": "python",
     "metadata": {},
     "outputs": [],
     "prompt_number": 7
    },
    {
     "cell_type": "code",
     "collapsed": false,
     "input": [
      "def compute_means(data):\n",
      "    means = data.groupby(['step', 'prior']).apply(response_mean).T\n",
      "    if isinstance(means, pd.Series):\n",
      "        means = means.unstack(['step', 'prior'])\n",
      "    return means"
     ],
     "language": "python",
     "metadata": {},
     "outputs": [],
     "prompt_number": 8
    },
    {
     "cell_type": "heading",
     "level": 3,
     "metadata": {},
     "source": [
      "Load data"
     ]
    },
    {
     "cell_type": "code",
     "collapsed": false,
     "input": [
      "# load human data\n",
      "exp_all, exp_data = util.load_human(VERSION, DATA_PATH)"
     ],
     "language": "python",
     "metadata": {},
     "outputs": [
      {
       "output_type": "stream",
       "stream": "stderr",
       "text": [
        "/usr/local/Cellar/python/2.7.5/Frameworks/Python.framework/Versions/2.7/lib/python2.7/site-packages/pandas/core/indexing.py:344: SettingWithCopyWarning: A value is trying to be set on a copy of a slice from a DataFrame.\n",
        "Try using .loc[row_index,col_indexer] = value instead\n",
        "  self.obj[item] = s\n",
        "WARNING:mental_rotation.analysis:Excluding 82/40000 trials from analysis\n"
       ]
      }
     ],
     "prompt_number": 5
    },
    {
     "cell_type": "code",
     "collapsed": false,
     "input": [
      "# load models\n",
      "models = {\n",
      "    'oc': util.load_model(\"OracleModel\", VERSION, DATA_PATH),\n",
      "    'bq': util.load_model(\"BayesianQuadratureModel\", VERSION, DATA_PATH),\n",
      "    'th': util.load_model(\"ThresholdModel\", VERSION, DATA_PATH),\n",
      "    'hc': util.load_model(\"HillClimbingModel\", VERSION, DATA_PATH)\n",
      "}"
     ],
     "language": "python",
     "metadata": {},
     "outputs": [],
     "prompt_number": 6
    },
    {
     "cell_type": "heading",
     "level": 3,
     "metadata": {},
     "source": [
      "Compute means for each shape/minimum angle/reflection"
     ]
    },
    {
     "cell_type": "code",
     "collapsed": false,
     "input": [
      "exp_means = response_mean(exp_data['exp'])\n",
      "model_means = {key: compute_means(models[key]) for key in models}"
     ],
     "language": "python",
     "metadata": {},
     "outputs": [],
     "prompt_number": 9
    },
    {
     "cell_type": "heading",
     "level": 3,
     "metadata": {},
     "source": [
      "Compute correlations"
     ]
    },
    {
     "cell_type": "code",
     "collapsed": false,
     "input": [
      "corrs = {}\n",
      "for model in models:\n",
      "    for step, prior in model_means[model]:\n",
      "        # do this to make sure any missing values get turned to NaNs\n",
      "        both = pd.DataFrame({\n",
      "            'exp': exp_means,\n",
      "            'model': model_means[model][(step, prior)]\n",
      "        }).dropna(axis=0)\n",
      "\n",
      "        corrs[(model, step, prior)] = scipy.stats.pearsonr(both['exp'], both['model'])[0]"
     ],
     "language": "python",
     "metadata": {},
     "outputs": [],
     "prompt_number": 11
    },
    {
     "cell_type": "code",
     "collapsed": false,
     "input": [
      "corr_df = pd.Series(corrs)\n",
      "corr_df.index = pd.MultiIndex.from_tuples(corr_df.index, names=['model', 'step', 'prior'])\n",
      "corr_df = corr_df.unstack('model')\n",
      "corr_df"
     ],
     "language": "python",
     "metadata": {},
     "outputs": [
      {
       "html": [
        "<div style=\"max-height:1000px;max-width:1500px;overflow:auto;\">\n",
        "<table border=\"1\" class=\"dataframe\">\n",
        "  <thead>\n",
        "    <tr style=\"text-align: right;\">\n",
        "      <th></th>\n",
        "      <th>model</th>\n",
        "      <th>bq</th>\n",
        "      <th>hc</th>\n",
        "      <th>oc</th>\n",
        "      <th>th</th>\n",
        "    </tr>\n",
        "    <tr>\n",
        "      <th>step</th>\n",
        "      <th>prior</th>\n",
        "      <th></th>\n",
        "      <th></th>\n",
        "      <th></th>\n",
        "      <th></th>\n",
        "    </tr>\n",
        "  </thead>\n",
        "  <tbody>\n",
        "    <tr>\n",
        "      <th rowspan=\"2\" valign=\"top\">0.1</th>\n",
        "      <th>0.50</th>\n",
        "      <td>      NaN</td>\n",
        "      <td> 0.169631</td>\n",
        "      <td> 0.641066</td>\n",
        "      <td> 0.408176</td>\n",
        "    </tr>\n",
        "    <tr>\n",
        "      <th>0.55</th>\n",
        "      <td>      NaN</td>\n",
        "      <td> 0.188103</td>\n",
        "      <td> 0.640564</td>\n",
        "      <td> 0.407560</td>\n",
        "    </tr>\n",
        "    <tr>\n",
        "      <th rowspan=\"2\" valign=\"top\">0.2</th>\n",
        "      <th>0.50</th>\n",
        "      <td>      NaN</td>\n",
        "      <td> 0.140542</td>\n",
        "      <td> 0.636274</td>\n",
        "      <td> 0.418214</td>\n",
        "    </tr>\n",
        "    <tr>\n",
        "      <th>0.55</th>\n",
        "      <td>      NaN</td>\n",
        "      <td> 0.134872</td>\n",
        "      <td> 0.635590</td>\n",
        "      <td> 0.418619</td>\n",
        "    </tr>\n",
        "    <tr>\n",
        "      <th rowspan=\"2\" valign=\"top\">0.3</th>\n",
        "      <th>0.50</th>\n",
        "      <td>      NaN</td>\n",
        "      <td> 0.091061</td>\n",
        "      <td> 0.634247</td>\n",
        "      <td> 0.428649</td>\n",
        "    </tr>\n",
        "    <tr>\n",
        "      <th>0.55</th>\n",
        "      <td>      NaN</td>\n",
        "      <td> 0.112439</td>\n",
        "      <td> 0.633091</td>\n",
        "      <td> 0.431019</td>\n",
        "    </tr>\n",
        "    <tr>\n",
        "      <th rowspan=\"2\" valign=\"top\">0.4</th>\n",
        "      <th>0.50</th>\n",
        "      <td>      NaN</td>\n",
        "      <td> 0.080440</td>\n",
        "      <td> 0.622536</td>\n",
        "      <td> 0.440652</td>\n",
        "    </tr>\n",
        "    <tr>\n",
        "      <th>0.55</th>\n",
        "      <td>      NaN</td>\n",
        "      <td> 0.083066</td>\n",
        "      <td> 0.622091</td>\n",
        "      <td> 0.440558</td>\n",
        "    </tr>\n",
        "    <tr>\n",
        "      <th rowspan=\"2\" valign=\"top\">0.5</th>\n",
        "      <th>0.50</th>\n",
        "      <td>      NaN</td>\n",
        "      <td> 0.042805</td>\n",
        "      <td> 0.622717</td>\n",
        "      <td> 0.451365</td>\n",
        "    </tr>\n",
        "    <tr>\n",
        "      <th>0.55</th>\n",
        "      <td>      NaN</td>\n",
        "      <td> 0.057464</td>\n",
        "      <td> 0.622723</td>\n",
        "      <td> 0.456925</td>\n",
        "    </tr>\n",
        "    <tr>\n",
        "      <th rowspan=\"2\" valign=\"top\">0.6</th>\n",
        "      <th>0.50</th>\n",
        "      <td> 0.355740</td>\n",
        "      <td> 0.037790</td>\n",
        "      <td> 0.608786</td>\n",
        "      <td> 0.466582</td>\n",
        "    </tr>\n",
        "    <tr>\n",
        "      <th>0.55</th>\n",
        "      <td> 0.406747</td>\n",
        "      <td> 0.052148</td>\n",
        "      <td> 0.608616</td>\n",
        "      <td> 0.462079</td>\n",
        "    </tr>\n",
        "  </tbody>\n",
        "</table>\n",
        "<p>12 rows \u00d7 4 columns</p>\n",
        "</div>"
       ],
       "metadata": {},
       "output_type": "pyout",
       "prompt_number": 12,
       "text": [
        "model             bq        hc        oc        th\n",
        "step prior                                        \n",
        "0.1  0.50        NaN  0.169631  0.641066  0.408176\n",
        "     0.55        NaN  0.188103  0.640564  0.407560\n",
        "0.2  0.50        NaN  0.140542  0.636274  0.418214\n",
        "     0.55        NaN  0.134872  0.635590  0.418619\n",
        "0.3  0.50        NaN  0.091061  0.634247  0.428649\n",
        "     0.55        NaN  0.112439  0.633091  0.431019\n",
        "0.4  0.50        NaN  0.080440  0.622536  0.440652\n",
        "     0.55        NaN  0.083066  0.622091  0.440558\n",
        "0.5  0.50        NaN  0.042805  0.622717  0.451365\n",
        "     0.55        NaN  0.057464  0.622723  0.456925\n",
        "0.6  0.50   0.355740  0.037790  0.608786  0.466582\n",
        "     0.55   0.406747  0.052148  0.608616  0.462079\n",
        "\n",
        "[12 rows x 4 columns]"
       ]
      }
     ],
     "prompt_number": 12
    },
    {
     "cell_type": "heading",
     "level": 3,
     "metadata": {},
     "source": [
      "Plot correlations and find best parameters"
     ]
    },
    {
     "cell_type": "code",
     "collapsed": false,
     "input": [
      "fig, axes = plt.subplots(1, len(corr_df.columns))\n",
      "for i, model in enumerate(corr_df):\n",
      "    x = corr_df.unstack('prior')[model]\n",
      "    index = np.asarray(x.index)\n",
      "    cols = np.asarray(x.columns)\n",
      "    axes[i].imshow(\n",
      "        x,\n",
      "        cmap='gist_gray', interpolation='nearest',\n",
      "        vmin=0, vmax=1, \n",
      "        extent=[cols.min(), cols.max(), index.min(), index.max()],\n",
      "        origin='lower',\n",
      "        aspect='auto')\n",
      "    axes[i].set_xlabel(\"Prior\")\n",
      "    axes[i].set_ylabel(\"Step size\")\n",
      "    axes[i].set_title(model)\n",
      "    axes[i].locator_params(axis='x', nbins=len(cols))\n",
      "    axes[i].locator_params(axis='y', nbins=len(index))\n",
      "    \n",
      "    xx = np.asarray(x)\n",
      "    x_idx, y_idx = np.nonzero(xx == np.nanmax(xx))\n",
      "    idx = zip(x.index[x_idx], x.columns[y_idx])\n",
      "    print model, idx\n",
      "\n",
      "plt.tight_layout()"
     ],
     "language": "python",
     "metadata": {},
     "outputs": [
      {
       "output_type": "stream",
       "stream": "stdout",
       "text": [
        "bq [(0.6, 0.55)]\n",
        "hc [(0.1, 0.55)]\n",
        "oc [(0.1, 0.5)]\n",
        "th [(0.6, 0.5)]\n"
       ]
      },
      {
       "metadata": {},
       "output_type": "display_data",
       "png": "[encoded data removed]",
       "text": [
        "<matplotlib.figure.Figure at 0x10b7347d0>"
       ]
      }
     ],
     "prompt_number": 13
    }
   ],
   "metadata": {}
  }
 ]
}