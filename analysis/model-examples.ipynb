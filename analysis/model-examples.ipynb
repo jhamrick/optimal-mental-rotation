{
 "metadata": {
  "name": "",
  "signature": "sha256:5c17d62692ff87d50be05917aac9687e3a9ca7a6bac5fc0089fac6749aa56cc5"
 },
 "nbformat": 3,
 "nbformat_minor": 0,
 "worksheets": [
  {
   "cells": [
    {
     "cell_type": "heading",
     "level": 1,
     "metadata": {},
     "source": [
      "Models of mental rotation"
     ]
    },
    {
     "cell_type": "code",
     "collapsed": false,
     "input": [
      "%matplotlib inline\n",
      "%load_ext autoreload\n",
      "%autoreload 2"
     ],
     "language": "python",
     "metadata": {},
     "outputs": []
    },
    {
     "cell_type": "code",
     "collapsed": false,
     "input": [
      "import matplotlib.cm as cm\n",
      "import matplotlib.pyplot as plt\n",
      "import matplotlib.gridspec as gridspec\n",
      "import numpy as np\n",
      "from path import path\n",
      "\n",
      "import mental_rotation.model as models\n",
      "from mental_rotation.stimulus import Stimulus2D\n",
      "import plots.util as util\n",
      "\n",
      "np.seterr(invalid='ignore')"
     ],
     "language": "python",
     "metadata": {},
     "outputs": []
    },
    {
     "cell_type": "code",
     "collapsed": false,
     "input": [
      "ROOT = path(\"../\")\n",
      "CONFIG = util.load_config(ROOT.joinpath(\"config.ini\"))\n",
      "VERSION = CONFIG.get(\"global\", \"version\")\n",
      "SEED = CONFIG.getint(\"global\", \"seed\")\n",
      "STIM_PATH = ROOT.joinpath(CONFIG.get(\"paths\", \"stimuli\"))\n",
      "FIG_PATH = ROOT.joinpath(CONFIG.get(\"paths\", \"figures\"), VERSION)\n",
      "\n",
      "opts = {\n",
      "    'S_sigma': CONFIG.getfloat(\"model\", \"S_sigma\")\n",
      "}"
     ],
     "language": "python",
     "metadata": {},
     "outputs": []
    },
    {
     "cell_type": "code",
     "collapsed": false,
     "input": [
      "def format_plot(fig, axes):\n",
      "    for ax in axes.flat:\n",
      "        ax.set_xlim(-np.pi, np.pi)\n",
      "        ax.set_xticks([-np.pi, -np.pi/2., 0, np.pi/2., np.pi])\n",
      "        ax.set_xticklabels([-180, -90, 0, 90, 180])\n",
      "        util.clear_right(ax)\n",
      "        util.clear_top(ax)\n",
      "        ax.set_xlabel(\"Rotation\")\n",
      "        \n",
      "    axes[0, 0].set_ylabel(r\"Similarty for $h=0$\")\n",
      "    axes[1, 0].set_ylabel(r\"Similarity for $h=1$\")\n",
      "    axes[0, 0].set_title(\"\\\"Same\\\" stimulus pair\")\n",
      "    axes[0, 1].set_title(\"\\\"Flipped\\\" stimulus pair\")\n",
      "\n",
      "    fig.set_figwidth(8)\n",
      "    fig.set_figheight(6)\n",
      "    plt.tight_layout()"
     ],
     "language": "python",
     "metadata": {},
     "outputs": []
    },
    {
     "cell_type": "heading",
     "level": 2,
     "metadata": {},
     "source": [
      "Example stimulus"
     ]
    },
    {
     "cell_type": "code",
     "collapsed": false,
     "input": [
      "X0 = Stimulus2D.load(STIM_PATH.joinpath(VERSION, \"002_120_0.json\"))\n",
      "Xa = X0.copy_from_initial()\n",
      "Xb0 = X0.copy_from_vertices()\n",
      "\n",
      "X1 = Stimulus2D.load(STIM_PATH.joinpath(VERSION, \"002_120_1.json\"))\n",
      "Xb1 = X1.copy_from_vertices()\n",
      "\n",
      "fig, (ax1, ax2, ax3) = plt.subplots(1, 3)\n",
      "Xa.plot(ax1)\n",
      "Xb0.plot(ax2)\n",
      "Xb1.plot(ax3)"
     ],
     "language": "python",
     "metadata": {},
     "outputs": []
    },
    {
     "cell_type": "code",
     "collapsed": false,
     "input": [
      "fig, ax = plt.subplots()\n",
      "Xa.plot(ax)\n",
      "fig.set_figwidth(4)\n",
      "fig.set_figheight(4)\n",
      "util.save(FIG_PATH.joinpath(\"Xa\"), ext=[\"png\", \"pdf\"], close=False)"
     ],
     "language": "python",
     "metadata": {},
     "outputs": []
    },
    {
     "cell_type": "code",
     "collapsed": false,
     "input": [
      "fig, ax = plt.subplots()\n",
      "Xb0.plot(ax)\n",
      "fig.set_figwidth(4)\n",
      "fig.set_figheight(4)\n",
      "util.save(FIG_PATH.joinpath(\"Xb0\"), ext=[\"png\", \"pdf\"], close=False)"
     ],
     "language": "python",
     "metadata": {},
     "outputs": []
    },
    {
     "cell_type": "code",
     "collapsed": false,
     "input": [
      "fig, ax = plt.subplots()\n",
      "Xb1.plot(ax)\n",
      "fig.set_figwidth(4)\n",
      "fig.set_figheight(4)\n",
      "util.save(FIG_PATH.joinpath(\"Xb1\"), ext=[\"png\", \"pdf\"], close=False)"
     ],
     "language": "python",
     "metadata": {},
     "outputs": []
    },
    {
     "cell_type": "heading",
     "level": 2,
     "metadata": {},
     "source": [
      "Gold standard model"
     ]
    },
    {
     "cell_type": "code",
     "collapsed": false,
     "input": [
      "np.random.seed(SEED + 1)\n",
      "gs_model0 = models.GoldStandardModel(Xa.vertices, Xb0.vertices, step=0.1, prior=0.5, **opts)\n",
      "gs_model0.sample()\n",
      "gs_model0.print_stats()"
     ],
     "language": "python",
     "metadata": {},
     "outputs": []
    },
    {
     "cell_type": "code",
     "collapsed": false,
     "input": [
      "np.random.seed(SEED + 2)\n",
      "gs_model1 = models.GoldStandardModel(Xa.vertices, Xb1.vertices, step=0.1, prior=0.5, **opts)\n",
      "gs_model1.sample()\n",
      "gs_model1.print_stats()"
     ],
     "language": "python",
     "metadata": {},
     "outputs": []
    },
    {
     "cell_type": "code",
     "collapsed": false,
     "input": [
      "fig, axes = plt.subplots(2, 2, sharex=True, sharey=True)\n",
      "gs_model0.plot(axes[0, 0], 0)\n",
      "gs_model0.plot(axes[1, 0], 1)\n",
      "gs_model1.plot(axes[0, 1], 0)\n",
      "gs_model1.plot(axes[1, 1], 1)\n",
      "format_plot(fig, axes)"
     ],
     "language": "python",
     "metadata": {},
     "outputs": []
    },
    {
     "cell_type": "code",
     "collapsed": false,
     "input": [
      "fig, axes = plt.subplots(1, 2, sharex=True, sharey=True)\n",
      "R = np.linspace(-np.pi, np.pi, 1000)\n",
      "axes[0].plot(R, gs_model1.S(R, 0), 'r-', lw=3)\n",
      "axes[1].plot(R, gs_model1.S(R, 1), 'b-', lw=3)\n",
      "\n",
      "axes[0].set_title(\"\\\"Same\\\" ($h_0$)\", fontsize=16)\n",
      "axes[1].set_title(\"\\\"Flipped\\\" ($h_1$)\", fontsize=16)\n",
      "axes[0].set_ylabel(\"Similarity to $X_b$\", fontsize=16)\n",
      "\n",
      "axes[0].set_xlim(-np.pi, np.pi)\n",
      "axes[0].set_xticks([-np.pi, -np.pi/2., 0, np.pi/2., np.pi])\n",
      "axes[0].set_xticklabels([-180, -90, 0, 90, 180])\n",
      "\n",
      "for ax in axes:\n",
      "    util.clear_right(ax)\n",
      "    util.clear_top(ax)\n",
      "    ax.set_xlabel(r\"Rotation ($\\theta$)\", fontsize=16)\n",
      "    ax.tick_params(axis='both', which='major', labelsize=14)\n",
      "    \n",
      "fig.set_figwidth(8)\n",
      "fig.set_figheight(3)\n",
      "plt.tight_layout()\n",
      "\n",
      "util.save(FIG_PATH.joinpath(\"similarity\"), ext=[\"png\", \"pdf\"], close=False)"
     ],
     "language": "python",
     "metadata": {},
     "outputs": []
    },
    {
     "cell_type": "heading",
     "level": 2,
     "metadata": {},
     "source": [
      "Oracle model"
     ]
    },
    {
     "cell_type": "code",
     "collapsed": false,
     "input": [
      "np.random.seed(SEED + 3)\n",
      "o_model0 = models.OracleModel(Xa.vertices, Xb0.vertices, step=0.1, prior=0.5, **opts)\n",
      "o_model0.sample()\n",
      "o_model0.print_stats()\n",
      "\n",
      "anim = o_model0.animate()\n",
      "util.save_video(anim, \"oracle0.mp4\")"
     ],
     "language": "python",
     "metadata": {},
     "outputs": []
    },
    {
     "cell_type": "code",
     "collapsed": false,
     "input": [
      "np.random.seed(SEED + 4)\n",
      "o_model1 = models.OracleModel(Xa.vertices, Xb1.vertices, step=0.1, prior=0.5, **opts)\n",
      "o_model1.sample()\n",
      "o_model1.print_stats()\n",
      "\n",
      "anim = o_model1.animate()\n",
      "util.save_video(anim, \"oracle1.mp4\")"
     ],
     "language": "python",
     "metadata": {},
     "outputs": []
    },
    {
     "cell_type": "code",
     "collapsed": false,
     "input": [
      "fig, axes = plt.subplots(2, 2, sharex=True, sharey=True)\n",
      "o_model0.plot(axes[0, 0], 0, f_S=gs_model0.S)\n",
      "o_model0.plot(axes[1, 0], 1, f_S=gs_model0.S)\n",
      "o_model1.plot(axes[0, 1], 0, f_S=gs_model1.S)\n",
      "o_model1.plot(axes[1, 1], 1, f_S=gs_model1.S)\n",
      "format_plot(fig, axes)"
     ],
     "language": "python",
     "metadata": {},
     "outputs": []
    },
    {
     "cell_type": "code",
     "collapsed": false,
     "input": [
      "fig, ax = plt.subplots()\n",
      "o_model1.plot_trace(ax, scale_points=20, legend=False)\n",
      "\n",
      "ax.tick_params(axis='both', which='major', labelsize=14)\n",
      "ax.set_xlim(0, 70)\n",
      "    \n",
      "fig.set_figwidth(8)\n",
      "fig.set_figheight(4)\n",
      "plt.tight_layout()\n",
      "\n",
      "util.save(FIG_PATH.joinpath(\"trace_oracle\"), ext=[\"png\", \"pdf\"], close=False)"
     ],
     "language": "python",
     "metadata": {},
     "outputs": []
    },
    {
     "cell_type": "heading",
     "level": 2,
     "metadata": {},
     "source": [
      "Hill-climbing model"
     ]
    },
    {
     "cell_type": "code",
     "collapsed": false,
     "input": [
      "np.random.seed(SEED + 5)\n",
      "hc_model0 = models.HillClimbingModel(Xa.vertices, Xb0.vertices, step=0.1, prior=0.5, **opts)\n",
      "hc_model0.sample()\n",
      "hc_model0.print_stats()\n",
      "\n",
      "anim = hc_model0.animate()\n",
      "util.save_video(anim, \"hill_climbing0.mp4\")"
     ],
     "language": "python",
     "metadata": {},
     "outputs": []
    },
    {
     "cell_type": "code",
     "collapsed": false,
     "input": [
      "np.random.seed(SEED + 6)\n",
      "hc_model1 = models.HillClimbingModel(Xa.vertices, Xb1.vertices, step=0.1, prior=0.5, **opts)\n",
      "hc_model1.sample()\n",
      "hc_model1.print_stats()\n",
      "\n",
      "anim = hc_model1.animate()\n",
      "util.save_video(anim, \"hill_climbing1.mp4\")"
     ],
     "language": "python",
     "metadata": {},
     "outputs": []
    },
    {
     "cell_type": "code",
     "collapsed": false,
     "input": [
      "fig, axes = plt.subplots(2, 2, sharex=True, sharey=True)\n",
      "hc_model0.plot(axes[0, 0], 0, f_S=gs_model0.S)\n",
      "hc_model0.plot(axes[1, 0], 1, f_S=gs_model0.S)\n",
      "hc_model1.plot(axes[0, 1], 0, f_S=gs_model1.S)\n",
      "hc_model1.plot(axes[1, 1], 1, f_S=gs_model1.S)\n",
      "format_plot(fig, axes)"
     ],
     "language": "python",
     "metadata": {},
     "outputs": []
    },
    {
     "cell_type": "code",
     "collapsed": false,
     "input": [
      "fig, ax = plt.subplots()\n",
      "hc_model1.plot_trace(ax, scale_points=20, legend=False)\n",
      "\n",
      "ax.tick_params(axis='both', which='major', labelsize=14)\n",
      "ax.set_xlim(0, 70)\n",
      "    \n",
      "fig.set_figwidth(8)\n",
      "fig.set_figheight(4)\n",
      "plt.tight_layout()\n",
      "\n",
      "util.save(FIG_PATH.joinpath(\"trace_hc\"), ext=[\"png\", \"pdf\"], close=False)"
     ],
     "language": "python",
     "metadata": {},
     "outputs": []
    },
    {
     "cell_type": "heading",
     "level": 2,
     "metadata": {},
     "source": [
      "Threshold model"
     ]
    },
    {
     "cell_type": "code",
     "collapsed": false,
     "input": [
      "np.random.seed(SEED + 7)\n",
      "t_model0 = models.ThresholdModel(Xa.vertices, Xb0.vertices, step=0.1, prior=0.5, **opts)\n",
      "t_model0.sample()\n",
      "t_model0.print_stats()\n",
      "\n",
      "anim = t_model0.animate()\n",
      "util.save_video(anim, \"threshold0.mp4\")"
     ],
     "language": "python",
     "metadata": {},
     "outputs": []
    },
    {
     "cell_type": "code",
     "collapsed": false,
     "input": [
      "np.random.seed(SEED + 8)\n",
      "t_model1 = models.ThresholdModel(Xa.vertices, Xb1.vertices, step=0.1, prior=0.5, **opts)\n",
      "t_model1.sample()\n",
      "t_model1.print_stats()\n",
      "\n",
      "anim = t_model1.animate()\n",
      "util.save_video(anim, \"threshold1.mp4\")"
     ],
     "language": "python",
     "metadata": {},
     "outputs": []
    },
    {
     "cell_type": "code",
     "collapsed": false,
     "input": [
      "fig, axes = plt.subplots(2, 2, sharex=True, sharey=True)\n",
      "t_model0.plot(axes[0, 0], 0, f_S=gs_model0.S)\n",
      "t_model0.plot(axes[1, 0], 1, f_S=gs_model0.S)\n",
      "t_model1.plot(axes[0, 1], 0, f_S=gs_model1.S)\n",
      "t_model1.plot(axes[1, 1], 1, f_S=gs_model1.S)\n",
      "format_plot(fig, axes)"
     ],
     "language": "python",
     "metadata": {},
     "outputs": []
    },
    {
     "cell_type": "code",
     "collapsed": false,
     "input": [
      "fig, ax = plt.subplots()\n",
      "t_model1.plot_trace(ax, scale_points=20, legend=False)\n",
      "\n",
      "ax.tick_params(axis='both', which='major', labelsize=14)\n",
      "ax.set_xlim(0, 70)\n",
      "    \n",
      "fig.set_figwidth(8)\n",
      "fig.set_figheight(4)\n",
      "plt.tight_layout()\n",
      "\n",
      "util.save(FIG_PATH.joinpath(\"trace_threshold\"), ext=[\"png\", \"pdf\"], close=False)"
     ],
     "language": "python",
     "metadata": {},
     "outputs": []
    },
    {
     "cell_type": "heading",
     "level": 2,
     "metadata": {},
     "source": [
      "Bayesian quadrature model"
     ]
    },
    {
     "cell_type": "code",
     "collapsed": false,
     "input": [
      "np.random.seed(SEED + 9)\n",
      "bq_model0 = models.BayesianQuadratureModel(Xa.vertices, Xb0.vertices, step=0.6, prior=0.5, **opts)\n",
      "anim = bq_model0.animate()\n",
      "video = util.save_video(anim, \"bayesian_quadrature0.mp4\")\n",
      "bq_model0.print_stats()\n",
      "video"
     ],
     "language": "python",
     "metadata": {},
     "outputs": []
    },
    {
     "cell_type": "code",
     "collapsed": false,
     "input": [
      "np.random.seed(SEED + 10)\n",
      "bq_model1 = models.BayesianQuadratureModel(Xa.vertices, Xb1.vertices, step=0.6, prior=0.5, **opts)\n",
      "anim = bq_model1.animate()\n",
      "video = util.save_video(anim, \"bayesian_quadrature1.mp4\")\n",
      "bq_model1.print_stats()\n",
      "video"
     ],
     "language": "python",
     "metadata": {},
     "outputs": []
    },
    {
     "cell_type": "code",
     "collapsed": false,
     "input": [
      "fig, axes = plt.subplots(2, 2, sharex=True, sharey=True)\n",
      "bq_model0.plot(axes[0, 0], 0, f_S=gs_model0.S)\n",
      "bq_model0.plot(axes[1, 0], 1, f_S=gs_model0.S)\n",
      "bq_model1.plot(axes[0, 1], 0, f_S=gs_model1.S)\n",
      "bq_model1.plot(axes[1, 1], 1, f_S=gs_model1.S)\n",
      "format_plot(fig, axes)"
     ],
     "language": "python",
     "metadata": {},
     "outputs": []
    },
    {
     "cell_type": "code",
     "collapsed": false,
     "input": [
      "fig, ax = plt.subplots()\n",
      "bq_model1.plot_trace(ax, scale_points=20, legend=False)\n",
      "\n",
      "ax.tick_params(axis='both', which='major', labelsize=14)\n",
      "ax.set_xlim(0, 70)\n",
      "    \n",
      "fig.set_figwidth(8)\n",
      "fig.set_figheight(4)\n",
      "plt.tight_layout()\n",
      "\n",
      "util.save(FIG_PATH.joinpath(\"trace_bq\"), ext=[\"png\", \"pdf\"], close=False)"
     ],
     "language": "python",
     "metadata": {},
     "outputs": []
    },
    {
     "cell_type": "heading",
     "level": 2,
     "metadata": {},
     "source": [
      "All models"
     ]
    },
    {
     "cell_type": "code",
     "collapsed": false,
     "input": [
      "all_models = [\n",
      "    (\"Oracle\", o_model1),\n",
      "    (\"Threshold\", t_model1),\n",
      "    (\"HC\", hc_model1),\n",
      "    (\"BQ (unequal prior)\", bq_model1)\n",
      "]"
     ],
     "language": "python",
     "metadata": {},
     "outputs": []
    },
    {
     "cell_type": "code",
     "collapsed": false,
     "input": [
      "def plot_stim_pair(ax, Xa, Xb):\n",
      "    v0 = Xa.vertices\n",
      "    X0 = np.empty((v0.shape[0] + 1, 2))\n",
      "    X0[:-1] = v0\n",
      "    X0[-1] = v0[0]\n",
      "    ax.plot(\n",
      "        X0[:, 0], X0[:, 1],\n",
      "        color='k',\n",
      "        linewidth=2)\n",
      "    \n",
      "    v1 = Xb.vertices\n",
      "    X1 = np.empty((v1.shape[0] + 1, 2))\n",
      "    X1[:-1] = v1\n",
      "    X1[-1] = v1[0]\n",
      "    X1[:, 0] += 2\n",
      "    ax.plot(\n",
      "        X1[:, 0], X1[:, 1],\n",
      "        color='k',\n",
      "        linewidth=2)\n",
      "    \n",
      "    ax.set_xticks([0, 2])\n",
      "    ax.set_xticklabels([\"$X_a$\", \"$X_b$\"], fontsize=16)\n",
      "    ax.set_yticks([])\n",
      "    ax.set_yticklabels([])\n",
      "    ax.axis([-1, 3, -1, 1])\n",
      "    ax.set_aspect('equal')\n",
      "    ax.xaxis.set_ticks_position('none')"
     ],
     "language": "python",
     "metadata": {},
     "outputs": []
    },
    {
     "cell_type": "code",
     "collapsed": false,
     "input": [
      "def plot_traces(sspec):\n",
      "    gs = gridspec.GridSpecFromSubplotSpec(1, 4, subplot_spec=sspec, wspace=0.1, hspace=0.2)\n",
      "    axes = np.empty(4, dtype='object')\n",
      "    for i in xrange(4):\n",
      "        axes[i] = plt.subplot(gs[i])\n",
      "    \n",
      "    for (model_name, model), ax in zip(all_models, axes):\n",
      "        model.plot_trace(ax, legend=False, scale_points=False)\n",
      "        \n",
      "        ax.set_xlim(0, model.R_i.size + 1)\n",
      "        ax.set_ylim(-np.pi - 0.2, np.pi + 0.2)\n",
      "        ax.set_title(model_name, fontsize=14)\n",
      "        \n",
      "        if ax.is_first_col():\n",
      "            ax.set_ylabel(r\"Rotation ($\\theta$)\", fontsize=14)\n",
      "        else:\n",
      "            ax.set_yticklabels([])\n",
      "\n",
      "    util.sync_xlims(*axes)\n",
      "    \n",
      "    for ax in axes:\n",
      "        util.clear_top(ax)\n",
      "        util.clear_right(ax)\n",
      "        util.outward_ticks(ax)\n",
      "\n",
      "        xmin, xmax = ax.get_xlim()\n",
      "        ax.hlines(0, xmin, xmax, color='k', linestyle='--')\n",
      "        \n",
      "    return axes"
     ],
     "language": "python",
     "metadata": {},
     "outputs": []
    },
    {
     "cell_type": "code",
     "collapsed": false,
     "input": [
      "def plot_similarity(sspec):\n",
      "    gs = gridspec.GridSpecFromSubplotSpec(1, 1, subplot_spec=sspec)\n",
      "    ax = plt.subplot(gs[0])\n",
      "    \n",
      "    model = gs_model1\n",
      "    R = np.linspace(-np.pi, np.pi, 1000)\n",
      "    ax.plot(model.S(R, 0), R, color='r', lw=2)\n",
      "    ax.plot(model.S(R, 1), R, color='b', lw=2)\n",
      "        \n",
      "    util.clear_top(ax)\n",
      "    util.clear_right(ax)\n",
      "    util.outward_ticks(ax)\n",
      "    \n",
      "    ax.set_yticks([-np.pi, -np.pi/2, 0, np.pi/2, np.pi])\n",
      "    ax.set_yticklabels([])\n",
      "    ax.locator_params(axis='x', nbins=4)\n",
      "    \n",
      "    xmin, xmax = ax.get_xlim()\n",
      "    ax.hlines(0, xmin, xmax, color='k', linestyle='--')\n",
      "    ax.set_xlim(xmin, xmax)\n",
      "    \n",
      "    ax.set_title(\"Similarity\", fontsize=14)\n",
      "    ax.set_xlabel(r\"$p(X_b\\ \\vert\\ X_a,\\ \\theta,\\ h)$\", fontsize=14)\n",
      "    return np.array([ax])"
     ],
     "language": "python",
     "metadata": {},
     "outputs": []
    },
    {
     "cell_type": "code",
     "collapsed": false,
     "input": [
      "def plot_stims(sspec):\n",
      "    gs = gridspec.GridSpecFromSubplotSpec(1, 1, subplot_spec=sspec)\n",
      "    ax = plt.subplot(gs[0])\n",
      "\n",
      "    plot_stim_pair(ax, Xa, Xb1)\n",
      "    ax.set_title(\"Stimulus\", fontsize=14)\n",
      "    \n",
      "    return np.array([ax])"
     ],
     "language": "python",
     "metadata": {},
     "outputs": []
    },
    {
     "cell_type": "code",
     "collapsed": false,
     "input": [
      "fig = plt.figure(figsize=(16, 2.5))\n",
      "gs = gridspec.GridSpec(1, 2, width_ratios=[1, 5], wspace=0.125, left=0.02, right=0.99)\n",
      "gs1 = gridspec.GridSpecFromSubplotSpec(1, 2, subplot_spec=gs[1], width_ratios=[4, 1], wspace=0.05)\n",
      "\n",
      "axes0 = plot_stims(gs[0])\n",
      "axes1 = plot_traces(gs1[0])\n",
      "axes2 = plot_similarity(gs1[1])\n",
      "\n",
      "# misc formatting\n",
      "axes0[0].tick_params(axis='x', pad=10)\n",
      "axes0[0].title.set_position((0.5, 1.08))\n",
      "\n",
      "# add the legend       \n",
      "p0 = plt.Rectangle((0, 0), 1, 1, fc=\"r\", ec=\"r\")\n",
      "p1 = plt.Rectangle((0, 0), 1, 1, fc=\"b\", ec=\"b\")\n",
      "leg = axes2[0].legend(\n",
      "    [p0, p1], [\"$h=0$ (same)\", \"$h=1$ (flipped)\"],\n",
      "    numpoints=1, fontsize=10,\n",
      "    loc='lower right',\n",
      "    title='Hypothesis',\n",
      "    bbox_to_anchor=(1.05, 0.05))\n",
      "frame = leg.get_frame()\n",
      "frame.set_facecolor('0.9')\n",
      "frame.set_edgecolor('#FFFFFF')\n",
      "\n",
      "util.sync_ylims(*np.concatenate([axes1.flat, axes2]))\n",
      "util.sync_xlabel_coords(np.concatenate([axes1.flat, axes2]), -0.2)\n",
      "util.sync_ylabel_coords(axes1.flat, -0.2)\n",
      "\n",
      "for ax in axes1.flat:\n",
      "    ax.set_axis_bgcolor('0.95')\n",
      "    \n",
      "plt.subplots_adjust(left=0.01, right=0.95, bottom=0.25, top=0.9)\n",
      "                        \n",
      "util.save(FIG_PATH.joinpath(\"model-traces\"), ext=[\"png\", \"pdf\"], close=False)"
     ],
     "language": "python",
     "metadata": {},
     "outputs": []
    }
   ],
   "metadata": {}
  }
 ]
}