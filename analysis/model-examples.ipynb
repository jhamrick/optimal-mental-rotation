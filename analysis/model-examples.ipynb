{
 "metadata": {
  "name": ""
 },
 "nbformat": 3,
 "nbformat_minor": 0,
 "worksheets": [
  {
   "cells": [
    {
     "cell_type": "heading",
     "level": 1,
     "metadata": {},
     "source": [
      "Models of mental rotation"
     ]
    },
    {
     "cell_type": "code",
     "collapsed": false,
     "input": [
      "%matplotlib inline"
     ],
     "language": "python",
     "metadata": {},
     "outputs": [],
     "prompt_number": 1
    },
    {
     "cell_type": "code",
     "collapsed": false,
     "input": [
      "import matplotlib.cm as cm\n",
      "import matplotlib.pyplot as plt\n",
      "import numpy as np\n",
      "from path import path\n",
      "\n",
      "import mental_rotation.model as models\n",
      "from mental_rotation.stimulus import Stimulus2D\n",
      "import plots.util as util\n",
      "\n",
      "np.seterr(invalid='ignore')"
     ],
     "language": "python",
     "metadata": {},
     "outputs": [
      {
       "metadata": {},
       "output_type": "pyout",
       "prompt_number": 2,
       "text": [
        "{'divide': 'ignore', 'invalid': 'ignore', 'over': 'ignore', 'under': 'ignore'}"
       ]
      }
     ],
     "prompt_number": 2
    },
    {
     "cell_type": "code",
     "collapsed": false,
     "input": [
      "import logging\n",
      "logger = logging.getLogger(\"mental_rotation\")\n",
      "logger.setLevel(\"DEBUG\")"
     ],
     "language": "python",
     "metadata": {},
     "outputs": [],
     "prompt_number": 3
    },
    {
     "cell_type": "code",
     "collapsed": false,
     "input": [
      "ROOT = path(\"../\")\n",
      "CONFIG = util.load_config(ROOT.joinpath(\"config.ini\"))\n",
      "VERSION = CONFIG.get(\"global\", \"version\")\n",
      "SEED = CONFIG.getint(\"global\", \"seed\")\n",
      "STIM_PATH = ROOT.joinpath(CONFIG.get(\"paths\", \"stimuli\"))\n",
      "FIG_PATH = ROOT.joinpath(CONFIG.get(\"paths\", \"figures\"), VERSION)\n",
      "\n",
      "opts = {\n",
      "    'S_sigma': CONFIG.getfloat(\"model\", \"S_sigma\"),\n",
      "    'step': CONFIG.getfloat(\"model\", \"step\"),\n",
      "    'prior': CONFIG.getfloat(\"model\", \"prior\")\n",
      "}"
     ],
     "language": "python",
     "metadata": {},
     "outputs": [],
     "prompt_number": 4
    },
    {
     "cell_type": "code",
     "collapsed": false,
     "input": [
      "def format_plot(fig, axes):\n",
      "    for ax in axes.flat:\n",
      "        ax.set_xlim(-np.pi, np.pi)\n",
      "        ax.set_xticks([-np.pi, -np.pi/2., 0, np.pi/2., np.pi])\n",
      "        ax.set_xticklabels([-180, -90, 0, 90, 180])\n",
      "        util.clear_right(ax)\n",
      "        util.clear_top(ax)\n",
      "        ax.set_xlabel(\"Rotation\")\n",
      "        \n",
      "    axes[0, 0].set_ylabel(r\"Similarty for $h=0$\")\n",
      "    axes[1, 0].set_ylabel(r\"Similarity for $h=1$\")\n",
      "    axes[0, 0].set_title(\"\\\"Same\\\" stimulus pair\")\n",
      "    axes[0, 1].set_title(\"\\\"Flipped\\\" stimulus pair\")\n",
      "\n",
      "    fig.set_figwidth(8)\n",
      "    fig.set_figheight(6)\n",
      "    plt.tight_layout()"
     ],
     "language": "python",
     "metadata": {},
     "outputs": [],
     "prompt_number": 5
    },
    {
     "cell_type": "heading",
     "level": 2,
     "metadata": {},
     "source": [
      "Example stimulus"
     ]
    },
    {
     "cell_type": "code",
     "collapsed": false,
     "input": [
      "X0 = Stimulus2D.load(STIM_PATH.joinpath(VERSION, \"002_120_0.json\"))\n",
      "Xa = X0.copy_from_initial()\n",
      "Xb0 = X0.copy_from_vertices()\n",
      "\n",
      "X1 = Stimulus2D.load(STIM_PATH.joinpath(VERSION, \"002_120_1.json\"))\n",
      "Xb1 = X1.copy_from_vertices()\n",
      "\n",
      "fig, (ax1, ax2, ax3) = plt.subplots(1, 3)\n",
      "Xa.plot(ax1)\n",
      "Xb0.plot(ax2)\n",
      "Xb1.plot(ax3)"
     ],
     "language": "python",
     "metadata": {},
     "outputs": [
      {
       "metadata": {},
       "output_type": "display_data",
       "png": "[encoded data removed]",
       "text": [
        "<matplotlib.figure.Figure at 0x1096f5d90>"
       ]
      }
     ],
     "prompt_number": 6
    },
    {
     "cell_type": "heading",
     "level": 2,
     "metadata": {},
     "source": [
      "Gold standard model"
     ]
    },
    {
     "cell_type": "code",
     "collapsed": false,
     "input": [
      "np.random.seed(SEED)\n",
      "gs_model0 = models.GoldStandardModel(Xa.vertices, Xb0.vertices, **opts)\n",
      "gs_model0.sample()\n",
      "gs_model0.print_stats()"
     ],
     "language": "python",
     "metadata": {},
     "outputs": [
      {
       "output_type": "stream",
       "stream": "stdout",
       "text": [
        "log LH(h0) = -2.128895\n",
        "log LH(h1) = -4.243255\n",
        "log LH(h0) / LH(h1) = 2.114360\n",
        "--> STOP and accept hypothesis 0 (same)\n"
       ]
      }
     ],
     "prompt_number": 7
    },
    {
     "cell_type": "code",
     "collapsed": false,
     "input": [
      "np.random.seed(SEED)\n",
      "gs_model1 = models.GoldStandardModel(Xa.vertices, Xb1.vertices, **opts)\n",
      "gs_model1.sample()\n",
      "gs_model1.print_stats()"
     ],
     "language": "python",
     "metadata": {},
     "outputs": [
      {
       "output_type": "stream",
       "stream": "stdout",
       "text": [
        "log LH(h0) = -4.243255\n",
        "log LH(h1) = -2.128895\n",
        "log LH(h0) / LH(h1) = -2.114360\n",
        "--> STOP and accept hypothesis 1 (flipped)\n"
       ]
      }
     ],
     "prompt_number": 8
    },
    {
     "cell_type": "code",
     "collapsed": false,
     "input": [
      "fig, axes = plt.subplots(2, 2, sharex=True, sharey=True)\n",
      "gs_model0.plot(axes[0, 0], 0)\n",
      "gs_model0.plot(axes[1, 0], 1)\n",
      "gs_model1.plot(axes[0, 1], 0)\n",
      "gs_model1.plot(axes[1, 1], 1)\n",
      "format_plot(fig, axes)"
     ],
     "language": "python",
     "metadata": {},
     "outputs": [
      {
       "metadata": {},
       "output_type": "display_data",
       "png": "[encoded data removed]",
       "text": [
        "<matplotlib.figure.Figure at 0x1096f5110>"
       ]
      }
     ],
     "prompt_number": 9
    },
    {
     "cell_type": "heading",
     "level": 2,
     "metadata": {},
     "source": [
      "Oracle model"
     ]
    },
    {
     "cell_type": "code",
     "collapsed": false,
     "input": [
      "np.random.seed(SEED)\n",
      "o_model0 = models.OracleModel(Xa.vertices, Xb0.vertices, **opts)\n",
      "o_model0.sample()\n",
      "o_model0.print_stats()"
     ],
     "language": "python",
     "metadata": {},
     "outputs": [
      {
       "output_type": "stream",
       "stream": "stdout",
       "text": [
        "log LH(h0) = -2.128895\n",
        "log LH(h1) = -inf\n",
        "log LH(h0) / LH(h1) = inf\n",
        "--> STOP and accept hypothesis 0 (same)\n"
       ]
      }
     ],
     "prompt_number": 10
    },
    {
     "cell_type": "code",
     "collapsed": false,
     "input": [
      "np.random.seed(SEED)\n",
      "o_model1 = models.OracleModel(Xa.vertices, Xb1.vertices, **opts)\n",
      "o_model1.sample()\n",
      "o_model1.print_stats()"
     ],
     "language": "python",
     "metadata": {},
     "outputs": [
      {
       "output_type": "stream",
       "stream": "stdout",
       "text": [
        "log LH(h0) = -inf\n",
        "log LH(h1) = -2.128895\n",
        "log LH(h0) / LH(h1) = -inf\n",
        "--> STOP and accept hypothesis 1 (flipped)\n"
       ]
      }
     ],
     "prompt_number": 11
    },
    {
     "cell_type": "code",
     "collapsed": false,
     "input": [
      "fig, axes = plt.subplots(2, 2, sharex=True, sharey=True)\n",
      "o_model0.plot(axes[0, 0], 0, f_S=gs_model0.S)\n",
      "o_model0.plot(axes[1, 0], 1, f_S=gs_model0.S)\n",
      "o_model1.plot(axes[0, 1], 0, f_S=gs_model1.S)\n",
      "o_model1.plot(axes[1, 1], 1, f_S=gs_model1.S)\n",
      "format_plot(fig, axes)"
     ],
     "language": "python",
     "metadata": {},
     "outputs": [
      {
       "metadata": {},
       "output_type": "display_data",
       "png": "[encoded data removed]",
       "text": [
        "<matplotlib.figure.Figure at 0x1097c6690>"
       ]
      }
     ],
     "prompt_number": 12
    },
    {
     "cell_type": "heading",
     "level": 2,
     "metadata": {},
     "source": [
      "Hill-climbing model"
     ]
    },
    {
     "cell_type": "code",
     "collapsed": false,
     "input": [
      "np.random.seed(SEED)\n",
      "hc_model0 = models.HillClimbingModel(Xa.vertices, Xb0.vertices, **opts)\n",
      "hc_model0.sample()\n",
      "hc_model0.print_stats()"
     ],
     "language": "python",
     "metadata": {},
     "outputs": [
      {
       "output_type": "stream",
       "stream": "stdout",
       "text": [
        "log LH(h0) = -2.284239\n",
        "log LH(h1) = -5.760414\n",
        "log LH(h0) / LH(h1) = 3.476175\n",
        "--> STOP and accept hypothesis 0 (same)\n"
       ]
      }
     ],
     "prompt_number": 13
    },
    {
     "cell_type": "code",
     "collapsed": false,
     "input": [
      "np.random.seed(SEED)\n",
      "hc_model1 = models.HillClimbingModel(Xa.vertices, Xb1.vertices, **opts)\n",
      "hc_model1.sample()\n",
      "hc_model1.print_stats()"
     ],
     "language": "python",
     "metadata": {},
     "outputs": [
      {
       "output_type": "stream",
       "stream": "stdout",
       "text": [
        "log LH(h0) = -6.423249\n",
        "log LH(h1) = -4.415995\n",
        "log LH(h0) / LH(h1) = -2.007255\n",
        "--> STOP and accept hypothesis 1 (flipped)\n"
       ]
      }
     ],
     "prompt_number": 14
    },
    {
     "cell_type": "code",
     "collapsed": false,
     "input": [
      "fig, axes = plt.subplots(2, 2, sharex=True, sharey=True)\n",
      "hc_model0.plot(axes[0, 0], 0, f_S=gs_model0.S)\n",
      "hc_model0.plot(axes[1, 0], 1, f_S=gs_model0.S)\n",
      "hc_model1.plot(axes[0, 1], 0, f_S=gs_model1.S)\n",
      "hc_model1.plot(axes[1, 1], 1, f_S=gs_model1.S)\n",
      "format_plot(fig, axes)"
     ],
     "language": "python",
     "metadata": {},
     "outputs": [
      {
       "metadata": {},
       "output_type": "display_data",
       "png": "[encoded data removed]",
       "text": [
        "<matplotlib.figure.Figure at 0x1099ff290>"
       ]
      }
     ],
     "prompt_number": 15
    },
    {
     "cell_type": "heading",
     "level": 2,
     "metadata": {},
     "source": [
      "Threshold model"
     ]
    },
    {
     "cell_type": "code",
     "collapsed": false,
     "input": [
      "np.random.seed(SEED)\n",
      "t_model0 = models.ThresholdModel(Xa.vertices, Xb0.vertices, **opts)\n",
      "t_model0.sample()\n",
      "t_model0.print_stats()"
     ],
     "language": "python",
     "metadata": {},
     "outputs": [
      {
       "output_type": "stream",
       "stream": "stdout",
       "text": [
        "log LH(h0) = -2.271204\n",
        "log LH(h1) = -4.485332\n",
        "log LH(h0) / LH(h1) = 2.214128\n",
        "--> STOP and accept hypothesis 0 (same)\n"
       ]
      }
     ],
     "prompt_number": 16
    },
    {
     "cell_type": "code",
     "collapsed": false,
     "input": [
      "np.random.seed(SEED)\n",
      "t_model1 = models.ThresholdModel(Xa.vertices, Xb1.vertices, **opts)\n",
      "t_model1.sample()\n",
      "t_model1.print_stats()"
     ],
     "language": "python",
     "metadata": {},
     "outputs": [
      {
       "output_type": "stream",
       "stream": "stdout",
       "text": [
        "log LH(h0) = -7.017889\n",
        "log LH(h1) = -2.284239\n",
        "log LH(h0) / LH(h1) = -4.733650\n",
        "--> STOP and accept hypothesis 1 (flipped)\n"
       ]
      }
     ],
     "prompt_number": 17
    },
    {
     "cell_type": "code",
     "collapsed": false,
     "input": [
      "fig, axes = plt.subplots(2, 2, sharex=True, sharey=True)\n",
      "t_model0.plot(axes[0, 0], 0, f_S=gs_model0.S)\n",
      "t_model0.plot(axes[1, 0], 1, f_S=gs_model0.S)\n",
      "t_model1.plot(axes[0, 1], 0, f_S=gs_model1.S)\n",
      "t_model1.plot(axes[1, 1], 1, f_S=gs_model1.S)\n",
      "format_plot(fig, axes)"
     ],
     "language": "python",
     "metadata": {},
     "outputs": [
      {
       "metadata": {},
       "output_type": "display_data",
       "png": "[encoded data removed]",
       "text": [
        "<matplotlib.figure.Figure at 0x109800950>"
       ]
      }
     ],
     "prompt_number": 18
    },
    {
     "cell_type": "heading",
     "level": 2,
     "metadata": {},
     "source": [
      "Bayesian quadrature model"
     ]
    },
    {
     "cell_type": "code",
     "collapsed": false,
     "input": [
      "np.random.seed(SEED)\n",
      "bq_model0 = models.BayesianQuadratureModel(Xa.vertices, Xb0.vertices, **opts)\n",
      "bq_model0.sample()\n",
      "bq_model0.print_stats()"
     ],
     "language": "python",
     "metadata": {},
     "outputs": [
      {
       "output_type": "stream",
       "stream": "stderr",
       "text": [
        "DEBUG:mental_rotation.model.bq:Initializing BQ object for F=0\n"
       ]
      },
      {
       "output_type": "stream",
       "stream": "stderr",
       "text": [
        "DEBUG:mental_rotation.model.bq:Initializing BQ object for F=1\n"
       ]
      },
      {
       "output_type": "stream",
       "stream": "stderr",
       "text": [
        "DEBUG:mental_rotation.model.bq:L([ 1.         -0.05961749 -1.        ]) = 5.26932231248\n"
       ]
      },
      {
       "output_type": "stream",
       "stream": "stderr",
       "text": [
        "DEBUG:mental_rotation.model.bq:L([ 1.         0.0252658  1.       ]) = 5.25757474669\n"
       ]
      },
      {
       "output_type": "stream",
       "stream": "stderr",
       "text": [
        "DEBUG:mental_rotation.model.bq:F = 1.0, R = 0.0252657967709, direction = 1.0\n"
       ]
      },
      {
       "output_type": "stream",
       "stream": "stderr",
       "text": [
        "DEBUG:mental_rotation.model.bq:L([ 0.  0.  0.]) = 5.16217164092\n"
       ]
      },
      {
       "output_type": "stream",
       "stream": "stderr",
       "text": [
        "DEBUG:mental_rotation.model.bq:L([ 0.         0.0252658  1.       ]) = 5.15539994077\n"
       ]
      },
      {
       "output_type": "stream",
       "stream": "stderr",
       "text": [
        "DEBUG:mental_rotation.model.bq:L([ 1.  0.  0.]) = 5.16113587531\n"
       ]
      },
      {
       "output_type": "stream",
       "stream": "stderr",
       "text": [
        "DEBUG:mental_rotation.model.bq:L([ 1.          1.09364122  1.        ]) = -1.10329125354e+20\n"
       ]
      },
      {
       "output_type": "stream",
       "stream": "stderr",
       "text": [
        "DEBUG:mental_rotation.model.bq:F = 1.0, R = 1.09364121972, direction = 1.0\n"
       ]
      },
      {
       "output_type": "stream",
       "stream": "stderr",
       "text": [
        "DEBUG:mental_rotation.model.bq:Fitting parameters ['h', 'w'] for F=1, attempt 1\n"
       ]
      },
      {
       "output_type": "stream",
       "stream": "stderr",
       "text": [
        "DEBUG:mental_rotation.model.bq:L([ 0.  0.  0.]) = 2.7869886951\n"
       ]
      },
      {
       "output_type": "stream",
       "stream": "stderr",
       "text": [
        "DEBUG:mental_rotation.model.bq:L([ 0.          1.09364122  1.        ]) = -3.62980202838e+20\n"
       ]
      },
      {
       "output_type": "stream",
       "stream": "stderr",
       "text": [
        "DEBUG:mental_rotation.model.bq:L([ 1.  0.  0.]) = 2.78612873957\n"
       ]
      },
      {
       "output_type": "stream",
       "stream": "stderr",
       "text": [
        "DEBUG:mental_rotation.model.bq:L([ 1.          1.88113136  1.        ]) = 2.79600488159\n"
       ]
      },
      {
       "output_type": "stream",
       "stream": "stderr",
       "text": [
        "DEBUG:mental_rotation.model.bq:F = 0.0, R = 1.09364121972, direction = 1.0\n"
       ]
      },
      {
       "output_type": "stream",
       "stream": "stderr",
       "text": [
        "DEBUG:mental_rotation.model.bq:Fitting parameters ['h', 'w'] for F=0, attempt 1\n"
       ]
      },
      {
       "output_type": "stream",
       "stream": "stderr",
       "text": [
        "DEBUG:mental_rotation.model.bq:L([ 0.  0.  0.]) = 0.57628902744\n"
       ]
      },
      {
       "output_type": "stream",
       "stream": "stderr",
       "text": [
        "DEBUG:mental_rotation.model.bq:L([ 0.          2.24328128  1.        ]) = -51.6054860237\n"
       ]
      },
      {
       "output_type": "stream",
       "stream": "stderr",
       "text": [
        "DEBUG:mental_rotation.model.bq:L([ 1.  0.  0.]) = 0.57542907191\n"
       ]
      },
      {
       "output_type": "stream",
       "stream": "stderr",
       "text": [
        "DEBUG:mental_rotation.model.bq:L([ 1.          1.09364122  1.        ]) = 0.57628902744\n"
       ]
      },
      {
       "output_type": "stream",
       "stream": "stderr",
       "text": [
        "DEBUG:mental_rotation.model.bq:F = 0.0, R = 2.24328127987, direction = 1.0\n"
       ]
      },
      {
       "output_type": "stream",
       "stream": "stderr",
       "text": [
        "DEBUG:mental_rotation.model.bq:Fitting parameters ['h', 'w'] for F=0, attempt 1\n"
       ]
      },
      {
       "output_type": "stream",
       "stream": "stderr",
       "text": [
        "DEBUG:mental_rotation.model.bq:L([ 0.  0.  0.]) = 3.21101195397\n"
       ]
      },
      {
       "output_type": "stream",
       "stream": "stderr",
       "text": [
        "DEBUG:mental_rotation.model.bq:L([ 0.        -2.5562413  1.       ]) = 2.19346895662\n"
       ]
      },
      {
       "output_type": "stream",
       "stream": "stderr",
       "text": [
        "DEBUG:mental_rotation.model.bq:L([ 1.  0.  0.]) = 3.21015199844\n"
       ]
      },
      {
       "output_type": "stream",
       "stream": "stderr",
       "text": [
        "DEBUG:mental_rotation.model.bq:L([ 1.          2.24328128  1.        ]) = -4.40501908333\n"
       ]
      },
      {
       "output_type": "stream",
       "stream": "stderr",
       "text": [
        "DEBUG:mental_rotation.model.bq:F = 1.0, R = 2.24328127987, direction = 1.0\n"
       ]
      },
      {
       "output_type": "stream",
       "stream": "stderr",
       "text": [
        "DEBUG:mental_rotation.model.bq:Fitting parameters ['h', 'w'] for F=1, attempt 1\n"
       ]
      },
      {
       "output_type": "stream",
       "stream": "stderr",
       "text": [
        "DEBUG:mental_rotation.model.bq:L([ 0.  0.  0.]) = 3.04087489136\n"
       ]
      },
      {
       "output_type": "stream",
       "stream": "stderr",
       "text": [
        "DEBUG:mental_rotation.model.bq:L([ 0.          2.24328128  1.        ]) = 3.04087489136\n"
       ]
      },
      {
       "output_type": "stream",
       "stream": "stderr",
       "text": [
        "DEBUG:mental_rotation.model.bq:L([ 1.  0.  0.]) = 3.04088128102\n"
       ]
      },
      {
       "output_type": "stream",
       "stream": "stderr",
       "text": [
        "DEBUG:mental_rotation.model.bq:L([ 1.         3.0041426  1.       ]) = 2.51117272946\n"
       ]
      },
      {
       "output_type": "stream",
       "stream": "stderr",
       "text": [
        "DEBUG:mental_rotation.model.bq:F = 1.0, R = 3.00414259588, direction = 1.0\n"
       ]
      },
      {
       "output_type": "stream",
       "stream": "stderr",
       "text": [
        "DEBUG:mental_rotation.model.bq:Fitting parameters ['h', 'w'] for F=1, attempt 1\n"
       ]
      },
      {
       "output_type": "stream",
       "stream": "stderr",
       "text": [
        "DEBUG:mental_rotation.model.bq:L([ 0.  0.  0.]) = 3.00654256211\n"
       ]
      },
      {
       "output_type": "stream",
       "stream": "stderr",
       "text": [
        "DEBUG:mental_rotation.model.bq:L([ 0.         3.0041426  1.       ]) = -50.7206844261\n"
       ]
      },
      {
       "output_type": "stream",
       "stream": "stderr",
       "text": [
        "DEBUG:mental_rotation.model.bq:L([ 1.  0.  0.]) = 3.00603623118\n"
       ]
      },
      {
       "output_type": "stream",
       "stream": "stderr",
       "text": [
        "DEBUG:mental_rotation.model.bq:L([ 1.         -2.98183126  1.        ]) = 2.95989548706\n"
       ]
      },
      {
       "output_type": "stream",
       "stream": "stderr",
       "text": [
        "DEBUG:mental_rotation.model.bq:F = 0.0, R = 3.00414259588, direction = 1.0\n"
       ]
      },
      {
       "output_type": "stream",
       "stream": "stderr",
       "text": [
        "DEBUG:mental_rotation.model.bq:Fitting parameters ['h', 'w'] for F=0, attempt 1\n"
       ]
      },
      {
       "output_type": "stream",
       "stream": "stderr",
       "text": [
        "DEBUG:mental_rotation.model.bq:L([ 0.  0.  0.]) = 0.73591193778\n"
       ]
      },
      {
       "output_type": "stream",
       "stream": "stderr",
       "text": [
        "DEBUG:mental_rotation.model.bq:L([ 0.         -2.32494123  1.        ]) = -28.9670112042\n"
       ]
      },
      {
       "output_type": "stream",
       "stream": "stderr",
       "text": [
        "DEBUG:mental_rotation.model.bq:L([ 1.  0.  0.]) = 0.735405606853\n"
       ]
      },
      {
       "output_type": "stream",
       "stream": "stderr",
       "text": [
        "DEBUG:mental_rotation.model.bq:L([ 1.         3.0041426  1.       ]) = 0.73591193778\n"
       ]
      },
      {
       "output_type": "stream",
       "stream": "stderr",
       "text": [
        "DEBUG:mental_rotation.model.bq:F = 0.0, R = -2.32494122742, direction = 1.0\n"
       ]
      },
      {
       "output_type": "stream",
       "stream": "stderr",
       "text": [
        "DEBUG:mental_rotation.model.bq:Fitting parameters ['h', 'w'] for F=0, attempt 1\n"
       ]
      },
      {
       "output_type": "stream",
       "stream": "stderr",
       "text": [
        "DEBUG:mental_rotation.model.bq:L([ 0.         -1.63761065  1.        ]) = -799.79392281\n"
       ]
      },
      {
       "output_type": "stream",
       "stream": "stderr",
       "text": [
        "DEBUG:mental_rotation.model.bq:L([ 0.  0.  0.]) = 1.17585761371\n"
       ]
      },
      {
       "output_type": "stream",
       "stream": "stderr",
       "text": [
        "DEBUG:mental_rotation.model.bq:L([ 1.         -2.32494123  1.        ]) = 0.646306497235\n"
       ]
      },
      {
       "output_type": "stream",
       "stream": "stderr",
       "text": [
        "DEBUG:mental_rotation.model.bq:L([ 1.  0.  0.]) = 1.17535128278\n"
       ]
      },
      {
       "output_type": "stream",
       "stream": "stderr",
       "text": [
        "DEBUG:mental_rotation.model.bq:F = 0.0, R = -1.63761065181, direction = 1.0\n"
       ]
      },
      {
       "output_type": "stream",
       "stream": "stderr",
       "text": [
        "DEBUG:mental_rotation.model.bq:Fitting parameters ['h', 'w'] for F=0, attempt 1\n"
       ]
      },
      {
       "output_type": "stream",
       "stream": "stderr",
       "text": [
        "DEBUG:mental_rotation.model.bq:L([ 0.         -1.16716246  1.        ]) = 1.06928049991\n"
       ]
      },
      {
       "output_type": "stream",
       "stream": "stderr",
       "text": [
        "DEBUG:mental_rotation.model.bq:L([ 0.  0.  0.]) = 0.993218270268\n"
       ]
      },
      {
       "output_type": "stream",
       "stream": "stderr",
       "text": [
        "DEBUG:mental_rotation.model.bq:L([ 1.         -1.63761065  1.        ]) = -0.390863123046\n"
       ]
      },
      {
       "output_type": "stream",
       "stream": "stderr",
       "text": [
        "DEBUG:mental_rotation.model.bq:L([ 1.  0.  0.]) = 0.992711939341\n"
       ]
      },
      {
       "output_type": "stream",
       "stream": "stderr",
       "text": [
        "DEBUG:mental_rotation.model.bq:F = 1.0, R = -1.63761065181, direction = 1.0\n"
       ]
      },
      {
       "output_type": "stream",
       "stream": "stderr",
       "text": [
        "DEBUG:mental_rotation.model.bq:Fitting parameters ['h', 'w'] for F=1, attempt 1\n"
       ]
      },
      {
       "output_type": "stream",
       "stream": "stderr",
       "text": [
        "DEBUG:mental_rotation.model.bq:L([ 0.         -1.63761065  1.        ]) = 0.88719916763\n"
       ]
      },
      {
       "output_type": "stream",
       "stream": "stderr",
       "text": [
        "DEBUG:mental_rotation.model.bq:L([ 0.  0.  0.]) = 0.88719916763\n"
       ]
      },
      {
       "output_type": "stream",
       "stream": "stderr",
       "text": [
        "DEBUG:mental_rotation.model.bq:L([ 1.         -1.60264012  1.        ]) = 0.887325880638\n"
       ]
      },
      {
       "output_type": "stream",
       "stream": "stderr",
       "text": [
        "DEBUG:mental_rotation.model.bq:L([ 1.  0.  0.]) = 0.887507537792\n"
       ]
      },
      {
       "output_type": "stream",
       "stream": "stderr",
       "text": [
        "DEBUG:mental_rotation.model.bq:F = 0.0, R = -1.63761065181, direction = 1.0\n"
       ]
      },
      {
       "output_type": "stream",
       "stream": "stderr",
       "text": [
        "DEBUG:mental_rotation.model.bq:Fitting parameters ['h', 'w'] for F=0, attempt 1\n"
       ]
      },
      {
       "output_type": "stream",
       "stream": "stderr",
       "text": [
        "DEBUG:mental_rotation.model.bq:L([ 0.         -0.90802362  1.        ]) = -28.2309046482\n"
       ]
      },
      {
       "output_type": "stream",
       "stream": "stderr",
       "text": [
        "DEBUG:mental_rotation.model.bq:L([ 0.  0.  0.]) = 0.712533902996\n"
       ]
      },
      {
       "output_type": "stream",
       "stream": "stderr",
       "text": [
        "DEBUG:mental_rotation.model.bq:L([ 1.         -1.63761065  1.        ]) = 0.712533902996\n"
       ]
      },
      {
       "output_type": "stream",
       "stream": "stderr",
       "text": [
        "DEBUG:mental_rotation.model.bq:L([ 1.  0.  0.]) = 0.712842273158\n"
       ]
      },
      {
       "output_type": "stream",
       "stream": "stderr",
       "text": [
        "DEBUG:mental_rotation.model.bq:F = 0.0, R = -0.908023620545, direction = 1.0\n"
       ]
      },
      {
       "output_type": "stream",
       "stream": "stderr",
       "text": [
        "DEBUG:mental_rotation.model.bq:Fitting parameters ['h', 'w'] for F=0, attempt 1\n"
       ]
      },
      {
       "output_type": "stream",
       "stream": "stderr",
       "text": [
        "DEBUG:mental_rotation.model.bq:L([ 0.         -0.54353639  1.        ]) = 0.0382991627838\n"
       ]
      },
      {
       "output_type": "stream",
       "stream": "stderr",
       "text": [
        "DEBUG:mental_rotation.model.bq:L([ 0.  0.  0.]) = 0.12103926424\n"
       ]
      },
      {
       "output_type": "stream",
       "stream": "stderr",
       "text": [
        "DEBUG:mental_rotation.model.bq:L([ 1.         -0.90802362  1.        ]) = 0.0876667737556\n"
       ]
      },
      {
       "output_type": "stream",
       "stream": "stderr",
       "text": [
        "DEBUG:mental_rotation.model.bq:L([ 1.  0.  0.]) = 0.121347634402\n"
       ]
      },
      {
       "output_type": "stream",
       "stream": "stderr",
       "text": [
        "DEBUG:mental_rotation.model.bq:F = 0.0, R = -0.543536385534, direction = 1.0\n"
       ]
      },
      {
       "output_type": "stream",
       "stream": "stderr",
       "text": [
        "DEBUG:mental_rotation.model.bq:Fitting parameters ['h', 'w'] for F=0, attempt 1\n"
       ]
      },
      {
       "output_type": "stream",
       "stream": "stderr",
       "text": [
        "DEBUG:mental_rotation.model.bq:L([ 0.         -0.20644434  1.        ]) = 0.619987289366\n"
       ]
      },
      {
       "output_type": "stream",
       "stream": "stderr",
       "text": [
        "DEBUG:mental_rotation.model.bq:L([ 0.  0.  0.]) = 0.626741337414\n"
       ]
      },
      {
       "output_type": "stream",
       "stream": "stderr",
       "text": [
        "DEBUG:mental_rotation.model.bq:L([ 1.         -0.54353639  1.        ]) = 0.629363134993\n"
       ]
      },
      {
       "output_type": "stream",
       "stream": "stderr",
       "text": [
        "DEBUG:mental_rotation.model.bq:L([ 1.  0.  0.]) = 0.627049707577\n"
       ]
      },
      {
       "output_type": "stream",
       "stream": "stderr",
       "text": [
        "DEBUG:mental_rotation.model.bq:F = 0.0, R = -0.206444341058, direction = 1.0\n"
       ]
      },
      {
       "output_type": "stream",
       "stream": "stderr",
       "text": [
        "DEBUG:mental_rotation.model.bq:Fitting parameters ['h', 'w'] for F=0, attempt 1\n"
       ]
      },
      {
       "output_type": "stream",
       "stream": "stderr",
       "text": [
        "DEBUG:mental_rotation.model.bq:L([ 0.         -0.20296401  1.        ]) = -67.704581983\n"
       ]
      },
      {
       "output_type": "stream",
       "stream": "stderr",
       "text": [
        "DEBUG:mental_rotation.model.bq:L([ 0.  0.  0.]) = -154.794363946\n"
       ]
      },
      {
       "output_type": "stream",
       "stream": "stderr",
       "text": [
        "DEBUG:mental_rotation.model.bq:L([ 1.         -0.20644434  1.        ]) = 0.237452354224\n"
       ]
      },
      {
       "output_type": "stream",
       "stream": "stderr",
       "text": [
        "DEBUG:mental_rotation.model.bq:L([ 1.  0.  0.]) = 0.234579914549\n"
       ]
      },
      {
       "output_type": "stream",
       "stream": "stderr",
       "text": [
        "DEBUG:mental_rotation.model.bq:F = 0.0, R = 0.0, direction = 0.0\n"
       ]
      },
      {
       "output_type": "stream",
       "stream": "stderr",
       "text": [
        "DEBUG:mental_rotation.model.bq:Fitting parameters ['h', 'w'] for F=0, attempt 1\n"
       ]
      },
      {
       "output_type": "stream",
       "stream": "stderr",
       "text": [
        "DEBUG:mental_rotation.model.bq:L([ 0.         -0.56142404 -1.        ]) = 0.664987569426\n"
       ]
      },
      {
       "output_type": "stream",
       "stream": "stderr",
       "text": [
        "DEBUG:mental_rotation.model.bq:L([ 0.         0.6600732  1.       ]) = 0.427371804189\n"
       ]
      },
      {
       "output_type": "stream",
       "stream": "stderr",
       "text": [
        "DEBUG:mental_rotation.model.bq:F = 0.0, R = 0.660073197848, direction = 1.0\n"
       ]
      },
      {
       "output_type": "stream",
       "stream": "stderr",
       "text": [
        "DEBUG:mental_rotation.model.bq:Fitting parameters ['h', 'w'] for F=0, attempt 1\n"
       ]
      },
      {
       "output_type": "stream",
       "stream": "stderr",
       "text": [
        "DEBUG:mental_rotation.model.bq:L([ 0.  0.  0.]) = 0.254938380704\n"
       ]
      },
      {
       "output_type": "stream",
       "stream": "stderr",
       "text": [
        "DEBUG:mental_rotation.model.bq:L([ 0.          0.82539057  1.        ]) = 0.463660551174\n"
       ]
      },
      {
       "output_type": "stream",
       "stream": "stderr",
       "text": [
        "DEBUG:mental_rotation.model.bq:L([ 1.  0.  0.]) = 0.26811032267\n"
       ]
      },
      {
       "output_type": "stream",
       "stream": "stderr",
       "text": [
        "DEBUG:mental_rotation.model.bq:L([ 1.         0.6600732  1.       ]) = 0.267941251223\n"
       ]
      },
      {
       "output_type": "stream",
       "stream": "stderr",
       "text": [
        "DEBUG:mental_rotation.model.bq:F = 0.0, R = 0.0, direction = 0.0\n"
       ]
      },
      {
       "output_type": "stream",
       "stream": "stderr",
       "text": [
        "DEBUG:mental_rotation.model.bq:Fitting parameters ['h', 'w'] for F=0, attempt 1\n"
       ]
      },
      {
       "output_type": "stream",
       "stream": "stderr",
       "text": [
        "DEBUG:mental_rotation.model.bq:L([ 0.         -0.85825933 -1.        ]) = 0.295785692739\n"
       ]
      },
      {
       "output_type": "stream",
       "stream": "stderr",
       "text": [
        "DEBUG:mental_rotation.model.bq:L([ 0.          1.55075231  1.        ]) = 1.1694894954\n"
       ]
      },
      {
       "output_type": "stream",
       "stream": "stderr",
       "text": [
        "DEBUG:mental_rotation.model.bq:F = 0.0, R = -0.858259327812, direction = -1.0\n"
       ]
      },
      {
       "output_type": "stream",
       "stream": "stderr",
       "text": [
        "DEBUG:mental_rotation.model.bq:Fitting parameters ['h', 'w'] for F=0, attempt 1\n"
       ]
      },
      {
       "output_type": "stream",
       "stream": "stderr",
       "text": [
        "DEBUG:mental_rotation.model.bq:L([ 0.         -1.73113575 -1.        ]) = 0.282169648661\n"
       ]
      },
      {
       "output_type": "stream",
       "stream": "stderr",
       "text": [
        "DEBUG:mental_rotation.model.bq:L([ 0.  0.  0.]) = 0.24183882434\n"
       ]
      },
      {
       "output_type": "stream",
       "stream": "stderr",
       "text": [
        "DEBUG:mental_rotation.model.bq:L([ 1.         -0.85825933 -1.        ]) = 0.204713017277\n"
       ]
      },
      {
       "output_type": "stream",
       "stream": "stderr",
       "text": [
        "DEBUG:mental_rotation.model.bq:L([ 1.  0.  0.]) = 0.251436382799\n"
       ]
      },
      {
       "output_type": "stream",
       "stream": "stderr",
       "text": [
        "DEBUG:mental_rotation.model.bq:F = 1.0, R = -0.858259327812, direction = -1.0\n"
       ]
      },
      {
       "output_type": "stream",
       "stream": "stderr",
       "text": [
        "DEBUG:mental_rotation.model.bq:Fitting parameters ['h', 'w'] for F=1, attempt 1\n"
       ]
      },
      {
       "output_type": "stream",
       "stream": "stderr",
       "text": [
        "DEBUG:mental_rotation.model.bq:L([ 0.         -0.85825933 -1.        ]) = 0.223846402411\n"
       ]
      },
      {
       "output_type": "stream",
       "stream": "stderr",
       "text": [
        "DEBUG:mental_rotation.model.bq:L([ 0.  0.  0.]) = 0.242959870597\n"
       ]
      },
      {
       "output_type": "stream",
       "stream": "stderr",
       "text": [
        "DEBUG:mental_rotation.model.bq:L([ 1.         -0.97426328 -1.        ]) = 0.252315784483\n"
       ]
      },
      {
       "output_type": "stream",
       "stream": "stderr",
       "text": [
        "DEBUG:mental_rotation.model.bq:L([ 1.  0.  0.]) = 0.252324526815\n"
       ]
      },
      {
       "output_type": "stream",
       "stream": "stderr",
       "text": [
        "DEBUG:mental_rotation.model.bq:F = 0.0, R = -0.858259327812, direction = -1.0\n"
       ]
      },
      {
       "output_type": "stream",
       "stream": "stderr",
       "text": [
        "DEBUG:mental_rotation.model.bq:Fitting parameters ['h', 'w'] for F=0, attempt 1\n"
       ]
      },
      {
       "output_type": "stream",
       "stream": "stderr",
       "text": [
        "DEBUG:mental_rotation.model.bq:L([ 0.         -1.74996227 -1.        ]) = 0.234595873029\n"
       ]
      },
      {
       "output_type": "stream",
       "stream": "stderr",
       "text": [
        "DEBUG:mental_rotation.model.bq:L([ 0.  0.  0.]) = 0.224946010322\n"
       ]
      },
      {
       "output_type": "stream",
       "stream": "stderr",
       "text": [
        "DEBUG:mental_rotation.model.bq:L([ 1.         -0.85825933 -1.        ]) = 0.233139511243\n"
       ]
      },
      {
       "output_type": "stream",
       "stream": "stderr",
       "text": [
        "DEBUG:mental_rotation.model.bq:L([ 1.  0.  0.]) = 0.233214979165\n"
       ]
      },
      {
       "output_type": "stream",
       "stream": "stderr",
       "text": [
        "DEBUG:mental_rotation.model.bq:F = 0.0, R = 0.0, direction = 0.0\n"
       ]
      },
      {
       "output_type": "stream",
       "stream": "stderr",
       "text": [
        "DEBUG:mental_rotation.model.bq:Fitting parameters ['h', 'w'] for F=0, attempt 1\n"
       ]
      },
      {
       "output_type": "stream",
       "stream": "stdout",
       "text": [
        "log LH(h0) = -4.243826 [-4.583735, -3.990607]\n",
        "log LH(h1) = -5.756543 [-6.440875, -5.354034]\n",
        "LH(h0) / LH(h1) = 1.512718\n",
        "--> STOP and accept hypothesis 0 (same)\n"
       ]
      }
     ],
     "prompt_number": 19
    },
    {
     "cell_type": "code",
     "collapsed": false,
     "input": [
      "np.random.seed(SEED)\n",
      "bq_model1 = models.BayesianQuadratureModel(Xa.vertices, Xb1.vertices, **opts)\n",
      "bq_model1.sample()\n",
      "bq_model1.print_stats()"
     ],
     "language": "python",
     "metadata": {},
     "outputs": [
      {
       "output_type": "stream",
       "stream": "stderr",
       "text": [
        "DEBUG:mental_rotation.model.bq:Initializing BQ object for F=0\n"
       ]
      },
      {
       "output_type": "stream",
       "stream": "stderr",
       "text": [
        "DEBUG:mental_rotation.model.bq:Initializing BQ object for F=1\n"
       ]
      },
      {
       "output_type": "stream",
       "stream": "stderr",
       "text": [
        "DEBUG:mental_rotation.model.bq:L([ 1.         -0.05961749 -1.        ]) = 5.10254329807\n"
       ]
      },
      {
       "output_type": "stream",
       "stream": "stderr",
       "text": [
        "DEBUG:mental_rotation.model.bq:L([ 1.         0.0252658  1.       ]) = 5.09877143388\n"
       ]
      },
      {
       "output_type": "stream",
       "stream": "stderr",
       "text": [
        "DEBUG:mental_rotation.model.bq:F = 1.0, R = 0.0252657967709, direction = 1.0\n"
       ]
      },
      {
       "output_type": "stream",
       "stream": "stderr",
       "text": [
        "DEBUG:mental_rotation.model.bq:L([ 0.  0.  0.]) = 5.01548110622\n"
       ]
      },
      {
       "output_type": "stream",
       "stream": "stderr",
       "text": [
        "DEBUG:mental_rotation.model.bq:L([ 0.         0.0252658  1.       ]) = 5.00933892467\n"
       ]
      },
      {
       "output_type": "stream",
       "stream": "stderr",
       "text": [
        "DEBUG:mental_rotation.model.bq:L([ 1.  0.  0.]) = 5.0142989238\n"
       ]
      },
      {
       "output_type": "stream",
       "stream": "stderr",
       "text": [
        "DEBUG:mental_rotation.model.bq:L([ 1.          1.09364122  1.        ]) = -1.03541081784e+20\n"
       ]
      },
      {
       "output_type": "stream",
       "stream": "stderr",
       "text": [
        "DEBUG:mental_rotation.model.bq:F = 1.0, R = 1.09364121972, direction = 1.0\n"
       ]
      },
      {
       "output_type": "stream",
       "stream": "stderr",
       "text": [
        "DEBUG:mental_rotation.model.bq:Fitting parameters ['h', 'w'] for F=1, attempt 1\n"
       ]
      },
      {
       "output_type": "stream",
       "stream": "stderr",
       "text": [
        "DEBUG:mental_rotation.model.bq:L([ 0.  0.  0.]) = 2.71404478618\n"
       ]
      },
      {
       "output_type": "stream",
       "stream": "stderr",
       "text": [
        "DEBUG:mental_rotation.model.bq:L([ 0.          1.09364122  1.        ]) = -3.59966516964e+20\n"
       ]
      },
      {
       "output_type": "stream",
       "stream": "stderr",
       "text": [
        "DEBUG:mental_rotation.model.bq:L([ 1.  0.  0.]) = 2.71401127144\n"
       ]
      },
      {
       "output_type": "stream",
       "stream": "stderr",
       "text": [
        "DEBUG:mental_rotation.model.bq:L([ 1.          1.88113136  1.        ]) = 2.70259309641\n"
       ]
      },
      {
       "output_type": "stream",
       "stream": "stderr",
       "text": [
        "DEBUG:mental_rotation.model.bq:F = 0.0, R = 1.09364121972, direction = 1.0\n"
       ]
      },
      {
       "output_type": "stream",
       "stream": "stderr",
       "text": [
        "DEBUG:mental_rotation.model.bq:Fitting parameters ['h', 'w'] for F=0, attempt 1\n"
       ]
      },
      {
       "output_type": "stream",
       "stream": "stderr",
       "text": [
        "DEBUG:mental_rotation.model.bq:L([ 0.  0.  0.]) = 0.588122935053\n"
       ]
      },
      {
       "output_type": "stream",
       "stream": "stderr",
       "text": [
        "DEBUG:mental_rotation.model.bq:L([ 0.          2.24328128  1.        ]) = -83.9149480751\n"
       ]
      },
      {
       "output_type": "stream",
       "stream": "stderr",
       "text": [
        "DEBUG:mental_rotation.model.bq:L([ 1.  0.  0.]) = 0.588089420312\n"
       ]
      },
      {
       "output_type": "stream",
       "stream": "stderr",
       "text": [
        "DEBUG:mental_rotation.model.bq:L([ 1.          1.09364122  1.        ]) = 0.588122935053\n"
       ]
      },
      {
       "output_type": "stream",
       "stream": "stderr",
       "text": [
        "DEBUG:mental_rotation.model.bq:F = 0.0, R = 2.24328127987, direction = 1.0\n"
       ]
      },
      {
       "output_type": "stream",
       "stream": "stderr",
       "text": [
        "DEBUG:mental_rotation.model.bq:Fitting parameters ['h', 'w'] for F=0, attempt 1\n"
       ]
      },
      {
       "output_type": "stream",
       "stream": "stderr",
       "text": [
        "DEBUG:mental_rotation.model.bq:L([ 0.  0.  0.]) = 0.326465615493\n"
       ]
      },
      {
       "output_type": "stream",
       "stream": "stderr",
       "text": [
        "DEBUG:mental_rotation.model.bq:L([ 0.        -2.5562413  1.       ]) = 0.324369132079\n"
       ]
      },
      {
       "output_type": "stream",
       "stream": "stderr",
       "text": [
        "DEBUG:mental_rotation.model.bq:L([ 1.  0.  0.]) = 0.326432100752\n"
       ]
      },
      {
       "output_type": "stream",
       "stream": "stderr",
       "text": [
        "DEBUG:mental_rotation.model.bq:L([ 1.          2.24328128  1.        ]) = -10.6109476583\n"
       ]
      },
      {
       "output_type": "stream",
       "stream": "stderr",
       "text": [
        "DEBUG:mental_rotation.model.bq:F = 1.0, R = 2.24328127987, direction = 1.0\n"
       ]
      },
      {
       "output_type": "stream",
       "stream": "stderr",
       "text": [
        "DEBUG:mental_rotation.model.bq:Fitting parameters ['h', 'w'] for F=1, attempt 1\n"
       ]
      },
      {
       "output_type": "stream",
       "stream": "stderr",
       "text": [
        "DEBUG:mental_rotation.model.bq:L([ 0.  0.  0.]) = 3.98704526784\n"
       ]
      },
      {
       "output_type": "stream",
       "stream": "stderr",
       "text": [
        "DEBUG:mental_rotation.model.bq:L([ 0.          2.24328128  1.        ]) = 3.98704526784\n"
       ]
      },
      {
       "output_type": "stream",
       "stream": "stderr",
       "text": [
        "DEBUG:mental_rotation.model.bq:L([ 1.  0.  0.]) = 4.00745639706\n"
       ]
      },
      {
       "output_type": "stream",
       "stream": "stderr",
       "text": [
        "DEBUG:mental_rotation.model.bq:L([ 1.         3.0041426  1.       ]) = -6941.4478068\n"
       ]
      },
      {
       "output_type": "stream",
       "stream": "stderr",
       "text": [
        "DEBUG:mental_rotation.model.bq:F = 1.0, R = 3.00414259588, direction = 1.0\n"
       ]
      },
      {
       "output_type": "stream",
       "stream": "stderr",
       "text": [
        "DEBUG:mental_rotation.model.bq:Fitting parameters ['h', 'w'] for F=1, attempt 1\n"
       ]
      },
      {
       "output_type": "stream",
       "stream": "stderr",
       "text": [
        "DEBUG:mental_rotation.model.bq:L([ 0.  0.  0.]) = 0.455704200336\n"
       ]
      },
      {
       "output_type": "stream",
       "stream": "stderr",
       "text": [
        "DEBUG:mental_rotation.model.bq:L([ 0.         3.0041426  1.       ]) = 0.442097523275\n"
       ]
      },
      {
       "output_type": "stream",
       "stream": "stderr",
       "text": [
        "DEBUG:mental_rotation.model.bq:L([ 1.  0.  0.]) = 0.455530616103\n"
       ]
      },
      {
       "output_type": "stream",
       "stream": "stderr",
       "text": [
        "DEBUG:mental_rotation.model.bq:L([ 1.         -2.98183126  1.        ]) = 0.301244189717\n"
       ]
      },
      {
       "output_type": "stream",
       "stream": "stderr",
       "text": [
        "DEBUG:mental_rotation.model.bq:F = 1.0, R = -2.98183126068, direction = 1.0\n"
       ]
      },
      {
       "output_type": "stream",
       "stream": "stderr",
       "text": [
        "DEBUG:mental_rotation.model.bq:Fitting parameters ['h', 'w'] for F=1, attempt 1\n"
       ]
      },
      {
       "output_type": "stream",
       "stream": "stderr",
       "text": [
        "DEBUG:mental_rotation.model.bq:L([ 0.         -2.98183126  1.        ]) = 0.714606800593\n"
       ]
      },
      {
       "output_type": "stream",
       "stream": "stderr",
       "text": [
        "DEBUG:mental_rotation.model.bq:L([ 0.  0.  0.]) = 0.766724772045\n"
       ]
      },
      {
       "output_type": "stream",
       "stream": "stderr",
       "text": [
        "DEBUG:mental_rotation.model.bq:L([ 1.         -2.02772978  1.        ]) = -4.10956860296\n"
       ]
      },
      {
       "output_type": "stream",
       "stream": "stderr",
       "text": [
        "DEBUG:mental_rotation.model.bq:L([ 1.  0.  0.]) = 0.765513195604\n"
       ]
      },
      {
       "output_type": "stream",
       "stream": "stderr",
       "text": [
        "DEBUG:mental_rotation.model.bq:F = 1.0, R = -2.0277297768, direction = 1.0\n"
       ]
      },
      {
       "output_type": "stream",
       "stream": "stderr",
       "text": [
        "DEBUG:mental_rotation.model.bq:Fitting parameters ['h', 'w'] for F=1, attempt 1\n"
       ]
      },
      {
       "output_type": "stream",
       "stream": "stderr",
       "text": [
        "DEBUG:mental_rotation.model.bq:L([ 0.         -2.02772978  1.        ]) = 0.613527668331\n"
       ]
      },
      {
       "output_type": "stream",
       "stream": "stderr",
       "text": [
        "DEBUG:mental_rotation.model.bq:L([ 0.  0.  0.]) = 0.743148737648\n"
       ]
      },
      {
       "output_type": "stream",
       "stream": "stderr",
       "text": [
        "DEBUG:mental_rotation.model.bq:L([ 1.        -1.3403992  1.       ]) = -22.0513677242\n"
       ]
      },
      {
       "output_type": "stream",
       "stream": "stderr",
       "text": [
        "DEBUG:mental_rotation.model.bq:L([ 1.  0.  0.]) = 0.690509024692\n"
       ]
      },
      {
       "output_type": "stream",
       "stream": "stderr",
       "text": [
        "DEBUG:mental_rotation.model.bq:F = 1.0, R = -1.34039920119, direction = 1.0\n"
       ]
      },
      {
       "output_type": "stream",
       "stream": "stderr",
       "text": [
        "DEBUG:mental_rotation.model.bq:Fitting parameters ['h', 'w'] for F=1, attempt 1\n"
       ]
      },
      {
       "output_type": "stream",
       "stream": "stderr",
       "text": [
        "DEBUG:mental_rotation.model.bq:L([ 0.        -1.3403992  1.       ]) = 0.606354732417\n"
       ]
      },
      {
       "output_type": "stream",
       "stream": "stderr",
       "text": [
        "DEBUG:mental_rotation.model.bq:L([ 0.  0.  0.]) = 0.876602473425\n"
       ]
      },
      {
       "output_type": "stream",
       "stream": "stderr",
       "text": [
        "DEBUG:mental_rotation.model.bq:L([ 1.         -0.86995101  1.        ]) = 0.199472386999\n"
       ]
      },
      {
       "output_type": "stream",
       "stream": "stderr",
       "text": [
        "DEBUG:mental_rotation.model.bq:L([ 1.  0.  0.]) = 0.840379108426\n"
       ]
      },
      {
       "output_type": "stream",
       "stream": "stderr",
       "text": [
        "DEBUG:mental_rotation.model.bq:F = 1.0, R = -0.869951013642, direction = 1.0\n"
       ]
      },
      {
       "output_type": "stream",
       "stream": "stderr",
       "text": [
        "DEBUG:mental_rotation.model.bq:Fitting parameters ['h', 'w'] for F=1, attempt 1\n"
       ]
      },
      {
       "output_type": "stream",
       "stream": "stderr",
       "text": [
        "DEBUG:mental_rotation.model.bq:L([ 0.         -0.86995101  1.        ]) = 0.18450452424\n"
       ]
      },
      {
       "output_type": "stream",
       "stream": "stderr",
       "text": [
        "DEBUG:mental_rotation.model.bq:L([ 0.  0.  0.]) = 0.1751234636\n"
       ]
      },
      {
       "output_type": "stream",
       "stream": "stderr",
       "text": [
        "DEBUG:mental_rotation.model.bq:L([ 1.         -0.83498048  1.        ]) = 0.264947431886\n"
       ]
      },
      {
       "output_type": "stream",
       "stream": "stderr",
       "text": [
        "DEBUG:mental_rotation.model.bq:L([ 1.  0.  0.]) = 0.171720584579\n"
       ]
      },
      {
       "output_type": "stream",
       "stream": "stderr",
       "text": [
        "DEBUG:mental_rotation.model.bq:F = 1.0, R = 0.0, direction = 0.0\n"
       ]
      },
      {
       "output_type": "stream",
       "stream": "stderr",
       "text": [
        "DEBUG:mental_rotation.model.bq:Fitting parameters ['h', 'w'] for F=1, attempt 1\n"
       ]
      },
      {
       "output_type": "stream",
       "stream": "stderr",
       "text": [
        "DEBUG:mental_rotation.model.bq:L([ 1.         -0.02377458 -1.        ]) = 0.273938158629\n"
       ]
      },
      {
       "output_type": "stream",
       "stream": "stderr",
       "text": [
        "DEBUG:mental_rotation.model.bq:L([ 1.          0.93709051  1.        ]) = 0.424277139681\n"
       ]
      },
      {
       "output_type": "stream",
       "stream": "stderr",
       "text": [
        "DEBUG:mental_rotation.model.bq:F = 1.0, R = -0.0237745807531, direction = -1.0\n"
       ]
      },
      {
       "output_type": "stream",
       "stream": "stderr",
       "text": [
        "DEBUG:mental_rotation.model.bq:Fitting parameters ['h', 'w'] for F=1, attempt 1\n"
       ]
      },
      {
       "output_type": "stream",
       "stream": "stderr",
       "text": [
        "DEBUG:mental_rotation.model.bq:L([ 0.         -0.02377458 -1.        ]) = 0.151328888664\n"
       ]
      },
      {
       "output_type": "stream",
       "stream": "stderr",
       "text": [
        "DEBUG:mental_rotation.model.bq:L([ 0.  0.  0.]) = 0.151367686651\n"
       ]
      },
      {
       "output_type": "stream",
       "stream": "stderr",
       "text": [
        "DEBUG:mental_rotation.model.bq:L([ 1.         -1.31932438 -1.        ]) = 0.201474231562\n"
       ]
      },
      {
       "output_type": "stream",
       "stream": "stderr",
       "text": [
        "DEBUG:mental_rotation.model.bq:L([ 1.  0.  0.]) = 0.147042287857\n"
       ]
      },
      {
       "output_type": "stream",
       "stream": "stderr",
       "text": [
        "DEBUG:mental_rotation.model.bq:F = 1.0, R = 0.0, direction = 0.0\n"
       ]
      },
      {
       "output_type": "stream",
       "stream": "stderr",
       "text": [
        "DEBUG:mental_rotation.model.bq:Fitting parameters ['h', 'w'] for F=1, attempt 1\n"
       ]
      },
      {
       "output_type": "stream",
       "stream": "stderr",
       "text": [
        "DEBUG:mental_rotation.model.bq:L([ 1.         -0.22388473 -1.        ]) = 0.177713835811\n"
       ]
      },
      {
       "output_type": "stream",
       "stream": "stderr",
       "text": [
        "DEBUG:mental_rotation.model.bq:L([ 1.          0.68235104  1.        ]) = 0.243495631047\n"
       ]
      },
      {
       "output_type": "stream",
       "stream": "stderr",
       "text": [
        "DEBUG:mental_rotation.model.bq:F = 1.0, R = -0.22388473386, direction = -1.0\n"
       ]
      },
      {
       "output_type": "stream",
       "stream": "stderr",
       "text": [
        "DEBUG:mental_rotation.model.bq:Fitting parameters ['h', 'w'] for F=1, attempt 1\n"
       ]
      },
      {
       "output_type": "stream",
       "stream": "stderr",
       "text": [
        "DEBUG:mental_rotation.model.bq:L([ 0.         -0.22388473 -1.        ]) = 0.534004663031\n"
       ]
      },
      {
       "output_type": "stream",
       "stream": "stderr",
       "text": [
        "DEBUG:mental_rotation.model.bq:L([ 0.  0.  0.]) = 0.534003369034\n"
       ]
      },
      {
       "output_type": "stream",
       "stream": "stderr",
       "text": [
        "DEBUG:mental_rotation.model.bq:L([ 1.         -1.01032282 -1.        ]) = 0.631145950261\n"
       ]
      },
      {
       "output_type": "stream",
       "stream": "stderr",
       "text": [
        "DEBUG:mental_rotation.model.bq:L([ 1.  0.  0.]) = 0.522695449921\n"
       ]
      },
      {
       "output_type": "stream",
       "stream": "stderr",
       "text": [
        "DEBUG:mental_rotation.model.bq:F = 1.0, R = 0.0, direction = 0.0\n"
       ]
      },
      {
       "output_type": "stream",
       "stream": "stderr",
       "text": [
        "DEBUG:mental_rotation.model.bq:Fitting parameters ['h', 'w'] for F=1, attempt 1\n"
       ]
      },
      {
       "output_type": "stream",
       "stream": "stderr",
       "text": [
        "DEBUG:mental_rotation.model.bq:L([ 1.         -0.00139751 -1.        ]) = 0.422224218016\n"
       ]
      },
      {
       "output_type": "stream",
       "stream": "stderr",
       "text": [
        "DEBUG:mental_rotation.model.bq:L([ 1.          0.15134627  1.        ]) = 0.400491804372\n"
       ]
      },
      {
       "output_type": "stream",
       "stream": "stderr",
       "text": [
        "DEBUG:mental_rotation.model.bq:F = 1.0, R = 0.151346269254, direction = 1.0\n"
       ]
      },
      {
       "output_type": "stream",
       "stream": "stderr",
       "text": [
        "DEBUG:mental_rotation.model.bq:Fitting parameters ['h', 'w'] for F=1, attempt 1\n"
       ]
      },
      {
       "output_type": "stream",
       "stream": "stderr",
       "text": [
        "DEBUG:mental_rotation.model.bq:L([ 0.  0.  0.]) = 0.152440931465\n"
       ]
      },
      {
       "output_type": "stream",
       "stream": "stderr",
       "text": [
        "DEBUG:mental_rotation.model.bq:L([ 0.          0.15134627  1.        ]) = 0.151795193243\n"
       ]
      },
      {
       "output_type": "stream",
       "stream": "stderr",
       "text": [
        "DEBUG:mental_rotation.model.bq:L([ 1.  0.  0.]) = 0.152736114937\n"
       ]
      },
      {
       "output_type": "stream",
       "stream": "stderr",
       "text": [
        "DEBUG:mental_rotation.model.bq:L([ 1.          0.49865898  1.        ]) = 0.141636330711\n"
       ]
      },
      {
       "output_type": "stream",
       "stream": "stderr",
       "text": [
        "DEBUG:mental_rotation.model.bq:F = 1.0, R = 0.498658979726, direction = 1.0\n"
       ]
      },
      {
       "output_type": "stream",
       "stream": "stderr",
       "text": [
        "DEBUG:mental_rotation.model.bq:Fitting parameters ['h', 'w'] for F=1, attempt 1\n"
       ]
      },
      {
       "output_type": "stream",
       "stream": "stderr",
       "text": [
        "DEBUG:mental_rotation.model.bq:L([ 0.  0.  0.]) = 0.348936074904\n"
       ]
      },
      {
       "output_type": "stream",
       "stream": "stderr",
       "text": [
        "DEBUG:mental_rotation.model.bq:L([ 0.          0.49865898  1.        ]) = 0.351839002064\n"
       ]
      },
      {
       "output_type": "stream",
       "stream": "stderr",
       "text": [
        "DEBUG:mental_rotation.model.bq:L([ 1.  0.  0.]) = 0.362092369097\n"
       ]
      },
      {
       "output_type": "stream",
       "stream": "stderr",
       "text": [
        "DEBUG:mental_rotation.model.bq:L([ 1.          0.91446808  1.        ]) = 0.427599873644\n"
       ]
      },
      {
       "output_type": "stream",
       "stream": "stderr",
       "text": [
        "DEBUG:mental_rotation.model.bq:F = 0.0, R = 0.0, direction = 0.0\n"
       ]
      },
      {
       "output_type": "stream",
       "stream": "stderr",
       "text": [
        "DEBUG:mental_rotation.model.bq:Fitting parameters ['h', 'w'] for F=0, attempt 1\n"
       ]
      },
      {
       "output_type": "stream",
       "stream": "stderr",
       "text": [
        "DEBUG:mental_rotation.model.bq:L([ 0.         -0.37506001 -1.        ]) = 0.349705258884\n"
       ]
      },
      {
       "output_type": "stream",
       "stream": "stderr",
       "text": [
        "DEBUG:mental_rotation.model.bq:L([ 0.          0.59511705  1.        ]) = 0.339885774978\n"
       ]
      },
      {
       "output_type": "stream",
       "stream": "stderr",
       "text": [
        "DEBUG:mental_rotation.model.bq:F = 0.0, R = 0.595117051331, direction = 1.0\n"
       ]
      },
      {
       "output_type": "stream",
       "stream": "stderr",
       "text": [
        "DEBUG:mental_rotation.model.bq:Fitting parameters ['h', 'w'] for F=0, attempt 1\n"
       ]
      },
      {
       "output_type": "stream",
       "stream": "stderr",
       "text": [
        "DEBUG:mental_rotation.model.bq:L([ 0.  0.  0.]) = 0.450346301654\n"
       ]
      },
      {
       "output_type": "stream",
       "stream": "stderr",
       "text": [
        "DEBUG:mental_rotation.model.bq:L([ 0.          1.44594908  1.        ]) = 0.446185902325\n"
       ]
      },
      {
       "output_type": "stream",
       "stream": "stderr",
       "text": [
        "DEBUG:mental_rotation.model.bq:L([ 1.  0.  0.]) = 0.463502595847\n"
       ]
      },
      {
       "output_type": "stream",
       "stream": "stderr",
       "text": [
        "DEBUG:mental_rotation.model.bq:L([ 1.          0.59511705  1.        ]) = 0.453140317243\n"
       ]
      },
      {
       "output_type": "stream",
       "stream": "stderr",
       "text": [
        "DEBUG:mental_rotation.model.bq:F = 0.0, R = 1.44594907953, direction = 1.0\n"
       ]
      },
      {
       "output_type": "stream",
       "stream": "stderr",
       "text": [
        "DEBUG:mental_rotation.model.bq:Fitting parameters ['h', 'w'] for F=0, attempt 1\n"
       ]
      },
      {
       "output_type": "stream",
       "stream": "stderr",
       "text": [
        "DEBUG:mental_rotation.model.bq:L([ 0.  0.  0.]) = 0.455675904398\n"
       ]
      },
      {
       "output_type": "stream",
       "stream": "stderr",
       "text": [
        "DEBUG:mental_rotation.model.bq:L([ 0.          2.01166771  1.        ]) = 0.455442518965\n"
       ]
      },
      {
       "output_type": "stream",
       "stream": "stderr",
       "text": [
        "DEBUG:mental_rotation.model.bq:L([ 1.  0.  0.]) = 0.46883219859\n"
       ]
      },
      {
       "output_type": "stream",
       "stream": "stderr",
       "text": [
        "DEBUG:mental_rotation.model.bq:L([ 1.          1.44594908  1.        ]) = 0.930660682608\n"
       ]
      },
      {
       "output_type": "stream",
       "stream": "stderr",
       "text": [
        "DEBUG:mental_rotation.model.bq:F = 0.0, R = 2.0116677081, direction = 1.0\n"
       ]
      },
      {
       "output_type": "stream",
       "stream": "stderr",
       "text": [
        "DEBUG:mental_rotation.model.bq:Fitting parameters ['h', 'w'] for F=0, attempt 1\n"
       ]
      },
      {
       "output_type": "stream",
       "stream": "stderr",
       "text": [
        "DEBUG:mental_rotation.model.bq:L([ 0.  0.  0.]) = 0.471981420778\n"
       ]
      },
      {
       "output_type": "stream",
       "stream": "stderr",
       "text": [
        "DEBUG:mental_rotation.model.bq:L([ 0.          2.23966384  1.        ]) = 0.471753238584\n"
       ]
      },
      {
       "output_type": "stream",
       "stream": "stderr",
       "text": [
        "DEBUG:mental_rotation.model.bq:L([ 1.  0.  0.]) = 0.48513771497\n"
       ]
      },
      {
       "output_type": "stream",
       "stream": "stderr",
       "text": [
        "DEBUG:mental_rotation.model.bq:L([ 1.          2.01166771  1.        ]) = -2.32146904058\n"
       ]
      },
      {
       "output_type": "stream",
       "stream": "stderr",
       "text": [
        "DEBUG:mental_rotation.model.bq:F = 1.0, R = 2.0116677081, direction = 1.0\n"
       ]
      },
      {
       "output_type": "stream",
       "stream": "stderr",
       "text": [
        "DEBUG:mental_rotation.model.bq:Fitting parameters ['h', 'w'] for F=1, attempt 1\n"
       ]
      },
      {
       "output_type": "stream",
       "stream": "stderr",
       "text": [
        "DEBUG:mental_rotation.model.bq:L([ 0.  0.  0.]) = 0.271442058047\n"
       ]
      },
      {
       "output_type": "stream",
       "stream": "stderr",
       "text": [
        "DEBUG:mental_rotation.model.bq:L([ 0.          2.01166771  1.        ]) = 0.269835018336\n"
       ]
      },
      {
       "output_type": "stream",
       "stream": "stderr",
       "text": [
        "DEBUG:mental_rotation.model.bq:L([ 1.  0.  0.]) = 0.270555982605\n"
       ]
      },
      {
       "output_type": "stream",
       "stream": "stderr",
       "text": [
        "DEBUG:mental_rotation.model.bq:L([ 1.         -3.03261146  1.        ]) = 0.251405292621\n"
       ]
      },
      {
       "output_type": "stream",
       "stream": "stderr",
       "text": [
        "DEBUG:mental_rotation.model.bq:F = 1.0, R = -3.03261146141, direction = 1.0\n"
       ]
      },
      {
       "output_type": "stream",
       "stream": "stderr",
       "text": [
        "DEBUG:mental_rotation.model.bq:Fitting parameters ['h', 'w'] for F=1, attempt 1\n"
       ]
      },
      {
       "output_type": "stream",
       "stream": "stderr",
       "text": [
        "DEBUG:mental_rotation.model.bq:L([ 0.         -3.03261146  1.        ]) = -29246.9511982\n"
       ]
      },
      {
       "output_type": "stream",
       "stream": "stderr",
       "text": [
        "DEBUG:mental_rotation.model.bq:L([ 0.  0.  0.]) = 0.225142847022\n"
       ]
      },
      {
       "output_type": "stream",
       "stream": "stderr",
       "text": [
        "DEBUG:mental_rotation.model.bq:L([ 1.         -2.92926222  1.        ]) = 0.1570983157\n"
       ]
      },
      {
       "output_type": "stream",
       "stream": "stderr",
       "text": [
        "DEBUG:mental_rotation.model.bq:L([ 1.  0.  0.]) = 0.219589294341\n"
       ]
      },
      {
       "output_type": "stream",
       "stream": "stderr",
       "text": [
        "DEBUG:mental_rotation.model.bq:F = 0.0, R = -3.03261146141, direction = 1.0\n"
       ]
      },
      {
       "output_type": "stream",
       "stream": "stderr",
       "text": [
        "DEBUG:mental_rotation.model.bq:Fitting parameters ['h', 'w'] for F=0, attempt 1\n"
       ]
      },
      {
       "output_type": "stream",
       "stream": "stdout",
       "text": [
        "log LH(h0) = -5.800781 [-7.069564, -5.259139]\n",
        "log LH(h1) = -4.357059 [-4.670841, -4.118577]\n",
        "LH(h0) / LH(h1) = -1.443721\n",
        "--> STOP and accept hypothesis 1 (flipped)\n"
       ]
      }
     ],
     "prompt_number": 20
    },
    {
     "cell_type": "code",
     "collapsed": false,
     "input": [
      "fig, axes = plt.subplots(2, 2, sharex=True, sharey=True)\n",
      "bq_model0.plot(axes[0, 0], 0, f_S=gs_model0.S)\n",
      "bq_model0.plot(axes[1, 0], 1, f_S=gs_model0.S)\n",
      "bq_model1.plot(axes[0, 1], 0, f_S=gs_model1.S)\n",
      "bq_model1.plot(axes[1, 1], 1, f_S=gs_model1.S)\n",
      "format_plot(fig, axes)"
     ],
     "language": "python",
     "metadata": {},
     "outputs": [
      {
       "metadata": {},
       "output_type": "display_data",
       "png": "[encoded data removed]",
       "text": [
        "<matplotlib.figure.Figure at 0x10993f4d0>"
       ]
      }
     ],
     "prompt_number": 21
    },
    {
     "cell_type": "heading",
     "level": 2,
     "metadata": {},
     "source": [
      "All models"
     ]
    },
    {
     "cell_type": "code",
     "collapsed": false,
     "input": [
      "all_models = [\n",
      "    (\"Oracle model\", o_model0, o_model1),\n",
      "    (\"Threshold model\", t_model0, t_model1),\n",
      "    (\"Hill-climbing model\", hc_model0, hc_model1),\n",
      "    (\"Bayesian quadrature model\", bq_model0, bq_model1)\n",
      "]"
     ],
     "language": "python",
     "metadata": {},
     "outputs": [],
     "prompt_number": 22
    },
    {
     "cell_type": "code",
     "collapsed": false,
     "input": [
      "xmax = 0\n",
      "fig, axes = plt.subplots(2, 4, sharey=True, sharex=True)\n",
      "for (model_name, m0, m1), (ax0, ax1) in zip(all_models, axes.T):\n",
      "    m0.plot_trace(ax0, legend=(ax0 == axes[0, 0]))\n",
      "    m1.plot_trace(ax1, legend=False)\n",
      "    \n",
      "    nstep = max(m0.R_i.size, m1.R_i.size)\n",
      "    if nstep > xmax:\n",
      "        xmax = nstep\n",
      "\n",
      "    ax0.set_title(model_name, fontsize=14)\n",
      "    for ax in (ax0, ax1):\n",
      "        util.clear_top(ax)\n",
      "        util.clear_right(ax)\n",
      "        util.outward_ticks(ax)\n",
      "        \n",
      "    ax0.set_xlabel(\"\")\n",
      "    \n",
      "axes[0, 0].set_xlim(0, xmax + 1)\n",
      "axes[0, 0].set_ylabel(\"\\\"Same\\\" pair\", fontsize=14)\n",
      "axes[1, 0].set_ylabel(\"\\\"Flipped\\\" pair\", fontsize=14)\n",
      "\n",
      "fig.set_figwidth(14)\n",
      "fig.set_figheight(4)\n",
      "plt.tight_layout()\n",
      "\n",
      "util.save(FIG_PATH.joinpath(\"model-traces\"), ext=[\"png\", \"pdf\"], close=False)"
     ],
     "language": "python",
     "metadata": {},
     "outputs": [
      {
       "metadata": {},
       "output_type": "display_data",
       "png": "[encoded data removed]",
       "text": [
        "<matplotlib.figure.Figure at 0x109a335d0>"
       ]
      }
     ],
     "prompt_number": 23
    }
   ],
   "metadata": {}
  }
 ]
}