{
 "metadata": {
  "name": ""
 },
 "nbformat": 3,
 "nbformat_minor": 0,
 "worksheets": [
  {
   "cells": [
    {
     "cell_type": "heading",
     "level": 1,
     "metadata": {},
     "source": [
      "Bayesian quadrature model of mental rotation"
     ]
    },
    {
     "cell_type": "code",
     "collapsed": false,
     "input": [
      "%matplotlib inline"
     ],
     "language": "python",
     "metadata": {},
     "outputs": []
    },
    {
     "cell_type": "code",
     "collapsed": false,
     "input": [
      "from mental_rotation.stimulus import Stimulus2D\n",
      "from mental_rotation import VERSION, STIM_PATH\n",
      "from mental_rotation.model import GoldStandardModel, BayesianQuadratureModel\n",
      "from analysis_util import seed"
     ],
     "language": "python",
     "metadata": {},
     "outputs": []
    },
    {
     "cell_type": "markdown",
     "metadata": {},
     "source": [
      "Load the example stimulus:"
     ]
    },
    {
     "cell_type": "code",
     "collapsed": false,
     "input": [
      "X = Stimulus2D.load(STIM_PATH.joinpath(VERSION, \"011_120_0.json\"))\n",
      "Xa = X.copy_from_initial()\n",
      "Xb = X.copy_from_vertices()\n",
      "\n",
      "fig, (ax1, ax2) = plt.subplots(1, 2)\n",
      "Xa.plot(ax1)\n",
      "Xb.plot(ax2)"
     ],
     "language": "python",
     "metadata": {},
     "outputs": []
    },
    {
     "cell_type": "markdown",
     "metadata": {},
     "source": [
      "Compute the full similarity functions for both \"same\" and flipped\"."
     ]
    },
    {
     "cell_type": "code",
     "collapsed": false,
     "input": [
      "seed()\n",
      "gs_model = GoldStandardModel(Xa.vertices, Xb.vertices)\n",
      "gs_model.sample()\n",
      "gs_model.print_stats()"
     ],
     "language": "python",
     "metadata": {},
     "outputs": []
    },
    {
     "cell_type": "markdown",
     "metadata": {},
     "source": [
      "Create the BQ model and run it."
     ]
    },
    {
     "cell_type": "code",
     "collapsed": false,
     "input": [
      "seed()\n",
      "bq_model = BayesianQuadratureModel(Xa.vertices, Xb.vertices)\n",
      "bq_model.sample()\n",
      "bq_model.print_stats()"
     ],
     "language": "python",
     "metadata": {},
     "outputs": []
    },
    {
     "cell_type": "markdown",
     "metadata": {},
     "source": [
      "Plot the result:"
     ]
    },
    {
     "cell_type": "code",
     "collapsed": false,
     "input": [
      "bq_model.plot_all(f_S0=lambda x: gs_model.S(x, 0), f_S1=lambda x: gs_model.S(x, 1))"
     ],
     "language": "python",
     "metadata": {},
     "outputs": []
    },
    {
     "cell_type": "markdown",
     "metadata": {},
     "source": [
      "The final estimate of the distribution over $Z_0$ and $Z_1$:"
     ]
    },
    {
     "cell_type": "code",
     "collapsed": false,
     "input": [
      "print \"E[Z0] = %f\" % bq_model._m0\n",
      "print \"V(Z0) = %f\" % bq_model._V0\n",
      "print\n",
      "print \"E[Z1] = %f\" % bq_model._m1\n",
      "print \"V(Z1) = %f\" % bq_model._V1"
     ],
     "language": "python",
     "metadata": {},
     "outputs": []
    },
    {
     "cell_type": "markdown",
     "metadata": {},
     "source": [
      "This is the number of steps the model took:"
     ]
    },
    {
     "cell_type": "code",
     "collapsed": false,
     "input": [
      "len(zip(bq_model.R_i, bq_model.F_i))"
     ],
     "language": "python",
     "metadata": {},
     "outputs": []
    }
   ],
   "metadata": {}
  }
 ]
}