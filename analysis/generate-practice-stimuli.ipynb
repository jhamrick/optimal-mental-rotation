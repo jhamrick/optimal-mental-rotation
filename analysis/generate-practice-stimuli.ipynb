{
 "metadata": {
  "name": ""
 },
 "nbformat": 3,
 "nbformat_minor": 0,
 "worksheets": [
  {
   "cells": [
    {
     "cell_type": "code",
     "collapsed": false,
     "input": [
      "%matplotlib inline"
     ],
     "language": "python",
     "metadata": {},
     "outputs": []
    },
    {
     "cell_type": "code",
     "collapsed": false,
     "input": [
      "from mental_rotation import Stimulus2D\n",
      "from path import path\n",
      "import analysis_util as util"
     ],
     "language": "python",
     "metadata": {},
     "outputs": []
    },
    {
     "cell_type": "code",
     "collapsed": false,
     "input": [
      "ROOT = path(\"../\")\n",
      "CONFIG = util.load_config(ROOT.joinpath(\"config.ini\"))\n",
      "VERSION = CONFIG.get(\"global\", \"version\")\n",
      "SEED = CONFIG.getint(\"global\", \"seed\")\n",
      "STIM_PATH = ROOT.joinpath(CONFIG.get(\"paths\", \"stimuli\"))\n",
      "\n",
      "S_sigma = CONFIG.getfloat(\"model\", \"S_sigma\")"
     ],
     "language": "python",
     "metadata": {},
     "outputs": []
    },
    {
     "cell_type": "code",
     "collapsed": false,
     "input": [
      "stimuli = []"
     ],
     "language": "python",
     "metadata": {},
     "outputs": []
    },
    {
     "cell_type": "code",
     "collapsed": false,
     "input": [
      "# run this cell until you find a good practice stimulus\n",
      "s = Stimulus2D.random(6)\n",
      "fig, ax = plt.subplots()\n",
      "s.plot(ax)"
     ],
     "language": "python",
     "metadata": {},
     "outputs": []
    },
    {
     "cell_type": "code",
     "collapsed": false,
     "input": [
      "# then run this cell to append it to the list of stimuli\n",
      "stimuli.append(s.copy_from_vertices())"
     ],
     "language": "python",
     "metadata": {},
     "outputs": []
    },
    {
     "cell_type": "code",
     "collapsed": false,
     "input": [
      "# choose the angles we want for the practice trials\n",
      "angles = list(np.linspace(0, 360, 7)[1:-1].astype(int))\n",
      "angles = angles + angles[-2:] + angles[:-2] "
     ],
     "language": "python",
     "metadata": {},
     "outputs": []
    },
    {
     "cell_type": "code",
     "collapsed": false,
     "input": [
      "# save and plot all of the stimuli\n",
      "fig, axes = plt.subplots(1, 5)\n",
      "for i, stim in enumerate(stimuli):\n",
      "    stim.plot(axes[i])\n",
      "    sid = \"practice%d\" % i\n",
      "    for flip in [True, False]:\n",
      "        if flip:\n",
      "            theta = angles[i]\n",
      "        else:\n",
      "            theta = angles[i + len(stimuli)]\n",
      "\n",
      "        name = \"%s_%d_%d.json\" % (sid, theta, flip)\n",
      "        print name\n",
      "\n",
      "        s = stim.copy_from_vertices()\n",
      "        if flip:\n",
      "            s.flip([0, 1])\n",
      "        if theta > 0:\n",
      "            s.rotate(theta)\n",
      "        pth = STIM_PATH.joinpath(\"%s-training\" % VERSION, name)\n",
      "        if pth.exists():\n",
      "            pth.remove()\n",
      "        s.save(pth)"
     ],
     "language": "python",
     "metadata": {},
     "outputs": []
    }
   ],
   "metadata": {}
  }
 ]
}