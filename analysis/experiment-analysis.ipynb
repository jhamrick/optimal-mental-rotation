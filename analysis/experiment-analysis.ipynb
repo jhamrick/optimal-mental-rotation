{
 "metadata": {
  "name": ""
 },
 "nbformat": 3,
 "nbformat_minor": 0,
 "worksheets": [
  {
   "cells": [
    {
     "cell_type": "heading",
     "level": 1,
     "metadata": {},
     "source": [
      "Mental rotation experiment analysis"
     ]
    },
    {
     "cell_type": "code",
     "collapsed": false,
     "input": [
      "%matplotlib inline"
     ],
     "language": "python",
     "metadata": {},
     "outputs": []
    },
    {
     "cell_type": "code",
     "collapsed": false,
     "input": [
      "import matplotlib.pyplot as plt\n",
      "import numpy as np\n",
      "import pandas as pd\n",
      "from datetime import timedelta\n",
      "\n",
      "from mental_rotation import VERSION, DATA_PATH, FIG_PATH\n",
      "from snippets import datapackage as dpkg\n",
      "import analysis_util as util\n",
      "\n",
      "FIG_PATH = FIG_PATH.joinpath(VERSION)"
     ],
     "language": "python",
     "metadata": {},
     "outputs": []
    },
    {
     "cell_type": "markdown",
     "metadata": {},
     "source": [
      "## Load human data"
     ]
    },
    {
     "cell_type": "code",
     "collapsed": false,
     "input": [
      "def modtheta(x):\n",
      "    if x > 180:\n",
      "        return 360 - x\n",
      "    else:\n",
      "        return x"
     ],
     "language": "python",
     "metadata": {},
     "outputs": []
    },
    {
     "cell_type": "code",
     "collapsed": false,
     "input": [
      "def zscore(x):\n",
      "    return (x - x.mean()) / x.std()"
     ],
     "language": "python",
     "metadata": {},
     "outputs": []
    },
    {
     "cell_type": "code",
     "collapsed": false,
     "input": [
      "human_dp = dpkg.DataPackage.load(\n",
      "    DATA_PATH.joinpath(\"human\", \"%s.dpkg\" % VERSION))\n",
      "exp_all = human_dp.load_resource(\"experiment.csv\")\n",
      "\n",
      "# get just the experiment trials\n",
      "exp = exp_all\\\n",
      "    .groupby(\n",
      "        exp_all['mode'].apply(\n",
      "            lambda x: x.startswith('experiment')))\\\n",
      "    .get_group(True)\n",
      "    \n",
      "# remove trials where people took a ridiculous amount of time (i.e., greater than 20 seconds)\n",
      "too_long = exp.index[exp['time'] > 20]\n",
      "exp = exp.drop(too_long)\n",
      "\n",
      "# compute correct responses\n",
      "exp['correct'] = exp['flipped'] == exp['response']\n",
      "\n",
      "# compute zscored time\n",
      "exp['ztime'] = exp.groupby('pid')['time'].apply(zscore)\n",
      "\n",
      "# compute modtheta, where all angles are between 0 and 180\n",
      "exp['modtheta'] = exp['theta'].apply(modtheta)\n",
      "\n",
      "# make stimulus names be integers\n",
      "exp['stimulus'] = [int(x) for x in exp['stimulus']]\n",
      "\n",
      "# split into the two different blocks\n",
      "expA = exp.groupby('mode').get_group('experimentA')\n",
      "expB = exp.groupby('mode').get_group('experimentB')\n",
      "expB['trial'] += expA['trial'].max()\n",
      "exp['trial'].ix[expA.index] = expA['trial']\n",
      "exp['trial'].ix[expB.index] = expB['trial']"
     ],
     "language": "python",
     "metadata": {},
     "outputs": []
    },
    {
     "cell_type": "markdown",
     "metadata": {},
     "source": [
      "Compute the average amount of time it takes to complete the\n",
      "experiment, as well as the average hourly wage."
     ]
    },
    {
     "cell_type": "code",
     "collapsed": false,
     "input": [
      "exp_all['timestamp'] = pd.to_datetime(exp_all['timestamp'])\n",
      "starttime = exp_all.groupby('pid').apply(lambda x: x.sort('timestamp')['timestamp'].min())\n",
      "endtime = exp_all.groupby('pid').apply(lambda x: x.sort('timestamp')['timestamp'].max())\n",
      "exptime = endtime - starttime\n",
      "medtime = timedelta(seconds=exptime.median() / 1e9)\n",
      "payrate = (1.0 / (exptime.astype(int) / (1e9 * 60 * 60))).mean()\n",
      "print \"Median time: %s\" % medtime\n",
      "print \"Average pay: $%.2f / hour\" % payrate"
     ],
     "language": "python",
     "metadata": {},
     "outputs": []
    },
    {
     "cell_type": "markdown",
     "metadata": {},
     "source": [
      "Print out the number of participants in each condition."
     ]
    },
    {
     "cell_type": "code",
     "collapsed": false,
     "input": [
      "print \"%d participants\" % len(exp['pid'].drop_duplicates())\n",
      "exp.groupby('condition').apply(lambda x: len(x['pid'].drop_duplicates()))"
     ],
     "language": "python",
     "metadata": {},
     "outputs": []
    },
    {
     "cell_type": "markdown",
     "metadata": {},
     "source": [
      "Plot a histogram of overall participant accuracy."
     ]
    },
    {
     "cell_type": "code",
     "collapsed": false,
     "input": [
      "expB.groupby('pid')['correct'].mean().hist()"
     ],
     "language": "python",
     "metadata": {},
     "outputs": []
    },
    {
     "cell_type": "code",
     "collapsed": false,
     "input": [
      "for cond, df in expA.groupby('condition'):\n",
      "    pids = df.groupby('pid')\n",
      "    #print pids.get_group(pids.groups.keys()[0]).groupby('stimulus').apply(len)\n",
      "    #print pids.get_group(pids.groups.keys()[0]).groupby('theta').apply(len)\n",
      "    #print pids.get_group(pids.groups.keys()[0]).groupby('flipped').apply(len)\n",
      "    print pd.DataFrame(pids.get_group(pids.groups.keys()[0]).groupby(['stimulus', 'theta', 'flipped']).groups.keys())"
     ],
     "language": "python",
     "metadata": {},
     "outputs": []
    },
    {
     "cell_type": "markdown",
     "metadata": {},
     "source": [
      "## Load model data"
     ]
    },
    {
     "cell_type": "code",
     "collapsed": false,
     "input": [
      "# gold standard model\n",
      "gs_dp = dpkg.DataPackage.load(\n",
      "    DATA_PATH.joinpath(\"model\", \"GoldStandardModel_%s.dpkg\" % VERSION))\n",
      "gs = gs_dp.load_resource(\"model.csv\")\n",
      "gs['modtheta'] = gs['theta'].apply(modtheta)\n",
      "gs['correct'] = gs['flipped'] == gs['hypothesis']\n",
      "\n",
      "# hill climbing model\n",
      "th_dp = dpkg.DataPackage.load(\n",
      "    DATA_PATH.joinpath(\"model\", \"ThresholdModel_%s.dpkg\" % VERSION))\n",
      "th = th_dp.load_resource(\"model.csv\")\n",
      "th['modtheta'] = th['theta'].apply(modtheta)\n",
      "th['correct'] = th['flipped'] == th['hypothesis']\n",
      "\n",
      "# hill climbing model\n",
      "hc_dp = dpkg.DataPackage.load(\n",
      "    DATA_PATH.joinpath(\"model\", \"HillClimbingModel_%s.dpkg\" % VERSION))\n",
      "hc = hc_dp.load_resource(\"model.csv\")\n",
      "hc['modtheta'] = hc['theta'].apply(modtheta)\n",
      "hc['correct'] = hc['flipped'] == hc['hypothesis']\n",
      "\n",
      "# bayesian quadrature model\n",
      "bq_dp = dpkg.DataPackage.load(\n",
      "    DATA_PATH.joinpath(\"model\", \"BayesianQuadratureModel_%s.dpkg\" % VERSION))\n",
      "bq = bq_dp.load_resource(\"model.csv\")\n",
      "bq['modtheta'] = bq['theta'].apply(modtheta)\n",
      "bq['correct'] = bq['flipped'] == bq['hypothesis']"
     ],
     "language": "python",
     "metadata": {},
     "outputs": []
    },
    {
     "cell_type": "code",
     "collapsed": false,
     "input": [
      "print \"Accuracy\"\n",
      "print \"--------\"\n",
      "print \"gs:    %.2f%%\" % (gs['correct'].mean() * 100)\n",
      "print \"th:    %.2f%%\" % (th['correct'].mean() * 100)\n",
      "print \"hc:    %.2f%%\" % (hc['correct'].mean() * 100)\n",
      "print \"bq:    %.2f%%\" % (bq['correct'].mean() * 100)\n",
      "print \"human: %.2f%%\" % (exp['correct'].mean() * 100)"
     ],
     "language": "python",
     "metadata": {},
     "outputs": []
    },
    {
     "cell_type": "markdown",
     "metadata": {},
     "source": [
      "## Response time analysis"
     ]
    },
    {
     "cell_type": "markdown",
     "metadata": {},
     "source": [
      "Plot overall response times:"
     ]
    },
    {
     "cell_type": "code",
     "collapsed": false,
     "input": [
      "fig, (ax1, ax2, ax3, ax4) = plt.subplots(1, 4, sharey=True)\n",
      "\n",
      "ax1.hist(np.asarray(exp['time']), bins=100, normed=True)\n",
      "ax1.set_xlabel(\"Response time (seconds)\")\n",
      "ax1.set_ylabel(\"Fraction of responses\")\n",
      "ax1.set_title(\"Human\")\n",
      "\n",
      "ax2.hist(np.asarray(th['nstep']), bins=100, normed=True)\n",
      "ax2.set_xlabel(\"Number of steps\")\n",
      "ax2.set_title(\"Threshold\")\n",
      "\n",
      "ax3.hist(np.asarray(hc['nstep']), bins=20, normed=True)\n",
      "ax3.set_xlabel(\"Number of steps\")\n",
      "ax3.set_title(\"Hill climbing\")\n",
      "\n",
      "ax4.hist(np.asarray(bq['nstep']), bins=100, normed=True)\n",
      "ax4.set_xlabel(\"Number of steps\")\n",
      "ax4.set_title(\"Bayesian quadrature\")\n",
      "\n",
      "fig.set_figwidth(12)\n",
      "plt.tight_layout()"
     ],
     "language": "python",
     "metadata": {},
     "outputs": []
    },
    {
     "cell_type": "code",
     "collapsed": false,
     "input": [
      "exp.groupby(['modtheta', 'flipped'])['ztime'].apply(len).unstack('flipped')"
     ],
     "language": "python",
     "metadata": {},
     "outputs": []
    },
    {
     "cell_type": "markdown",
     "metadata": {},
     "source": [
      "Plot response times as a function of angle:"
     ]
    },
    {
     "cell_type": "code",
     "collapsed": false,
     "input": [
      "def bootstrap(x, nsamples=1000):\n",
      "    arr = np.asarray(x)\n",
      "    n, = arr.shape\n",
      "    boot_idx = np.random.randint(0, n, n*nsamples)\n",
      "    boot_arr = arr[boot_idx].reshape((n, nsamples))\n",
      "    boot_mean = boot_arr.mean(axis=0)\n",
      "    stats = pd.Series(\n",
      "        np.percentile(boot_mean, [2.5, 50, 97.5]),\n",
      "        index=['lower', 'median', 'upper'],\n",
      "        name=x.name)\n",
      "    return stats"
     ],
     "language": "python",
     "metadata": {},
     "outputs": []
    },
    {
     "cell_type": "code",
     "collapsed": false,
     "input": [
      "def plot_time_curve(ax, df, flipped, key):\n",
      "    time = df.groupby('modtheta')[key]\n",
      "    stats = time.apply(bootstrap).unstack(1)\n",
      "    lower = stats['median'] - stats['lower']\n",
      "    upper = stats['upper'] - stats['median']\n",
      "    ax.errorbar(stats.index, stats['median'], yerr=[lower, upper], label=flipped, lw=3)"
     ],
     "language": "python",
     "metadata": {},
     "outputs": []
    },
    {
     "cell_type": "code",
     "collapsed": false,
     "input": [
      "def make_time_plot(ax, data, key, fontsize=None):\n",
      "    for flipped, df in data[data['correct']].groupby('flipped'):\n",
      "        plot_time_curve(ax, df, flipped, key)\n",
      "    \n",
      "    ax.set_xlabel(\"Rotation\", fontsize=fontsize)\n",
      "    ax.set_xticks(np.arange(0, 200, 20))\n",
      "    ax.set_xlim(-10, 190)\n",
      "    util.clear_right(ax)\n",
      "    util.clear_top(ax)\n",
      "    util.outward_ticks(ax)"
     ],
     "language": "python",
     "metadata": {},
     "outputs": []
    },
    {
     "cell_type": "code",
     "collapsed": false,
     "input": [
      "fig, (ax1, ax2, ax3, ax4) = plt.subplots(1, 4, sharex=True)\n",
      "\n",
      "make_time_plot(ax1, exp, \"ztime\", fontsize=14)\n",
      "ax1.set_ylabel(\"Response Time (z-scored)\", fontsize=14)\n",
      "ax1.set_title(\"Human\", fontsize=14)\n",
      "ax1.legend(title=\"Stimuli\", loc=0, frameon=False)\n",
      "\n",
      "make_time_plot(ax2, th, \"nstep\", fontsize=14)\n",
      "ax2.set_ylabel(\"Number of actions\", fontsize=14)\n",
      "ax2.set_title(\"Threshold model\", fontsize=14)\n",
      "\n",
      "make_time_plot(ax3, hc, \"nstep\", fontsize=14)\n",
      "ax3.set_ylabel(\"Number of actions\", fontsize=14)\n",
      "ax3.set_title(\"Hill climbing model\", fontsize=14)\n",
      "\n",
      "make_time_plot(ax4, bq, \"nstep\", fontsize=14)\n",
      "ax4.set_ylabel(\"Number of actions\", fontsize=14)\n",
      "ax4.set_title(\"Bayesian quadrature model\", fontsize=14)\n",
      "\n",
      "fig.set_figwidth(16)\n",
      "plt.tight_layout()\n",
      "\n",
      "util.save(FIG_PATH.joinpath(\"response-times\"), ext=[\"png\", \"pdf\"], close=False)"
     ],
     "language": "python",
     "metadata": {},
     "outputs": []
    },
    {
     "cell_type": "markdown",
     "metadata": {},
     "source": [
      "Plot per-stimulus response times:"
     ]
    },
    {
     "cell_type": "code",
     "collapsed": false,
     "input": [
      "fig, axes = plt.subplots(4, 5, sharey=True)\n",
      "\n",
      "for i, (stim, sdf) in enumerate(exp[exp['correct']].groupby('stimulus')):\n",
      "    ax = axes.flat[i]\n",
      "    make_time_plot(ax, sdf, \"ztime\")\n",
      "    ax.set_xticks([0, 60, 120, 180])\n",
      "    ax.set_title(\"Stim %s\" % stim)\n",
      "    \n",
      "fig.set_figwidth(10)\n",
      "fig.set_figheight(8)\n",
      "plt.tight_layout()\n",
      "\n",
      "util.save(FIG_PATH.joinpath(\"response-times-stimuli\"), ext=[\"png\", \"pdf\"], close=False)"
     ],
     "language": "python",
     "metadata": {},
     "outputs": []
    },
    {
     "cell_type": "code",
     "collapsed": false,
     "input": [
      "fig, axes = plt.subplots(4, 5, sharey=True)\n",
      "\n",
      "for i, (stim, sdf) in enumerate(th[th['correct']].groupby('stimulus')):\n",
      "    ax = axes.flat[i]\n",
      "    make_time_plot(ax, sdf, \"nstep\")\n",
      "    ax.set_xticks([0, 60, 120, 180])\n",
      "    ax.set_title(\"Stim %s\" % stim)\n",
      "    \n",
      "fig.set_figwidth(10)\n",
      "fig.set_figheight(8)\n",
      "plt.tight_layout()\n",
      "\n",
      "util.save(FIG_PATH.joinpath(\"response-times-stimuli-th\"), ext=[\"png\", \"pdf\"], close=False)"
     ],
     "language": "python",
     "metadata": {},
     "outputs": []
    },
    {
     "cell_type": "code",
     "collapsed": false,
     "input": [
      "fig, axes = plt.subplots(4, 5, sharey=True)\n",
      "\n",
      "for i, (stim, sdf) in enumerate(hc[hc['correct']].groupby('stimulus')):\n",
      "    ax = axes.flat[i]\n",
      "    make_time_plot(ax, sdf, \"nstep\")\n",
      "    ax.set_xticks([0, 60, 120, 180])\n",
      "    ax.set_title(\"Stim %s\" % stim)\n",
      "    \n",
      "fig.set_figwidth(10)\n",
      "fig.set_figheight(8)\n",
      "plt.tight_layout()\n",
      "\n",
      "util.save(FIG_PATH.joinpath(\"response-times-stimuli-hc\"), ext=[\"png\", \"pdf\"], close=False)"
     ],
     "language": "python",
     "metadata": {},
     "outputs": []
    },
    {
     "cell_type": "code",
     "collapsed": false,
     "input": [
      "fig, axes = plt.subplots(4, 5, sharey=True)\n",
      "\n",
      "for i, (stim, sdf) in enumerate(bq[bq['correct']].groupby('stimulus')):\n",
      "    ax = axes.flat[i]\n",
      "    make_time_plot(ax, sdf, \"nstep\")\n",
      "    ax.set_xticks([0, 60, 120, 180])\n",
      "    ax.set_title(\"Stim %s\" % stim)\n",
      "    \n",
      "fig.set_figwidth(10)\n",
      "fig.set_figheight(8)\n",
      "plt.tight_layout()\n",
      "\n",
      "util.save(FIG_PATH.joinpath(\"response-times-stimuli-bq\"), ext=[\"png\", \"pdf\"], close=False)"
     ],
     "language": "python",
     "metadata": {},
     "outputs": []
    },
    {
     "cell_type": "code",
     "collapsed": false,
     "input": [
      "def response_time(x, key):\n",
      "    y = x[x['correct']].groupby(['stimulus', 'modtheta', 'flipped'])[key]\n",
      "    return y.apply(bootstrap).unstack(-1)['median']\n",
      "\n",
      "means = pd.DataFrame({\n",
      "    'exp': response_time(exp, 'ztime'),\n",
      "    'th': response_time(th, 'nstep'),\n",
      "    'hc': response_time(hc, 'nstep'),\n",
      "    'bq': response_time(bq, 'nstep')\n",
      "}).unstack('flipped')\n",
      "\n",
      "fig, (ax1, ax2, ax3) = plt.subplots(1, 3, sharey=True)\n",
      "\n",
      "ax1.plot(means['th'], means['exp'], 'o', alpha=0.8)\n",
      "ax1.set_xlabel(\"Number of actions\", fontsize=14)\n",
      "ax1.set_ylabel(\"Human response time (z-scored)\", fontsize=14)\n",
      "ax1.set_title(\"Threshold model\", fontsize=14)\n",
      "util.clear_right(ax1)\n",
      "util.clear_top(ax1)\n",
      "util.outward_ticks(ax1)\n",
      "\n",
      "ax2.plot(means['hc'], means['exp'], 'o', alpha=0.8)\n",
      "ax2.set_xlabel(\"Number of actions\", fontsize=14)\n",
      "ax2.set_title(\"Hill-climbing model\", fontsize=14)\n",
      "util.clear_right(ax2)\n",
      "util.clear_top(ax2)\n",
      "util.outward_ticks(ax2)\n",
      "\n",
      "ax3.plot(means['bq'], means['exp'], 'o', alpha=0.8)\n",
      "ax3.set_xlabel(\"Number of actions\", fontsize=14)\n",
      "ax3.set_title(\"Bayesian quadrature model\", fontsize=14)\n",
      "util.clear_right(ax3)\n",
      "util.clear_top(ax3)\n",
      "util.outward_ticks(ax3)\n",
      "\n",
      "fig.set_figwidth(12)\n",
      "plt.tight_layout()\n",
      "\n",
      "print means.xs('flipped', axis=1, level=1).corr()\n",
      "print means.xs('same', axis=1, level=1).corr()\n",
      "\n",
      "util.save(FIG_PATH.joinpath(\"response-times-scatter\"), ext=[\"png\", \"pdf\"], close=False)"
     ],
     "language": "python",
     "metadata": {},
     "outputs": []
    },
    {
     "cell_type": "markdown",
     "metadata": {},
     "source": [
      "## Accuracy analysis"
     ]
    },
    {
     "cell_type": "markdown",
     "metadata": {},
     "source": [
      "Plot accuracy as a function of angle:"
     ]
    },
    {
     "cell_type": "code",
     "collapsed": false,
     "input": [
      "def beta(x):\n",
      "    arr = np.asarray(x, dtype=int)\n",
      "    alpha = float((x == 1).sum()) + 0.5\n",
      "    beta = float((x == 0).sum()) + 0.5\n",
      "    lower, mean, upper = scipy.special.btdtri(alpha, beta, [0.025, 0.5, 0.975])\n",
      "    stats = pd.Series(\n",
      "        [lower, mean, upper],\n",
      "        index=['lower', 'median', 'upper'],\n",
      "        name=x.name)\n",
      "    return stats"
     ],
     "language": "python",
     "metadata": {},
     "outputs": []
    },
    {
     "cell_type": "code",
     "collapsed": false,
     "input": [
      "def plot_accuracy_curve(ax, df, flipped):\n",
      "    correct = df.groupby('modtheta')['correct']\n",
      "    stats = correct.apply(beta).unstack(1)\n",
      "    lower = stats['median'] - stats['lower']\n",
      "    upper = stats['upper'] - stats['median']\n",
      "    ax.errorbar(stats.index, stats['median'], yerr=[lower, upper], label=flipped, lw=3)"
     ],
     "language": "python",
     "metadata": {},
     "outputs": []
    },
    {
     "cell_type": "code",
     "collapsed": false,
     "input": [
      "def make_accuracy_plot(ax, data, fontsize=None):\n",
      "    for flipped, df in data.groupby('flipped'):\n",
      "        plot_accuracy_curve(ax, df, flipped)\n",
      "    \n",
      "    ax.set_xlim(-10, 190)\n",
      "    ax.set_ylim(0.3, 1.05)\n",
      "    ax.set_xticks(np.arange(0, 200, 20))\n",
      "    ax.set_xlabel(\"Rotation\", fontsize=fontsize)\n",
      "    util.clear_right(ax)\n",
      "    util.clear_top(ax)\n",
      "    util.outward_ticks(ax)"
     ],
     "language": "python",
     "metadata": {},
     "outputs": []
    },
    {
     "cell_type": "code",
     "collapsed": false,
     "input": [
      "fig, (ax1, ax2, ax3) = plt.subplots(1, 3, sharey=True, sharex=True)\n",
      "\n",
      "make_accuracy_plot(ax1, exp, fontsize=14)\n",
      "ax1.set_ylabel(\"Accuracy\", fontsize=14)\n",
      "ax1.set_title(\"Human\", fontsize=14)\n",
      "ax1.legend(title=\"Stimuli\", loc=0, frameon=False)\n",
      "\n",
      "make_accuracy_plot(ax2, hc, fontsize=14)\n",
      "ax2.set_title(\"Hill climbing\", fontsize=14)\n",
      "\n",
      "make_accuracy_plot(ax3, bq, fontsize=14)\n",
      "ax3.set_title(\"Bayesian quadrature\", fontsize=14)\n",
      "\n",
      "fig.set_figwidth(12)\n",
      "plt.tight_layout()\n",
      "\n",
      "util.save(FIG_PATH.joinpath(\"accuracy\"), ext=[\"png\", \"pdf\"], close=False)"
     ],
     "language": "python",
     "metadata": {},
     "outputs": []
    },
    {
     "cell_type": "markdown",
     "metadata": {},
     "source": [
      "Plot per-stimulus accuracy:"
     ]
    },
    {
     "cell_type": "code",
     "collapsed": false,
     "input": [
      "fig, axes = plt.subplots(4, 5, sharex=True, sharey=True)\n",
      "\n",
      "for i, (stim, sdf) in enumerate(exp.groupby('stimulus')):\n",
      "    ax = axes.flat[i]\n",
      "    make_accuracy_plot(ax, sdf)\n",
      "    ax.set_xticks([0, 60, 120, 180])\n",
      "    ax.set_title(\"Stim %s\" % stim)\n",
      "    \n",
      "fig.set_figwidth(10)\n",
      "fig.set_figheight(8)\n",
      "plt.tight_layout()\n",
      "\n",
      "util.save(FIG_PATH.joinpath(\"accuracy-stimuli\"), ext=[\"png\", \"pdf\"], close=False)"
     ],
     "language": "python",
     "metadata": {},
     "outputs": []
    },
    {
     "cell_type": "code",
     "collapsed": false,
     "input": [
      "fig, axes = plt.subplots(4, 5, sharex=True, sharey=True)\n",
      "\n",
      "for i, (stim, sdf) in enumerate(hc.groupby('stimulus')):\n",
      "    ax = axes.flat[i]\n",
      "    make_accuracy_plot(ax, sdf)\n",
      "    ax.set_xticks([0, 60, 120, 180])\n",
      "    ax.set_title(\"Stim %s\" % stim)\n",
      "    \n",
      "fig.set_figwidth(10)\n",
      "fig.set_figheight(8)\n",
      "plt.tight_layout()\n",
      "\n",
      "util.save(FIG_PATH.joinpath(\"accuracy-stimuli-hc\"), ext=[\"png\", \"pdf\"], close=False)"
     ],
     "language": "python",
     "metadata": {},
     "outputs": []
    },
    {
     "cell_type": "code",
     "collapsed": false,
     "input": [
      "fig, axes = plt.subplots(4, 5, sharex=True, sharey=True)\n",
      "\n",
      "for i, (stim, sdf) in enumerate(bq.groupby('stimulus')):\n",
      "    ax = axes.flat[i]\n",
      "    make_accuracy_plot(ax, sdf)\n",
      "    ax.set_xticks([0, 60, 120, 180])\n",
      "    ax.set_title(\"Stim %s\" % stim)\n",
      "    \n",
      "fig.set_figwidth(10)\n",
      "fig.set_figheight(8)\n",
      "plt.tight_layout()\n",
      "\n",
      "util.save(FIG_PATH.joinpath(\"accuracy-stimuli-bq\"), ext=[\"png\", \"pdf\"], close=False)"
     ],
     "language": "python",
     "metadata": {},
     "outputs": []
    },
    {
     "cell_type": "code",
     "collapsed": false,
     "input": [
      "def correct(x):\n",
      "    y = x.groupby(['stimulus', 'modtheta', 'flipped'])['correct']\n",
      "    return y.apply(beta).unstack(-1)['median']\n",
      "\n",
      "means = pd.DataFrame({\n",
      "    'exp': correct(exp),\n",
      "    'hc': correct(hc),\n",
      "    'bq': correct(bq)\n",
      "}).unstack('flipped')\n",
      "\n",
      "fig, (ax1, ax2) = plt.subplots(1, 2, sharey=True, sharex=True)\n",
      "\n",
      "ax1.plot(means['hc'], means['exp'], 'o')\n",
      "ax1.set_xlabel(\"Hill-climbing accuracy\")\n",
      "ax1.set_ylabel(\"Human accuracy\")\n",
      "ax1.set_xlim(0, 1)\n",
      "ax1.set_ylim(0, 1)\n",
      "\n",
      "ax2.plot(means['bq'], means['exp'], 'o')\n",
      "ax2.set_xlabel(\"Bayesian quadrature accuracy\")\n",
      "\n",
      "fig.set_figwidth(9)\n",
      "plt.tight_layout()\n",
      "\n",
      "print means.xs('flipped', axis=1, level=1).corr()\n",
      "print means.xs('same', axis=1, level=1).corr()\n",
      "\n",
      "util.save(FIG_PATH.joinpath(\"accuracy-all\"), ext=[\"png\", \"pdf\"], close=False)"
     ],
     "language": "python",
     "metadata": {},
     "outputs": []
    },
    {
     "cell_type": "markdown",
     "metadata": {},
     "source": [
      "## Practice effects"
     ]
    },
    {
     "cell_type": "markdown",
     "metadata": {},
     "source": [
      "Plot response time as a function of trial, and compute the associated\n",
      "correlation."
     ]
    },
    {
     "cell_type": "code",
     "collapsed": false,
     "input": [
      "def bootcorr(x, y, nsamples=1000):\n",
      "    arr1 = np.asarray(x)\n",
      "    arr2 = np.asarray(y)\n",
      "    assert arr1.shape == arr2.shape\n",
      "    n, = arr1.shape\n",
      "    boot_idx = np.random.randint(0, n, n*nsamples)\n",
      "    boot_arr1 = arr1[boot_idx].reshape((n, nsamples))\n",
      "    boot_arr2 = arr2[boot_idx].reshape((n, nsamples))\n",
      "    boot_corr = np.empty(nsamples)\n",
      "    for i in xrange(nsamples):\n",
      "        boot_corr[i] = np.corrcoef(boot_arr1[:, i], boot_arr2[:, i])[1, 0]\n",
      "    stats = pd.Series(\n",
      "        np.percentile(boot_corr, [2.5, 50, 97.5]),\n",
      "        index=['lower', 'median', 'upper'])\n",
      "    return stats"
     ],
     "language": "python",
     "metadata": {},
     "outputs": []
    },
    {
     "cell_type": "code",
     "collapsed": false,
     "input": [
      "def corr_time(df, name):\n",
      "    trials = df[df['correct']]['trial'].drop_duplicates()\n",
      "    trials.sort()\n",
      "    times = df[df['correct']]\\\n",
      "        .groupby('trial')['ztime']\\\n",
      "        .apply(bootstrap)\\\n",
      "        .unstack(-1)['median']\n",
      "\n",
      "    corr = bootcorr(trials, times)\n",
      "    print \"correlation (%s): %.2f [%.2f, %.2f]\" % (\n",
      "        name, corr['median'], corr['lower'], corr['upper'])\n",
      "\n",
      "    return trials, times, corr\n",
      "\n",
      "corr_time(expA, \"part A\")\n",
      "corr_time(expB, \"part B\")\n",
      "trials, times, corr = corr_time(exp, \"all\")"
     ],
     "language": "python",
     "metadata": {},
     "outputs": []
    },
    {
     "cell_type": "code",
     "collapsed": false,
     "input": [
      "fig, ax = plt.subplots()\n",
      "ax.plot(np.asarray(trials), np.asarray(times), 'ko')\n",
      "ax.set_xlim(1, 200)\n",
      "ax.set_xlabel(\"Trial\", fontsize=14)\n",
      "ax.set_ylabel(\"Response time (z-scored)\", fontsize=14)\n",
      "util.clear_right(ax)\n",
      "util.clear_top(ax)\n",
      "util.outward_ticks(ax)\n",
      "fig.set_figwidth(4.5)\n",
      "plt.tight_layout()\n",
      "\n",
      "util.save(FIG_PATH.joinpath(\"trial-vs-time\"), ext=[\"png\", \"pdf\"], close=False)"
     ],
     "language": "python",
     "metadata": {},
     "outputs": []
    },
    {
     "cell_type": "markdown",
     "metadata": {},
     "source": [
      "Plot accuracy as a function of trial, and compute the associated\n",
      "correlation."
     ]
    },
    {
     "cell_type": "code",
     "collapsed": false,
     "input": [
      "def corr_acc(df, name):\n",
      "    trials = df['trial'].drop_duplicates()\n",
      "    trials.sort()\n",
      "    acc = df.groupby('trial')['correct']\\\n",
      "            .apply(beta)\\\n",
      "            .unstack(-1)['median']\n",
      "\n",
      "    corr = bootcorr(trials, acc)\n",
      "    print \"correlation (%s): %.2f [%.2f, %.2f]\" % (\n",
      "        name, corr['median'], corr['lower'], corr['upper'])\n",
      "\n",
      "    return trials, acc, corr\n",
      "\n",
      "corr_acc(expA, \"part A\")\n",
      "corr_acc(expB, \"part B\")\n",
      "trials, acc, corr = corr_acc(exp, \"all\")"
     ],
     "language": "python",
     "metadata": {},
     "outputs": []
    },
    {
     "cell_type": "code",
     "collapsed": false,
     "input": [
      "fig, ax = plt.subplots()\n",
      "ax.plot(np.asarray(trials), np.asarray(acc), 'ko')\n",
      "ax.set_xlim(1, 200)\n",
      "ax.set_ylim(0.7, 1.0)\n",
      "ax.set_xlabel(\"Trial\", fontsize=14)\n",
      "ax.set_ylabel(\"Accuracy (fraction correct)\", fontsize=14)\n",
      "util.clear_right(ax)\n",
      "util.clear_top(ax)\n",
      "util.outward_ticks(ax)\n",
      "\n",
      "fig.set_figwidth(4.5)\n",
      "plt.tight_layout()\n",
      "\n",
      "util.save(FIG_PATH.joinpath(\"trial-vs-accuracy\"), ext=[\"png\", \"pdf\"], close=False)"
     ],
     "language": "python",
     "metadata": {},
     "outputs": []
    },
    {
     "cell_type": "markdown",
     "metadata": {},
     "source": [
      "## Response time vs accuracy"
     ]
    },
    {
     "cell_type": "code",
     "collapsed": false,
     "input": [
      "groups = expB.groupby(['stimulus', 'theta', 'flipped'])\n",
      "time = groups['ztime'].mean()\n",
      "acc = groups['correct'].mean()"
     ],
     "language": "python",
     "metadata": {},
     "outputs": []
    },
    {
     "cell_type": "code",
     "collapsed": false,
     "input": [
      "fig, ax = plt.subplots()\n",
      "ax.errorbar(time, acc, linestyle='', marker='o', color='k')\n",
      "ax.set_xlabel(\"Response time (z-scored)\", fontsize=14)\n",
      "ax.set_ylabel(\"Accuracy (fraction correct)\", fontsize=14)\n",
      "util.clear_right(ax)\n",
      "util.clear_top(ax)\n",
      "util.outward_ticks(ax)\n",
      "\n",
      "fig.set_figwidth(4.5)\n",
      "plt.tight_layout()\n",
      "\n",
      "util.save(FIG_PATH.joinpath(\"time-vs-accuracy\"), ext=[\"png\", \"pdf\"], close=False)"
     ],
     "language": "python",
     "metadata": {},
     "outputs": []
    }
   ],
   "metadata": {}
  }
 ]
}