{
 "metadata": {
  "name": "bq_var"
 },
 "nbformat": 3,
 "nbformat_minor": 0,
 "worksheets": [
  {
   "cells": [
    {
     "cell_type": "markdown",
     "metadata": {},
     "source": [
      "# Bayesian Quadrature: Variance Derivation"
     ]
    },
    {
     "cell_type": "markdown",
     "metadata": {},
     "source": [
      "We want to compute Equation 10 from \\cite{Osborne:2012tm}:\n",
      "$$V_Z = \\int\\int m_\\ell(x)C_{\\log \\ell}(x, x^\\prime)m_\\ell(x^\\prime)p(x)p(x^\\prime)\\ \\mathrm{d}x\\ \\mathrm{d}x^\\prime$$"
     ]
    },
    {
     "cell_type": "markdown",
     "metadata": {},
     "source": [
      "Because in practice \\cite{Osborne:2012tm} actually use the transform $\\log\\left(\\frac{\\ell(x)}{\\gamma} + 1\\right)$, this becomes:\n",
      "$$V_Z = \\int\\int (m_\\ell(x)+\\gamma)C_{\\log \\ell}(x, x^\\prime)(m_\\ell(x^\\prime)+\\gamma)p(x)p(x^\\prime)\\ \\mathrm{d}x\\ \\mathrm{d}x^\\prime.$$"
     ]
    },
    {
     "cell_type": "markdown",
     "metadata": {},
     "source": [
      "This quantity expands out into three terms:\n",
      "$$V_Z=E[m_\\ell C_{\\log\\ell}m_\\ell] + 2\\gamma E[m_\\ell C_{\\log\\ell}] + \\gamma^2 E[C_{\\log\\ell}],$$\n",
      "where:\n",
      "$$\n",
      "\\begin{align*}\n",
      "E[m_\\ell C_{\\log\\ell}m_\\ell] &= \\int\\int m_\\ell(x)C_{\\log \\ell}(x, x^\\prime)m_\\ell(x^\\prime)p(x)p(x^\\prime)\\ \\mathrm{d}x\\ \\mathrm{d}x^\\prime\\\\\\\\\n",
      "E[m_\\ell C_{\\log\\ell}] &= \\int\\int m_\\ell(x)C_{\\log\\ell}(x, x^\\prime)p(x)p(x^\\prime)\\ \\mathrm{d}x\\ \\mathrm{d}x^\\prime\\\\\\\\\n",
      "E[C_{\\log\\ell}] &= \\int\\int C_{\\log\\ell}(x, x^\\prime)p(x)p(x^\\prime)\\ \\mathrm{d}x\\ \\mathrm{d}x^\\prime.\n",
      "\\end{align*}\n",
      "$$\n",
      "\n",
      "These three terms are further expanded below."
     ]
    },
    {
     "cell_type": "markdown",
     "metadata": {},
     "source": [
      "## First Term"
     ]
    },
    {
     "cell_type": "markdown",
     "metadata": {},
     "source": [
      "We expand the first term to obtain:\n",
      "$$\n",
      "\\begin{align*}\n",
      "E[m_\\ell C_{\\log\\ell}m_\\ell] &= \\int \\int \\left(K_\\ell(x, x_s)K(x_s, x_s)^{-1}\\ell(x_s)\\right)\\left(K_{\\log\\ell}(x, x^\\prime)-K_{\\log\\ell}(x, x_s)K_{\\log\\ell}(x_s, x_s)^{-1}K_{\\log\\ell}(x_s, x^\\prime)\\right)\\left(K_\\ell(x^\\prime, x_s)K(x_s, x_s)^{-1}\\ell(x_s)\\right)p(x)p(x^\\prime)\\ \\mathrm{d}x\\ \\mathrm{d}x^\\prime\\\\\\\\\n",
      "&= \\int \\int \\left(K_\\ell(x, x_s)\\alpha_\\ell(x_s)\\right)\\left(K_{\\log\\ell}(x, x^\\prime)-K_{\\log\\ell}(x, x_s)K_{\\log\\ell}(x_s, x_s)^{-1}K_{\\log\\ell}(x_s, x^\\prime)\\right)\\left(K_\\ell(x^\\prime, x_s)\\alpha_\\ell(x_s)\\right)p(x)p(x^\\prime)\\ \\mathrm{d}x\\ \\mathrm{d}x^\\prime\\\\\\\\\n",
      "&= \\int \\int \\left(K_\\ell(x, x_s)\\alpha_\\ell(x_s)\\right)K_{\\log\\ell}(x, x^\\prime)\\left(K_\\ell(x^\\prime, x_s)\\alpha_\\ell(x_s)\\right)p(x)p(x^\\prime)\\ \\mathrm{d}x\\ \\mathrm{d}x^\\prime\\\\\\\\\n",
      "&\\ \\ \\ \\ - \\int \\int \\left(K_\\ell(x, x_s)\\alpha_\\ell(x_s)\\right) K_{\\log\\ell}(x, x_s)K_{\\log\\ell}(x_s, x_s)^{-1}K_{\\log\\ell}(x_s, x^\\prime)\\left(K_\\ell(x^\\prime, x_s)\\alpha_\\ell(x_s)\\right)p(x)p(x^\\prime)\\ \\mathrm{d}x\\ \\mathrm{d}x^\\prime,\n",
      "\\end{align*}\n",
      "$$\n",
      "where $\\alpha_\\ell(x_s)=K_\\ell(x_s, x_s)^{-1}\\ell(x_s)$."
     ]
    },
    {
     "cell_type": "markdown",
     "metadata": {},
     "source": [
      "The first part of this is:\n",
      "$$\n",
      "\\begin{align*}\n",
      "\\int \\int &\\left(K_\\ell(x, x_s)\\alpha_\\ell(x_s)\\right)K_{\\log\\ell}(x, x^\\prime)\\left(K_\\ell(x^\\prime, x_s)\\alpha_\\ell(x_s)\\right)p(x)p(x^\\prime)\\ \\mathrm{d}x\\ \\mathrm{d}x^\\prime\\\\\\\\\n",
      "&= \\alpha_\\ell(x_s)^\\top \\left(\\int\\int K_\\ell(x_s, x)K_{\\log\\ell}(x, x^\\prime)K_\\ell(x^\\prime, x_s)p(x)p(x^\\prime)\\ \\mathrm{d}x\\ \\mathrm{d}x^\\prime\\right)\\alpha_\\ell(x_s)\n",
      "\\end{align*}\n",
      "$$"
     ]
    },
    {
     "cell_type": "markdown",
     "metadata": {},
     "source": [
      "Assuming the kernels are Gaussian kernels, and $p(x)$ is also Gaussian\n",
      "with mean $\\mu$ and covariance $\\Sigma$, we can derive this integral\n",
      "analytically. For readability, let $a=x_s$, $b=x$, and\n",
      "$c=x^\\prime$. Then:\n",
      "$$\n",
      "\\begin{align*}\n",
      "\\int\\int & K_\\ell(a_{i}, b)K_{\\log\\ell}(b, c)K_\\ell(c, a_{j})p(b)p(c)\\ \\mathrm{d}b\\ \\mathrm{d}c\\\\\\\\ \n",
      "&= h_1^4 h_2^2 \\int\\int \\mathcal{N}\\left(a_{i}\\ \\big\\vert\\  b, W_\\ell\\right)\\mathcal{N}\\left(b\\ \\big\\vert\\  c, W_{\\log\\ell}\\right)\\mathcal{N}\\left(c\\ \\big\\vert\\  a_{j}, W_\\ell\\right)\\mathcal{N}\\left(b\\ \\big\\vert\\  \\mu, \\Sigma\\right)\\mathcal{N}\\left(c\\ \\big\\vert\\  \\mu, \\Sigma\\right)\\ \\mathrm{d}b\\ \\mathrm{d}c\\\\\\\\\n",
      "\\end{align*}\n",
      "$$\n",
      "\n",
      "From \\cite{Osborne:yQQnLKg-}, we have:\n",
      "\n",
      "$$\\mathcal{N}\\left(a_{i}\\ \\big\\vert\\  b, W_\\ell\\right)\\mathcal{N}\\left(b\\ \\big\\vert\\  \\mu, \\Sigma\\right) = \\mathcal{N}\\left(a_{i}\\ \\big\\vert\\  \\mu, W_\\ell + \\Sigma\\right)\\mathcal{N}\\left(b\\ \\big\\vert\\  \\mu + \\Gamma(a_{i}-\\mu), \\Sigma -\\Gamma\\Sigma\\right),$$\n",
      "\n",
      "where $\\Gamma = \\Sigma(W_\\ell + \\Sigma)^{-1}$. Using this identity for both $a_{i}$ and $a_{j}$, we obtain:\n",
      "\n",
      "$$= h_1^4 h_2^2 \\mathcal{N}\\left(a_{i}\\ \\big\\vert\\  \\mu, W_\\ell + \\Sigma\\right)\\mathcal{N}\\left(a_{j}\\ \\big\\vert\\  \\mu, W_\\ell+\\Sigma\\right)\\int \\mathcal{N}\\left(b\\ \\big\\vert\\  \\mu + \\Gamma(a_{i}-\\mu), \\Sigma -\\Gamma\\Sigma\\right)\\int \\mathcal{N}\\left(b-c\\ \\big\\vert\\  0, W_{\\log\\ell}\\right)\\mathcal{N}\\left(c\\ \\big\\vert\\  \\mu + \\Gamma(a_{j}-\\mu), \\Sigma -\\Gamma\\Sigma\\right)\\ \\mathrm{d}b\\ \\mathrm{d}c$$\n",
      "\n",
      "The second integral is a convolution, giving us:\n",
      "$$= h_1^4 h_2^2 \\mathcal{N}\\left(a_{i}\\ \\big\\vert\\  \\mu, W_\\ell + \\Sigma\\right)\\mathcal{N}\\left(a_{j}\\ \\big\\vert\\  \\mu, W_\\ell+\\Sigma\\right)\\int \\mathcal{N}\\left(b\\ \\big\\vert\\  \\mu + \\Gamma(a_{i}-\\mu), \\Sigma -\\Gamma\\Sigma\\right) \\mathcal{N}\\left(b\\ \\big\\vert\\  \\mu + \\Gamma(a_{j}-\\mu), W_{\\log\\ell} + \\Sigma -\\Gamma\\Sigma\\right)\\ \\mathrm{d}b$$\n",
      "\n",
      "This can also be rewritten in convolution form:\n",
      "$$\n",
      "\\begin{align*}\n",
      "&= h_1^4 h_2^2 \\mathcal{N}\\left(a_{i}\\ \\big\\vert\\  \\mu, W_\\ell + \\Sigma\\right)\\mathcal{N}\\left(a_{j}\\ \\big\\vert\\  \\mu, W_\\ell+\\Sigma\\right)\\int \\mathcal{N}\\left(a_{i}-b\\ \\big\\vert\\  a_{i} - \\mu - \\Gamma(a_{i}-\\mu), \\Sigma -\\Gamma W_\\ell\\right) \\mathcal{N}\\left(b\\ \\big\\vert\\  \\mu + \\Gamma(a_{j}-\\mu), W_{\\log\\ell} + \\Sigma -\\Gamma W_\\ell\\right)\\ \\mathrm{d}b\\\\\\\\\n",
      "&= h_1^4 h_2^2 \\mathcal{N}\\left(a_{i}\\ \\big\\vert\\  \\mu, W_\\ell + \\Sigma\\right)\\mathcal{N}\\left(a_{j}\\ \\big\\vert\\  \\mu, W_\\ell+\\Sigma\\right) \\mathcal{N}\\left(a_{i}\\ \\big\\vert\\  a_{i} + \\Gamma(a_{j}-a_{i}), W_{\\log\\ell} + 2\\Sigma -2\\Gamma\\Sigma\\right)\\\\\\\\\n",
      "&= h_1^4 h_2^2 \\left\\vert \\Gamma\\right\\vert^{-1} \\mathcal{N}\\left(a_{i}\\ \\big\\vert\\  \\mu, W_\\ell + \\Sigma\\right)\\mathcal{N}\\left(a_{j}\\ \\big\\vert\\  \\mu, W_\\ell+\\Sigma\\right) \\mathcal{N}\\left(a_{i}\\ \\big\\vert\\ a_{j}, \\Gamma^{-1}(W_{\\log\\ell} + 2\\Sigma -2\\Gamma\\Sigma)\\Gamma^{-1}\\right)\n",
      "\\end{align*}\n",
      "$$"
     ]
    },
    {
     "cell_type": "markdown",
     "metadata": {},
     "source": [
      "And the second part is:\n",
      "$$\n",
      "\\begin{align*}\n",
      "- \\int \\int &\\left(K_\\ell(x, x_s)\\alpha_\\ell(x_s)\\right) K_{\\log\\ell}(x, x_s)K_{\\log\\ell}(x_s, x_s)^{-1}K_{\\log\\ell}(x_s, x^\\prime)\\left(K_\\ell(x^\\prime, x_s)\\alpha_\\ell(x_s)\\right)p(x)p(x^\\prime)\\ \\mathrm{d}x\\ \\mathrm{d}x^\\prime\\\\\\\\\n",
      "&= - \\int \\int \\left(K_\\ell(x, x_s)\\alpha_\\ell(x_s)\\right) K_{\\log\\ell}(x, x_s)\\left(L_{\\log\\ell}(x_s, x_s)^{-1}\\right)^\\top L_{\\log\\ell}(x_s, x_s)^{-1}K_{\\log\\ell}(x_s, x^\\prime)\\left(K_\\ell(x^\\prime, x_s)\\alpha_\\ell(x_s)\\right)p(x)p(x^\\prime)\\ \\mathrm{d}x\\ \\mathrm{d}x^\\prime\\\\\\\\\n",
      "&= - \\int \\int \\left(L_{\\log\\ell}(x_s, x_s)^{-1}K_{\\log\\ell}(x_s, x) K_\\ell(x, x_s)\\alpha_\\ell(x_s) \\right)^\\top \\left(L_{\\log\\ell}(x_s, x_s)^{-1}K_{\\log\\ell}(x_s, x^\\prime)K_\\ell(x^\\prime, x_s)\\alpha_\\ell(x_s)\\right)p(x)p(x^\\prime)\\ \\mathrm{d}x\\ \\mathrm{d}x^\\prime\\\\\\\\\n",
      "&= - \\left[L_{\\log\\ell}(x_s, x_s)^{-1}\\left(\\int K_{\\log\\ell}(x_s, x) K_\\ell(x, x_s)p(x)\\ \\mathrm{d}x \\right)\\alpha_\\ell(x_s)\\right]^\\top\\left[L_{\\log\\ell}(x_s, x_s)^{-1}\\left(\\int K_{\\log\\ell}(x_s, x) K_\\ell(x, x_s)p(x)\\ \\mathrm{d}x \\right)\\alpha_\\ell(x_s)\\right]\\\\\\\\\n",
      "&= -\\beta(x_s)^\\top\\beta(x_s),\n",
      "\\end{align*}\n",
      "$$\n",
      "where $\\beta(x_s)=L_{\\log\\ell}(x_s, x_s)^{-1}\\left(\\int K_{\\log\\ell}(x_s, x) K_\\ell(x, x_s)p(x)\\ \\mathrm{d}x \\right)\\alpha_\\ell(x_s)$ and $L_{\\log\\ell}(x_s, x_s)$ is the Cholesky decomposition of $K_{\\log\\ell}(x_s, x_s)$."
     ]
    },
    {
     "cell_type": "markdown",
     "metadata": {},
     "source": [
      "Putting these together, we obtain:\n",
      "$$E[m_\\ell C_{\\log\\ell}m_\\ell]=\\alpha_\\ell(x_s)^\\top \\left(\\int\\int K_\\ell(x_s, x)K_{\\log\\ell}(x, x^\\prime)K_\\ell(x^\\prime, x_s)p(x)p(x^\\prime)\\ \\mathrm{d}x\\ \\mathrm{d}x^\\prime\\right)\\alpha_\\ell(x_s)-\\beta(x_s)^\\top\\beta(x_s)$$"
     ]
    },
    {
     "cell_type": "markdown",
     "metadata": {},
     "source": [
      "## Second Term"
     ]
    },
    {
     "cell_type": "markdown",
     "metadata": {},
     "source": [
      "The second term also expands into two parts:\n",
      "$$\n",
      "\\begin{align*}\n",
      "E[m_\\ell C_{\\log\\ell}] &= \\int\\int m_\\ell(x)C_{\\log\\ell}(x, x^\\prime)p(x)p(x^\\prime)\\ \\mathrm{d}x\\ \\mathrm{d}x^\\prime\\\\\\\\\n",
      "&= \\int\\int K_\\ell(x, x_s)K_\\ell(x_s, x_s)^{-1}\\ell(x_s)\\left(K_{\\log\\ell}(x, x^\\prime) - K_{\\log\\ell}(x, x_s)K_{\\log\\ell}(x_s, x_s)^{-1}K_{\\log\\ell}(x_s, x^\\prime)\\right)p(x)p(x^\\prime)\\ \\mathrm{d}x\\ \\mathrm{d}x^\\prime\\\\\\\\\n",
      "&= \\int\\int K_{\\log\\ell}(x^\\prime, x)K_\\ell(x, x_s)K_\\ell(x_s, x_s)^{-1}\\ell(x_s)p(x)p(x^\\prime)\\ \\mathrm{d}x\\ \\mathrm{d}x^\\prime - \\int\\int K_{\\log\\ell}(x^\\prime, x_s)K_{\\log\\ell}(x_s, x_s)^{-1}K_{\\log\\ell}(x_s, x)K_\\ell(x, x_s)K_\\ell(x_s, x_s)^{-1}\\ell(x_s)p(x)p(x^\\prime)\\ \\mathrm{d}x\\ \\mathrm{d}x^\\prime\n",
      "\\end{align*}\n",
      "$$"
     ]
    },
    {
     "cell_type": "markdown",
     "metadata": {},
     "source": [
      "The first part is just:\n",
      "$$\n",
      "\\begin{align*}\n",
      "\\int\\int & K_{\\log\\ell}(x^\\prime, x)K_\\ell(x, x_s)K_\\ell(x_s, x_s)^{-1}\\ell(x_s)p(x)p(x^\\prime)\\ \\mathrm{d}x\\ \\mathrm{d}x^\\prime\\\\\\\\\n",
      "&= \\left(\\int\\int K_{\\log\\ell}(x^\\prime, x)K_\\ell(x, x_s)p(x)p(x^\\prime)\\ \\mathrm{d}x\\ \\mathrm{d}x^\\prime\\right) \\alpha_\\ell(x_s)\n",
      "\\end{align*}\n",
      "$$"
     ]
    },
    {
     "cell_type": "markdown",
     "metadata": {},
     "source": [
      "The second part is:\n",
      "$$\n",
      "\\begin{align*}\n",
      "- \\int\\int & K_{\\log\\ell}(x^\\prime, x_s)K_{\\log\\ell}(x_s, x_s)^{-1}K_{\\log\\ell}(x_s, x)K_\\ell(x, x_s)K_\\ell(x_s, x_s)^{-1}\\ell(x_s)p(x)p(x^\\prime)\\ \\mathrm{d}x\\ \\mathrm{d}x^\\prime\\\\\\\\\n",
      "&= - \\left(\\int\\int K_{\\log\\ell}(x^\\prime, x_s)K_{\\log\\ell}(x_s, x_s)^{-1}K_{\\log\\ell}(x_s, x)K_\\ell(x, x_s)p(x)p(x^\\prime)\\ \\mathrm{d}x\\ \\mathrm{d}x^\\prime\\right)\\alpha_\\ell(x_s)\\\\\\\\\n",
      "&= - \\left(\\int K_{\\log\\ell}(x, x_s)K_{\\log\\ell}(x_s, x_s)^{-1}p(x)\\ \\mathrm{d}x\\right)\\left(\\int K_{\\log\\ell}(x_s, x)K_\\ell(x, x_s)p(x)\\ \\mathrm{d}x\\right)\\alpha_\\ell(x_s)\\\\\\\\\n",
      "&= - \\left(\\int K_{\\log\\ell}(x, x_s)p(x)\\ \\mathrm{d}x\\right)K_{\\log\\ell}(x_s, x_s)^{-1}\\left(\\int K_{\\log\\ell}(x_s, x)K_\\ell(x, x_s)p(x)\\ \\mathrm{d}x\\right)\\alpha_\\ell(x_s)\n",
      "\\end{align*}\n",
      "$$"
     ]
    },
    {
     "cell_type": "markdown",
     "metadata": {},
     "source": [
      "Putting these together, we get:\n",
      "$$E[m_\\ell C_{\\log\\ell}]=\\left[\\int\\int K_{\\log\\ell}(x^\\prime, x)K_\\ell(x, x_s)p(x)p(x^\\prime)\\ \\mathrm{d}x\\ \\mathrm{d}x^\\prime-\\left(\\int K_{\\log\\ell}(x, x_s)p(x)\\ \\mathrm{d}x\\right)K_{\\log\\ell}(x_s, x_s)^{-1}\\left(\\int K_{\\log\\ell}(x_s, x)K_\\ell(x, x_s)p(x)\\ \\mathrm{d}x\\right)\\right]\\alpha_\\ell(x_s)$$"
     ]
    },
    {
     "cell_type": "markdown",
     "metadata": {},
     "source": [
      "## Third Term"
     ]
    },
    {
     "cell_type": "markdown",
     "metadata": {},
     "source": [
      "The third term is:\n",
      "$$\n",
      "\\begin{align*}\n",
      "E[C_{\\log\\ell}] &= \\int\\int C_{\\log\\ell}(x, x^\\prime)p(x)p(x^\\prime)\\ \\mathrm{d}x\\ \\mathrm{d}x^\\prime\\\\\\\\\n",
      "&= \\int\\int \\left(K_{\\log\\ell}(x, x^\\prime) - K_{\\log\\ell}(x, x_s)K_{\\log\\ell}(x_s, x_s)^{-1}K_{\\log\\ell}(x_s, x^\\prime)\\right)p(x)p(x^\\prime)\\ \\mathrm{d}x\\ \\mathrm{d}x^\\prime\\\\\\\\\n",
      "&= \\int\\int K_{\\log\\ell}(x, x^\\prime)p(x)p(x^\\prime)\\ \\mathrm{d}x\\ \\mathrm{d}x^\\prime - \\int\\int K_{\\log\\ell}(x, x_s)K_{\\log\\ell}(x_s, x_s)^{-1}K_{\\log\\ell}(x_s, x^\\prime)p(x)p(x^\\prime)\\ \\mathrm{d}x\\ \\mathrm{d}x^\\prime\\\\\\\\\n",
      "&= \\int\\int K_{\\log\\ell}(x, x^\\prime)p(x)p(x^\\prime)\\ \\mathrm{d}x\\ \\mathrm{d}x^\\prime - \\left(\\int K_{\\log\\ell}(x, x_s)p(x)\\ \\mathrm{d}x\\right)K_{\\log\\ell}(x_s, x_s)^{-1}\\left(\\int K_{\\log\\ell}(x, x_s)p(x)\\ \\mathrm{d}x\\right)^\\top\n",
      "\\end{align*}\n",
      "$$"
     ]
    },
    {
     "cell_type": "markdown",
     "metadata": {},
     "source": [
      "## Variance Correction"
     ]
    },
    {
     "cell_type": "markdown",
     "metadata": {},
     "source": [
      "We adjust the covariance $C_{\\log\\ell}(x, x^\\prime)$ as follows:\n",
      "$$\\tilde{C}_{\\log\\ell}(x, x^\\prime) &= C_{\\log\\ell}(x, x^\\prime)-\\frac{\\partial m_{\\log\\ell}(x)}{\\partial\\hat{w}}C_\\hat{w}\\frac{\\partial m_{\\log\\ell}(x^\\prime)}{\\partial\\hat{w}}^\\top$$"
     ]
    },
    {
     "cell_type": "markdown",
     "metadata": {},
     "source": [
      "This requires that we adjust the previously calculated variance by a correction factor:\n",
      "$$\n",
      "\\begin{align*}\n",
      "\\epsilon &= -\\int\\int (m_\\ell(x) + \\gamma)\\frac{\\partial m_{\\log\\ell}(x)}{\\partial\\hat{w}}C_{\\hat{w}}\\frac{\\partial m_{\\log\\ell}(x^\\prime)}{\\partial\\hat{w}}^\\top(m_\\ell(x^\\prime) + \\gamma)^\\top p(x)p(x^\\prime)\\ \\mathrm{d}x\\ \\mathrm{d}x^\\prime\\\\\\\\\n",
      "&= -\\left(\\int (m_\\ell(x) + \\gamma)\\frac{\\partial m_{\\log\\ell}(x)}{\\partial\\hat{w}}p(x)\\ \\mathrm{d}x\\right)C_{\\hat{w}}\\left(\\int (m_\\ell(x) + \\gamma)\\frac{\\partial m_{\\log\\ell}(x)}{\\partial\\hat{w}}p(x)\\ \\mathrm{d}x\\right)^\\top\\\\\\\\\n",
      "&= -\\nu C_{\\hat{w}} \\nu^\\top\n",
      "\\end{align*}\n",
      "$$"
     ]
    },
    {
     "cell_type": "markdown",
     "metadata": {},
     "source": [
      "Where $\\nu$ is defined as:\n",
      "$$\n",
      "\\begin{align*}\n",
      "\\nu &= \\int (m_\\ell(x) + \\gamma)\\frac{\\partial m_{\\log\\ell}(x)}{\\partial\\hat{w}}p(x)\\ \\mathrm{d}x\\\\\\\\\n",
      "&= \\int m_\\ell(x)\\frac{\\partial m_{\\log\\ell}(x)}{\\partial\\hat{w}}p(x)\\ \\mathrm{d}x + \\gamma\\int \\frac{\\partial m_{\\log\\ell}(x)}{\\partial\\hat{w}}p(x)\\ \\mathrm{d}x\n",
      "\\end{align*}\n",
      "$$"
     ]
    },
    {
     "cell_type": "markdown",
     "metadata": {},
     "source": [
      "The derivative of the mean with respect to $\\hat{w}$ is:\n",
      "$$\n",
      "\\begin{align*}\n",
      "\\frac{\\partial m_{\\log\\ell}(x)}{\\partial\\hat{w}} &= \\frac{\\partial K_{\\log\\ell}(x, x_s)}{\\partial\\hat{w}}K_{\\log\\ell}(x_s, x_s)^{-1}\\log\\ell(x_s) - K_{\\log\\ell}(x, x_s)K_{\\log\\ell}(x_s, x_s)^{-1}\\frac{\\partial K_{\\log\\ell}(x_s, x_s)}{\\partial\\hat{w}}K_{\\log\\ell}(x_s, x_s)^{-1}\\log\\ell(x_s)\\\\\\\\\n",
      "&= \\frac{\\partial K_{\\log\\ell}(x, x_s)}{\\partial\\hat{w}}\\alpha_{\\log\\ell}(x_s) - K_{\\log\\ell}(x, x_s)K_{\\log\\ell}(x_s, x_s)^{-1}\\frac{\\partial K_{\\log\\ell}(x_s, x_s)}{\\partial\\hat{w}}\\alpha_{\\log\\ell}(x_s)\n",
      "\\end{align*}\n",
      "$$"
     ]
    },
    {
     "cell_type": "markdown",
     "metadata": {},
     "source": [
      "So the first term of $\\nu$ becomes:\n",
      "$$\n",
      "\\begin{align*}\n",
      "\\int & K_\\ell(x,x_s)\\alpha_\\ell(x_s)\\frac{\\partial K_{\\log\\ell}(x, x_s)}{\\partial\\hat{w}}\\alpha_{\\log\\ell}(x_s)p(x)\\ \\mathrm{d}x - \\int K_\\ell(x,x_s)\\alpha_\\ell(x_s)K_{\\log\\ell}(x, x_s)K_{\\log\\ell}(x_s, x_s)^{-1}\\frac{\\partial K_{\\log\\ell}(x_s, x_s)}{\\partial\\hat{w}}\\alpha_{\\log\\ell}(x_s)p(x)\\ \\mathrm{d}x\\\\\\\\\n",
      "&= \\alpha_\\ell(x_s)^\\top \\left[\\int K_\\ell(x_s,x)\\frac{\\partial K_{\\log\\ell}(x, x_s)}{\\partial\\hat{w}}p(x)\\ \\mathrm{d}x - \\left(\\int K_\\ell(x_s,x)K_{\\log\\ell}(x, x_s)p(x)\\ \\mathrm{d}x\\right)K_{\\log\\ell}(x_s, x_s)^{-1}\\frac{\\partial K_{\\log\\ell}(x_s, x_s)}{\\partial\\hat{w}}\\right] \\alpha_{\\log\\ell}(x_s)\\\\\\\\\n",
      "&= \\alpha_\\ell(x_s)^\\top \\left[\\int K_\\ell(x_s,x)\\frac{\\partial K_{\\log\\ell}(x, x_s)}{\\partial\\hat{w}}p(x)\\ \\mathrm{d}x - \\left(\\int K_\\ell(x_s,x)K_{\\log\\ell}(x, x_s)p(x)\\ \\mathrm{d}x\\right)\\zeta(x_s)\\right] \\alpha_{\\log\\ell}(x_s),\n",
      "\\end{align*}\n",
      "$$\n",
      "where $\\zeta(x_s)=K_{\\log\\ell}(x_s, x_s)^{-1}\\frac{\\partial K_{\\log\\ell}(x_s, x_s)}{\\partial\\hat{w}}$."
     ]
    },
    {
     "cell_type": "markdown",
     "metadata": {},
     "source": [
      "And the second term of $\\nu$ becomes:\n",
      "$$\n",
      "\\begin{align*}\n",
      "\\gamma\\int &\\frac{\\partial m_{\\log\\ell}(x)}{\\partial\\hat{w}}p(x)\\ \\mathrm{d}x\\\\\\\\\n",
      "&= \\gamma \\left(\\int\\frac{\\partial K_{\\log\\ell}(x, x_s)}{\\partial\\hat{w}}\\alpha_{\\log\\ell}(x_s)p(x)\\ \\mathrm{d}x - \\int K_{\\log\\ell}(x, x_s)\\zeta(x_s)\\alpha_{\\log\\ell}(x_s)p(x)\\ \\mathrm{d}x\\right)\\\\\\\\\n",
      "&= \\gamma \\left[\\int\\frac{\\partial K_{\\log\\ell}(x, x_s)}{\\partial\\hat{w}}p(x)\\ \\mathrm{d}x - \\left(\\int K_{\\log\\ell}(x, x_s)p(x)\\ \\mathrm{d}x\\right) \\zeta(x_s)\\right]\\alpha_{\\log\\ell}(x_s)\n",
      "\\end{align*}\n",
      "$$"
     ]
    }
   ],
   "metadata": {}
  }
 ]
}