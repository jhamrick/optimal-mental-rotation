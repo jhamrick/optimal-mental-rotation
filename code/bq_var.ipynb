{
 "metadata": {
  "name": "bq_var"
 },
 "nbformat": 3,
 "nbformat_minor": 0,
 "worksheets": [
  {
   "cells": [
    {
     "cell_type": "markdown",
     "metadata": {},
     "source": [
      "# Bayesian Quadrature: Variance Derivation"
     ]
    },
    {
     "cell_type": "markdown",
     "metadata": {},
     "source": [
      "We want to compute Equation 10 from \\cite{Osborne:2012tm}:\n",
      "$$V_Z = \\int\\int m_\\ell(x)C_{\\log \\ell}(x, x^\\prime)m_\\ell(x^\\prime)p(x)p(x^\\prime)\\ \\mathrm{d}x\\ \\mathrm{d}x^\\prime$$"
     ]
    },
    {
     "cell_type": "markdown",
     "metadata": {},
     "source": [
      "Because in practice \\cite{Osborne:2012tm} actually use the transform $\\log\\left(\\frac{\\ell(x)}{\\gamma} + 1\\right)$, this becomes:\n",
      "$$V_Z = \\int\\int (m_\\ell(x)+\\gamma)C_{\\log \\ell}(x, x^\\prime)(m_\\ell(x^\\prime)+\\gamma)p(x)p(x^\\prime)\\ \\mathrm{d}x\\ \\mathrm{d}x^\\prime.$$"
     ]
    },
    {
     "cell_type": "markdown",
     "metadata": {},
     "source": [
      "This quantity expands out into three terms:\n",
      "$$V_Z=E[m_\\ell C_{\\log\\ell}m_\\ell] + 2\\gamma E[m_\\ell C_{\\log\\ell}] + \\gamma^2 E[C_{\\log\\ell}],$$\n",
      "where:\n",
      "$$\n",
      "\\begin{align*}\n",
      "E[m_\\ell C_{\\log\\ell}m_\\ell] &= \\int\\int m_\\ell(x)C_{\\log \\ell}(x, x^\\prime)m_\\ell(x^\\prime)p(x)p(x^\\prime)\\ \\mathrm{d}x\\ \\mathrm{d}x^\\prime\\\\\\\\\n",
      "E[m_\\ell C_{\\log\\ell}] &= \\int\\int m_\\ell(x)C_{\\log\\ell}(x, x^\\prime)p(x)p(x^\\prime)\\ \\mathrm{d}x\\ \\mathrm{d}x^\\prime\\\\\\\\\n",
      "E[C_{\\log\\ell}] &= \\int\\int C_{\\log\\ell}(x, x^\\prime)p(x)p(x^\\prime)\\ \\mathrm{d}x\\ \\mathrm{d}x^\\prime.\n",
      "\\end{align*}\n",
      "$$\n",
      "\n",
      "These three terms are further expanded below."
     ]
    },
    {
     "cell_type": "markdown",
     "metadata": {},
     "source": [
      "## First Term"
     ]
    },
    {
     "cell_type": "markdown",
     "metadata": {},
     "source": [
      "We expand the first term to obtain:\n",
      "$$\n",
      "\\begin{align*}\n",
      "E[m_\\ell C_{\\log\\ell}m_\\ell] &= \\int \\int \\left(K_\\ell(x, x_s)K(x_s, x_s)^{-1}\\ell(x_s)\\right)\\left(K_{\\log\\ell}(x, x^\\prime)-K_{\\log\\ell}(x, x_s)K_{\\log\\ell}(x_s, x_s)^{-1}K_{\\log\\ell}(x_s, x^\\prime)\\right)\\left(K_\\ell(x^\\prime, x_s)K(x_s, x_s)^{-1}\\ell(x_s)\\right)p(x)p(x^\\prime)\\ \\mathrm{d}x\\ \\mathrm{d}x^\\prime\\\\\\\\\n",
      "&= \\int \\int \\left(K_\\ell(x, x_s)\\alpha_\\ell(x_s)\\right)\\left(K_{\\log\\ell}(x, x^\\prime)-K_{\\log\\ell}(x, x_s)K_{\\log\\ell}(x_s, x_s)^{-1}K_{\\log\\ell}(x_s, x^\\prime)\\right)\\left(K_\\ell(x^\\prime, x_s)\\alpha_\\ell(x_s)\\right)p(x)p(x^\\prime)\\ \\mathrm{d}x\\ \\mathrm{d}x^\\prime\\\\\\\\\n",
      "&= \\int \\int \\left(K_\\ell(x, x_s)\\alpha_\\ell(x_s)\\right)K_{\\log\\ell}(x, x^\\prime)\\left(K_\\ell(x^\\prime, x_s)\\alpha_\\ell(x_s)\\right)p(x)p(x^\\prime)\\ \\mathrm{d}x\\ \\mathrm{d}x^\\prime\\\\\\\\\n",
      "&\\ \\ \\ \\ - \\int \\int \\left(K_\\ell(x, x_s)\\alpha_\\ell(x_s)\\right) K_{\\log\\ell}(x, x_s)K_{\\log\\ell}(x_s, x_s)^{-1}K_{\\log\\ell}(x_s, x^\\prime)\\left(K_\\ell(x^\\prime, x_s)\\alpha_\\ell(x_s)\\right)p(x)p(x^\\prime)\\ \\mathrm{d}x\\ \\mathrm{d}x^\\prime,\n",
      "\\end{align*}\n",
      "$$\n",
      "where $\\alpha_\\ell(x_s)=K_\\ell(x_s, x_s)^{-1}\\ell(x_s)$."
     ]
    },
    {
     "cell_type": "markdown",
     "metadata": {},
     "source": [
      "The first part of this is:\n",
      "$$\n",
      "\\begin{align*}\n",
      "\\int \\int &\\left(K_\\ell(x, x_s)\\alpha_\\ell(x_s)\\right)K_{\\log\\ell}(x, x^\\prime)\\left(K_\\ell(x^\\prime, x_s)\\alpha_\\ell(x_s)\\right)p(x)p(x^\\prime)\\ \\mathrm{d}x\\ \\mathrm{d}x^\\prime\\\\\\\\\n",
      "&= \\alpha_\\ell(x_s)^\\top \\left(\\int\\int K_\\ell(x_s, x)K_{\\log\\ell}(x, x^\\prime)K_\\ell(x^\\prime, x_s)p(x)p(x^\\prime)\\ \\mathrm{d}x\\ \\mathrm{d}x^\\prime\\right)\\alpha_\\ell(x_s)\n",
      "\\end{align*}\n",
      "$$"
     ]
    },
    {
     "cell_type": "markdown",
     "metadata": {},
     "source": [
      "And the second part is:\n",
      "$$\n",
      "\\begin{align*}\n",
      "- \\int \\int &\\left(K_\\ell(x, x_s)\\alpha_\\ell(x_s)\\right) K_{\\log\\ell}(x, x_s)K_{\\log\\ell}(x_s, x_s)^{-1}K_{\\log\\ell}(x_s, x^\\prime)\\left(K_\\ell(x^\\prime, x_s)\\alpha_\\ell(x_s)\\right)p(x)p(x^\\prime)\\ \\mathrm{d}x\\ \\mathrm{d}x^\\prime\\\\\\\\\n",
      "&= - \\int \\int \\left(K_\\ell(x, x_s)\\alpha_\\ell(x_s)\\right) K_{\\log\\ell}(x, x_s)\\left(L_{\\log\\ell}(x_s, x_s)^{-1}\\right)^\\top L_{\\log\\ell}(x_s, x_s)^{-1}K_{\\log\\ell}(x_s, x^\\prime)\\left(K_\\ell(x^\\prime, x_s)\\alpha_\\ell(x_s)\\right)p(x)p(x^\\prime)\\ \\mathrm{d}x\\ \\mathrm{d}x^\\prime\\\\\\\\\n",
      "&= - \\int \\int \\left(L_{\\log\\ell}(x_s, x_s)^{-1}K_{\\log\\ell}(x_s, x) K_\\ell(x, x_s)\\alpha_\\ell(x_s) \\right)^\\top \\left(L_{\\log\\ell}(x_s, x_s)^{-1}K_{\\log\\ell}(x_s, x^\\prime)K_\\ell(x^\\prime, x_s)\\alpha_\\ell(x_s)\\right)p(x)p(x^\\prime)\\ \\mathrm{d}x\\ \\mathrm{d}x^\\prime\\\\\\\\\n",
      "&= - \\left[L_{\\log\\ell}(x_s, x_s)^{-1}\\left(\\int K_{\\log\\ell}(x_s, x) K_\\ell(x, x_s)p(x)\\ \\mathrm{d}x \\right)\\alpha_\\ell(x_s)\\right]^\\top\\left[L_{\\log\\ell}(x_s, x_s)^{-1}\\left(\\int K_{\\log\\ell}(x_s, x) K_\\ell(x, x_s)p(x)\\ \\mathrm{d}x \\right)\\alpha_\\ell(x_s)\\right]\\\\\\\\\n",
      "&= -\\beta(x_s)^\\top\\beta(x_s),\n",
      "\\end{align*}\n",
      "$$\n",
      "where $\\beta(x_s)=L_{\\log\\ell}(x_s, x_s)^{-1}\\left(\\int K_{\\log\\ell}(x_s, x) K_\\ell(x, x_s)p(x)\\ \\mathrm{d}x \\right)\\alpha_\\ell(x_s)$ and $L_{\\log\\ell}(x_s, x_s)$ is the Cholesky decomposition of $K_{\\log\\ell}(x_s, x_s)$."
     ]
    },
    {
     "cell_type": "markdown",
     "metadata": {},
     "source": [
      "Putting these together, we obtain:\n",
      "$$E[m_\\ell C_{\\log\\ell}m_\\ell]=\\alpha_\\ell(x_s)^\\top \\left(\\int\\int K_\\ell(x_s, x)K_{\\log\\ell}(x, x^\\prime)K_\\ell(x^\\prime, x_s)p(x)p(x^\\prime)\\ \\mathrm{d}x\\ \\mathrm{d}x^\\prime\\right)\\alpha_\\ell(x_s)-\\beta(x_s)^\\top\\beta(x_s)$$"
     ]
    },
    {
     "cell_type": "markdown",
     "metadata": {},
     "source": [
      "## Second Term"
     ]
    },
    {
     "cell_type": "markdown",
     "metadata": {},
     "source": [
      "The second term also expands into two parts:\n",
      "$$\n",
      "\\begin{align*}\n",
      "E[m_\\ell C_{\\log\\ell}] &= \\int\\int m_\\ell(x)C_{\\log\\ell}(x, x^\\prime)p(x)p(x^\\prime)\\ \\mathrm{d}x\\ \\mathrm{d}x^\\prime\\\\\\\\\n",
      "&= \\int\\int K_\\ell(x, x_s)K_\\ell(x_s, x_s)^{-1}\\ell(x_s)\\left(K_{\\log\\ell}(x, x^\\prime) - K_{\\log\\ell}(x, x_s)K_{\\log\\ell}(x_s, x_s)^{-1}K_{\\log\\ell}(x_s, x^\\prime)\\right)p(x)p(x^\\prime)\\ \\mathrm{d}x\\ \\mathrm{d}x^\\prime\\\\\\\\\n",
      "&= \\int\\int K_{\\log\\ell}(x^\\prime, x)K_\\ell(x, x_s)K_\\ell(x_s, x_s)^{-1}\\ell(x_s)p(x)p(x^\\prime)\\ \\mathrm{d}x\\ \\mathrm{d}x^\\prime - \\int\\int K_{\\log\\ell}(x^\\prime, x_s)K_{\\log\\ell}(x_s, x_s)^{-1}K_{\\log\\ell}(x_s, x)K_\\ell(x, x_s)K_\\ell(x_s, x_s)^{-1}\\ell(x_s)p(x)p(x^\\prime)\\ \\mathrm{d}x\\ \\mathrm{d}x^\\prime\n",
      "\\end{align*}\n",
      "$$"
     ]
    },
    {
     "cell_type": "markdown",
     "metadata": {},
     "source": [
      "The first part is just:\n",
      "$$\n",
      "\\begin{align*}\n",
      "\\int\\int & K_{\\log\\ell}(x^\\prime, x)K_\\ell(x, x_s)K_\\ell(x_s, x_s)^{-1}\\ell(x_s)p(x)p(x^\\prime)\\ \\mathrm{d}x\\ \\mathrm{d}x^\\prime\\\\\\\\\n",
      "&= \\left(\\int\\int K_{\\log\\ell}(x^\\prime, x)K_\\ell(x, x_s)p(x)p(x^\\prime)\\ \\mathrm{d}x\\ \\mathrm{d}x^\\prime\\right) \\alpha_\\ell(x_s)\n",
      "\\end{align*}\n",
      "$$"
     ]
    },
    {
     "cell_type": "markdown",
     "metadata": {},
     "source": [
      "The second part is:\n",
      "$$\n",
      "\\begin{align*}\n",
      "- \\int\\int & K_{\\log\\ell}(x^\\prime, x_s)K_{\\log\\ell}(x_s, x_s)^{-1}K_{\\log\\ell}(x_s, x)K_\\ell(x, x_s)K_\\ell(x_s, x_s)^{-1}\\ell(x_s)p(x)p(x^\\prime)\\ \\mathrm{d}x\\ \\mathrm{d}x^\\prime\\\\\\\\\n",
      "&= - \\left(\\int\\int K_{\\log\\ell}(x^\\prime, x_s)K_{\\log\\ell}(x_s, x_s)^{-1}K_{\\log\\ell}(x_s, x)K_\\ell(x, x_s)p(x)p(x^\\prime)\\ \\mathrm{d}x\\ \\mathrm{d}x^\\prime\\right)\\alpha_\\ell(x_s)\\\\\\\\\n",
      "&= - \\left(\\int K_{\\log\\ell}(x, x_s)K_{\\log\\ell}(x_s, x_s)^{-1}p(x)\\ \\mathrm{d}x\\right)\\left(\\int K_{\\log\\ell}(x_s, x)K_\\ell(x, x_s)p(x)\\ \\mathrm{d}x\\right)\\alpha_\\ell(x_s)\\\\\\\\\n",
      "&= - \\left(\\int K_{\\log\\ell}(x, x_s)p(x)\\ \\mathrm{d}x\\right)K_{\\log\\ell}(x_s, x_s)^{-1}\\left(\\int K_{\\log\\ell}(x_s, x)K_\\ell(x, x_s)p(x)\\ \\mathrm{d}x\\right)\\alpha_\\ell(x_s)\n",
      "\\end{align*}\n",
      "$$"
     ]
    },
    {
     "cell_type": "markdown",
     "metadata": {},
     "source": [
      "Putting these together, we get:\n",
      "$$E[m_\\ell C_{\\log\\ell}]=\\left[\\int\\int K_{\\log\\ell}(x^\\prime, x)K_\\ell(x, x_s)p(x)p(x^\\prime)\\ \\mathrm{d}x\\ \\mathrm{d}x^\\prime-\\left(\\int K_{\\log\\ell}(x, x_s)p(x)\\ \\mathrm{d}x\\right)K_{\\log\\ell}(x_s, x_s)^{-1}\\left(\\int K_{\\log\\ell}(x_s, x)K_\\ell(x, x_s)p(x)\\ \\mathrm{d}x\\right)\\right]\\alpha_\\ell(x_s)$$"
     ]
    },
    {
     "cell_type": "markdown",
     "metadata": {},
     "source": [
      "## Third Term"
     ]
    },
    {
     "cell_type": "markdown",
     "metadata": {},
     "source": [
      "The third term is:\n",
      "$$\n",
      "\\begin{align*}\n",
      "E[C_{\\log\\ell}] &= \\int\\int C_{\\log\\ell}(x, x^\\prime)p(x)p(x^\\prime)\\ \\mathrm{d}x\\ \\mathrm{d}x^\\prime\\\\\\\\\n",
      "&= \\int\\int \\left(K_{\\log\\ell}(x, x^\\prime) - K_{\\log\\ell}(x, x_s)K_{\\log\\ell}(x_s, x_s)^{-1}K_{\\log\\ell}(x_s, x^\\prime)\\right)p(x)p(x^\\prime)\\ \\mathrm{d}x\\ \\mathrm{d}x^\\prime\\\\\\\\\n",
      "&= \\int\\int K_{\\log\\ell}(x, x^\\prime)p(x)p(x^\\prime)\\ \\mathrm{d}x\\ \\mathrm{d}x^\\prime - \\int\\int K_{\\log\\ell}(x, x_s)K_{\\log\\ell}(x_s, x_s)^{-1}K_{\\log\\ell}(x_s, x^\\prime)p(x)p(x^\\prime)\\ \\mathrm{d}x\\ \\mathrm{d}x^\\prime\\\\\\\\\n",
      "&= \\int\\int K_{\\log\\ell}(x, x^\\prime)p(x)p(x^\\prime)\\ \\mathrm{d}x\\ \\mathrm{d}x^\\prime - \\left(\\int K_{\\log\\ell}(x, x_s)p(x)\\ \\mathrm{d}x\\right)K_{\\log\\ell}(x_s, x_s)^{-1}\\left(\\int K_{\\log\\ell}(x, x_s)p(x)\\ \\mathrm{d}x\\right)^\\top\n",
      "\\end{align*}\n",
      "$$"
     ]
    }
   ],
   "metadata": {}
  }
 ]
}