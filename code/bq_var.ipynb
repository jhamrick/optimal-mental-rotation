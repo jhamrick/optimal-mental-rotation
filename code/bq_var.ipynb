{
 "metadata": {
  "name": "bq_var"
 },
 "nbformat": 3,
 "nbformat_minor": 0,
 "worksheets": [
  {
   "cells": [
    {
     "cell_type": "markdown",
     "metadata": {},
     "source": [
      "# Bayesian Quadrature: Variance Derivation"
     ]
    },
    {
     "cell_type": "markdown",
     "metadata": {},
     "source": [
      "We want to compute Equation 10 from \\cite{Osborne:2012tm}:\n",
      "\n",
      "$$V_Z = \\int\\int m_\\ell(x)C_{\\log \\ell}(x, x^\\prime)m_\\ell(x^\\prime)p(x)p(x^\\prime)\\ \\mathrm{d}x\\ \\mathrm{d}x^\\prime$$"
     ]
    },
    {
     "cell_type": "markdown",
     "metadata": {},
     "source": [
      "Because in practice \\cite{Osborne:2012tm} actually use the transform\n",
      "$\\log\\left(\\frac{\\ell(x)}{\\gamma} + 1\\right)$, this becomes:\n",
      "\n",
      "$$V_Z = \\int\\int (m_\\ell(x)+\\gamma)C_{\\log \\ell}(x, x^\\prime)(m_\\ell(x^\\prime)+\\gamma)p(x)p(x^\\prime)\\ \\mathrm{d}x\\ \\mathrm{d}x^\\prime.$$"
     ]
    },
    {
     "cell_type": "markdown",
     "metadata": {},
     "source": [
      "This quantity expands out into three terms:\n",
      "\n",
      "$$V_Z=E[m_\\ell C_{\\log\\ell}m_\\ell] + 2\\gamma E[m_\\ell C_{\\log\\ell}] + \\gamma^2 E[C_{\\log\\ell}],$$\n",
      "\n",
      "where:\n",
      "\n",
      "$$\n",
      "\\begin{align*}\n",
      "E[m_\\ell C_{\\log\\ell}m_\\ell] &= \\int\\int m_\\ell(x)C_{\\log \\ell}(x, x^\\prime)m_\\ell(x^\\prime)p(x)p(x^\\prime)\\ \\mathrm{d}x\\ \\mathrm{d}x^\\prime\\\\\\\\\n",
      "E[m_\\ell C_{\\log\\ell}] &= \\int\\int m_\\ell(x)C_{\\log\\ell}(x, x^\\prime)p(x)p(x^\\prime)\\ \\mathrm{d}x\\ \\mathrm{d}x^\\prime\\\\\\\\\n",
      "E[C_{\\log\\ell}] &= \\int\\int C_{\\log\\ell}(x, x^\\prime)p(x)p(x^\\prime)\\ \\mathrm{d}x\\ \\mathrm{d}x^\\prime.\n",
      "\\end{align*}\n",
      "$$\n",
      "\n",
      "These three terms are further expanded below."
     ]
    },
    {
     "cell_type": "markdown",
     "metadata": {},
     "source": [
      "## First Term"
     ]
    },
    {
     "cell_type": "markdown",
     "metadata": {},
     "source": [
      "We expand the first term to obtain:\n",
      "\n",
      "$$\n",
      "\\begin{align*}\n",
      "E[m_\\ell C_{\\log\\ell}m_\\ell] &= \\int \\int \\left(K_\\ell(x, x_s)K(x_s, x_s)^{-1}\\ell(x_s)\\right)\\left(K_{\\log\\ell}(x, x^\\prime)-K_{\\log\\ell}(x, x_s)K_{\\log\\ell}(x_s, x_s)^{-1}K_{\\log\\ell}(x_s, x^\\prime)\\right)\\left(K_\\ell(x^\\prime, x_s)K(x_s, x_s)^{-1}\\ell(x_s)\\right)p(x)p(x^\\prime)\\ \\mathrm{d}x\\ \\mathrm{d}x^\\prime\\\\\\\\\n",
      "&= \\int \\int \\left(K_\\ell(x, x_s)\\alpha_\\ell(x_s)\\right)\\left(K_{\\log\\ell}(x, x^\\prime)-K_{\\log\\ell}(x, x_s)K_{\\log\\ell}(x_s, x_s)^{-1}K_{\\log\\ell}(x_s, x^\\prime)\\right)\\left(K_\\ell(x^\\prime, x_s)\\alpha_\\ell(x_s)\\right)p(x)p(x^\\prime)\\ \\mathrm{d}x\\ \\mathrm{d}x^\\prime\\\\\\\\\n",
      "&= \\int \\int \\left(K_\\ell(x, x_s)\\alpha_\\ell(x_s)\\right)K_{\\log\\ell}(x, x^\\prime)\\left(K_\\ell(x^\\prime, x_s)\\alpha_\\ell(x_s)\\right)p(x)p(x^\\prime)\\ \\mathrm{d}x\\ \\mathrm{d}x^\\prime\\\\\\\\\n",
      "&\\ \\ \\ \\ - \\int \\int \\left(K_\\ell(x, x_s)\\alpha_\\ell(x_s)\\right) K_{\\log\\ell}(x, x_s)K_{\\log\\ell}(x_s, x_s)^{-1}K_{\\log\\ell}(x_s, x^\\prime)\\left(K_\\ell(x^\\prime, x_s)\\alpha_\\ell(x_s)\\right)p(x)p(x^\\prime)\\ \\mathrm{d}x\\ \\mathrm{d}x^\\prime,\n",
      "\\end{align*}\n",
      "$$\n",
      "\n",
      "where $\\alpha_\\ell(x_s)=K_\\ell(x_s, x_s)^{-1}\\ell(x_s)$."
     ]
    },
    {
     "cell_type": "markdown",
     "metadata": {},
     "source": [
      "The first part of this is:\n",
      "\n",
      "$$\n",
      "\\begin{align*}\n",
      "\\int \\int &\\left(K_\\ell(x, x_s)\\alpha_\\ell(x_s)\\right)K_{\\log\\ell}(x, x^\\prime)\\left(K_\\ell(x^\\prime, x_s)\\alpha_\\ell(x_s)\\right)p(x)p(x^\\prime)\\ \\mathrm{d}x\\ \\mathrm{d}x^\\prime\\\\\\\\\n",
      "&= \\alpha_\\ell(x_s)^\\top \\left(\\int\\int K_\\ell(x_s, x)K_{\\log\\ell}(x, x^\\prime)K_\\ell(x^\\prime, x_s)p(x)p(x^\\prime)\\ \\mathrm{d}x\\ \\mathrm{d}x^\\prime\\right)\\alpha_\\ell(x_s)\n",
      "\\end{align*}\n",
      "$$"
     ]
    },
    {
     "cell_type": "markdown",
     "metadata": {},
     "source": [
      "And the second part is:\n",
      "\n",
      "$$\n",
      "\\begin{align*}\n",
      "- \\int \\int &\\left(K_\\ell(x, x_s)\\alpha_\\ell(x_s)\\right) K_{\\log\\ell}(x, x_s)K_{\\log\\ell}(x_s, x_s)^{-1}K_{\\log\\ell}(x_s, x^\\prime)\\left(K_\\ell(x^\\prime, x_s)\\alpha_\\ell(x_s)\\right)p(x)p(x^\\prime)\\ \\mathrm{d}x\\ \\mathrm{d}x^\\prime\\\\\\\\\n",
      "&= - \\int \\int \\left(K_\\ell(x, x_s)\\alpha_\\ell(x_s)\\right) K_{\\log\\ell}(x, x_s)\\left(L_{\\log\\ell}(x_s, x_s)^{-1}\\right)^\\top L_{\\log\\ell}(x_s, x_s)^{-1}K_{\\log\\ell}(x_s, x^\\prime)\\left(K_\\ell(x^\\prime, x_s)\\alpha_\\ell(x_s)\\right)p(x)p(x^\\prime)\\ \\mathrm{d}x\\ \\mathrm{d}x^\\prime\\\\\\\\\n",
      "&= - \\int \\int \\left(L_{\\log\\ell}(x_s, x_s)^{-1}K_{\\log\\ell}(x_s, x) K_\\ell(x, x_s)\\alpha_\\ell(x_s) \\right)^\\top \\left(L_{\\log\\ell}(x_s, x_s)^{-1}K_{\\log\\ell}(x_s, x^\\prime)K_\\ell(x^\\prime, x_s)\\alpha_\\ell(x_s)\\right)p(x)p(x^\\prime)\\ \\mathrm{d}x\\ \\mathrm{d}x^\\prime\\\\\\\\\n",
      "&= - \\left[L_{\\log\\ell}(x_s, x_s)^{-1}\\left(\\int K_{\\log\\ell}(x_s, x) K_\\ell(x, x_s)p(x)\\ \\mathrm{d}x \\right)\\alpha_\\ell(x_s)\\right]^\\top\\left[L_{\\log\\ell}(x_s, x_s)^{-1}\\left(\\int K_{\\log\\ell}(x_s, x) K_\\ell(x, x_s)p(x)\\ \\mathrm{d}x \\right)\\alpha_\\ell(x_s)\\right]\\\\\\\\\n",
      "&= -\\beta(x_s)^\\top\\beta(x_s),\n",
      "\\end{align*}\n",
      "$$\n",
      "\n",
      "where $\\beta(x_s)=L_{\\log\\ell}(x_s, x_s)^{-1}\\left(\\int K_{\\log\\ell}(x_s, x) K_\\ell(x, x_s)p(x)\\ \\mathrm{d}x \\right)\\alpha_\\ell(x_s)$ and $L_{\\log\\ell}(x_s, x_s)$ is the Cholesky decomposition of $K_{\\log\\ell}(x_s, x_s)$."
     ]
    },
    {
     "cell_type": "markdown",
     "metadata": {},
     "source": [
      "Putting these together, we obtain:\n",
      "\n",
      "$$E[m_\\ell C_{\\log\\ell}m_\\ell]=\\alpha_\\ell(x_s)^\\top \\left(\\int\\int K_\\ell(x_s, x)K_{\\log\\ell}(x, x^\\prime)K_\\ell(x^\\prime, x_s)p(x)p(x^\\prime)\\ \\mathrm{d}x\\ \\mathrm{d}x^\\prime\\right)\\alpha_\\ell(x_s)-\\beta(x_s)^\\top\\beta(x_s)$$"
     ]
    },
    {
     "cell_type": "markdown",
     "metadata": {},
     "source": [
      "### First integral"
     ]
    },
    {
     "cell_type": "markdown",
     "metadata": {},
     "source": [
      "Assuming the kernels are Gaussian kernels, and $p(x)$ is also Gaussian\n",
      "with mean $\\mu$ and covariance $\\Sigma$, we can derive the integrals\n",
      "analytically. For readability, let $a=x_s$, $b=x$, and\n",
      "$c=x^\\prime$. Then:\n",
      "\n",
      "$$\n",
      "\\begin{align*}\n",
      "\\int\\int & K_\\ell(a_{i}, b)K_{\\log\\ell}(b, c)K_\\ell(c, a_{j})p(b)p(c)\\ \\mathrm{d}b\\ \\mathrm{d}c\\\\\\\\ \n",
      "&= h_1^4 h_2^2 \\int\\int \\mathcal{N}\\left(a_{i}\\ \\big\\vert\\  b, W_\\ell\\right)\\mathcal{N}\\left(b\\ \\big\\vert\\  c, W_{\\log\\ell}\\right)\\mathcal{N}\\left(c\\ \\big\\vert\\  a_{j}, W_\\ell\\right)\\mathcal{N}\\left(b\\ \\big\\vert\\  \\mu, \\Sigma\\right)\\mathcal{N}\\left(c\\ \\big\\vert\\  \\mu, \\Sigma\\right)\\ \\mathrm{d}b\\ \\mathrm{d}c\\\\\\\\\n",
      "\\end{align*}\n",
      "$$"
     ]
    },
    {
     "cell_type": "markdown",
     "metadata": {},
     "source": [
      "From \\cite{Osborne:yQQnLKg-}, we have:\n",
      "\n",
      "$$\\mathcal{N}\\left(a_{i}\\ \\big\\vert\\  b, W_\\ell\\right)\\mathcal{N}\\left(b\\ \\big\\vert\\  \\mu, \\Sigma\\right) = \\mathcal{N}\\left(a_{i}\\ \\big\\vert\\  \\mu, W_\\ell + \\Sigma\\right)\\mathcal{N}\\left(b\\ \\big\\vert\\  \\mu + \\Gamma(a_{i}-\\mu), \\Sigma -\\Gamma\\Sigma\\right),$$\n",
      "\n",
      "where $\\Gamma = \\Sigma(W_\\ell + \\Sigma)^{-1}$."
     ]
    },
    {
     "cell_type": "markdown",
     "metadata": {},
     "source": [
      "Using this identity for both $a_{i}$ and $a_{j}$, we obtain:\n",
      "\n",
      "$$= h_1^4 h_2^2 \\mathcal{N}\\left(a_{i}\\ \\big\\vert\\  \\mu, W_\\ell + \\Sigma\\right)\\mathcal{N}\\left(a_{j}\\ \\big\\vert\\  \\mu, W_\\ell+\\Sigma\\right)\\int \\mathcal{N}\\left(b\\ \\big\\vert\\  \\mu + \\Gamma(a_{i}-\\mu), \\Sigma -\\Gamma\\Sigma\\right)\\int \\mathcal{N}\\left(b-c\\ \\big\\vert\\  0, W_{\\log\\ell}\\right)\\mathcal{N}\\left(c\\ \\big\\vert\\  \\mu + \\Gamma(a_{j}-\\mu), \\Sigma -\\Gamma\\Sigma\\right)\\ \\mathrm{d}b\\ \\mathrm{d}c$$"
     ]
    },
    {
     "cell_type": "markdown",
     "metadata": {},
     "source": [
      "The innermost integral is a convolution, giving us:\n",
      "\n",
      "$$= h_1^4 h_2^2 \\mathcal{N}\\left(a_{i}\\ \\big\\vert\\  \\mu, W_\\ell + \\Sigma\\right)\\mathcal{N}\\left(a_{j}\\ \\big\\vert\\  \\mu, W_\\ell+\\Sigma\\right)\\int \\mathcal{N}\\left(b\\ \\big\\vert\\  \\mu + \\Gamma(a_{i}-\\mu), \\Sigma -\\Gamma\\Sigma\\right) \\mathcal{N}\\left(b\\ \\big\\vert\\  \\mu + \\Gamma(a_{j}-\\mu), W_{\\log\\ell} + \\Sigma -\\Gamma\\Sigma\\right)\\ \\mathrm{d}b$$"
     ]
    },
    {
     "cell_type": "markdown",
     "metadata": {},
     "source": [
      "This can also be rewritten in convolution form:\n",
      "\n",
      "$$\n",
      "\\begin{align*}\n",
      "&= h_1^4 h_2^2 \\mathcal{N}\\left(a_{i}\\ \\big\\vert\\  \\mu, W_\\ell + \\Sigma\\right)\\mathcal{N}\\left(a_{j}\\ \\big\\vert\\  \\mu, W_\\ell+\\Sigma\\right)\\int \\mathcal{N}\\left(a_{i}-b\\ \\big\\vert\\  a_{i} - \\mu - \\Gamma(a_{i}-\\mu), \\Sigma -\\Gamma W_\\ell\\right) \\mathcal{N}\\left(b\\ \\big\\vert\\  \\mu + \\Gamma(a_{j}-\\mu), W_{\\log\\ell} + \\Sigma -\\Gamma W_\\ell\\right)\\ \\mathrm{d}b\\\\\\\\\n",
      "&= h_1^4 h_2^2 \\mathcal{N}\\left(a_{i}\\ \\big\\vert\\  \\mu, W_\\ell + \\Sigma\\right)\\mathcal{N}\\left(a_{j}\\ \\big\\vert\\  \\mu, W_\\ell+\\Sigma\\right) \\mathcal{N}\\left(a_{i}\\ \\big\\vert\\  a_{i} + \\Gamma(a_{j}-a_{i}), W_{\\log\\ell} + 2\\Sigma -2\\Gamma\\Sigma\\right)\\\\\\\\\n",
      "&= h_1^4 h_2^2 \\left\\vert \\Gamma\\right\\vert^{-1} \\mathcal{N}\\left(a_{i}\\ \\big\\vert\\  \\mu, W_\\ell + \\Sigma\\right)\\mathcal{N}\\left(a_{j}\\ \\big\\vert\\  \\mu, W_\\ell+\\Sigma\\right) \\mathcal{N}\\left(a_{i}\\ \\big\\vert\\ a_{j}, \\Gamma^{-1}(W_{\\log\\ell} + 2\\Sigma -2\\Gamma\\Sigma)\\Gamma^{-1}\\right)\n",
      "\\end{align*}\n",
      "$$"
     ]
    },
    {
     "cell_type": "markdown",
     "metadata": {},
     "source": [
      "### Second integral"
     ]
    },
    {
     "cell_type": "markdown",
     "metadata": {},
     "source": [
      "The integral in $\\beta(x)$ can be expressed analytically as follows,\n",
      "from \\cite{Osborne:yQQnLKg-}:\n",
      "\n",
      "$$\n",
      "\\begin{align*}\n",
      "\\int K_{\\log\\ell}(x_s, x) K_\\ell(x, x_s)p(x)\\ \\mathrm{d}x&=\\int h_{\\log\\ell}^2 h_\\ell^2\\mathcal{N}\\left(x_{s,i}\\ \\big\\vert\\  x, W_{\\log\\ell}\\right)\\mathcal{N}\\left(x_{s,j}\\ \\big\\vert\\  x, W_\\ell\\right)\\mathcal{N}\\left(x\\ \\big\\vert\\  \\mu, \\Sigma\\right)\\ \\mathrm{d}x\\\\\\\\\n",
      "&= h_{\\log\\ell}^2 h_\\ell^2\\int\\mathcal{N}\\left([x_{s,i}, x_{s,j}]\\ \\big\\vert\\  [x, x], [W_{\\log\\ell}, 0; 0, W_\\ell]\\right)\\mathcal{N}\\left(x\\ \\big\\vert\\  \\mu, \\Sigma\\right)\\ \\mathrm{d}x\\\\\\\\\n",
      "&= h_{\\log\\ell}^2 h_\\ell^2 \\mathcal{N}\\left([x_{s,i}, x_{s,j}]\\ \\big\\vert\\  [\\mu, \\mu], [W_{\\log\\ell}+\\Sigma, \\Sigma; \\Sigma, W_\\ell+\\Sigma]\\right)\n",
      "\\end{align*}\n",
      "$$"
     ]
    },
    {
     "cell_type": "markdown",
     "metadata": {},
     "source": [
      "## Second Term"
     ]
    },
    {
     "cell_type": "markdown",
     "metadata": {},
     "source": [
      "The second term also expands into two parts:\n",
      "\n",
      "$$\n",
      "\\begin{align*}\n",
      "E[m_\\ell C_{\\log\\ell}] &= \\int\\int m_\\ell(x)C_{\\log\\ell}(x, x^\\prime)p(x)p(x^\\prime)\\ \\mathrm{d}x\\ \\mathrm{d}x^\\prime\\\\\\\\\n",
      "&= \\int\\int K_\\ell(x, x_s)K_\\ell(x_s, x_s)^{-1}\\ell(x_s)\\left(K_{\\log\\ell}(x, x^\\prime) - K_{\\log\\ell}(x, x_s)K_{\\log\\ell}(x_s, x_s)^{-1}K_{\\log\\ell}(x_s, x^\\prime)\\right)p(x)p(x^\\prime)\\ \\mathrm{d}x\\ \\mathrm{d}x^\\prime\\\\\\\\\n",
      "&= \\int\\int K_{\\log\\ell}(x^\\prime, x)K_\\ell(x, x_s)K_\\ell(x_s, x_s)^{-1}\\ell(x_s)p(x)p(x^\\prime)\\ \\mathrm{d}x\\ \\mathrm{d}x^\\prime - \\int\\int K_{\\log\\ell}(x^\\prime, x_s)K_{\\log\\ell}(x_s, x_s)^{-1}K_{\\log\\ell}(x_s, x)K_\\ell(x, x_s)K_\\ell(x_s, x_s)^{-1}\\ell(x_s)p(x)p(x^\\prime)\\ \\mathrm{d}x\\ \\mathrm{d}x^\\prime\n",
      "\\end{align*}\n",
      "$$"
     ]
    },
    {
     "cell_type": "markdown",
     "metadata": {},
     "source": [
      "The first part is just:\n",
      "\n",
      "$$\n",
      "\\begin{align*}\n",
      "\\int\\int & K_{\\log\\ell}(x^\\prime, x)K_\\ell(x, x_s)K_\\ell(x_s, x_s)^{-1}\\ell(x_s)p(x)p(x^\\prime)\\ \\mathrm{d}x\\ \\mathrm{d}x^\\prime\\\\\\\\\n",
      "&= \\left(\\int\\int K_{\\log\\ell}(x^\\prime, x)K_\\ell(x, x_s)p(x)p(x^\\prime)\\ \\mathrm{d}x\\ \\mathrm{d}x^\\prime\\right) \\alpha_\\ell(x_s)\n",
      "\\end{align*}\n",
      "$$"
     ]
    },
    {
     "cell_type": "markdown",
     "metadata": {},
     "source": [
      "The second part is:\n",
      "\n",
      "$$\n",
      "\\begin{align*}\n",
      "- \\int\\int & K_{\\log\\ell}(x^\\prime, x_s)K_{\\log\\ell}(x_s, x_s)^{-1}K_{\\log\\ell}(x_s, x)K_\\ell(x, x_s)K_\\ell(x_s, x_s)^{-1}\\ell(x_s)p(x)p(x^\\prime)\\ \\mathrm{d}x\\ \\mathrm{d}x^\\prime\\\\\\\\\n",
      "&= - \\left(\\int\\int K_{\\log\\ell}(x^\\prime, x_s)K_{\\log\\ell}(x_s, x_s)^{-1}K_{\\log\\ell}(x_s, x)K_\\ell(x, x_s)p(x)p(x^\\prime)\\ \\mathrm{d}x\\ \\mathrm{d}x^\\prime\\right)\\alpha_\\ell(x_s)\\\\\\\\\n",
      "&= - \\left(\\int K_{\\log\\ell}(x, x_s)K_{\\log\\ell}(x_s, x_s)^{-1}p(x)\\ \\mathrm{d}x\\right)\\left(\\int K_{\\log\\ell}(x_s, x)K_\\ell(x, x_s)p(x)\\ \\mathrm{d}x\\right)\\alpha_\\ell(x_s)\\\\\\\\\n",
      "&= - \\left(\\int K_{\\log\\ell}(x, x_s)p(x)\\ \\mathrm{d}x\\right)K_{\\log\\ell}(x_s, x_s)^{-1}\\left(\\int K_{\\log\\ell}(x_s, x)K_\\ell(x, x_s)p(x)\\ \\mathrm{d}x\\right)\\alpha_\\ell(x_s)\n",
      "\\end{align*}\n",
      "$$"
     ]
    },
    {
     "cell_type": "markdown",
     "metadata": {},
     "source": [
      "Putting these together, we get:\n",
      "\n",
      "$$E[m_\\ell C_{\\log\\ell}]=\\left[\\int\\int K_{\\log\\ell}(x^\\prime, x)K_\\ell(x, x_s)p(x)p(x^\\prime)\\ \\mathrm{d}x\\ \\mathrm{d}x^\\prime-\\left(\\int K_{\\log\\ell}(x, x_s)p(x)\\ \\mathrm{d}x\\right)K_{\\log\\ell}(x_s, x_s)^{-1}\\left(\\int K_{\\log\\ell}(x_s, x)K_\\ell(x, x_s)p(x)\\ \\mathrm{d}x\\right)\\right]\\alpha_\\ell(x_s)$$"
     ]
    },
    {
     "cell_type": "markdown",
     "metadata": {},
     "source": [
      "### First integral"
     ]
    },
    {
     "cell_type": "markdown",
     "metadata": {},
     "source": [
      "The first integral we need to resolve analytically is:\n",
      "\n",
      "$$\\int\\int K_{\\log\\ell}(x^\\prime, x)K_\\ell(x, x_s)p(x)p(x^\\prime)\\ \\mathrm{d}x\\ \\mathrm{d}x^\\prime$$"
     ]
    },
    {
     "cell_type": "markdown",
     "metadata": {},
     "source": [
      "As above, the kernels are Gaussian kernels, and $p(x)$ is also\n",
      "Gaussian with mean $\\mu$ and covariance $\\Sigma$. For readability, let\n",
      "$a=x_s$, $b=x$, and $c=x^\\prime$. Then:\n",
      "\n",
      "$$\n",
      "\\begin{align*}\n",
      "h_{\\log\\ell}^2 h_\\ell^2\\int\\int &\\mathcal{N}\\left(c\\ \\big\\vert\\ b, W_{\\log\\ell}\\right)\\mathcal{N}\\left(b\\ \\big\\vert\\ a, W_\\ell\\right)\\mathcal{N}\\left(b\\ \\big\\vert\\ \\mu, \\Sigma\\right)\\mathcal{N}\\left(c\\ \\big\\vert\\ \\mu, \\Sigma\\right)\\ \\mathrm{d}b\\ \\mathrm{d}c\\\\\\\\\n",
      "&= h_{\\log\\ell}^2 h_\\ell^2\\int \\mathcal{N}\\left(b\\ \\big\\vert\\ a, W_\\ell\\right)\\mathcal{N}\\left(b\\ \\big\\vert\\ \\mu, \\Sigma\\right)\\int\\mathcal{N}\\left(b - c\\ \\big\\vert\\ 0, W_{\\log\\ell}\\right)\\mathcal{N}\\left(c\\ \\big\\vert\\ \\mu, \\Sigma\\right)\\ \\mathrm{d}b\\ \\mathrm{d}c\n",
      "\\end{align*}\n",
      "$$"
     ]
    },
    {
     "cell_type": "markdown",
     "metadata": {},
     "source": [
      "The innermost integral is a convolution, giving:\n",
      "\n",
      "$$= h_{\\log\\ell}^2 h_\\ell^2\\int \\mathcal{N}\\left(b\\ \\big\\vert\\ a, W_\\ell\\right)\\mathcal{N}\\left(b\\ \\big\\vert\\ \\mu, \\Sigma\\right)\\mathcal{N}\\left(b\\ \\big\\vert\\ \\mu, W_{\\log\\ell}+\\Sigma\\right)\\ \\mathrm{d}b$$"
     ]
    },
    {
     "cell_type": "markdown",
     "metadata": {},
     "source": [
      "From \\cite{Osborne:yQQnLKg-}, we have:\n",
      "\n",
      "$$\n",
      "\\begin{align*}\n",
      "\\mathcal{N}\\left(\\mu\\ \\big\\vert\\  b, W_{\\log\\ell}+\\Sigma\\right)\\mathcal{N}\\left(b\\ \\big\\vert\\  \\mu, \\Sigma\\right) &= \\mathcal{N}\\left(\\mu\\ \\big\\vert\\  \\mu, W_{\\log\\ell} + 2\\Sigma\\right)\\mathcal{N}\\left(b\\ \\big\\vert\\  \\mu + \\Sigma(W_{\\log\\ell}+2\\Sigma)^{-1}(\\mu-\\mu), \\Sigma -\\Sigma(W_{\\log\\ell}+2\\Sigma)^{-1}\\Sigma\\right)\\\\\\\\\n",
      "&= \\mathcal{N}\\left(0\\ \\big\\vert\\ 0, W_{\\log\\ell}+2\\Sigma\\right)\\mathcal{N}\\left(b\\ \\big\\vert\\ \\mu, \\Sigma -\\Sigma(W_{\\log\\ell}+2\\Sigma)^{-1}\\Sigma\\right)\n",
      "\\end{align*}\n",
      "$$"
     ]
    },
    {
     "cell_type": "markdown",
     "metadata": {},
     "source": [
      "Plugging this in, we obtain another convolution:\n",
      "\n",
      "$$\n",
      "\\begin{align*}\n",
      "&= h_{\\log\\ell}^2 h_\\ell^2\\mathcal{N}\\left(0\\ \\big\\vert\\ 0, W_{\\log\\ell}+2\\Sigma\\right)\\int \\mathcal{N}\\left(a-b\\ \\big\\vert\\ 0, W_\\ell\\right) \\mathcal{N}\\left(b\\ \\big\\vert\\ \\mu, \\Sigma -\\Sigma(W_{\\log\\ell}+2\\Sigma)^{-1}\\Sigma\\right)\\\\\\\\\n",
      "&= h_{\\log\\ell}^2 h_\\ell^2\\mathcal{N}\\left(0\\ \\big\\vert\\ 0, W_{\\log\\ell}+2\\Sigma\\right)\\mathcal{N}\\left(a\\ \\big\\vert\\ \\mu, W_\\ell+\\Sigma -\\Sigma(W_{\\log\\ell}+2\\Sigma)^{-1}\\Sigma\\right)\n",
      "\\end{align*}\n",
      "$$"
     ]
    },
    {
     "cell_type": "markdown",
     "metadata": {},
     "source": [
      "### Second Integral"
     ]
    },
    {
     "cell_type": "markdown",
     "metadata": {},
     "source": [
      "The second integral is:\n",
      "$$\n",
      "\\begin{align*}\n",
      "\\int K_{\\log\\ell}(x, x_s)p(x)\\ \\mathrm{d}x &= h_{\\log\\ell}^2 \\int \\mathcal{N}\\left( x \\ \\big\\vert\\ x_s, W_{\\log\\ell} \\right)\\mathcal{N}\\left( x \\ \\big\\vert\\ \\mu, \\Sigma \\right)\\ \\mathrm{d}x\\\\\\\\\n",
      "&= h_{\\log\\ell}^2 \\mathcal{N}\\left( x_s \\ \\big\\vert\\ \\mu, W_{\\log\\ell}+\\Sigma \\right)\n",
      "\\end{align*}\n",
      "$$"
     ]
    },
    {
     "cell_type": "markdown",
     "metadata": {},
     "source": [
      "### Third Integral"
     ]
    },
    {
     "cell_type": "markdown",
     "metadata": {},
     "source": [
      "The third integral is:\n",
      "$$\n",
      "\\begin{align*}\n",
      "\\int & K_{\\log\\ell}(x_s, x)K_\\ell(x, x_s)p(x)\\ \\mathrm{d}x\\\\\\\\\n",
      "&= h_{\\log\\ell}^2 h_\\ell^2 \\int \\mathcal{N}\\left( x_{s,i} \\ \\big\\vert\\ x, W_{\\log\\ell} \\right)\\mathcal{N}\\left( x \\ \\big\\vert\\ x_{s,j}, W_\\ell \\right)\\mathcal{N}\\left( x \\ \\big\\vert\\ \\mu, \\Sigma \\right)\\ \\mathrm{d}x\\\\\\\\\n",
      "&= h_{\\log\\ell}^2 h_\\ell^2 \\int \\mathcal{N}\\left( [x_{s,i}, x_{s,j}] \\ \\big\\vert\\ [x, x], [W_{\\log\\ell}, 0; 0, W_{\\ell}] \\right)\\mathcal{N}\\left( x \\ \\big\\vert\\ \\mu, \\Sigma \\right)\\ \\mathrm{d}x\\\\\\\\\n",
      "&= h_{\\log\\ell}^2 h_\\ell^2 \\mathcal{N}\\left( [x_{s,i}, x_{s,j}] \\ \\big\\vert\\ [\\mu, \\mu], [W_{\\log\\ell}+\\Sigma, \\Sigma; \\Sigma, W_\\ell+\\Sigma] \\right)\n",
      "\\end{align*}\n",
      "$$"
     ]
    },
    {
     "cell_type": "markdown",
     "metadata": {},
     "source": [
      "## Third Term"
     ]
    },
    {
     "cell_type": "markdown",
     "metadata": {},
     "source": [
      "The third term is:\n",
      "\n",
      "$$\n",
      "\\begin{align*}\n",
      "E[C_{\\log\\ell}] &= \\int\\int C_{\\log\\ell}(x, x^\\prime)p(x)p(x^\\prime)\\ \\mathrm{d}x\\ \\mathrm{d}x^\\prime\\\\\\\\\n",
      "&= \\int\\int \\left(K_{\\log\\ell}(x, x^\\prime) - K_{\\log\\ell}(x, x_s)K_{\\log\\ell}(x_s, x_s)^{-1}K_{\\log\\ell}(x_s, x^\\prime)\\right)p(x)p(x^\\prime)\\ \\mathrm{d}x\\ \\mathrm{d}x^\\prime\\\\\\\\\n",
      "&= \\int\\int K_{\\log\\ell}(x, x^\\prime)p(x)p(x^\\prime)\\ \\mathrm{d}x\\ \\mathrm{d}x^\\prime - \\int\\int K_{\\log\\ell}(x, x_s)K_{\\log\\ell}(x_s, x_s)^{-1}K_{\\log\\ell}(x_s, x^\\prime)p(x)p(x^\\prime)\\ \\mathrm{d}x\\ \\mathrm{d}x^\\prime\\\\\\\\\n",
      "&= \\int\\int K_{\\log\\ell}(x, x^\\prime)p(x)p(x^\\prime)\\ \\mathrm{d}x\\ \\mathrm{d}x^\\prime - \\left(\\int K_{\\log\\ell}(x, x_s)p(x)\\ \\mathrm{d}x\\right)K_{\\log\\ell}(x_s, x_s)^{-1}\\left(\\int K_{\\log\\ell}(x, x_s)p(x)\\ \\mathrm{d}x\\right)^\\top\n",
      "\\end{align*}\n",
      "$$"
     ]
    },
    {
     "cell_type": "markdown",
     "metadata": {},
     "source": [
      "### First integral"
     ]
    },
    {
     "cell_type": "markdown",
     "metadata": {},
     "source": [
      "The first integral is:\n",
      "\n",
      "$$\n",
      "\\begin{align*}\n",
      "\\int\\int K_{\\log\\ell}(x, x^\\prime)p(x)p(x^\\prime)\\ \\mathrm{d}x\\ \\mathrm{d}x^\\prime &= h_{\\log\\ell}^2\\int\\int \\mathcal{N}\\left( x \\ \\big\\vert\\ x^\\prime, W_{\\log\\ell} \\right)\\mathcal{N}\\left( x \\ \\big\\vert\\ \\mu, \\Sigma \\right)\\mathcal{N}\\left( x^\\prime \\ \\big\\vert\\ \\mu, \\Sigma \\right)\\ \\mathrm{d}x \\ \\mathrm{d}x^\\prime\\\\\\\\\n",
      "&= h_{\\log\\ell}^2\\int \\mathcal{N}\\left( x \\ \\big\\vert\\ \\mu, \\Sigma \\right)\\int \\mathcal{N}\\left( x - x^\\prime \\ \\big\\vert\\ 0, W_{\\log\\ell} \\right)\\mathcal{N}\\left( x^\\prime \\ \\big\\vert\\ \\mu, \\Sigma \\right)\\ \\mathrm{d}x \\ \\mathrm{d}x^\\prime\\\\\\\\\n",
      "&= h_{\\log\\ell}^2\\int \\mathcal{N}\\left( x \\ \\big\\vert\\ \\mu, \\Sigma \\right) \\mathcal{N}\\left( x \\ \\big\\vert\\ \\mu, W_{\\log\\ell}+\\Sigma \\right) \\ \\mathrm{d}\\\\\\\\\n",
      "&= h_{\\log\\ell}^2\\mathcal{N}\\left( \\mu \\ \\big\\vert\\ \\mu, W_{\\log\\ell}+2\\Sigma \\right)\\\\\\\\\n",
      "&= h_{\\log\\ell}^2\\mathcal{N}\\left( 0 \\ \\big\\vert\\ 0, W_{\\log\\ell} + 2\\Sigma \\right)\n",
      "\\end{align*}\n",
      "$$"
     ]
    },
    {
     "cell_type": "markdown",
     "metadata": {},
     "source": [
      "### Second and third integrals"
     ]
    },
    {
     "cell_type": "markdown",
     "metadata": {},
     "source": [
      "The other integrals are identical, and can be expressed analytically as:\n",
      "\n",
      "$$\n",
      "\\begin{align*}\n",
      "\\int K_{\\log\\ell}(x, x_s)p(x)\\ \\mathrm{d}x &= h_{\\log\\ell}^2 \\int \\mathcal{N}\\left( x \\ \\big\\vert\\ x_s, W_{\\log\\ell} \\right)\\mathcal{N}\\left( x \\ \\big\\vert\\ \\mu, \\Sigma \\right)\\ \\mathrm{d}x\\\\\\\\\n",
      "&= h_{\\log\\ell}^2 \\mathcal{N}\\left( x_s \\ \\big\\vert\\ \\mu, W_{\\log\\ell}+\\Sigma \\right)\n",
      "\\end{align*}\n",
      "$$"
     ]
    },
    {
     "cell_type": "markdown",
     "metadata": {},
     "source": [
      "## Variance Correction"
     ]
    },
    {
     "cell_type": "markdown",
     "metadata": {},
     "source": [
      "We adjust the covariance $C_{\\log\\ell}(x, x^\\prime)$ as follows:\n",
      "\n",
      "$$C_{\\log\\ell}(x, x^\\prime) = C_{\\log\\ell}(x, x^\\prime)+\\frac{\\partial m_{\\log\\ell}(x)}{\\partial\\hat{W}}C_\\hat{W}\\frac{\\partial m_{\\log\\ell}(x^\\prime)}{\\partial\\hat{W}}^\\top$$"
     ]
    },
    {
     "cell_type": "markdown",
     "metadata": {},
     "source": [
      "This requires that we adjust the previously calculated variance by a\n",
      "correction factor:\n",
      "\n",
      "$$\n",
      "\\begin{align*}\n",
      "\\epsilon &= \\int\\int (m_\\ell(x) + \\gamma)\\frac{\\partial m_{\\log\\ell}(x)}{\\partial\\hat{W}}C_{\\hat{W}}\\frac{\\partial m_{\\log\\ell}(x^\\prime)}{\\partial\\hat{W}}^\\top(m_\\ell(x^\\prime) + \\gamma)^\\top p(x)p(x^\\prime)\\ \\mathrm{d}x\\ \\mathrm{d}x^\\prime\\\\\\\\\n",
      "&= \\left(\\int (m_\\ell(x) + \\gamma)\\frac{\\partial m_{\\log\\ell}(x)}{\\partial\\hat{W}}p(x)\\ \\mathrm{d}x\\right)C_{\\hat{W}}\\left(\\int (m_\\ell(x) + \\gamma)\\frac{\\partial m_{\\log\\ell}(x)}{\\partial\\hat{W}}p(x)\\ \\mathrm{d}x\\right)^\\top\\\\\\\\\n",
      "&= \\nu C_{\\hat{W}} \\nu^\\top\n",
      "\\end{align*}\n",
      "$$"
     ]
    },
    {
     "cell_type": "markdown",
     "metadata": {},
     "source": [
      "Where $\\nu$ is defined as:\n",
      "\n",
      "$$\n",
      "\\begin{align*}\n",
      "\\nu &= \\int (m_\\ell(x) + \\gamma)\\frac{\\partial m_{\\log\\ell}(x)}{\\partial\\hat{W}}p(x)\\ \\mathrm{d}x\\\\\\\\\n",
      "&= \\int m_\\ell(x)\\frac{\\partial m_{\\log\\ell}(x)}{\\partial\\hat{W}}p(x)\\ \\mathrm{d}x + \\gamma\\int \\frac{\\partial m_{\\log\\ell}(x)}{\\partial\\hat{W}}p(x)\\ \\mathrm{d}x\n",
      "\\end{align*}\n",
      "$$"
     ]
    },
    {
     "cell_type": "markdown",
     "metadata": {},
     "source": [
      "The derivative of the mean with respect to $\\hat{W}$ is:\n",
      "\n",
      "$$\n",
      "\\begin{align*}\n",
      "\\frac{\\partial m_{\\log\\ell}(x)}{\\partial\\hat{W}} &= \\frac{\\partial K_{\\log\\ell}(x, x_s)}{\\partial\\hat{W}}K_{\\log\\ell}(x_s, x_s)^{-1}\\log\\ell(x_s) - K_{\\log\\ell}(x, x_s)K_{\\log\\ell}(x_s, x_s)^{-1}\\frac{\\partial K_{\\log\\ell}(x_s, x_s)}{\\partial\\hat{W}}K_{\\log\\ell}(x_s, x_s)^{-1}\\log\\ell(x_s)\\\\\\\\\n",
      "&= \\frac{\\partial K_{\\log\\ell}(x, x_s)}{\\partial\\hat{W}}\\alpha_{\\log\\ell}(x_s) - K_{\\log\\ell}(x, x_s)K_{\\log\\ell}(x_s, x_s)^{-1}\\frac{\\partial K_{\\log\\ell}(x_s, x_s)}{\\partial\\hat{W}}\\alpha_{\\log\\ell}(x_s)\n",
      "\\end{align*}\n",
      "$$"
     ]
    },
    {
     "cell_type": "markdown",
     "metadata": {},
     "source": [
      "So the first term of $\\nu$ becomes:\n",
      "\n",
      "$$\n",
      "\\begin{align*}\n",
      "\\int & K_\\ell(x,x_s)\\alpha_\\ell(x_s)\\frac{\\partial K_{\\log\\ell}(x, x_s)}{\\partial\\hat{W}}\\alpha_{\\log\\ell}(x_s)p(x)\\ \\mathrm{d}x - \\int K_\\ell(x,x_s)\\alpha_\\ell(x_s)K_{\\log\\ell}(x, x_s)K_{\\log\\ell}(x_s, x_s)^{-1}\\frac{\\partial K_{\\log\\ell}(x_s, x_s)}{\\partial\\hat{W}}\\alpha_{\\log\\ell}(x_s)p(x)\\ \\mathrm{d}x\\\\\\\\\n",
      "&= \\alpha_\\ell(x_s)^\\top \\left[\\int K_\\ell(x_s,x)\\frac{\\partial K_{\\log\\ell}(x, x_s)}{\\partial\\hat{W}}p(x)\\ \\mathrm{d}x - \\left(\\int K_\\ell(x_s,x)K_{\\log\\ell}(x, x_s)p(x)\\ \\mathrm{d}x\\right)K_{\\log\\ell}(x_s, x_s)^{-1}\\frac{\\partial K_{\\log\\ell}(x_s, x_s)}{\\partial\\hat{W}}\\right] \\alpha_{\\log\\ell}(x_s)\\\\\\\\\n",
      "&= \\alpha_\\ell(x_s)^\\top \\left[\\int K_\\ell(x_s,x)\\frac{\\partial K_{\\log\\ell}(x, x_s)}{\\partial\\hat{W}}p(x)\\ \\mathrm{d}x - \\left(\\int K_\\ell(x_s,x)K_{\\log\\ell}(x, x_s)p(x)\\ \\mathrm{d}x\\right)\\zeta(x_s)\\right] \\alpha_{\\log\\ell}(x_s),\n",
      "\\end{align*}\n",
      "$$\n",
      "\n",
      "where $\\zeta(x_s)=K_{\\log\\ell}(x_s, x_s)^{-1}\\frac{\\partial K_{\\log\\ell}(x_s, x_s)}{\\partial\\hat{W}}$."
     ]
    },
    {
     "cell_type": "markdown",
     "metadata": {},
     "source": [
      "And the second term of $\\nu$ becomes:\n",
      "\n",
      "$$\n",
      "\\begin{align*}\n",
      "\\gamma\\int &\\frac{\\partial m_{\\log\\ell}(x)}{\\partial\\hat{W}}p(x)\\ \\mathrm{d}x\\\\\\\\\n",
      "&= \\gamma \\left(\\int\\frac{\\partial K_{\\log\\ell}(x, x_s)}{\\partial\\hat{W}}\\alpha_{\\log\\ell}(x_s)p(x)\\ \\mathrm{d}x - \\int K_{\\log\\ell}(x, x_s)\\zeta(x_s)\\alpha_{\\log\\ell}(x_s)p(x)\\ \\mathrm{d}x\\right)\\\\\\\\\n",
      "&= \\gamma \\left[\\int\\frac{\\partial K_{\\log\\ell}(x, x_s)}{\\partial\\hat{W}}p(x)\\ \\mathrm{d}x - \\left(\\int K_{\\log\\ell}(x, x_s)p(x)\\ \\mathrm{d}x\\right) \\zeta(x_s)\\right]\\alpha_{\\log\\ell}(x_s)\n",
      "\\end{align*}\n",
      "$$"
     ]
    },
    {
     "cell_type": "markdown",
     "metadata": {},
     "source": [
      "Putting these together, we have:\n",
      "\n",
      "$$\n",
      "\\begin{align*}\n",
      "\\nu = &\\alpha_\\ell(x_s)^\\top \\left( \\int K_\\ell(x_s, x)\\frac{\\partial K_{\\log\\ell}(x, x_s)}{\\partial \\hat{W}}p(x) \\ \\mathrm{d}x\\right)\\alpha_{\\log\\ell}(x_s)\\\\\\\\\n",
      "&\\ \\ - \\alpha_\\ell(x_s)^\\top \\left(\\int K_\\ell(x_s, s)K_{\\log\\ell}(x, x_s)p(x) \\ \\mathrm{d}x\\right)\\zeta(x_s)\\alpha_{\\log\\ell}(x_s)\\\\\\\\\n",
      "&\\ \\ + \\gamma\\left(\\int\\frac{\\partial K_{\\log\\ell}(x, x_s)}{\\partial\\hat{W}}p(x) \\ \\mathrm{d}x\\right)\\alpha_{\\log\\ell}(x_s)\\\\\\\\\n",
      "&\\ \\ - \\gamma\\left(\\int K_{\\log\\ell}(x, x_s)p(x) \\ \\mathrm{d}x\\right)\\zeta(x_s)\\alpha_{\\log\\ell}(x_s)\n",
      "\\end{align*}\n",
      "$$"
     ]
    },
    {
     "cell_type": "markdown",
     "metadata": {},
     "source": [
      "The analytic form of the second and fourth integrals is defined above. The first and third integrals are defined as follows, using the following identity:\n",
      "\n",
      "$$\n",
      "\\begin{align*}\n",
      "\\frac{\\partial K_{\\log\\ell}(x, x_s)}{\\partial\\hat{W}} = K_{\\log\\ell}(x, x_s) \\left( -\\frac{1}{2}\\hat{W}^{-1} + \\frac{1}{2}\\hat{W}^{-1}(x - x_s)(x-x_s)^\\top\\hat{W}^{-1} \\right)\n",
      "\\end{align*}\n",
      "$$"
     ]
    },
    {
     "cell_type": "markdown",
     "metadata": {},
     "source": [
      "## First integral"
     ]
    },
    {
     "cell_type": "markdown",
     "metadata": {},
     "source": [
      "$$\n",
      "\\begin{align*}\n",
      "\\int & K_\\ell(x_s^\\prime, x)\\frac{\\partial K_{\\log\\ell}(x, x_s)}{\\partial \\hat{W}}p(x) \\ \\mathrm{d}x = \\int K_\\ell(x_s^\\prime, x)K_{\\log\\ell}(x, x_s)p(x) \\left( -\\frac{1}{2}\\hat{W}^{-1} + \\frac{1}{2}\\hat{W}^{-1}(x - x_s)(x-x_s)^\\top\\hat{W}^{-1} \\right) \\ \\mathrm{d}x\\\\\\\\\n",
      "&= \\int\\mathcal{N}\\left( x_s^\\prime \\ \\big\\vert\\ x, W_\\ell \\right)\\mathcal{N}\\left( x_s \\ \\big\\vert\\ x, \\hat{W} \\right)\\mathcal{N}\\left( x \\ \\big\\vert\\ \\mu, \\Sigma \\right)\\left( -\\frac{1}{2}\\hat{W}^{-1} + \\frac{1}{2}\\hat{W}^{-1}(x - x_s)(x-x_s)^\\top\\hat{W}^{-1} \\right) \\ \\mathrm{d}x\\\\\\\\\n",
      "&= \\mathcal{N}\\left( x_s \\ \\big\\vert\\ \\mu, \\hat{W}+\\Sigma \\right)\\int \\mathcal{N}\\left( x_s^\\prime \\ \\big\\vert\\ x, W_\\ell \\right)\\mathcal{N}\\left( x \\ \\big\\vert\\ \\mu + A(x_s-\\mu), B \\right)\\left( -\\frac{1}{2}\\hat{W}^{-1} + \\frac{1}{2}\\hat{W}^{-1}(x - x_s)(x-x_s)^\\top\\hat{W}^{-1} \\right) \\ \\mathrm{d}x,\n",
      "\\end{align*}\n",
      "$$\n",
      "\n",
      "where $A=\\Sigma(\\hat{W}+\\Sigma)^{-1}$ and $B=\\Sigma-A\\Sigma=\\Sigma-\\Sigma(\\hat{W}+\\Sigma)^{-1}\\Sigma$."
     ]
    },
    {
     "cell_type": "markdown",
     "metadata": {},
     "source": [
      "$$\n",
      "\\begin{align*}\n",
      "&= \\mathcal{N}\\left( x_s \\ \\big\\vert\\ \\mu, \\hat{W}+\\Sigma \\right)\\mathcal{N}\\left( x_s^\\prime \\ \\big\\vert\\ \\mu+A(x_s-\\mu),B+W_\\ell \\right)\\int \\mathcal{N}\\left( x \\ \\big\\vert\\ \\mu +A(x_s-\\mu)+C(x_s^\\prime-\\mu-A(x_s-\\mu)), B-CB \\right)\\left( -\\frac{1}{2}\\hat{W}^{-1} + \\frac{1}{2}\\hat{W}^{-1}(x - x_s)(x-x_s)^\\top\\hat{W}^{-1} \\right) \\ \\mathrm{d}x\\\\\\\\\n",
      "&= \\mathcal{N}\\left( x_s \\ \\big\\vert\\ \\mu, \\hat{W}+\\Sigma \\right)\\mathcal{N}\\left( x_s^\\prime \\ \\big\\vert\\ \\mu+A(x_s-\\mu),B+W_\\ell \\right)\\int \\mathcal{N}\\left( x \\ \\big\\vert\\ \\mu +A(x_s-\\mu)+C(x_s^\\prime-\\mu-A(x_s-\\mu)), B-CB \\right)\\left( -\\frac{1}{2}\\hat{W}^{-1} + \\frac{1}{2}\\hat{W}^{-1}(x - x_s)(x-x_s)^\\top\\hat{W}^{-1} \\right) \\ \\mathrm{d}x\\\\\\\\\n",
      "\\end{align*}\n",
      "$$\n",
      "\n",
      "where $C=B(B+W_\\ell)^{-1}=(\\Sigma-\\Sigma(\\hat{W}+\\Sigma)^{-1}\\Sigma)(\\Sigma-\\Sigma(\\hat{W}+\\Sigma)^{-1}\\Sigma+W_\\ell)^{-1}$."
     ]
    },
    {
     "cell_type": "markdown",
     "metadata": {},
     "source": [
      "$$\n",
      "\\begin{align*}\n",
      "&= \\mathcal{N}\\left( [x_s, x_s^\\prime] \\ \\big\\vert\\ [\\mu, \\mu], [\\hat{W}+\\Sigma, \\Sigma; \\Sigma, W_\\ell+\\Sigma] \\right)\\int \\mathcal{N}\\left( x \\ \\big\\vert\\ \\mu +A(x_s-\\mu)+C(x_s^\\prime-\\mu-A(x_s-\\mu)), B-CB \\right)\\left( -\\frac{1}{2}\\hat{W}^{-1} + \\frac{1}{2}\\hat{W}^{-1}(x - x_s)(x-x_s)^\\top\\hat{W}^{-1} \\right) \\ \\mathrm{d}x\\\\\\\\\n",
      "&= \\mathcal{N}\\left( [x_s, x_s^\\prime] \\ \\big\\vert\\ [\\mu, \\mu], [\\hat{W}+\\Sigma, \\Sigma; \\Sigma, W_\\ell+\\Sigma] \\right)\\int \\mathcal{N}\\left( x - x_s\\ \\big\\vert\\ \\mu -x_s+A(x_s-\\mu)+C(x_s^\\prime-\\mu-A(x_s-\\mu)), B-CB \\right)\\left( -\\frac{1}{2}\\hat{W}^{-1} + \\frac{1}{2}\\hat{W}^{-1}(x - x_s)(x-x_s)^\\top\\hat{W}^{-1} \\right) \\ \\mathrm{d}x\\\\\\\\\n",
      "&= \\mathcal{N}\\left( [x_s, x_s^\\prime] \\ \\big\\vert\\ [\\mu, \\mu], [\\hat{W}+\\Sigma, \\Sigma; \\Sigma, W_\\ell+\\Sigma] \\right)\\int \\mathcal{N}\\left( x - x_s\\ \\big\\vert\\ (A-CA-1)(x_s-\\mu)+C(x_s^\\prime-\\mu), B-CB \\right)\\left( -\\frac{1}{2}\\hat{W}^{-1} + \\frac{1}{2}\\hat{W}^{-1}(x - x_s)(x-x_s)^\\top\\hat{W}^{-1} \\right) \\ \\mathrm{d}x\\\\\\\\\n",
      "\\end{align*}\n",
      "$$"
     ]
    },
    {
     "cell_type": "markdown",
     "metadata": {},
     "source": [
      "Let $y=x-x_s$, $m=(A-CA-1)(x_s-\\mu)+C(x_s^\\prime-\\mu)$, and $S=B-CB$. Then:\n",
      "\n",
      "$$\n",
      "\\begin{align*}\n",
      "&= \\mathcal{N}\\left( [x_s, x_s^\\prime] \\ \\big\\vert\\ [\\mu, \\mu], [\\hat{W}+\\Sigma, \\Sigma; \\Sigma, W_\\ell+\\Sigma] \\right)\\int \\mathcal{N}\\left( y \\ \\big\\vert\\ m, S \\right)\\left( -\\frac{1}{2}\\hat{W}^{-1}+\\frac{1}{2}\\hat{W}^{-1}yy^\\top\\hat{W}^{-1} \\right) \\ \\mathrm{d}y\n",
      "\\end{align*}\n",
      "$$"
     ]
    },
    {
     "cell_type": "markdown",
     "metadata": {},
     "source": [
      "From \\cite{Petersen:-OVhUe8u}, we have that $E \\left[ (Ay)(Ay)^\\top \\right]=A(S+mm^\\top)A^\\top$, where $y\\sim \\mathcal{N}\\left( m, S \\right)$. Then:\n",
      "\n",
      "$$\n",
      "\\begin{align*}\n",
      "&= \\mathcal{N}\\left( [x_s, x_s^\\prime] \\ \\big\\vert\\ [\\mu, \\mu], [\\hat{W}+\\Sigma, \\Sigma; \\Sigma, W_\\ell+\\Sigma] \\right)\\left( - \\frac{1}{2}\\hat{W}^{-1} + \\frac{1}{2}E\\left[(\\hat{W}^{-1}y)(\\hat{W}^{-1}y)^\\top\\right] \\right)\\\\\\\\\n",
      "&=\\mathcal{N}\\left( [x_s, x_s^\\prime] \\ \\big\\vert\\ [\\mu, \\mu], [\\hat{W}+\\Sigma, \\Sigma; \\Sigma, W_\\ell+\\Sigma] \\right)\\left( - \\frac{1}{2}\\hat{W}^{-1} + \\frac{1}{2}\\hat{W}^{-1}(S+mm^\\top)\\hat{W}^{-1}\\right)\\\\\\\\\n",
      "&= \\mathcal{N}\\left( [x_s, x_s^\\prime] \\ \\big\\vert\\ [\\mu, \\mu], [\\hat{W}+\\Sigma, \\Sigma; \\Sigma, W_\\ell+\\Sigma] \\right)\\left[ - \\frac{1}{2}\\hat{W}^{-1} + \\frac{1}{2}\\hat{W}^{-1}\\left( B-CB+\\left((A-CA-1)(x_s-\\mu)+C(x_s^\\prime-\\mu)\\right)\\left((A-CA-1)(x_s-\\mu)+C(x_s^\\prime-\\mu)\\right)^\\top\\right)\\hat{W}^{-1}\\right]\n",
      "\\end{align*}\n",
      "$$"
     ]
    },
    {
     "cell_type": "markdown",
     "metadata": {},
     "source": [
      "## Third integral"
     ]
    },
    {
     "cell_type": "markdown",
     "metadata": {},
     "source": [
      "$$\n",
      "\\begin{align*}\n",
      "\\int\\frac{\\partial K_{\\log\\ell}(x, x_s)}{\\partial\\hat{W}}p(x) \\ \\mathrm{d}x &= \\int K_{\\log\\ell}(x, x_s)p(x) \\left( -\\frac{1}{2}\\hat{W}^{-1} + \\frac{1}{2}\\hat{W}^{-1}(x - x_s)(x-x_s)^\\top\\hat{W}^{-1} \\right) \\ \\mathrm{d}x\\\\\\\\\n",
      "&= \\int \\mathcal{N}\\left( x_s \\ \\big\\vert\\ x, \\hat{W} \\right) \\mathcal{N}\\left( x \\ \\big\\vert\\ \\mu, \\Sigma \\right) \\left( -\\frac{1}{2}\\hat{W}^{-1} + \\frac{1}{2}\\hat{W}^{-1}(x - x_s)(x-x_s)^\\top\\hat{W}^{-1} \\right) \\ \\mathrm{d}x\\\\\\\\\n",
      "&= \\mathcal{N}\\left( x_s \\ \\big\\vert\\ \\mu, \\hat{W} + \\Sigma \\right)\\int \\mathcal{N}\\left( x \\ \\big\\vert\\ \\mu + \\Sigma(\\hat{W} + \\Sigma)^{-1}(x_s - \\mu), \\Sigma - \\Sigma(\\hat{W} + \\Sigma)^{-1}\\Sigma \\right)\\left( -\\frac{1}{2}\\hat{W}^{-1} + \\frac{1}{2}\\hat{W}^{-1}(x - x_s)(x-x_s)^\\top\\hat{W}^{-1} \\right)\\ \\mathrm{d}x\\\\\\\\\n",
      "&= \\mathcal{N}\\left( x_s \\ \\big\\vert\\ \\mu, \\hat{W} + \\Sigma \\right)\\int \\mathcal{N}\\left( x -x_s\\ \\big\\vert\\ (\\Sigma(\\hat{W} + \\Sigma)^{-1}-1)(x_s - \\mu), \\Sigma - \\Sigma(\\hat{W} + \\Sigma)^{-1}\\Sigma \\right)\\left( -\\frac{1}{2}\\hat{W}^{-1} + \\frac{1}{2}\\hat{W}^{-1}(x - x_s)(x-x_s)^\\top\\hat{W}^{-1} \\right)\\ \\mathrm{d}x\n",
      "\\end{align*}\n",
      "$$"
     ]
    },
    {
     "cell_type": "markdown",
     "metadata": {},
     "source": [
      "Let $y=x-x_s$, $m=(\\Sigma(\\hat{W}+\\Sigma)^{-1}-1)(x_s-\\mu)$, and $S=\\Sigma-\\Sigma(\\hat{W}+\\Sigma)^{-1}\\Sigma$. Then:\n",
      "\n",
      "$$\n",
      "\\begin{align*}\n",
      "&= \\mathcal{N}\\left( x_s \\ \\big\\vert\\ \\mu, \\hat{W} + \\Sigma \\right) \\int \\mathcal{N}\\left( y \\ \\big\\vert\\ m, S \\right)\\left( - \\frac{1}{2}\\hat{W}^{-1} + \\frac{1}{2}\\hat{W}^{-1}yy^\\top\\hat{W}^{-1} \\right) \\ \\mathrm{d}y\n",
      "\\end{align*}\n",
      "$$"
     ]
    },
    {
     "cell_type": "markdown",
     "metadata": {},
     "source": [
      "From \\cite{Petersen:-OVhUe8u}, we have that $E \\left[ (Ay)(Ay)^\\top \\right]=A(S+mm^\\top)A^\\top$, where $y\\sim \\mathcal{N}\\left( m, S \\right)$. Then:\n",
      "\n",
      "$$\n",
      "\\begin{align*}\n",
      "&= \\mathcal{N}\\left( x_s \\ \\big\\vert\\ \\mu, \\hat{W} + \\Sigma \\right)\\left( - \\frac{1}{2}\\hat{W}^{-1} + \\frac{1}{2}E\\left[(\\hat{W}^{-1}y)(\\hat{W}^{-1}y)^\\top\\right] \\right)\\\\\\\\\n",
      "&=\\mathcal{N}\\left( x_s \\ \\big\\vert\\ \\mu, \\hat{W} + \\Sigma \\right)\\left( - \\frac{1}{2}\\hat{W}^{-1} + \\frac{1}{2}\\hat{W}^{-1}(S+mm^\\top)\\hat{W}^{-1}\\right)\\\\\\\\\n",
      "&= \\mathcal{N}\\left( x_s \\ \\big\\vert\\ \\mu, \\hat{W} + \\Sigma \\right)\\left[ - \\frac{1}{2}\\hat{W}^{-1} + \\frac{1}{2}\\hat{W}^{-1}\\left(\\Sigma-\\Sigma(\\hat{W}+\\Sigma)^{-1}\\Sigma + \\left( \\Sigma(\\hat{W}+\\Sigma)^{-1}-1\\right)(x_s-\\mu)(x_s-\\mu)^\\top \\left( \\Sigma(\\hat{W}+\\Sigma)^{-1}\\Sigma-1 \\right)\\right)\\hat{W}^{-1}\\right]\n",
      "\\end{align*}\n",
      "$$"
     ]
    }
   ],
   "metadata": {}
  }
 ]
}