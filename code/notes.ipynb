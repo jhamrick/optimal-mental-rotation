{
 "metadata": {
  "name": "notes"
 },
 "nbformat": 3,
 "nbformat_minor": 0,
 "worksheets": [
  {
   "cells": [
    {
     "cell_type": "markdown",
     "source": [
      "# Optimal Experiment Design of Mental Rotation Tasks"
     ]
    },
    {
     "cell_type": "code",
     "collapsed": false,
     "input": [
      "# imports\n",
      "%pylab inline\n",
      "import util\n",
      "import plots\n",
      "import model\n",
      "\n",
      "from IPython.core.display import Image, display_png\n",
      "from snippets.ipynb import clear_output\n",
      "from snippets.stats import normalize\n",
      "from snippets.graphing import save as savefig\n",
      "\n",
      "np.seterr(all='raise')\n",
      "clear_output()"
     ],
     "language": "python",
     "outputs": [],
     "prompt_number": 1
    },
    {
     "cell_type": "code",
     "collapsed": false,
     "input": [
      "# global options\n",
      "opt = util.load_opt()\n",
      "opt"
     ],
     "language": "python",
     "outputs": [
      {
       "output_type": "pyout",
       "prompt_number": 2,
       "text": [
        "{'dr': 22.5,\n",
        " 'h': 0.125,\n",
        " 'kernel': 'periodic',\n",
        " 'npoints': 5,\n",
        " 'nsamps': 20,\n",
        " 'nstim': 100,\n",
        " 'ntry_bq': 5,\n",
        " 'ntry_vm': 50,\n",
        " 'p': 1,\n",
        " 'prior_R': 0.15915494309189535,\n",
        " 's': 0,\n",
        " 'save': True,\n",
        " 'scale': 1,\n",
        " 'sigma_p': 0.05,\n",
        " 'sigma_s': 0.2,\n",
        " 'verbose': 0}"
       ]
      }
     ],
     "prompt_number": 2
    },
    {
     "cell_type": "markdown",
     "source": [
      "# Problem Domain\n",
      "\n",
      "People are presented with two images, $X_a$ and $X_b$, which are the\n",
      "coordinates of the vertices of two shapes.  Participants must\n",
      "determine whether $X_a$ and $X_b$ were generated from the same (albeit\n",
      "possibly transformed and permuted) original shape, i.e., whether\n",
      "$\\exists R,M\\textrm{ s.t. } X_b=MRX_a$, where $M$ is a permutation\n",
      "matrix and $R$ is a rotation matrix."
     ]
    },
    {
     "cell_type": "code",
     "collapsed": false,
     "input": [
      "# load the stimulus\n",
      "hyp = 1\n",
      "num = '002'\n",
      "stimname = '%s_h%d' % (num, hyp)\n",
      "theta, Xa, Xb, Xm, Ia, Ib, Im, R = util.load_stimulus(stimname)"
     ],
     "language": "python",
     "outputs": [],
     "prompt_number": 3
    },
    {
     "cell_type": "code",
     "collapsed": false,
     "input": [
      "# the actual angle of rotation\n",
      "print \"theta:\", theta"
     ],
     "language": "python",
     "outputs": [
      {
       "output_type": "stream",
       "stream": "stdout",
       "text": [
        "theta: 4.41292698202\n"
       ]
      }
     ],
     "prompt_number": 4
    },
    {
     "cell_type": "code",
     "collapsed": false,
     "input": [
      "# plot the stimuli\n",
      "plots.stimuli_shapes(X_a=Xa, X_b=Xb)\n",
      "if opt['save']:\n",
      "    savefig(\"../figures/stimuli_shapes.pdf\", close=False)"
     ],
     "language": "python",
     "outputs": [
      {
       "output_type": "display_data",
       "png": "[encoded data removed]"
      }
     ],
     "prompt_number": 5
    },
    {
     "cell_type": "code",
     "collapsed": false,
     "input": [
      "# plot the stimuli\n",
      "plots.stimuli_samples(I_a=Ia, I_b=Ib)\n",
      "if opt['save']:\n",
      "    savefig(\"../figures/stimuli_samples.pdf\", close=False)"
     ],
     "language": "python",
     "outputs": [
      {
       "output_type": "display_data",
       "png": "[encoded data removed]"
      }
     ],
     "prompt_number": 6
    },
    {
     "cell_type": "markdown",
     "source": [
      "# Computational Model\n",
      "\n",
      "We can formulate the judgment of whether $X_a$ and $X_b$ have the same\n",
      "origins by deciding about two hypotheses:\n",
      "\n",
      "* $h_0$: $\\forall M,R\\ X_b\\neq MRX_a$\n",
      "* $h_1$: $\\exists M,R\\textrm{ s.t. } X_b=MRX_a$\n",
      "\n",
      "To compare the hypotheses, we need to compute the likelihood of each\n",
      "hypothesis, i.e. $ p(X_a,\\ X_b\\ |\\ h_0)$ and $ p(X_a,\\ X_b\\ |\\ h_1)$."
     ]
    },
    {
     "cell_type": "markdown",
     "source": [
      "## Likelihood when the configurations are distinct\n",
      "\n",
      "The likelihood is easy to compute under $h_0$, because we assume that\n",
      "$X_a$ and $X_b$ are independent. Thus:\n",
      "$$\n",
      " p(X_a,\\ X_b\\ |\\ h_0)=p(X_a)p(X_b)\n",
      "$$"
     ]
    },
    {
     "cell_type": "markdown",
     "source": [
      "## Likelihood when the configurations are equivalent\n",
      "\n",
      "When the configurations are the same, the likelihood becomes more\n",
      "complicated:\n",
      "$$ p(X_a,\\ X_b\\ |\\ h_1)=\\int_R\\int_M p(X_a) p(X_b|X_a,R,M) p(R) p(M)\\ \\mathrm{d}M\\ \\mathrm{d}R$$\n",
      "\n",
      "For a small number of vertices, we can compute the integral over $M$\n",
      "by enumerating every possible mapping between $X_a$ and $X_b$. After\n",
      "doing so, we obtain:\n",
      "$$ p(X_a,\\ X_b\\ |\\ h_1)=\\int_R p(X_a) p(X_b|X_a,R) p(R)\\ \\mathrm{d}R$$\n",
      "\n",
      "However, we cannot compute $p(X_b|X_a, R)$ directly. Instead, we\n",
      "introduce a new variable $X_R$ denoting a mental image, which\n",
      "approximates $RX_a$. The $X_R$ are generated sequentially by repeated\n",
      "application of a function $\\tau$:\n",
      "$$\n",
      "\\begin{aligned}\n",
      "X_R&=RX_a\\\\\n",
      "&=\\tau(X_{R-r}, r)\\\\\n",
      "&=\\tau(\\tau(X_{R-2r}, r), r)\\\\\n",
      "&\\ldots{}\\\\\n",
      "&=\\tau^{(\\frac{R}{r})}(X_a, r)\n",
      "\\end{aligned}\n",
      "$$\n",
      "Where $r$ is a small angle, and $\\tau^{(i)}$ indicates $i$ recursive\n",
      "applications of $\\tau$. Using this sequential function, we get:\n",
      "$$\n",
      "\\begin{aligned}\n",
      "p(X_a, X_b\\ |\\ h_1)&=\\int_R \\int_{X} p(X_b|X) p(X|X_a, R)p(X_a)p(R)\\ \\mathrm{d}X\\ \\mathrm{d}R\\\\\n",
      "x&= \\int_R \\int_X p(X_b|X)\\delta(\\tau^{(\\frac{R}{r})}(X_a, r)-X)p(X_a)p(R)\\ \\mathrm{d}X\\ \\mathrm{d}R\\\\\n",
      "&= \\int_R p(X_b|X_R)p(X_a)p(R)\\ \\mathrm{d}R\n",
      "\\end{aligned}\n",
      "$$"
     ]
    },
    {
     "cell_type": "markdown",
     "source": [
      "## Likelihood ratio\n",
      "\n",
      "Once we have computed both likelihoods, we compute their ratio:\n",
      "$$\\ell=\\frac{p(X_a, X_b\\ |\\ h_1)}{p(X_a, X_b\\ |\\ h_0)}$$\n",
      "If $\\ell<1$, then $h_0$ is the more likely hypothesis. If $\\ell>1$,\n",
      "then $h_1$ is the more likely hypothesis."
     ]
    },
    {
     "cell_type": "markdown",
     "source": [
      "# Algorithmic Implementation"
     ]
    },
    {
     "cell_type": "markdown",
     "source": [
      "## Likelihood when the configurations are distinct"
     ]
    },
    {
     "cell_type": "markdown",
     "source": [
      "We define the prior probabilities over stimuli based on how they are\n",
      "generated.  For shapes with $n$ vertices, each vertex is at a random\n",
      "angle with a radius random chosen between 0 and 1, in polar\n",
      "coordinates, and could be chosen in any of $n!$ different ways. Thus,\n",
      "the prior over shapes is:\n",
      "$$p(X)=n!\\left(\\frac{1}{2\\pi}\\right)^n$$\n",
      "And so the joint likelihood is just:\n",
      "$$p(X_a, X_b\\ |\\ h_0)=\\left[n!\\left(\\frac{1}{2\\pi}\\right)^n\\right]^2$$"
     ]
    },
    {
     "cell_type": "code",
     "collapsed": false,
     "input": [
      "# compute the joint probability of hypothesis 0\n",
      "p_Xa = model.prior_X(Xa)\n",
      "p_Xb = model.prior_X(Xb)\n",
      "p_XaXb_h0 = p_Xa * p_Xb\n",
      "print \"log p(Xa, Xb | h0) = %f\" % np.log(p_XaXb_h0)"
     ],
     "language": "python",
     "outputs": [
      {
       "output_type": "stream",
       "stream": "stdout",
       "text": [
        "log p(Xa, Xb | h0) = -8.803787\n"
       ]
      }
     ],
     "prompt_number": 7
    },
    {
     "cell_type": "markdown",
     "source": [
      "## Likelihood when the configurations are equivalent\n",
      "\n",
      "We cannot know the quantity $p(X_b|X_R)$ exactly, so we approximate it\n",
      "with a similarity function $S(X_b, X_R)$, which also takes into\n",
      "account the different possible mappings of vertices. There are $n$\n",
      "mappings $M$ of the $n$ vertices: because some vertices are connected\n",
      "to form a closed loop, we assume the uncertainty is only in which is\n",
      "the \"first\" vertex. So, the possible orderings are of the form $M=\\lbrace{}0,\n",
      "1, \\ldots{}, n\\rbrace{}$, $M=\\lbrace{}n, 0, \\ldots{}, n-1\\rbrace{}$, and so on. This gives\n",
      "us the final form of the similarity function:\n",
      "$$S(X_b, X_R)=\\frac{1}{n}\\sum_{M\\in\\mathbb{M}}\\prod_{i=1}^n\\mathcal{N}(X_b[i]\\ |\\ (MX_R)[i], \\Sigma)$$\n",
      "Where $i$ denotes the $i^{th}$ vertex. We do not know the closed,\n",
      "analytic form of this function, but we can evaluate it for any $X_b$\n",
      "and $X_R$. Given this, the desired quantity for $h_1$ becomes:\n",
      "$$Z = p(X_a,X_b\\ |\\ h_1)\\approx \\int_R S(X_b, X_R)p(X_a)p(R)\\ \\mathrm{d}R$$\n",
      "Note that for brevity, from here on we will refer to $p(X_a, X_b\\ |\\\n",
      "h_1)$ as $Z$.\n",
      "\n",
      "Finally, computing any single $X_R$ is a costly operation in that it\n",
      "is both a lengthy operation and memory-intensive, so we want to\n",
      "minimize the number of $X_R$ that are computed.  With this in mind, we\n",
      "now examine several different approaches to estimating $S$ and,\n",
      "ultimately, $Z$."
     ]
    },
    {
     "cell_type": "markdown",
     "source": [
      "### Gold standard\n",
      "\n",
      "For comparison, we compute a \"gold standard\" by evaluating $S(X_b,\n",
      "X_R)$ at 360 values spaced evenly between $0$ and $2\\pi$."
     ]
    },
    {
     "cell_type": "code",
     "collapsed": false,
     "input": [
      "# run the naive model\n",
      "gs = []\n",
      "for i in xrange(Ib.shape[0]):\n",
      "    gs.append(model.GoldStandard(Ia[i], Ib[i], Im[:, i], R, **opt))\n",
      "    gs[i].run()"
     ],
     "language": "python",
     "outputs": [
      {
       "output_type": "stream",
       "stream": "stdout",
       "text": [
        "Z = 0.106457\n",
        "p(Xa, Xb | h1) / p(Xa, Xb | h0) = 2.183399  [2.183399, 2.183399]\n",
        "--> Hypothesis 1 is more likely\n",
        "Z = 0.117118"
       ]
      },
      {
       "output_type": "stream",
       "stream": "stdout",
       "text": [
        "\n",
        "p(Xa, Xb | h1) / p(Xa, Xb | h0) = 2.402044  [2.402044, 2.402044]\n",
        "--> Hypothesis 1 is more likely\n",
        "Z = 0.131021"
       ]
      },
      {
       "output_type": "stream",
       "stream": "stdout",
       "text": [
        "\n",
        "p(Xa, Xb | h1) / p(Xa, Xb | h0) = 2.687200  [2.687200, 2.687200]\n",
        "--> Hypothesis 1 is more likely\n",
        "Z = 0.090102"
       ]
      },
      {
       "output_type": "stream",
       "stream": "stdout",
       "text": [
        "\n",
        "p(Xa, Xb | h1) / p(Xa, Xb | h0) = 1.847969  [1.847969, 1.847969]\n",
        "--> Hypothesis 1 is more likely\n",
        "Z = 0.112116"
       ]
      },
      {
       "output_type": "stream",
       "stream": "stdout",
       "text": [
        "\n",
        "p(Xa, Xb | h1) / p(Xa, Xb | h0) = 2.299451  [2.299451, 2.299451]\n",
        "--> Hypothesis 1 is more likely\n",
        "Z = 0.102738"
       ]
      },
      {
       "output_type": "stream",
       "stream": "stdout",
       "text": [
        "\n",
        "p(Xa, Xb | h1) / p(Xa, Xb | h0) = 2.107127  [2.107127, 2.107127]\n",
        "--> Hypothesis 1 is more likely\n",
        "Z = 0.118199"
       ]
      },
      {
       "output_type": "stream",
       "stream": "stdout",
       "text": [
        "\n",
        "p(Xa, Xb | h1) / p(Xa, Xb | h0) = 2.424224  [2.424224, 2.424224]\n",
        "--> Hypothesis 1 is more likely\n",
        "Z = 0.107061"
       ]
      },
      {
       "output_type": "stream",
       "stream": "stdout",
       "text": [
        "\n",
        "p(Xa, Xb | h1) / p(Xa, Xb | h0) = 2.195777  [2.195777, 2.195777]\n",
        "--> Hypothesis 1 is more likely\n",
        "Z = 0.114790"
       ]
      },
      {
       "output_type": "stream",
       "stream": "stdout",
       "text": [
        "\n",
        "p(Xa, Xb | h1) / p(Xa, Xb | h0) = 2.354304  [2.354304, 2.354304]\n",
        "--> Hypothesis 1 is more likely\n",
        "Z = 0.109075"
       ]
      },
      {
       "output_type": "stream",
       "stream": "stdout",
       "text": [
        "\n",
        "p(Xa, Xb | h1) / p(Xa, Xb | h0) = 2.237084  [2.237084, 2.237084]\n",
        "--> Hypothesis 1 is more likely\n",
        "Z = 0.105562"
       ]
      },
      {
       "output_type": "stream",
       "stream": "stdout",
       "text": [
        "\n",
        "p(Xa, Xb | h1) / p(Xa, Xb | h0) = 2.165041  [2.165041, 2.165041]\n",
        "--> Hypothesis 1 is more likely\n",
        "Z = 0.105946"
       ]
      },
      {
       "output_type": "stream",
       "stream": "stdout",
       "text": [
        "\n",
        "p(Xa, Xb | h1) / p(Xa, Xb | h0) = 2.172908  [2.172908, 2.172908]\n",
        "--> Hypothesis 1 is more likely\n",
        "Z = 0.112994"
       ]
      },
      {
       "output_type": "stream",
       "stream": "stdout",
       "text": [
        "\n",
        "p(Xa, Xb | h1) / p(Xa, Xb | h0) = 2.317465  [2.317465, 2.317465]\n",
        "--> Hypothesis 1 is more likely\n",
        "Z = 0.104165"
       ]
      },
      {
       "output_type": "stream",
       "stream": "stdout",
       "text": [
        "\n",
        "p(Xa, Xb | h1) / p(Xa, Xb | h0) = 2.136387  [2.136387, 2.136387]\n",
        "--> Hypothesis 1 is more likely\n",
        "Z = 0.123032"
       ]
      },
      {
       "output_type": "stream",
       "stream": "stdout",
       "text": [
        "\n",
        "p(Xa, Xb | h1) / p(Xa, Xb | h0) = 2.523337  [2.523337, 2.523337]\n",
        "--> Hypothesis 1 is more likely\n",
        "Z = 0.111665"
       ]
      },
      {
       "output_type": "stream",
       "stream": "stdout",
       "text": [
        "\n",
        "p(Xa, Xb | h1) / p(Xa, Xb | h0) = 2.290213  [2.290213, 2.290213]\n",
        "--> Hypothesis 1 is more likely\n",
        "Z = 0.110938"
       ]
      },
      {
       "output_type": "stream",
       "stream": "stdout",
       "text": [
        "\n",
        "p(Xa, Xb | h1) / p(Xa, Xb | h0) = 2.275294  [2.275294, 2.275294]\n",
        "--> Hypothesis 1 is more likely\n",
        "Z = 0.115525"
       ]
      },
      {
       "output_type": "stream",
       "stream": "stdout",
       "text": [
        "\n",
        "p(Xa, Xb | h1) / p(Xa, Xb | h0) = 2.369370  [2.369370, 2.369370]\n",
        "--> Hypothesis 1 is more likely\n",
        "Z = 0.123212"
       ]
      },
      {
       "output_type": "stream",
       "stream": "stdout",
       "text": [
        "\n",
        "p(Xa, Xb | h1) / p(Xa, Xb | h0) = 2.527030  [2.527030, 2.527030]\n",
        "--> Hypothesis 1 is more likely\n",
        "Z = 0.109652"
       ]
      },
      {
       "output_type": "stream",
       "stream": "stdout",
       "text": [
        "\n",
        "p(Xa, Xb | h1) / p(Xa, Xb | h0) = 2.248921  [2.248921, 2.248921]\n",
        "--> Hypothesis 1 is more likely\n"
       ]
      }
     ],
     "prompt_number": 8
    },
    {
     "cell_type": "code",
     "collapsed": false,
     "input": [
      "# plot the intermediate steps we took during the regression\n",
      "plots.likelihood(gs)\n",
      "if opt['save']:\n",
      "    savefig(\"../figures/likelihood_function.pdf\", close=False)"
     ],
     "language": "python",
     "outputs": [
      {
       "output_type": "display_data",
       "png": "[encoded data removed]"
      }
     ],
     "prompt_number": 9
    },
    {
     "cell_type": "markdown",
     "source": [
      "### Linear Interpolation\n",
      "\n",
      "Na&#xef;vely, we can simply use linear interpolation to estimate $S$\n",
      "and the trapezoidal rule to estimate $Z$.\n",
      "\n",
      "#### Choosing the sequence of mental images\n",
      "\n",
      "In this na&#xef;ve strategy, we perform a hill-climbing search to find\n",
      "a local maxima. In other words, we rotate in the direction for which\n",
      "there is a local increase in similarity.\n",
      "\n",
      "#### Stopping criterion\n",
      "\n",
      "Because we are using hill-climbing, we choose to stop when we hit a\n",
      "local maxima."
     ]
    },
    {
     "cell_type": "code",
     "collapsed": false,
     "input": [
      "# run the naive model\n",
      "li = []\n",
      "for i in xrange(Ib.shape[0]):\n",
      "    li.append(model.Naive(Ia[i], Ib[i], Im[:, i], R, **opt))\n",
      "    li[i].run()"
     ],
     "language": "python",
     "outputs": [
      {
       "output_type": "stream",
       "stream": "stdout",
       "text": [
        "Z = 0.019159\n",
        "p(Xa, Xb | h1) / p(Xa, Xb | h0) = 0.392947  [0.392947, 0.392947]\n",
        "--> Hypothesis 0 is more likely\n",
        "Z = 0.032573"
       ]
      },
      {
       "output_type": "stream",
       "stream": "stdout",
       "text": [
        "\n",
        "p(Xa, Xb | h1) / p(Xa, Xb | h0) = 0.668066  [0.668066, 0.668066]\n",
        "--> Hypothesis 0 is more likely\n",
        "Z = 0.039795"
       ]
      },
      {
       "output_type": "stream",
       "stream": "stdout",
       "text": [
        "\n",
        "p(Xa, Xb | h1) / p(Xa, Xb | h0) = 0.816171  [0.816171, 0.816171]\n",
        "--> Hypothesis 0 is more likely\n",
        "Z = 0.014044"
       ]
      },
      {
       "output_type": "stream",
       "stream": "stdout",
       "text": [
        "\n",
        "p(Xa, Xb | h1) / p(Xa, Xb | h0) = 0.288035  [0.288035, 0.288035]\n",
        "--> Hypothesis 0 is more likely\n",
        "Z = 0.026307"
       ]
      },
      {
       "output_type": "stream",
       "stream": "stdout",
       "text": [
        "\n",
        "p(Xa, Xb | h1) / p(Xa, Xb | h0) = 0.539554  [0.539554, 0.539554]\n",
        "--> Hypothesis 0 is more likely\n",
        "Z = 0.023910"
       ]
      },
      {
       "output_type": "stream",
       "stream": "stdout",
       "text": [
        "\n",
        "p(Xa, Xb | h1) / p(Xa, Xb | h0) = 0.490392  [0.490392, 0.490392]\n",
        "--> Hypothesis 0 is more likely\n",
        "Z = 0.027145"
       ]
      },
      {
       "output_type": "stream",
       "stream": "stdout",
       "text": [
        "\n",
        "p(Xa, Xb | h1) / p(Xa, Xb | h0) = 0.556742  [0.556742, 0.556742]\n",
        "--> Hypothesis 0 is more likely\n",
        "Z = 0.019441"
       ]
      },
      {
       "output_type": "stream",
       "stream": "stdout",
       "text": [
        "\n",
        "p(Xa, Xb | h1) / p(Xa, Xb | h0) = 0.398736  [0.398736, 0.398736]\n",
        "--> Hypothesis 0 is more likely\n",
        "Z = 0.143297"
       ]
      },
      {
       "output_type": "stream",
       "stream": "stdout",
       "text": [
        "\n",
        "p(Xa, Xb | h1) / p(Xa, Xb | h0) = 2.938969  [2.938969, 2.938969]\n",
        "--> Hypothesis 1 is more likely\n",
        "Z = 0.125015"
       ]
      },
      {
       "output_type": "stream",
       "stream": "stdout",
       "text": [
        "\n",
        "p(Xa, Xb | h1) / p(Xa, Xb | h0) = 2.564005  [2.564005, 2.564005]\n",
        "--> Hypothesis 1 is more likely\n",
        "Z = 0.022292"
       ]
      },
      {
       "output_type": "stream",
       "stream": "stdout",
       "text": [
        "\n",
        "p(Xa, Xb | h1) / p(Xa, Xb | h0) = 0.457208  [0.457208, 0.457208]\n",
        "--> Hypothesis 0 is more likely\n",
        "Z = 0.119539"
       ]
      },
      {
       "output_type": "stream",
       "stream": "stdout",
       "text": [
        "\n",
        "p(Xa, Xb | h1) / p(Xa, Xb | h0) = 2.451709  [2.451709, 2.451709]\n",
        "--> Hypothesis 1 is more likely\n",
        "Z = 0.021162"
       ]
      },
      {
       "output_type": "stream",
       "stream": "stdout",
       "text": [
        "\n",
        "p(Xa, Xb | h1) / p(Xa, Xb | h0) = 0.434021  [0.434021, 0.434021]\n",
        "--> Hypothesis 0 is more likely\n",
        "Z = 0.026629"
       ]
      },
      {
       "output_type": "stream",
       "stream": "stdout",
       "text": [
        "\n",
        "p(Xa, Xb | h1) / p(Xa, Xb | h0) = 0.546141  [0.546141, 0.546141]\n",
        "--> Hypothesis 0 is more likely\n",
        "Z = 0.031767"
       ]
      },
      {
       "output_type": "stream",
       "stream": "stdout",
       "text": [
        "\n",
        "p(Xa, Xb | h1) / p(Xa, Xb | h0) = 0.651524  [0.651524, 0.651524]\n",
        "--> Hypothesis 0 is more likely\n",
        "Z = 0.026511"
       ]
      },
      {
       "output_type": "stream",
       "stream": "stdout",
       "text": [
        "\n",
        "p(Xa, Xb | h1) / p(Xa, Xb | h0) = 0.543740  [0.543740, 0.543740]\n",
        "--> Hypothesis 0 is more likely\n",
        "Z = 0.029211"
       ]
      },
      {
       "output_type": "stream",
       "stream": "stdout",
       "text": [
        "\n",
        "p(Xa, Xb | h1) / p(Xa, Xb | h0) = 0.599105  [0.599105, 0.599105]\n",
        "--> Hypothesis 0 is more likely\n",
        "Z = 0.023377"
       ]
      },
      {
       "output_type": "stream",
       "stream": "stdout",
       "text": [
        "\n",
        "p(Xa, Xb | h1) / p(Xa, Xb | h0) = 0.479461  [0.479461, 0.479461]\n",
        "--> Hypothesis 0 is more likely\n",
        "Z = 0.033198"
       ]
      },
      {
       "output_type": "stream",
       "stream": "stdout",
       "text": [
        "\n",
        "p(Xa, Xb | h1) / p(Xa, Xb | h0) = 0.680869  [0.680869, 0.680869]\n",
        "--> Hypothesis 0 is more likely\n",
        "Z = 0.018942"
       ]
      },
      {
       "output_type": "stream",
       "stream": "stdout",
       "text": [
        "\n",
        "p(Xa, Xb | h1) / p(Xa, Xb | h0) = 0.388484  [0.388484, 0.388484]\n",
        "--> Hypothesis 0 is more likely\n"
       ]
      }
     ],
     "prompt_number": 10
    },
    {
     "cell_type": "code",
     "collapsed": false,
     "input": [
      "# plot the intermediate steps we took during the regression\n",
      "plots.li_regression(li)\n",
      "if opt['save']:\n",
      "    savefig(\"../figures/li_regression.pdf\", close=False)"
     ],
     "language": "python",
     "outputs": [
      {
       "output_type": "display_data",
       "png": "[encoded data removed]"
      }
     ],
     "prompt_number": 11
    },
    {
     "cell_type": "markdown",
     "source": [
      "### Parametric Regression\n",
      "\n",
      "Another strategy is to assume a parametric shape for $S$ and fit the\n",
      "appropriate parameters. Here, we assume the likelihood follows a *Von\n",
      "Mises* distribution:\n",
      "\n",
      "$$S(X_b, X_R) \\approx \\hat{S}_{VM}=\\frac{h}{2\\pi X_0(\\kappa)}e^{\\kappa\\cos(R-\\hat{\\theta})}$$\n",
      "\n",
      "Where $\\kappa$ is the concentration parameter, $\\hat{\\theta}$ is the\n",
      "preferred direction, and $h$ is a scale parameter. We can fit these\n",
      "parameters by minimizing the mean squared error between this PDF and\n",
      "the observed values of $S$ which we are given. Then:\n",
      "\n",
      "$$E[Z\\ |\\ S]\\approx \\int_R \\hat{S}_{VM}p(R)\\ \\mathrm{d}R$$\n",
      "\n",
      "#### Choosing the sequence of mental images\n",
      "\n",
      "As above, we use hill-climbing, with the stopping criteria being when\n",
      "we find a local maxima."
     ]
    },
    {
     "cell_type": "code",
     "collapsed": false,
     "input": [
      "# fit the likelihood for S\n",
      "vm = []\n",
      "for i in xrange(Ib.shape[0]):\n",
      "    vm.append(model.VonMises(\n",
      "\tIa[i], Ib[i], Im[:, i], R,\n",
      "\tntry=opt['ntry_vm'], **opt))\n",
      "    vm[i].run()"
     ],
     "language": "python",
     "outputs": [
      {
       "output_type": "stream",
       "stream": "stdout",
       "text": [
        "Z = 0.006230\n",
        "p(Xa, Xb | h1) / p(Xa, Xb | h0) = 0.127783  [0.127783, 0.127783]\n",
        "--> Hypothesis 0 is more likely\n",
        "Z = 1.689722"
       ]
      },
      {
       "output_type": "stream",
       "stream": "stdout",
       "text": [
        "\n",
        "p(Xa, Xb | h1) / p(Xa, Xb | h0) = 34.655574  [34.655574, 34.655574]\n",
        "--> Hypothesis 1 is more likely\n",
        "Z = 0.022118"
       ]
      },
      {
       "output_type": "stream",
       "stream": "stdout",
       "text": [
        "\n",
        "p(Xa, Xb | h1) / p(Xa, Xb | h0) = 0.453639  [0.453639, 0.453639]\n",
        "--> Hypothesis 0 is more likely\n",
        "Z = 0.004415"
       ]
      },
      {
       "output_type": "stream",
       "stream": "stdout",
       "text": [
        "\n",
        "p(Xa, Xb | h1) / p(Xa, Xb | h0) = 0.090551  [0.090551, 0.090551]\n",
        "--> Hypothesis 0 is more likely\n",
        "Z = 0.008134"
       ]
      },
      {
       "output_type": "stream",
       "stream": "stdout",
       "text": [
        "\n",
        "p(Xa, Xb | h1) / p(Xa, Xb | h0) = 0.166817  [0.166817, 0.166817]\n",
        "--> Hypothesis 0 is more likely\n",
        "Z = 0.007889"
       ]
      },
      {
       "output_type": "stream",
       "stream": "stdout",
       "text": [
        "\n",
        "p(Xa, Xb | h1) / p(Xa, Xb | h0) = 0.161790  [0.161790, 0.161790]\n",
        "--> Hypothesis 0 is more likely\n",
        "Z = 0.037848"
       ]
      },
      {
       "output_type": "stream",
       "stream": "stdout",
       "text": [
        "\n",
        "p(Xa, Xb | h1) / p(Xa, Xb | h0) = 0.776254  [0.776254, 0.776254]\n",
        "--> Hypothesis 0 is more likely\n",
        "Z = 0.006393"
       ]
      },
      {
       "output_type": "stream",
       "stream": "stdout",
       "text": [
        "\n",
        "p(Xa, Xb | h1) / p(Xa, Xb | h0) = 0.131112  [0.131112, 0.131112]\n",
        "--> Hypothesis 0 is more likely\n",
        "Z = 0.093769"
       ]
      },
      {
       "output_type": "stream",
       "stream": "stdout",
       "text": [
        "\n",
        "p(Xa, Xb | h1) / p(Xa, Xb | h0) = 1.923159  [1.923159, 1.923159]\n",
        "--> Hypothesis 1 is more likely\n",
        "Z = 0.091606"
       ]
      },
      {
       "output_type": "stream",
       "stream": "stdout",
       "text": [
        "\n",
        "p(Xa, Xb | h1) / p(Xa, Xb | h0) = 1.878797  [1.878797, 1.878797]\n",
        "--> Hypothesis 1 is more likely\n",
        "Z = 0.007123"
       ]
      },
      {
       "output_type": "stream",
       "stream": "stdout",
       "text": [
        "\n",
        "p(Xa, Xb | h1) / p(Xa, Xb | h0) = 0.146100  [0.146100, 0.146100]\n",
        "--> Hypothesis 0 is more likely\n",
        "Z = 0.087968"
       ]
      },
      {
       "output_type": "stream",
       "stream": "stdout",
       "text": [
        "\n",
        "p(Xa, Xb | h1) / p(Xa, Xb | h0) = 1.804195  [1.804195, 1.804195]\n",
        "--> Hypothesis 1 is more likely\n",
        "Z = 0.007809"
       ]
      },
      {
       "output_type": "stream",
       "stream": "stdout",
       "text": [
        "\n",
        "p(Xa, Xb | h1) / p(Xa, Xb | h0) = 0.160167  [0.160167, 0.160167]\n",
        "--> Hypothesis 0 is more likely\n",
        "Z = 0.157677"
       ]
      },
      {
       "output_type": "stream",
       "stream": "stdout",
       "text": [
        "\n",
        "p(Xa, Xb | h1) / p(Xa, Xb | h0) = 3.233902  [3.233902, 3.233902]\n",
        "--> Hypothesis 1 is more likely\n",
        "Z = 1.281210"
       ]
      },
      {
       "output_type": "stream",
       "stream": "stdout",
       "text": [
        "\n",
        "p(Xa, Xb | h1) / p(Xa, Xb | h0) = 26.277147  [26.277147, 26.277147]\n",
        "--> Hypothesis 1 is more likely\n",
        "Z = 0.008591"
       ]
      },
      {
       "output_type": "stream",
       "stream": "stdout",
       "text": [
        "\n",
        "p(Xa, Xb | h1) / p(Xa, Xb | h0) = 0.176205  [0.176205, 0.176205]\n",
        "--> Hypothesis 0 is more likely\n",
        "Z = 0.011470"
       ]
      },
      {
       "output_type": "stream",
       "stream": "stdout",
       "text": [
        "\n",
        "p(Xa, Xb | h1) / p(Xa, Xb | h0) = 0.235251  [0.235251, 0.235251]\n",
        "--> Hypothesis 0 is more likely\n",
        "Z = 0.010800"
       ]
      },
      {
       "output_type": "stream",
       "stream": "stdout",
       "text": [
        "\n",
        "p(Xa, Xb | h1) / p(Xa, Xb | h0) = 0.221510  [0.221510, 0.221510]\n",
        "--> Hypothesis 0 is more likely\n",
        "Z = 0.568093"
       ]
      },
      {
       "output_type": "stream",
       "stream": "stdout",
       "text": [
        "\n",
        "p(Xa, Xb | h1) / p(Xa, Xb | h0) = 11.651391  [11.651391, 11.651391]\n",
        "--> Hypothesis 1 is more likely\n",
        "Z = 0.023701"
       ]
      },
      {
       "output_type": "stream",
       "stream": "stdout",
       "text": [
        "\n",
        "p(Xa, Xb | h1) / p(Xa, Xb | h0) = 0.486107  [0.486107, 0.486107]\n",
        "--> Hypothesis 0 is more likely\n"
       ]
      }
     ],
     "prompt_number": 12
    },
    {
     "cell_type": "code",
     "collapsed": false,
     "input": [
      "reload(plots)\n",
      "# plot the intermediate steps we took during the regression\n",
      "plots.vm_regression(vm)\n",
      "if opt['save']:\n",
      "    savefig(\"../figures/vm_regression.pdf\", close=False)"
     ],
     "language": "python",
     "outputs": [
      {
       "output_type": "display_data",
       "png": "[encoded data removed]"
      }
     ],
     "prompt_number": 13
    },
    {
     "cell_type": "markdown",
     "source": [
      "### Bayesian Quadrature\n",
      "\n",
      "A more flexible strategy uses what is known as *Bayesian quadrature*\n",
      "\\cite{Diaconis:1988uo,OHagan:1991tx} to estimate $Z$. Bayesian\n",
      "quadrature allows us to compute a posterior distrbution over $Z$ by\n",
      "placing a Gaussian Process (GP) \\cite{Rasmussen:2006vz} prior on the\n",
      "log likelihood function $\\log S$ and evaluating $\\log S$ at a\n",
      "particular set of points. For our purposes, we choose these points to\n",
      "be a sequence of $N$ consecutive mental rotations be\n",
      "$\\mathbf{R}=\\{R_1, \\ldots{}, R_N\\}$. To obtain a single estimate of\n",
      "$Z$, we want compute the posterior mean:\n",
      "$$E[Z\\ |\\ \\log S]=\\int_{\\log S}\\left(\\int_R \\exp(\\log{S(X_b,X_R)})p(R)\\ \\mathrm{d}R\\right)\\mathcal{N}\\left(\\log{S}\\ |\\ \\mu_{\\log S}, \\Sigma_{\\log S}\\right)\\ \\mathrm{d}\\log S$$\n",
      "As in \\cite{Osborne:2012tm}, we can approximate this with: $$E[Z\\ |\\\n",
      "\\log S] \\approx \\int_R \\mu_{S}(1 + \\mu_\\Delta) p(R)\\ \\mathrm{d}R$$\n",
      "Where $\\mu_x$ is the mean of a GP, as follows:\n",
      "\n",
      "* $\\mu_\\Delta$ is a regression over $\\Delta=\\mu_{\\log S} - \\log \\mu_S$\n",
      "  given $\\mathbf{R}_\\Delta$, which consists of $\\mathbf{R}$ and a set\n",
      "  of intermediate *candidate points*, as described in\n",
      "  \\cite{Osborne:2012tm}.\n",
      "* $\\mu_S$ is the mean of a GP regression over $S$ given $\\mathbf{R}$.\n",
      "* $\\mu_{\\log S}$ is the mean of a GP regression over $\\log S$ given\n",
      "  $\\mathbf{R}$."
     ]
    },
    {
     "cell_type": "markdown",
     "source": [
      "#### Choosing the sequence of mental images\n",
      "\n",
      "Because we can only evaluate $S(X_a, X_R)$ at a small number $k$ of\n",
      "rotations, we must make an explicit decision about which\n",
      "$\\mathbf{R}=\\{R_1, \\ldots{}, R_k\\}$ to use.  Ideally, we should choose\n",
      "$\\mathbf{R}$ such that it will give us the best approximation of\n",
      "$p(X_a, X_b|h_1)$. One option is to choose each $R_i$ in a greedy\n",
      "manner to minimize the variance of $Z$ (i.e. give a more accurate\n",
      "estimate of $S$)."
     ]
    },
    {
     "cell_type": "code",
     "collapsed": false,
     "input": [
      "# fit the likelihood for S\n",
      "bq = model.BayesianQuadrature(\n",
      "    Xa, Xb, Xm, R, \n",
      "    ntry=opt['ntry_bq'],\n",
      "    **opt)\n",
      "bq.run()"
     ],
     "language": "python",
     "outputs": [
      {
       "output_type": "stream",
       "stream": "stdout",
       "text": [
        "Z = 0.101792  [0.052119, 0.151465]\n",
        "p(Xa, Xb | h1) / p(Xa, Xb | h0) = 2.087720  [1.068940, 3.106499]\n",
        "--> Hypothesis 1 is more likely\n"
       ]
      }
     ],
     "prompt_number": 13
    },
    {
     "cell_type": "code",
     "collapsed": false,
     "input": [
      "# plot the intermediate steps we took during the regression\n",
      "plots.bq_regression(bq)\n",
      "if opt['save']:\n",
      "    savefig(\"../figures/bq_regression.pdf\", close=False)"
     ],
     "language": "python",
     "outputs": [
      {
       "output_type": "display_data",
       "png": "[encoded data removed]"
      }
     ],
     "prompt_number": 14
    },
    {
     "cell_type": "markdown",
     "source": [
      "#### Stopping criterion"
     ]
    },
    {
     "cell_type": "markdown",
     "source": [
      "\\bibliographystyle{ieeetr}\n",
      "\\bibliography{references}"
     ]
    }
   ]
  }
 ]
}