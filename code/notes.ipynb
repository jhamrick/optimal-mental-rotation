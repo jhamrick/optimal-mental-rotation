{
 "metadata": {
  "name": "notes"
 },
 "nbformat": 3,
 "nbformat_minor": 0,
 "worksheets": [
  {
   "cells": [
    {
     "cell_type": "markdown",
     "source": [
      "# Optimal Experiment Design of Mental Rotation Tasks"
     ]
    },
    {
     "cell_type": "code",
     "collapsed": false,
     "input": [
      "# imports\n",
      "%pylab inline\n",
      "import util\n",
      "import plots\n",
      "import model\n",
      "\n",
      "from IPython.core.display import Image, display_png\n",
      "from snippets.ipynb import clear_output\n",
      "from snippets.stats import normalize\n",
      "from snippets.graphing import save as savefig\n",
      "\n",
      "clear_output()"
     ],
     "language": "python",
     "outputs": [],
     "prompt_number": 1
    },
    {
     "cell_type": "code",
     "collapsed": false,
     "input": [
      "# global config\n",
      "np.seterr(all='warn')\n",
      "rso = random.RandomState(0)\n",
      "fsave = False\n",
      "\n",
      "hyp = 1\n",
      "num = '000'\n",
      "#num = '001'\n",
      "#num = '002'\n",
      "#num = '004'\n",
      "#num = '005'\n",
      "\n",
      "# data scale, to avoid underflow\n",
      "SCALE = 50\n",
      "# sigma, used in similarity function\n",
      "SIGMA = 0.05\n",
      "# prior over angles\n",
      "pR = 1 / 360.\n",
      "# the amount we rotate by\n",
      "dr = 20\n",
      "# print extra information\n",
      "verbose = False"
     ],
     "language": "python",
     "outputs": [],
     "prompt_number": 2
    },
    {
     "cell_type": "markdown",
     "source": [
      "# Problem Domain\n",
      "\n",
      "People are presented with two images, $X_a$ and $X_b$, which are the\n",
      "coordinates of the vertices of two shapes.  Participants must\n",
      "determine whether $X_a$ and $X_b$ were generated from the same (albeit\n",
      "possibly transformed and permuted) original shape, i.e., whether\n",
      "$\\exists R,M\\textrm{ s.t. } X_b=MRX_a$, where $M$ is a permutation\n",
      "matrix and $R$ is a rotation matrix."
     ]
    },
    {
     "cell_type": "code",
     "collapsed": false,
     "input": [
      "# load the stimulus\n",
      "stimname = 'h%d_%s' % (hyp, num)\n",
      "theta, Xa, Xb, Xm, R = util.load_stimulus(stimname)"
     ],
     "language": "python",
     "outputs": [],
     "prompt_number": 3
    },
    {
     "cell_type": "code",
     "collapsed": false,
     "input": [
      "# scale the similarities, so we don't get underflow\n",
      "Sr_scale = (Xa.shape[0]-1) / (2 * pi * SIGMA) * SCALE\n",
      "Sr = np.array([model.similarity(Xb, X, sf=SIGMA) for X in Xm]) * Sr_scale"
     ],
     "language": "python",
     "outputs": [],
     "prompt_number": 4
    },
    {
     "cell_type": "code",
     "collapsed": false,
     "input": [
      "# the actual angle of rotation\n",
      "print \"theta:\", theta"
     ],
     "language": "python",
     "outputs": [
      {
       "output_type": "stream",
       "stream": "stdout",
       "text": [
        "theta: 3.44829694426\n"
       ]
      }
     ],
     "prompt_number": 5
    },
    {
     "cell_type": "code",
     "collapsed": false,
     "input": [
      "# plot the stimuli\n",
      "plots.stimuli_shapes(X_a=Xa, X_b=Xb)\n",
      "if fsave:\n",
      "    savefig(\"../figures/stimuli_shapes.pdf\", close=False)"
     ],
     "language": "python",
     "outputs": [
      {
       "output_type": "display_data",
       "png": "[encoded data removed]"
      }
     ],
     "prompt_number": 6
    },
    {
     "cell_type": "markdown",
     "source": [
      "# Computational Model\n",
      "\n",
      "We can formulate the judgment of whether $X_a$ and $X_b$ have the same\n",
      "origins by deciding about two hypotheses:\n",
      "\n",
      "* $h_0$: $\\forall M,R\\ X_b\\neq MRX_a$\n",
      "* $h_1$: $\\exists M,R\\textrm{ s.t. } X_b=MRX_a$\n",
      "\n",
      "To compare the hypotheses, we need to compute the likelihood of each\n",
      "hypothesis, i.e. $ p(X_a,\\ X_b\\ |\\ h_0)$ and $ p(X_a,\\ X_b\\ |\\ h_1)$."
     ]
    },
    {
     "cell_type": "markdown",
     "source": [
      "## Likelihood when the configurations are distinct\n",
      "\n",
      "The likelihood is easy to compute under $h_0$, because we assume that\n",
      "$X_a$ and $X_b$ are independent. Thus:\n",
      "$$\n",
      " p(X_a,\\ X_b\\ |\\ h_0)=p(X_a)p(X_b)\n",
      "$$"
     ]
    },
    {
     "cell_type": "markdown",
     "source": [
      "## Likelihood when the configurations are equivalent\n",
      "\n",
      "When the configurations are the same, the likelihood becomes more\n",
      "complicated:\n",
      "$$ p(X_a,\\ X_b\\ |\\ h_1)=\\int_R\\int_M p(X_a) p(X_b|X_a,R,M) p(R) p(M)\\ \\mathrm{d}M\\ \\mathrm{d}R$$\n",
      "\n",
      "For a small number of vertices, we can compute the integral over $M$\n",
      "by enumerating every possible mapping between $X_a$ and $X_b$. After\n",
      "doing so, we obtain:\n",
      "$$ p(X_a,\\ X_b\\ |\\ h_1)=\\int_R p(X_a) p(X_b|X_a,R) p(R)\\ \\mathrm{d}R$$\n",
      "\n",
      "However, we cannot compute $p(X_b|X_a, R)$ directly. Instead, we\n",
      "introduce a new variable $X_R$ denoting a mental image, which\n",
      "approximates $RX_a$. The $X_R$ are generated sequentially by repeated\n",
      "application of a function $\\tau$:\n",
      "$$\n",
      "\\begin{aligned}\n",
      "X_R&=RX_a\\\\\n",
      "&=\\tau(X_{R-r}, r)\\\\\n",
      "&=\\tau(\\tau(X_{R-2r}, r), r)\\\\\n",
      "&\\ldots{}\\\\\n",
      "&=\\tau^{(\\frac{R}{r})}(X_a, r)\n",
      "\\end{aligned}\n",
      "$$\n",
      "Where $r$ is a small angle, and $\\tau^{(i)}$ indicates $i$ recursive\n",
      "applications of $\\tau$. Using this sequential function, we get:\n",
      "$$\n",
      "\\begin{aligned}\n",
      "p(X_a, X_b\\ |\\ h_1)&=\\int_R \\int_{X} p(X_b|X) p(X|X_a, R)p(X_a)p(R)\\ \\mathrm{d}X\\ \\mathrm{d}R\\\\\n",
      "x&= \\int_R \\int_{X_R} p(X_b|X)\\delta(\\tau^{(\\frac{R}{r})}(X_a, r)-X)p(X_a)p(R)\\ \\mathrm{d}X\\ \\mathrm{d}R\\\\\n",
      "&= \\int_R p(X_b|X_R)p(X_a)p(R)\\ \\mathrm{d}R\n",
      "\\end{aligned}\n",
      "$$"
     ]
    },
    {
     "cell_type": "markdown",
     "source": [
      "## Likelihood ratio\n",
      "\n",
      "Once we have computed both likelihoods, we compute their ratio:\n",
      "$$\\ell=\\frac{p(X_a, X_b\\ |\\ h_1)}{p(X_a, X_b\\ |\\ h_0)}$$\n",
      "If $\\ell<1$, then $h_0$ is the more likely hypothesis. If $\\ell>1$,\n",
      "then $h_1$ is the more likely hypothesis."
     ]
    },
    {
     "cell_type": "markdown",
     "source": [
      "# Algorithmic Implementation"
     ]
    },
    {
     "cell_type": "markdown",
     "source": [
      "## Likelihood when the configurations are distinct"
     ]
    },
    {
     "cell_type": "markdown",
     "source": [
      "We define the prior probabilities over stimuli based on how they are\n",
      "generated.  For shapes with $n$ vertices, each vertex is at a random\n",
      "angle with a radius random chosen between 0 and 1, in polar\n",
      "coordinates. Thus, the joint likelihood is:\n",
      "$$p(X_a, X_b\\ |\\ h_0)=\\left(\\frac{1}{2\\pi}\\right)^{2n}$$"
     ]
    },
    {
     "cell_type": "code",
     "collapsed": false,
     "input": [
      "# compute the joint probability of hypothesis 0\n",
      "p_Xa = model.log_prior_X(Xa)\n",
      "p_Xb = model.log_prior_X(Xb)\n",
      "p_XaXb_h0 = p_Xa + p_Xb\n",
      "print \"log p(Xa, Xb | h0) = %f\" % p_XaXb_h0"
     ],
     "language": "python",
     "outputs": [
      {
       "output_type": "stream",
       "stream": "stdout",
       "text": [
        "log p(Xa, Xb | h0) = -18.378771\n"
       ]
      }
     ],
     "prompt_number": 7
    },
    {
     "cell_type": "markdown",
     "source": [
      "## Likelihood when the configurations are equivalent\n",
      "\n",
      "We cannot know the quantity $p(X_b|X_R)$ exactly, so we approximate it\n",
      "with a similarity function $S(X_b, X_R)$, which also takes into\n",
      "account the different possible mappings of vertices. There are $n$\n",
      "mappings $M$ of the $n$ vertices: because some vertices are connected\n",
      "to form a closed loop, we assume the uncertainty is only in which is\n",
      "the \"first\" vertex. So, the possible orderings are of the form $M=\\lbrace{}0,\n",
      "1, \\ldots{}, n\\rbrace{}$, $M=\\lbrace{}n, 0, \\ldots{}, n-1\\rbrace{}$, and so on. This gives\n",
      "us the final form of the similarity function:\n",
      "$$S(X_b, X_R)=\\frac{1}{n}\\sum_{M\\in\\mathbb{M}}\\prod_{i=1}^n\\mathcal{N}(X_b[i]\\ |\\ (MX_R)[i], \\Sigma)$$\n",
      "Where $i$ denotes the $i^{th}$ vertex. We do not know the closed,\n",
      "analytic form of this function, but we can evaluate it for any $X_b$\n",
      "and $X_R$. Given this, the desired quantity for $h_1$ becomes: $$Z =\n",
      "p(X_a,X_b\\ |\\ h_1)\\approx \\int_R S(X_b, X_R)p(R)\\ \\mathrm{d}R$$ Note\n",
      "that for brevity, from here on we will refer to $p(X_a, X_b\\ |\\ h_1)$\n",
      "as $Z$.\n",
      "\n",
      "Finally, computing any single $X_R$ is a costly operation in that it\n",
      "is both a lengthy operation and memory-intensive, so we want to\n",
      "minimize the number of $X_R$ that are computed.  With this in mind, we\n",
      "now examine several different approaches to estimating $S$ and,\n",
      "ultimately, $Z$."
     ]
    },
    {
     "cell_type": "markdown",
     "source": [
      "### Gold standard\n",
      "\n",
      "For comparison, we compute a \"gold standard\" by evaluating $S(X_b,\n",
      "X_R)$ at 360 values spaced evenly between $0$ and $2\\pi$."
     ]
    },
    {
     "cell_type": "code",
     "collapsed": false,
     "input": [
      "# run the naive model\n",
      "gs = model.GoldStandard(R, Sr, dr, pR, verbose=verbose)\n",
      "gs.run()"
     ],
     "language": "python",
     "outputs": [
      {
       "output_type": "stream",
       "stream": "stdout",
       "text": [
        "Z = 3.048861 +/- 0.000000\n"
       ]
      }
     ],
     "prompt_number": 8
    },
    {
     "cell_type": "code",
     "collapsed": false,
     "input": [
      "# plot the intermediate steps we took during the regression\n",
      "plots.likelihood(gs)\n",
      "if fsave:\n",
      "    savefig(\"../figures/likelihood_function.pdf\", close=False)"
     ],
     "language": "python",
     "outputs": [
      {
       "output_type": "display_data",
       "png": "[encoded data removed]"
      }
     ],
     "prompt_number": 9
    },
    {
     "cell_type": "code",
     "collapsed": false,
     "input": [
      "# compute the ratio\n",
      "ratio_naive = model.likelihood_ratio(gs, Sr_scale, p_Xa, p_XaXb_h0)\n",
      "model.ratio_test(ratio_naive)"
     ],
     "language": "python",
     "outputs": [
      {
       "output_type": "stream",
       "stream": "stdout",
       "text": [
        "p(Xa, Xb | h1) / p(Xa, Xb | h0) = 37.518619  [37.518619, 37.518619]\n",
        "\n",
        "--> Hypothesis 1 is more likely\n"
       ]
      }
     ],
     "prompt_number": 10
    },
    {
     "cell_type": "markdown",
     "source": [
      "### Linear Interpolation\n",
      "\n",
      "Na&#xef;vely, we can simply use linear interpolation to estimate $S$\n",
      "and the trapezoidal rule to estimate $Z$.\n",
      "\n",
      "#### Choosing the sequence of mental images\n",
      "\n",
      "In this na&#xef;ve strategy, we perform a hill-climbing search to find\n",
      "a local maxima. In other words, we rotate in the direction for which\n",
      "there is a local increase in similarity.\n",
      "\n",
      "#### Stopping criterion\n",
      "\n",
      "Because we are using hill-climbing, we choose to stop when we hit a\n",
      "local maxima."
     ]
    },
    {
     "cell_type": "code",
     "collapsed": false,
     "input": [
      "# run the naive model\n",
      "li = model.Naive(R, Sr, dr, pR, scale=SCALE, verbose=verbose)\n",
      "li.run()"
     ],
     "language": "python",
     "outputs": [
      {
       "output_type": "stream",
       "stream": "stdout",
       "text": [
        "Z = 4.455520 +/- 0.000000\n"
       ]
      }
     ],
     "prompt_number": 11
    },
    {
     "cell_type": "code",
     "collapsed": false,
     "input": [
      "# plot the intermediate steps we took during the regression\n",
      "plots.li_regression(li)\n",
      "if fsave:\n",
      "    savefig(\"../figures/li_regression.pdf\", close=False)"
     ],
     "language": "python",
     "outputs": [
      {
       "output_type": "display_data",
       "png": "[encoded data removed]"
      }
     ],
     "prompt_number": 12
    },
    {
     "cell_type": "code",
     "collapsed": false,
     "input": [
      "# compute the ratio\n",
      "ratio_naive = model.likelihood_ratio(li, Sr_scale, p_Xa, p_XaXb_h0)\n",
      "model.ratio_test(ratio_naive)"
     ],
     "language": "python",
     "outputs": [
      {
       "output_type": "stream",
       "stream": "stdout",
       "text": [
        "p(Xa, Xb | h1) / p(Xa, Xb | h0) = 54.828651  [54.828651, 54.828651]\n",
        "\n",
        "--> Hypothesis 1 is more likely\n"
       ]
      }
     ],
     "prompt_number": 13
    },
    {
     "cell_type": "markdown",
     "source": [
      "### Parametric Regression\n",
      "\n",
      "Another strategy is to assume a parametric shape for $S$ and fit the\n",
      "appropriate parameters. Here, we assume the likelihood follows a *Von\n",
      "Mises* distribution:\n",
      "\n",
      "$$S(X_b, X_R) \\approx \\hat{S}_{VM}=\\frac{h}{2\\pi X_0(\\kappa)}e^{\\kappa\\cos(R-\\hat{\\theta})}$$\n",
      "\n",
      "Where $\\kappa$ is the concentration parameter, $\\hat{\\theta}$ is the\n",
      "preferred direction, and $h$ is a scale parameter. We can fit these\n",
      "parameters by minimizing the mean squared error between this PDF and\n",
      "the observed values of $S$ which we are given. Then:\n",
      "\n",
      "$$E[Z\\ |\\ S]\\approx \\int_R \\hat{S}_{VM}p(R)\\ \\mathrm{d}R$$\n",
      "\n",
      "#### Choosing the sequence of mental images\n",
      "\n",
      "As above, we use hill-climbing, with the stopping criteria being when\n",
      "we find a local maxima."
     ]
    },
    {
     "cell_type": "code",
     "collapsed": false,
     "input": [
      "# fit the likelihood for S\n",
      "vm = model.VonMises(R, Sr, dr, pR, ntry=50, scale=SCALE, verbose=verbose)\n",
      "vm.run()"
     ],
     "language": "python",
     "outputs": [
      {
       "output_type": "stream",
       "stream": "stdout",
       "text": [
        "Z = 3.048799 +/- 0.000000\n"
       ]
      },
      {
       "output_type": "stream",
       "stream": "stderr",
       "text": [
        "model_vm.py:52: RuntimeWarning: underflow encountered in exp\n",
        "  err = np.sum((y - np.exp(pdf)) ** 2)\n"
       ]
      }
     ],
     "prompt_number": 14
    },
    {
     "cell_type": "code",
     "collapsed": false,
     "input": [
      "# plot the intermediate steps we took during the regression\n",
      "plots.vm_regression(vm)\n",
      "if fsave:\n",
      "    savefig(\"../figures/vm_regression.pdf\", close=False)"
     ],
     "language": "python",
     "outputs": [
      {
       "output_type": "display_data",
       "png": "[encoded data removed]"
      }
     ],
     "prompt_number": 15
    },
    {
     "cell_type": "code",
     "collapsed": false,
     "input": [
      "# compute the ratio\n",
      "ratio_vm = model.likelihood_ratio(vm, Sr_scale, p_Xa, p_XaXb_h0)\n",
      "model.ratio_test(ratio_vm)"
     ],
     "language": "python",
     "outputs": [
      {
       "output_type": "stream",
       "stream": "stdout",
       "text": [
        "p(Xa, Xb | h1) / p(Xa, Xb | h0) = 37.517859  [37.517859, 37.517859]\n",
        "\n",
        "--> Hypothesis 1 is more likely\n"
       ]
      }
     ],
     "prompt_number": 16
    },
    {
     "cell_type": "markdown",
     "source": [
      "### Bayesian Quadrature\n",
      "\n",
      "A more flexible strategy uses what is known as *Bayesian quadrature*\n",
      "\\cite{Diaconis:1988uo,OHagan:1991tx} to estimate $Z$. Bayesian\n",
      "quadrature allows us to compute a posterior distrbution over $Z$ by\n",
      "placing a Gaussian Process (GP) \\cite{Rasmussen:2006vz} prior on the\n",
      "log likelihood function $\\log S$ and evaluating $\\log S$ at a\n",
      "particular set of points. For our purposes, we choose these points to\n",
      "be a sequence of $N$ consecutive mental rotations be\n",
      "$\\mathbf{R}=\\{R_1, \\ldots{}, R_N\\}$. To obtain a single estimate of\n",
      "$Z$, we want compute the posterior mean:\n",
      "$$E[Z\\ |\\ \\log S]=\\int_{\\log S}\\left(\\int_R \\exp(\\log{S(X_b,X_R)})p(R)\\ \\mathrm{d}R\\right)\\mathcal{N}\\left(\\log{S}\\ |\\ \\mu_{\\log S}, \\Sigma_{\\log S}\\right)\\ \\mathrm{d}\\log S$$\n",
      "As in \\cite{Osborne:2012tm}, we can approximate this with: $$E[Z\\ |\\\n",
      "\\log S] \\approx \\int_R \\mu_{S}(1 + \\mu_\\Delta) p(R)\\ \\mathrm{d}R$$\n",
      "Where $\\mu_x$ is the mean of a GP, as follows:\n",
      "\n",
      "* $\\mu_\\Delta$ is a regression over $\\Delta=\\mu_{\\log S} - \\log \\mu_S$\n",
      "  given $\\mathbf{R}_\\Delta$, which consists of $\\mathbf{R}$ and a set\n",
      "  of intermediate *candidate points*, as described in\n",
      "  \\cite{Osborne:2012tm}.\n",
      "* $\\mu_S$ is the mean of a GP regression over $S$ given $\\mathbf{R}$.\n",
      "* $\\mu_{\\log S}$ is the mean of a GP regression over $\\log S$ given\n",
      "  $\\mathbf{R}$."
     ]
    },
    {
     "cell_type": "markdown",
     "source": [
      "#### Choosing the sequence of mental images\n",
      "\n",
      "Because we can only evaluate $S(X_a, X_R)$ at a small number $k$ of\n",
      "rotations, we must make an explicit decision about which\n",
      "$\\mathbf{R}=\\{R_1, \\ldots{}, R_k\\}$ to use.  Ideally, we should choose\n",
      "$\\mathbf{R}$ such that it will give us the best approximation of\n",
      "$p(X_a, X_b|h_1)$. One option is to choose each $R_i$ in a greedy\n",
      "manner to minimize the variance of $Z$ (i.e. give a more accurate\n",
      "estimate of $S$)."
     ]
    },
    {
     "cell_type": "code",
     "collapsed": false,
     "input": [
      "# fit the likelihood for S\n",
      "bq = model.BayesianQuadrature(\n",
      "    R, Sr, dr, pR,\n",
      "    kernel='periodic',\n",
      "    obs_noise=False,\n",
      "    scale=SCALE,\n",
      "    verbose=verbose,\n",
      "    ntry=10)\n",
      "bq.run()"
     ],
     "language": "python",
     "outputs": [
      {
       "output_type": "stream",
       "stream": "stderr",
       "text": [
        "/usr/local/lib/python2.7/site-packages/numpy/__init__.py:1: RuntimeWarning: underflow encountered in double_scalars\n",
        "  \"\"\"\n",
        "/usr/local/lib/python2.7/site-packages/numpy/__init__.py:1: RuntimeWarning: underflow encountered in double_scalars\n",
        "  \"\"\"\n",
        "model_bq.py:119: RuntimeWarning: invalid value encountered in log\n",
        "  self.delta = self.mu_logS - np.log(self.mu_S + 1)\n"
       ]
      },
      {
       "output_type": "stream",
       "stream": "stdout",
       "text": [
        "Warning: regression for mu_S returned negative values\n",
        "Z = 2.943100 +/- 0.006747"
       ]
      },
      {
       "output_type": "stream",
       "stream": "stdout",
       "text": [
        "\n"
       ]
      }
     ],
     "prompt_number": 17
    },
    {
     "cell_type": "code",
     "collapsed": false,
     "input": [
      "# plot the intermediate steps we took during the regression\n",
      "plots.bq_regression(bq)\n",
      "if fsave:\n",
      "    savefig(\"../figures/bq_regression.pdf\", close=False)"
     ],
     "language": "python",
     "outputs": [
      {
       "output_type": "display_data",
       "png": "[encoded data removed]"
      }
     ],
     "prompt_number": 18
    },
    {
     "cell_type": "code",
     "collapsed": false,
     "input": [
      "# compute the ratio\n",
      "ratio_bq = model.likelihood_ratio(bq, Sr_scale, p_Xa, p_XaXb_h0)\n",
      "model.ratio_test(ratio_bq)"
     ],
     "language": "python",
     "outputs": [
      {
       "output_type": "stream",
       "stream": "stdout",
       "text": [
        "p(Xa, Xb | h1) / p(Xa, Xb | h0) = 36.217150  [34.195516, 38.238784]\n",
        "\n",
        "--> Hypothesis 1 is more likely\n"
       ]
      }
     ],
     "prompt_number": 19
    },
    {
     "cell_type": "markdown",
     "source": [
      "#### Stopping criterion"
     ]
    },
    {
     "cell_type": "markdown",
     "source": [
      "\\bibliographystyle{ieeetr}\n",
      "\\bibliography{references}"
     ]
    }
   ]
  }
 ]
}