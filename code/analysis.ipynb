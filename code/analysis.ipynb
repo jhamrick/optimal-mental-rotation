{
 "metadata": {
  "name": "analysis"
 },
 "nbformat": 3,
 "nbformat_minor": 0,
 "worksheets": [
  {
   "cells": [
    {
     "cell_type": "code",
     "collapsed": false,
     "input": [
      "# imports\n",
      "%pylab inline\n",
      "import util\n",
      "import plots\n",
      "import model\n",
      "import snippets.graphing as sg\n",
      "\n",
      "from IPython.core.display import Image, display_png\n",
      "from snippets.ipynb import clear_output\n",
      "from snippets.stats import normalize\n",
      "\n",
      "np.seterr(all='warn')\n",
      "clear_output()"
     ],
     "language": "python",
     "outputs": [],
     "prompt_number": 1
    },
    {
     "cell_type": "code",
     "collapsed": false,
     "input": [
      "opt = util.load_opt()\n",
      "opt"
     ],
     "language": "python",
     "outputs": [
      {
       "output_type": "pyout",
       "prompt_number": 2,
       "text": [
        "{'dr': 22.5,\n",
        " 'nstim': 100,\n",
        " 'prior_R': 0.15915494309189535,\n",
        " 'save': False,\n",
        " 'scale': 1,\n",
        " 'sigma': 0.2,\n",
        " 'verbose': 0}"
       ]
      }
     ],
     "prompt_number": 2
    },
    {
     "cell_type": "code",
     "collapsed": false,
     "input": [
      "models = [\n",
      "    'GoldStandard',\n",
      "    'Naive',\n",
      "    'VonMises',\n",
      "#    'BayesianQuadrature'\n",
      "]"
     ],
     "language": "python",
     "outputs": [],
     "prompt_number": 3
    },
    {
     "cell_type": "code",
     "collapsed": false,
     "input": [
      "stims = util.find_stims()[:opt['nstim']]\n",
      "true_hyp = np.array([int(s[-1]) for s in stims])\n",
      "thetas = np.array([util.load_stimulus(s)[0] for s in stims])"
     ],
     "language": "python",
     "outputs": [],
     "prompt_number": 4
    },
    {
     "cell_type": "code",
     "collapsed": false,
     "input": [
      "plt.figure()\n",
      "fig, (ax0, ax1) = plt.subplots(1, 2)\n",
      "plt.plot([0, 2*np.pi], [0, 1], 'k-')\n",
      "for model in models:\n",
      "    _stims, samps, Z, ratio, hyp = util.load_sims(model)\n",
      "    assert (stims == _stims).all()\n",
      "    print model\n",
      "    print \"Error rate:\", np.sum(np.abs((hyp - true_hyp))) / hyp.size\n",
      "\n",
      "    ih0 = true_hyp == 0\n",
      "    ih1 = true_hyp == 1\n",
      "    ax0.hist(samps[ih0], label=model, bins=10, range=(0, 1))\n",
      "    ax1.plot(thetas[ih1], samps[ih1], 'o', label=model)\n",
      "\n",
      "#plt.legend(loc=0, numpoints=1, fontsize=12)\n",
      "sg.set_figsize(8, 2.5)\n"
     ],
     "language": "python",
     "outputs": [
      {
       "output_type": "stream",
       "stream": "stdout",
       "text": [
        "GoldStandard\n",
        "Error rate: 0.01\n",
        "Naive\n",
        "Error rate: 0.23\n",
        "VonMises"
       ]
      },
      {
       "output_type": "stream",
       "stream": "stdout",
       "text": [
        "\n",
        "Error rate: 0.25\n"
       ]
      },
      {
       "output_type": "display_data",
       "png": "[encoded data removed]"
      }
     ],
     "prompt_number": 6
    },
    {
     "cell_type": "code",
     "collapsed": false,
     "input": [
      "samps[ih0]"
     ],
     "language": "python",
     "outputs": []
    }
   ]
  }
 ]
}