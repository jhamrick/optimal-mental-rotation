{
 "metadata": {
  "name": "analysis"
 },
 "nbformat": 3,
 "nbformat_minor": 0,
 "worksheets": [
  {
   "cells": [
    {
     "cell_type": "code",
     "collapsed": false,
     "input": [
      "# imports\n",
      "%pylab inline\n",
      "import circstats as circ\n",
      "import util\n",
      "import plots\n",
      "import snippets.graphing as sg\n",
      "\n",
      "from IPython.core.display import Image, display_png\n",
      "from snippets.ipynb import clear_output\n",
      "from snippets.stats import normalize, xcorr\n",
      "\n",
      "np.seterr(all='warn')\n",
      "clear_output()"
     ],
     "language": "python",
     "outputs": [],
     "prompt_number": 1
    },
    {
     "cell_type": "code",
     "collapsed": false,
     "input": [
      "opt = util.load_opt()\n",
      "opt"
     ],
     "language": "python",
     "outputs": [
      {
       "output_type": "pyout",
       "prompt_number": 2,
       "text": [
        "{'dr': 11.25,\n",
        " 'h': 0.125,\n",
        " 'kernel': 'periodic',\n",
        " 'npoints': 5,\n",
        " 'nsamps': 1,\n",
        " 'nstim': 10,\n",
        " 'ntry_bq': 5,\n",
        " 'ntry_vm': 50,\n",
        " 'p': 1,\n",
        " 'prior_R': 0.15915494309189535,\n",
        " 's': 0,\n",
        " 'save': True,\n",
        " 'scale': 1,\n",
        " 'sigma_p': 0.0,\n",
        " 'sigma_s': 0.2,\n",
        " 'verbose': 0}"
       ]
      }
     ],
     "prompt_number": 2
    },
    {
     "cell_type": "code",
     "collapsed": false,
     "input": [
      "models = [\n",
      "    'GoldStandardModel',\n",
      "    'NaiveModel',\n",
      "    'VonMisesModel',\n",
      "    'BayesianQuadratureModel'\n",
      "]\n",
      "shortnames = {\n",
      "    'GoldStandardModel': 'GS',\n",
      "    'NaiveModel': 'Naive',\n",
      "    'VonMisesModel': 'VM',\n",
      "    'BayesianQuadratureModel': 'BQ'\n",
      "}\n",
      "nicenames = {\n",
      "    'GoldStandardModel': 'Gold Standard',\n",
      "    'NaiveModel': 'Naive',\n",
      "    'VonMisesModel': 'Von Mises',\n",
      "    'BayesianQuadratureModel': 'Bayesian Quadrature'\n",
      "}"
     ],
     "language": "python",
     "outputs": [],
     "prompt_number": 3
    },
    {
     "cell_type": "code",
     "collapsed": false,
     "input": [
      "stims = np.array(util.find_stims()).reshape((-1, 18, 2))[:opt['nstim']]\n",
      "true_hyp = np.array([int(s[-1]) for s in stims.flat]).reshape(stims.shape)\n",
      "thetas = np.array([util.load_stimulus(s)[0] for s in stims.flat]).reshape(stims.shape)\n",
      "min_ang = np.abs(circ.wrapdiff(thetas)).reshape(stims.shape)"
     ],
     "language": "python",
     "outputs": [],
     "prompt_number": 4
    },
    {
     "cell_type": "code",
     "collapsed": false,
     "input": [
      "ih0 = ~(true_hyp.ravel().astype('bool'))\n",
      "ih1 = true_hyp.ravel().astype('bool')"
     ],
     "language": "python",
     "outputs": [],
     "prompt_number": 5
    },
    {
     "cell_type": "code",
     "collapsed": false,
     "input": [
      "LATEX = \"\"\n",
      "def new_cmd(name, value):\n",
      "    cmd = r\"\\newcommand{\\%s}[0]{%s}\" % (name, value)\n",
      "    return cmd + \"\\n\""
     ],
     "language": "python",
     "outputs": [],
     "prompt_number": 6
    },
    {
     "cell_type": "code",
     "collapsed": false,
     "input": [
      "fig, axes = plots.model_rotations([nicenames[m] for m in models[1:]])\n",
      "\n",
      "colors = ['#FFAA00', '#FF0000', '#00FFFF', '#0000FF']\n",
      "for i, model in enumerate(models):\n",
      "    _stims, samps, Z, ratio, hyp = util.load_sims(model)\n",
      "    samps = samps.reshape(stims.shape + samps.shape[-1:])\n",
      "    assert (stims.flat == np.array(_stims)).all()\n",
      "\n",
      "    err = np.abs(hyp - true_hyp.ravel()[:, None])\n",
      "    sampmean = np.mean(samps * 100, axis=-1)\n",
      "    angmean = np.mean(sampmean, axis=0)\n",
      "    angsem = scipy.stats.sem(sampmean, axis=0)\n",
      "\n",
      "    print model\n",
      "    \n",
      "    ME = np.mean(err)\n",
      "    print \"    Error rate:\", ME\n",
      "    LATEX += new_cmd(\n",
      "        \"%sME\" % shortnames[model],\n",
      "        r\"\\ME{}=%.2f\" % ME)\n",
      "\n",
      "    ME_h0 = np.mean(err[ih0])\n",
      "    print \"    Error rate (h0):\", ME_h0\n",
      "    LATEX += new_cmd(\n",
      "        \"%sMEdiff\" % shortnames[model],\n",
      "        r\"\\ME{}=%.2f\" % ME_h0)\n",
      "\n",
      "    ME_h1 = np.mean(err[ih1])\n",
      "    print \"    Error rate (h1):\", ME_h1\n",
      "    LATEX += new_cmd(\n",
      "        \"%sMEsame\" % shortnames[model],\n",
      "        r\"\\ME{}=%.2f\" % ME_h1)\n",
      "\n",
      "    if model != 'GoldStandardModel':\n",
      "        x = min_ang[:, :, 1].ravel()\n",
      "        y = sampmean[:, :, 1].ravel()\n",
      "        corr = float(xcorr(x, y))\n",
      "        sm = thetas[:, :, 1].ravel() < np.pi\n",
      "        corr_sm = xcorr(x[sm], y[:, sm])\n",
      "        corr_bg = xcorr(x[~sm], y[:, ~sm])\n",
      "        print \"    Correlation: %.4f\" % corr\n",
      "        LATEX += new_cmd(\n",
      "            \"%scorr\" % shortnames[model],\n",
      "            r\"\\rho=%.2f\" % corr)\n",
      "\n",
      "        print \"    Correlation (< 180): %.4f\" % corr_sm\n",
      "        LATEX += new_cmd(\n",
      "            \"%scorrsm\" % shortnames[model],\n",
      "            r\"\\rho=%.2f\" % corr_sm)\n",
      "\n",
      "        print \"    Correlation (>= 180): %.4f\" % corr_bg\n",
      "        LATEX += new_cmd(\n",
      "        \"%scorrbg\" % shortnames[model],\n",
      "        r\"\\rho=%.2f\" % corr_bg)\n",
      "                    \n",
      "        if len(models[1:]) == 1:\n",
      "            ax = axes\n",
      "        else:\n",
      "            ax = axes[i-1]\n",
      "        ax.plot([-np.pi/16., np.pi+(np.pi/16.)], [-5, 105],\n",
      "                'k--', dashes=(2, 2))\n",
      "\n",
      "        ax.errorbar(min_ang[0, :, 1],\n",
      "                    angmean[:, 1], yerr=angsem[:, 1],\n",
      "                    marker='o',\n",
      "                    linestyle='',\n",
      "                    alpha=0.5,\n",
      "                    color='k')\n",
      "\n",
      "if opt['save']:\n",
      "    sg.save(\"../figures/model_rotations.pdf\", close=False)"
     ],
     "language": "python",
     "outputs": [
      {
       "output_type": "stream",
       "stream": "stdout",
       "text": [
        "GoldStandardModel\n",
        "    Error rate: 0.1\n",
        "    Error rate (h0): 0.2\n",
        "    Error rate (h1): 0.0\n",
        "NaiveModel\n",
        "    Error rate: 0.211111111111\n",
        "    Error rate (h0): 0.2\n",
        "    Error rate (h1): 0.222222222222\n",
        "    Correlation: 0.1089\n",
        "    Correlation (< 180): 0.2126\n",
        "    Correlation (>= 180): -0.0233\n",
        "VonMisesModel\n",
        "    Error rate: 0.294444444444\n",
        "    Error rate (h0): 0.0\n",
        "    Error rate (h1): 0.588888888889\n",
        "    Correlation: 0.1089\n",
        "    Correlation (< 180): 0.2126\n",
        "    Correlation (>= 180): -0.0233\n"
       ]
      },
      {
       "output_type": "display_data",
       "png": "[encoded data removed]"
      }
     ],
     "prompt_number": 7
    },
    {
     "cell_type": "code",
     "collapsed": false,
     "input": [
      "fig, axes = plots.model_z_accuracy([nicenames[m] for m in models[1:]])\n",
      "\n",
      "gs_Z = util.load_sims('GoldStandardModel')[2]\n",
      "gs_Z_mean = np.mean(gs_Z[:, :, 0], axis=1)\n",
      "if gs_Z.shape[1] > 1:\n",
      "    gs_Z_sem = scipy.stats.sem(gs_Z[:, :, 0], axis=1)\n",
      "else:\n",
      "    gs_Z_sem = None\n",
      "\n",
      "for i, model in enumerate(models[1:]):\n",
      "    _stims, samps, Z, ratio, hyp = util.load_sims(model)\n",
      "\n",
      "    Z_mean = np.mean(Z[:, :, 0], axis=1)\n",
      "    if Z.shape[1] > 1:\n",
      "        Z_sem = scipy.stats.sem(Z[:, :, 0], axis=1)\n",
      "    else:\n",
      "        Z_sem = None\n",
      "    conf = np.sqrt(Z[:, :, 1]) * 2\n",
      "    mse = np.mean(((gs_Z[:, :, 0] - Z[:, :, 0]) / np.ptp(gs_Z[:, :, 0])) ** 2)\n",
      "\n",
      "    print model\n",
      "    print \"    MSE:\", mse\n",
      "    LATEX += new_cmd(\n",
      "        \"%sMSE\" % shortnames[model],\n",
      "        r\"\\MSE{}=%.2f\" % mse)\n",
      "\n",
      "    if len(models[1:]) == 1:\n",
      "        ax = axes\n",
      "    else:\n",
      "        ax = axes[i]\n",
      "    ax.plot([0, 0.3], [0, 0.3], 'k--', dashes=(2, 2))\n",
      "    ax.errorbar(\n",
      "        gs_Z_mean[ih0], Z_mean[ih0],\n",
      "        xerr=gs_Z_sem[ih0] if gs_Z_sem else None,\n",
      "        yerr=Z_sem[ih0] if Z_sem else None,\n",
      "        fmt='o',\n",
      "        label=r\"$h_0$ correct\",\n",
      "        alpha=0.5,\n",
      "        color='c')\n",
      "    ax.errorbar(\n",
      "        gs_Z_mean[ih1], Z_mean[ih1],\n",
      "        xerr=gs_Z_sem[ih1] if gs_Z_sem else None,\n",
      "        yerr=Z_sem[ih1] if Z_sem else None,\n",
      "        fmt='D',\n",
      "        label=r\"$h_1$ correct\",\n",
      "        alpha=0.5,\n",
      "        color='m')\n",
      "\n",
      "if len(models[1:]) == 1:\n",
      "    ax = axes\n",
      "else:\n",
      "    ax = axes[1]\n",
      "\n",
      "leg = ax.legend(\n",
      "    loc='upper center',\n",
      "    frameon=True,\n",
      "    numpoints=1,\n",
      "    fontsize=12)\n",
      "leg.get_frame().set_edgecolor('white')\n",
      "leg.get_frame().set_color('#CCCCCC')\n",
      "    \n",
      "if opt['save']:\n",
      "    sg.save(\"../figures/Z_accuracy.pdf\", close=False)"
     ],
     "language": "python",
     "outputs": [
      {
       "output_type": "stream",
       "stream": "stdout",
       "text": [
        "NaiveModel\n",
        "    MSE: 0.959745081685\n",
        "VonMisesModel\n",
        "    MSE: 0.209635593934\n"
       ]
      },
      {
       "output_type": "display_data",
       "png": "[encoded data removed]"
      }
     ],
     "prompt_number": 8
    },
    {
     "cell_type": "code",
     "collapsed": false,
     "input": [
      "print LATEX\n",
      "with open(\"../man/nips-2013-analyses.tex\", \"w\") as fh:\n",
      "    fh.write(LATEX)"
     ],
     "language": "python",
     "outputs": [
      {
       "output_type": "stream",
       "stream": "stdout",
       "text": [
        "\\newcommand{\\GSME}[0]{\\ME{}=0.10}\n",
        "\\newcommand{\\GSMEdiff}[0]{\\ME{}=0.20}\n",
        "\\newcommand{\\GSMEsame}[0]{\\ME{}=0.00}\n",
        "\\newcommand{\\NaiveME}[0]{\\ME{}=0.21}\n",
        "\\newcommand{\\NaiveMEdiff}[0]{\\ME{}=0.20}\n",
        "\\newcommand{\\NaiveMEsame}[0]{\\ME{}=0.22}\n",
        "\\newcommand{\\Naivecorr}[0]{\\rho=0.11}\n",
        "\\newcommand{\\Naivecorrsm}[0]{\\rho=0.21}\n",
        "\\newcommand{\\Naivecorrbg}[0]{\\rho=-0.02}\n",
        "\\newcommand{\\VMME}[0]{\\ME{}=0.29}\n",
        "\\newcommand{\\VMMEdiff}[0]{\\ME{}=0.00}\n",
        "\\newcommand{\\VMMEsame}[0]{\\ME{}=0.59}\n",
        "\\newcommand{\\VMcorr}[0]{\\rho=0.11}\n",
        "\\newcommand{\\VMcorrsm}[0]{\\rho=0.21}\n",
        "\\newcommand{\\VMcorrbg}[0]{\\rho=-0.02}\n",
        "\\newcommand{\\NaiveMSE}[0]{\\MSE{}=0.96}\n",
        "\\newcommand{\\VMMSE}[0]{\\MSE{}=0.21}\n",
        "\n"
       ]
      }
     ],
     "prompt_number": 9
    }
   ]
  }
 ]
}