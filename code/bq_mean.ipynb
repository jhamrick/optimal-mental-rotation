{
 "metadata": {
  "name": "bq_mean"
 },
 "nbformat": 3,
 "nbformat_minor": 0,
 "worksheets": [
  {
   "cells": [
    {
     "cell_type": "markdown",
     "metadata": {},
     "source": [
      "# Bayesian Quadrature: Mean Derivation"
     ]
    },
    {
     "cell_type": "markdown",
     "metadata": {},
     "source": [
      "In Equation 5, \\cite{Osborne:2012tm} use the approximation:\n",
      "$$\\exp(\\log \\ell(x)) \\approx \\exp(\\log \\ell_0(x))) + \\exp(\\log \\ell_0(x)))(\\log\\ell(x) - \\log\\ell_0(x))$$"
     ]
    },
    {
     "cell_type": "markdown",
     "metadata": {},
     "source": [
      "In practice, they actually use the transform $\\log(\\frac{\\ell(x)}{\\gamma} + 1)$, which changes this equation to:\n",
      "$$\n",
      "\\begin{align*}\n",
      "\\exp(\\log(\\frac{\\ell(x)}{\\gamma} + 1)) &\\approx \\exp(\\log(\\frac{\\ell_0(x)}{\\gamma} + 1)) + \\exp(\\log(\\frac{\\ell_0(x)}{\\gamma} + 1))(\\log(\\frac{\\ell(x)}{\\gamma} + 1) - \\log(\\frac{\\ell_0(x)}{\\gamma} + 1))\\\\\\\\\n",
      "\\frac{\\exp(\\log\\ell(x)) + \\gamma}{\\gamma} &\\approx \\frac{\\exp(\\log\\ell_0(x)) + \\gamma + (\\exp(\\log\\ell_0(x)) + \\gamma)(\\log(\\frac{\\ell(x)}{\\gamma} + 1) - \\log(\\frac{\\ell_0(x)}{\\gamma} + 1))}{\\gamma}\\\\\\\\\n",
      "\\exp(\\log\\ell(x)) &\\approx \\exp(\\log\\ell_0(x)) + (\\exp(\\log\\ell_0(x)) + \\gamma)(\\log(\\frac{\\ell(x)}{\\gamma} + 1) - \\log(\\frac{\\ell_0(x)}{\\gamma} + 1))\n",
      "\\end{align*}\n",
      "$$"
     ]
    },
    {
     "cell_type": "markdown",
     "metadata": {},
     "source": [
      "From this, we obtain a new version of Equation 6:\n",
      "$$m_Z\\approx \\int\\ell_0(x)p(x)\\ \\mathrm{d}x + \\int\\ell_0(x)\\Delta_{\\log \\ell|s}(x)p(x)\\ \\mathrm{d}x + \\gamma\\int\\Delta_{\\log\\ell|s}(x)p(x)\\ \\mathrm{d}x,$$\n",
      "where:\n",
      "$$\\Delta_{\\log\\ell|s}=m_{\\log(\\frac{\\ell}{\\gamma} + 1)|s} - \\log(\\frac{\\ell_0}{\\gamma} + 1).$$"
     ]
    },
    {
     "cell_type": "markdown",
     "metadata": {},
     "source": [
      "We approximate this as:\n",
      "$$m_Z\\approx E[m_\\ell|x_s] + E[m_\\ell m_\\Delta|x_s, x_c] + \\gamma E[m_\\Delta|x_s, x_c] = \\int m_\\ell(x|x_s)p(x)\\ \\mathrm{d}x + \\int m_\\ell(x|x_s)m_\\Delta(x|x_s, x_c)p(x)\\ \\mathrm{d}x + \\gamma\\int m_\\Delta(x|x_s, x_c)p(x)\\ \\mathrm{d}x,$$\n",
      "where the functions $m_\\ell$ and $m_\\Delta$ are both means of Gaussian processes."
     ]
    },
    {
     "cell_type": "markdown",
     "metadata": {},
     "source": [
      "We expand the first term to obtain:\n",
      "$$\n",
      "\\begin{align*}\n",
      "E[m_\\ell|x_s] &= \\int K_\\ell(x,x_s)K_\\ell(x_s,x_s)^{-1}\\ell(x_s)p(x)\\ \\mathrm{d}x\\\\\\\\\n",
      "&= \\left(\\int K_\\ell(x,x_s)p(x)\\ \\mathrm{d}x\\right)\\ K_\\ell(x_s,x_s)^{-1}\\ell(x_s)\\\\\\\\\n",
      "&= \\left(\\int K_\\ell(x, x_s)p(x)\\ \\mathrm{d}x\\right)\\ \\alpha_\\ell(x_s)\n",
      "\\end{align*}\n",
      "$$\n",
      "where $\\alpha_\\ell(x_s) = K_\\ell(x_s, x_s)^{-1}\\ell(x_s)$."
     ]
    },
    {
     "cell_type": "markdown",
     "metadata": {},
     "source": [
      "We expand the second term to obtain:\n",
      "$$\n",
      "\\begin{align*}\n",
      "E[m_\\ell m_\\Delta|x_s,x_c] &= \\int \\left(K_\\ell(x,x_s)K_\\ell(x_s,x_s)^{-1}\\ell(x_s)\\right)\\left(K_\\Delta(x,x_c)K_\\Delta(x_c,x_c)^{-1}\\Delta(x_c)\\right)p(x)\\ \\mathrm{d}x\\\\\\\\\n",
      "&= \\int \\left(K_\\ell(x,x_s)\\alpha_\\ell(x_s)\\right)\\left(K_\\Delta(x,x_c)\\alpha_\\Delta(x_c)\\right)p(x)\\ \\mathrm{d}x\\\\\\\\\n",
      "&= \\int \\left(K_\\Delta(x,x_c)\\alpha_\\Delta(x_c)\\right)\\left(K_\\ell(x,x_s)\\alpha_\\ell(x_s)\\right)p(x)\\ \\mathrm{d}x\\\\\\\\\n",
      "&= \\left(\\int \\left(K_\\Delta(x,x_c)\\alpha_\\Delta(x_c)\\right)K_\\ell(x,x_s)p(x)\\ \\mathrm{d}x\\right) \\alpha_\\ell(x_s)\\\\\\\\\n",
      "&= \\alpha_\\Delta(x_c)^\\top\\left(\\int K_\\Delta(x_c, x)K_\\ell(x,x_s)p(x)\\ \\mathrm{d}x\\right) \\alpha_\\ell(x_s).\n",
      "\\end{align*}\n",
      "$$"
     ]
    },
    {
     "cell_type": "markdown",
     "metadata": {},
     "source": [
      "We expand the third term to obtain:\n",
      "$$\n",
      "\\begin{align*}\n",
      "E[m_\\Delta|x_c] &= \\int K_\\Delta(x,x_c)K_\\Delta(x_c,x_c)^{-1}\\Delta(x_c)p(x)\\ \\mathrm{d}x\\\\\\\\\n",
      "&= \\left(\\int K_\\Delta(x,x_c)p(x)\\ \\mathrm{d}x\\right)\\ \\alpha_\\Delta(x_c).\n",
      "\\end{align*}\n",
      "$$"
     ]
    }
   ],
   "metadata": {}
  }
 ]
}