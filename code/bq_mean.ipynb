{
 "metadata": {
  "name": "bq_mean"
 },
 "nbformat": 3,
 "nbformat_minor": 0,
 "worksheets": [
  {
   "cells": [
    {
     "cell_type": "markdown",
     "metadata": {},
     "source": [
      "# Bayesian Quadrature: Mean Derivation"
     ]
    },
    {
     "cell_type": "markdown",
     "metadata": {},
     "source": [
      "In Equation 5, \\cite{Osborne:2012tm} use the approximation:\n",
      "$$\\exp(\\log \\ell(x)) \\approx \\exp(\\log \\ell_0(x))) + \\exp(\\log \\ell_0(x)))(\\log\\ell(x) - \\log\\ell_0(x))$$"
     ]
    },
    {
     "cell_type": "markdown",
     "metadata": {},
     "source": [
      "In practice, they actually use the transform $\\log\\left(\\frac{\\ell(x)}{\\gamma} + 1\\right)$, which changes this equation to:\n",
      "$$\n",
      "\\begin{align*}\n",
      "\\exp\\left(\\log\\left(\\frac{\\ell(x)}{\\gamma} + 1\\right)\\right) &\\approx \\exp\\left(\\log\\left(\\frac{\\ell_0(x)}{\\gamma} + 1\\right)\\right) + \\exp\\left(\\log\\left(\\frac{\\ell_0(x)}{\\gamma} + 1\\right)\\right)\\left(\\log\\left(\\frac{\\ell(x)}{\\gamma} + 1\\right) - \\log\\left(\\frac{\\ell_0(x)}{\\gamma} + 1\\right)\\right)\\\\\\\\\n",
      "\\frac{\\exp(\\log\\ell(x)) + \\gamma}{\\gamma} &\\approx \\frac{\\exp(\\log\\ell_0(x)) + \\gamma + (\\exp(\\log\\ell_0(x)) + \\gamma)\\left(\\log\\left(\\frac{\\ell(x)}{\\gamma} + 1\\right) - \\log\\left(\\frac{\\ell_0(x)}{\\gamma} + 1\\right)\\right)}{\\gamma}\\\\\\\\\n",
      "\\exp(\\log\\ell(x)) &\\approx \\exp(\\log\\ell_0(x)) + (\\exp(\\log\\ell_0(x)) + \\gamma)\\left(\\log\\left(\\frac{\\ell(x)}{\\gamma} + 1\\right) - \\log\\left(\\frac{\\ell_0(x)}{\\gamma} + 1\\right)\\right)\n",
      "\\end{align*}\n",
      "$$"
     ]
    },
    {
     "cell_type": "markdown",
     "metadata": {},
     "source": [
      "From this, we obtain a new version of Equation 6:\n",
      "$$m_Z\\approx \\int\\ell_0(x)p(x)\\ \\mathrm{d}x + \\int\\ell_0(x)\\Delta_{\\log \\ell|s}(x)p(x)\\ \\mathrm{d}x + \\gamma\\int\\Delta_{\\log\\ell|s}(x)p(x)\\ \\mathrm{d}x,$$\n",
      "where:\n",
      "$$\\Delta_{\\log\\ell|s}=m_{\\log\\left(\\frac{\\ell}{\\gamma} + 1\\right)|s} - \\log\\left(\\frac{\\ell_0}{\\gamma} + 1\\right).$$"
     ]
    },
    {
     "cell_type": "markdown",
     "metadata": {},
     "source": [
      "We approximate this as:\n",
      "$$m_Z\\approx E[m_\\ell|x_s] + E[m_\\ell m_\\Delta|x_s, x_c] + \\gamma E[m_\\Delta|x_s, x_c] = \\int m_\\ell(x|x_s)p(x)\\ \\mathrm{d}x + \\int m_\\ell(x|x_s)m_\\Delta(x|x_s, x_c)p(x)\\ \\mathrm{d}x + \\gamma\\int m_\\Delta(x|x_s, x_c)p(x)\\ \\mathrm{d}x,$$\n",
      "where the functions $m_\\ell$ and $m_\\Delta$ are both means of Gaussian processes."
     ]
    },
    {
     "cell_type": "markdown",
     "metadata": {},
     "source": [
      "We expand the first term to obtain:\n",
      "$$\n",
      "\\begin{align*}\n",
      "E[m_\\ell|x_s] &= \\int K_\\ell(x,x_s)K_\\ell(x_s,x_s)^{-1}\\ell(x_s)p(x)\\ \\mathrm{d}x\\\\\\\\\n",
      "&= \\left(\\int K_\\ell(x,x_s)p(x)\\ \\mathrm{d}x\\right)\\ K_\\ell(x_s,x_s)^{-1}\\ell(x_s)\\\\\\\\\n",
      "&= \\left(\\int K_\\ell(x, x_s)p(x)\\ \\mathrm{d}x\\right)\\ \\alpha_\\ell(x_s)\n",
      "\\end{align*}\n",
      "$$\n",
      "where $\\alpha_\\ell(x_s) = K_\\ell(x_s, x_s)^{-1}\\ell(x_s)$."
     ]
    },
    {
     "cell_type": "markdown",
     "metadata": {},
     "source": [
      "Assuming $K_\\ell$ is a Gaussian kernel, and $p(x)$ is a Gaussian density with mean $\\mu$ and covariance $\\Sigma$, the integral can be expressed analytically as follows, from \\cite{Osborne:yQQnLKg-}:\n",
      "$$\n",
      "\\begin{align*}\n",
      "\\int K_\\ell(x, x_s)p(x)\\ \\mathrm{d}x&=\\int h_\\ell^2 \\mathcal{N}(x_s; x, W_\\ell)\\mathcal{N}(x; \\mu, \\Sigma)\\ \\mathrm{d}x\\\\\\\\\n",
      "&= h_\\ell^2 \\mathcal{N}(x_s; \\mu, W_\\ell + \\Sigma)\n",
      "\\end{align*}\n",
      "$$"
     ]
    },
    {
     "cell_type": "markdown",
     "metadata": {},
     "source": [
      "We expand the second term to obtain:\n",
      "$$\n",
      "\\begin{align*}\n",
      "E[m_\\ell m_\\Delta|x_s,x_c] &= \\int \\left(K_\\ell(x,x_s)K_\\ell(x_s,x_s)^{-1}\\ell(x_s)\\right)\\left(K_\\Delta(x,x_c)K_\\Delta(x_c,x_c)^{-1}\\Delta(x_c)\\right)p(x)\\ \\mathrm{d}x\\\\\\\\\n",
      "&= \\int \\left(K_\\ell(x,x_s)\\alpha_\\ell(x_s)\\right)\\left(K_\\Delta(x,x_c)\\alpha_\\Delta(x_c)\\right)p(x)\\ \\mathrm{d}x\\\\\\\\\n",
      "&= \\int \\left(K_\\Delta(x,x_c)\\alpha_\\Delta(x_c)\\right)\\left(K_\\ell(x,x_s)\\alpha_\\ell(x_s)\\right)p(x)\\ \\mathrm{d}x\\\\\\\\\n",
      "&= \\left(\\int \\left(K_\\Delta(x,x_c)\\alpha_\\Delta(x_c)\\right)K_\\ell(x,x_s)p(x)\\ \\mathrm{d}x\\right) \\alpha_\\ell(x_s)\\\\\\\\\n",
      "&= \\alpha_\\Delta(x_c)^\\top\\left(\\int K_\\Delta(x_c, x)K_\\ell(x,x_s)p(x)\\ \\mathrm{d}x\\right) \\alpha_\\ell(x_s).\n",
      "\\end{align*}\n",
      "$$"
     ]
    },
    {
     "cell_type": "markdown",
     "metadata": {},
     "source": [
      "Assuming $K_\\Delta$ is a Gaussian kernel, and $p(x)$ is a Gaussian density with mean $\\mu$ and covariance $\\Sigma$, the integral can be expressed analytically as follows, from \\cite{Osborne:yQQnLKg-}:\n",
      "$$\n",
      "\\begin{align*}\n",
      "\\int K_\\Delta(x_c, x)K_\\ell(x,x_s)p(x)\\ \\mathrm{d}x&=\\int h_\\Delta^2 h_\\ell^2\\mathcal{N}(x_c; x, W_\\Delta)\\mathcal{N}(x_s; x, W_\\ell)\\mathcal{N}(x; \\mu, \\Sigma)\\ \\mathrm{d}x\\\\\\\\\n",
      "&= h_\\Delta^2 h_\\ell^2\\int\\mathcal{N}\\left([x_c, x_s]; [x, x], [W_\\Delta, 0; 0, W_\\ell]\\right)\\mathcal{N}(x; \\mu, \\Sigma)\\ \\mathrm{d}x\\\\\\\\\n",
      "&= h_\\Delta^2 h_\\ell^2\\mathcal{N}\\left([x_c, x_s]; [\\mu, \\mu], [W_\\Delta + \\Sigma; \\Sigma; \\Sigma; W_\\ell + \\Sigma]\\right)\n",
      "\\end{align*}\n",
      "$$"
     ]
    },
    {
     "cell_type": "markdown",
     "metadata": {},
     "source": [
      "We expand the third term to obtain:\n",
      "$$\n",
      "\\begin{align*}\n",
      "E[m_\\Delta|x_c] &= \\int K_\\Delta(x,x_c)K_\\Delta(x_c,x_c)^{-1}\\Delta(x_c)p(x)\\ \\mathrm{d}x\\\\\\\\\n",
      "&= \\left(\\int K_\\Delta(x,x_c)p(x)\\ \\mathrm{d}x\\right)\\ \\alpha_\\Delta(x_c).\n",
      "\\end{align*}\n",
      "$$"
     ]
    },
    {
     "cell_type": "markdown",
     "metadata": {},
     "source": [
      "Again assuming $K_\\Delta$ is a Gaussian kernel, and $p(x)$ is a Gaussian density with mean $\\mu$ and covariance $\\Sigma$, the integral can be expressed analytically as follows, from \\cite{Osborne:yQQnLKg-}:\n",
      "$$\n",
      "\\begin{align*}\n",
      "\\int K_\\Delta(x, x_c)p(x)\\ \\mathrm{d}x&=\\int h_\\Delta^2 \\mathcal{N}(x_c; x, W_\\Delta)\\mathcal{N}(x; \\mu, \\Sigma)\\ \\mathrm{d}x\\\\\\\\\n",
      "&= h_\\Delta^2 \\mathcal{N}(x_c; \\mu, W_\\Delta + \\Sigma)\n",
      "\\end{align*}\n",
      "$$"
     ]
    }
   ],
   "metadata": {}
  }
 ]
}