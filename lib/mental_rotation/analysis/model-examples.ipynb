{
 "metadata": {
  "name": ""
 },
 "nbformat": 3,
 "nbformat_minor": 0,
 "worksheets": [
  {
   "cells": [
    {
     "cell_type": "code",
     "collapsed": false,
     "input": [
      "%matplotlib inline"
     ],
     "language": "python",
     "metadata": {},
     "outputs": []
    },
    {
     "cell_type": "code",
     "collapsed": false,
     "input": [
      "from IPython.display import Image\n",
      "import matplotlib.cm as cm\n",
      "from mental_rotation.stimulus import Stimulus2D\n",
      "from mental_rotation import config, STIM_PATH, FIG_PATH\n",
      "from mental_rotation.model import GoldStandardModel, HillClimbingModel, ThresholdModel, OracleModel\n",
      "from mental_rotation.model import bayesian_quadrature_model as bq\n",
      "import snippets.graphing as sg"
     ],
     "language": "python",
     "metadata": {},
     "outputs": []
    },
    {
     "cell_type": "code",
     "collapsed": false,
     "input": [
      "VERSION = \"D\"\n",
      "FIG_PATH = FIG_PATH.joinpath(VERSION)"
     ],
     "language": "python",
     "metadata": {},
     "outputs": []
    },
    {
     "cell_type": "code",
     "collapsed": false,
     "input": [
      "def seed():\n",
      "    np.random.seed(23526)"
     ],
     "language": "python",
     "metadata": {},
     "outputs": []
    },
    {
     "cell_type": "code",
     "collapsed": false,
     "input": [
      "X = Stimulus2D.load(STIM_PATH.joinpath(VERSION, \"010_100_0.json\"))\n",
      "Xa = X.copy_from_initial()\n",
      "Xb = X.copy_from_vertices()\n",
      "\n",
      "fig, (ax1, ax2) = plt.subplots(1, 2)\n",
      "Xa.plot(ax1)\n",
      "Xb.plot(ax2)"
     ],
     "language": "python",
     "metadata": {},
     "outputs": []
    },
    {
     "cell_type": "code",
     "collapsed": false,
     "input": [
      "seed()\n",
      "gs_model = GoldStandardModel(Xa.vertices, Xb.vertices)\n",
      "gs_model.sample()\n",
      "gs_model.print_stats()"
     ],
     "language": "python",
     "metadata": {},
     "outputs": []
    },
    {
     "cell_type": "code",
     "collapsed": false,
     "input": [
      "fig, ax = plt.subplots()\n",
      "gs_model.plot(ax)"
     ],
     "language": "python",
     "metadata": {},
     "outputs": []
    },
    {
     "cell_type": "code",
     "collapsed": false,
     "input": [
      "x = np.linspace(-np.pi, np.pi, 1000)\n",
      "ratio = np.log(gs_model.S(x, 0) / gs_model.S(x, 1))\n",
      "plt.plot(x, ratio, lw=2)\n",
      "plt.hlines(0, -np.pi, np.pi, 'k', '--')"
     ],
     "language": "python",
     "metadata": {},
     "outputs": []
    },
    {
     "cell_type": "code",
     "collapsed": false,
     "input": [
      "seed()\n",
      "o_model = OracleModel(Xa.vertices, Xb.vertices)\n",
      "o_model.sample()\n",
      "o_model.print_stats()"
     ],
     "language": "python",
     "metadata": {},
     "outputs": []
    },
    {
     "cell_type": "code",
     "collapsed": false,
     "input": [
      "fig, ax = plt.subplots()\n",
      "gs_model.plot(ax)\n",
      "o_model.plot(ax)"
     ],
     "language": "python",
     "metadata": {},
     "outputs": []
    },
    {
     "cell_type": "code",
     "collapsed": false,
     "input": [
      "seed()\n",
      "hc_model = HillClimbingModel(Xa.vertices, Xb.vertices)\n",
      "hc_model.sample()\n",
      "hc_model.print_stats()"
     ],
     "language": "python",
     "metadata": {},
     "outputs": []
    },
    {
     "cell_type": "code",
     "collapsed": false,
     "input": [
      "fig, ax = plt.subplots()\n",
      "gs_model.plot(ax)\n",
      "hc_model.plot(ax)"
     ],
     "language": "python",
     "metadata": {},
     "outputs": []
    },
    {
     "cell_type": "code",
     "collapsed": false,
     "input": [
      "seed()\n",
      "t_model = ThresholdModel(Xa.vertices, Xb.vertices)\n",
      "t_model.sample()\n",
      "t_model.print_stats()"
     ],
     "language": "python",
     "metadata": {},
     "outputs": []
    },
    {
     "cell_type": "code",
     "collapsed": false,
     "input": [
      "fig, ax = plt.subplots()\n",
      "gs_model.plot(ax)\n",
      "t_model.plot(ax)"
     ],
     "language": "python",
     "metadata": {},
     "outputs": []
    },
    {
     "cell_type": "code",
     "collapsed": false,
     "input": [
      "reload(bq)\n",
      "seed()\n",
      "bq_model = bq.BayesianQuadratureModel(Xa.vertices, Xb.vertices)\n",
      "bq_model.sample()\n",
      "bq_model.print_stats()"
     ],
     "language": "python",
     "metadata": {},
     "outputs": []
    },
    {
     "cell_type": "code",
     "collapsed": false,
     "input": [
      "bq_model.plot(f_S0=lambda x: gs_model.S(x, 0), f_S1=lambda x: gs_model.S(x, 1))"
     ],
     "language": "python",
     "metadata": {},
     "outputs": []
    },
    {
     "cell_type": "code",
     "collapsed": false,
     "input": [
      "print \"E[Z0] = %f\" % bq_model._m0\n",
      "print \"V(Z0) = %f\" % bq_model._V0\n",
      "print\n",
      "print \"E[Z1] = %f\" % bq_model._m1\n",
      "print \"V(Z1) = %f\" % bq_model._V1"
     ],
     "language": "python",
     "metadata": {},
     "outputs": []
    },
    {
     "cell_type": "code",
     "collapsed": false,
     "input": [
      "models = [\n",
      "    (\"Oracle model\", o_model),\n",
      "    (\"Threshold model\", t_model),\n",
      "    (\"Hill-climbing model\", hc_model),\n",
      "    (\"Bayesian quadrature model\", bq_model)\n",
      "]\n",
      "\n",
      "xmax = 0\n",
      "fig, axes = plt.subplots(1, 4, sharey=True, sharex=True)\n",
      "for (model_name, m), ax in zip(models, axes):\n",
      "    Fi = m.F_i\n",
      "    Si = m.log_S_i - m._log_const\n",
      "    Si = (Si - Si.min() + 1) * 10\n",
      "    Ri = m.R_i\n",
      "    ti = np.arange(Ri.size)\n",
      "    ci = np.empty((Ri.size, 3))\n",
      "    ci[Fi == 0] = np.array([1, 0, 0])\n",
      "    ci[Fi == 1] = np.array([0, 0, 1])\n",
      "    \n",
      "    if ti.max() > xmax:\n",
      "        xmax = ti.max()\n",
      "\n",
      "    ax.plot(ti, Ri, 'k-')\n",
      "    ax.scatter(ti, Ri, c=ci, s=Si, edgecolor=ci)\n",
      "    \n",
      "    ax.set_xlabel(\"Action #\", fontsize=14)\n",
      "    ax.set_title(model_name, fontsize=14)\n",
      "    \n",
      "    ax.set_ylim(np.pi+0.4, -np.pi-0.4)\n",
      "    ax.set_yticks([np.pi, np.pi / 2., 0, -np.pi / 2., -np.pi])\n",
      "    ax.set_yticklabels([180, 90, 0, -90, -180])\n",
      "    \n",
      "    sg.clear_top(ax)\n",
      "    sg.clear_right(ax)\n",
      "    sg.outward_ticks(ax)\n",
      "    \n",
      "axes[0].set_xlim(0, xmax + 1)\n",
      "axes[0].set_ylabel(\"Rotation\", fontsize=14)\n",
      "\n",
      "p0 = plt.Rectangle((0, 0), 1, 1, fc=\"r\", ec=\"r\")\n",
      "p1 = plt.Rectangle((0, 0), 1, 1, fc=\"b\", ec=\"b\")\n",
      "axes[0].legend(\n",
      "    [p0, p1], [\"same\", \"flipped\"], \n",
      "    frameon=False, numpoints=1, fontsize=12)\n",
      "\n",
      "fig.set_figwidth(14)\n",
      "fig.set_figheight(2)\n",
      "plt.tight_layout()\n",
      "\n",
      "sg.save(FIG_PATH.joinpath(\"model-traces\"), ext=[\"png\", \"pdf\"], close=False)"
     ],
     "language": "python",
     "metadata": {},
     "outputs": []
    }
   ],
   "metadata": {}
  }
 ]
}