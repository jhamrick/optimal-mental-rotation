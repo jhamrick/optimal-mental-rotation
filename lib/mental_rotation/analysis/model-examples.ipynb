{
 "metadata": {
  "name": ""
 },
 "nbformat": 3,
 "nbformat_minor": 0,
 "worksheets": [
  {
   "cells": [
    {
     "cell_type": "heading",
     "level": 1,
     "metadata": {},
     "source": [
      "Models of mental rotation"
     ]
    },
    {
     "cell_type": "code",
     "collapsed": false,
     "input": [
      "%matplotlib inline"
     ],
     "language": "python",
     "metadata": {},
     "outputs": []
    },
    {
     "cell_type": "code",
     "collapsed": false,
     "input": [
      "import matplotlib.cm as cm\n",
      "import matplotlib.pyplot as plt\n",
      "import numpy as np\n",
      "\n",
      "import mental_rotation.model as models\n",
      "from mental_rotation.stimulus import Stimulus2D\n",
      "from mental_rotation import VERSION, STIM_PATH, FIG_PATH\n",
      "import analysis_util as util\n",
      "\n",
      "FIG_PATH = FIG_PATH.joinpath(VERSION)"
     ],
     "language": "python",
     "metadata": {},
     "outputs": []
    },
    {
     "cell_type": "code",
     "collapsed": false,
     "input": [
      "def format_plot(fig, ax1, ax2):\n",
      "    ax1.set_xlim(-np.pi, np.pi)\n",
      "    ax1.set_xticks([-np.pi, -np.pi/2., 0, np.pi/2., np.pi])\n",
      "    ax1.set_xticklabels([-180, -90, 0, 90, 180])\n",
      "    ax1.set_ylabel(\"Similarity\")\n",
      "    ax1.set_title(\"Same\")\n",
      "    ax2.set_title(\"Different\")\n",
      "    for ax in [ax1, ax2]:\n",
      "        util.clear_right(ax)\n",
      "        util.clear_top(ax)\n",
      "        ax.set_xlabel(\"Rotation\")\n",
      "    fig.set_figwidth(8)\n",
      "    plt.tight_layout()"
     ],
     "language": "python",
     "metadata": {},
     "outputs": []
    },
    {
     "cell_type": "heading",
     "level": 2,
     "metadata": {},
     "source": [
      "Example stimulus"
     ]
    },
    {
     "cell_type": "code",
     "collapsed": false,
     "input": [
      "X = Stimulus2D.load(STIM_PATH.joinpath(VERSION, \"010_100_0.json\"))\n",
      "Xa = X.copy_from_initial()\n",
      "Xb = X.copy_from_vertices()\n",
      "\n",
      "fig, (ax1, ax2) = plt.subplots(1, 2)\n",
      "Xa.plot(ax1)\n",
      "Xb.plot(ax2)"
     ],
     "language": "python",
     "metadata": {},
     "outputs": []
    },
    {
     "cell_type": "heading",
     "level": 2,
     "metadata": {},
     "source": [
      "Gold standard model"
     ]
    },
    {
     "cell_type": "code",
     "collapsed": false,
     "input": [
      "util.seed()\n",
      "gs_model = models.GoldStandardModel(Xa.vertices, Xb.vertices)\n",
      "gs_model.sample()\n",
      "gs_model.print_stats()"
     ],
     "language": "python",
     "metadata": {},
     "outputs": []
    },
    {
     "cell_type": "code",
     "collapsed": false,
     "input": [
      "fig, (ax1, ax2) = plt.subplots(1, 2, sharex=True, sharey=True)\n",
      "lines0 = gs_model.plot(ax1, 0)\n",
      "lines1 = gs_model.plot(ax2, 1)\n",
      "format_plot(fig, ax1, ax2)"
     ],
     "language": "python",
     "metadata": {},
     "outputs": []
    },
    {
     "cell_type": "heading",
     "level": 2,
     "metadata": {},
     "source": [
      "Oracle model"
     ]
    },
    {
     "cell_type": "code",
     "collapsed": false,
     "input": [
      "util.seed()\n",
      "o_model = models.OracleModel(Xa.vertices, Xb.vertices)\n",
      "o_model.sample()\n",
      "o_model.print_stats()"
     ],
     "language": "python",
     "metadata": {},
     "outputs": []
    },
    {
     "cell_type": "code",
     "collapsed": false,
     "input": [
      "fig, (ax1, ax2) = plt.subplots(1, 2, sharex=True, sharey=True)\n",
      "lines0 = o_model.plot(ax1, 0, f_S=gs_model.S)\n",
      "lines1 = o_model.plot(ax2, 1, f_S=gs_model.S)\n",
      "format_plot(fig, ax1, ax2)"
     ],
     "language": "python",
     "metadata": {},
     "outputs": []
    },
    {
     "cell_type": "heading",
     "level": 2,
     "metadata": {},
     "source": [
      "Hill-climbing model"
     ]
    },
    {
     "cell_type": "code",
     "collapsed": false,
     "input": [
      "util.seed()\n",
      "hc_model = models.HillClimbingModel(Xa.vertices, Xb.vertices)\n",
      "hc_model.sample()\n",
      "hc_model.print_stats()"
     ],
     "language": "python",
     "metadata": {},
     "outputs": []
    },
    {
     "cell_type": "code",
     "collapsed": false,
     "input": [
      "fig, (ax1, ax2) = plt.subplots(1, 2, sharex=True, sharey=True)\n",
      "lines0 = hc_model.plot(ax1, 0, f_S=gs_model.S)\n",
      "lines1 = hc_model.plot(ax2, 1, f_S=gs_model.S)\n",
      "format_plot(fig, ax1, ax2)"
     ],
     "language": "python",
     "metadata": {},
     "outputs": []
    },
    {
     "cell_type": "heading",
     "level": 2,
     "metadata": {},
     "source": [
      "Threshold model"
     ]
    },
    {
     "cell_type": "code",
     "collapsed": false,
     "input": [
      "util.seed()\n",
      "t_model = models.ThresholdModel(Xa.vertices, Xb.vertices)\n",
      "t_model.sample()\n",
      "t_model.print_stats()"
     ],
     "language": "python",
     "metadata": {},
     "outputs": []
    },
    {
     "cell_type": "code",
     "collapsed": false,
     "input": [
      "fig, (ax1, ax2) = plt.subplots(1, 2, sharex=True, sharey=True)\n",
      "lines0 = t_model.plot(ax1, 0, f_S=gs_model.S)\n",
      "lines1 = t_model.plot(ax2, 1, f_S=gs_model.S)\n",
      "format_plot(fig, ax1, ax2)"
     ],
     "language": "python",
     "metadata": {},
     "outputs": []
    },
    {
     "cell_type": "heading",
     "level": 2,
     "metadata": {},
     "source": [
      "Bayesian quadrature model"
     ]
    },
    {
     "cell_type": "code",
     "collapsed": false,
     "input": [
      "util.seed()\n",
      "bq_model = models.BayesianQuadratureModel(Xa.vertices, Xb.vertices)\n",
      "bq_model.sample()\n",
      "bq_model.print_stats()"
     ],
     "language": "python",
     "metadata": {},
     "outputs": []
    },
    {
     "cell_type": "code",
     "collapsed": false,
     "input": [
      "fig, (ax1, ax2) = plt.subplots(1, 2, sharex=True, sharey=True)\n",
      "lines0 = bq_model.plot(ax1, 0, f_S=gs_model.S)\n",
      "lines1 = bq_model.plot(ax2, 1, f_S=gs_model.S)\n",
      "format_plot(fig, ax1, ax2)"
     ],
     "language": "python",
     "metadata": {},
     "outputs": []
    },
    {
     "cell_type": "heading",
     "level": 2,
     "metadata": {},
     "source": [
      "All models"
     ]
    },
    {
     "cell_type": "code",
     "collapsed": false,
     "input": [
      "all_models = [\n",
      "    (\"Oracle model\", o_model),\n",
      "    (\"Threshold model\", t_model),\n",
      "    (\"Hill-climbing model\", hc_model),\n",
      "    (\"Bayesian quadrature model\", bq_model)\n",
      "]"
     ],
     "language": "python",
     "metadata": {},
     "outputs": []
    },
    {
     "cell_type": "code",
     "collapsed": false,
     "input": [
      "xmax = 0\n",
      "fig, axes = plt.subplots(1, 4, sharey=True, sharex=True)\n",
      "for (model_name, m), ax in zip(all_models, axes):\n",
      "    Fi = m.F_i\n",
      "    Si = m.log_S_i - m._log_const\n",
      "    Si = (Si - Si.min() + 1) * 10\n",
      "    Ri = m.R_i\n",
      "    ti = np.arange(Ri.size)\n",
      "    ci = np.empty((Ri.size, 3))\n",
      "    ci[Fi == 0] = np.array([1, 0, 0])\n",
      "    ci[Fi == 1] = np.array([0, 0, 1])\n",
      "    \n",
      "    if ti.max() > xmax:\n",
      "        xmax = ti.max()\n",
      "\n",
      "    ax.plot(ti, Ri, 'k-')\n",
      "    ax.scatter(ti, Ri, c=ci, s=Si, edgecolor=ci)\n",
      "    \n",
      "    ax.set_xlabel(\"Action #\", fontsize=14)\n",
      "    ax.set_title(model_name, fontsize=14)\n",
      "    \n",
      "    ax.set_ylim(np.pi+0.4, -np.pi-0.4)\n",
      "    ax.set_yticks([np.pi, np.pi / 2., 0, -np.pi / 2., -np.pi])\n",
      "    ax.set_yticklabels([180, 90, 0, -90, -180])\n",
      "    \n",
      "    util.clear_top(ax)\n",
      "    util.clear_right(ax)\n",
      "    util.outward_ticks(ax)\n",
      "    \n",
      "axes[0].set_xlim(0, xmax + 1)\n",
      "axes[0].set_ylabel(\"Rotation\", fontsize=14)\n",
      "\n",
      "p0 = plt.Rectangle((0, 0), 1, 1, fc=\"r\", ec=\"r\")\n",
      "p1 = plt.Rectangle((0, 0), 1, 1, fc=\"b\", ec=\"b\")\n",
      "axes[0].legend(\n",
      "    [p0, p1], [\"same\", \"flipped\"], \n",
      "    frameon=False, numpoints=1, fontsize=12)\n",
      "\n",
      "fig.set_figwidth(14)\n",
      "fig.set_figheight(2)\n",
      "plt.tight_layout()\n",
      "\n",
      "util.save(FIG_PATH.joinpath(\"model-traces\"), ext=[\"png\", \"pdf\"], close=False)"
     ],
     "language": "python",
     "metadata": {},
     "outputs": []
    }
   ],
   "metadata": {}
  }
 ]
}