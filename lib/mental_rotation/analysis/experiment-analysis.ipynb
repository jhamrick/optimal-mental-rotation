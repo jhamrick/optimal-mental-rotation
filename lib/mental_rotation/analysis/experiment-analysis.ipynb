{
 "metadata": {
  "name": ""
 },
 "nbformat": 3,
 "nbformat_minor": 0,
 "worksheets": [
  {
   "cells": [
    {
     "cell_type": "code",
     "collapsed": false,
     "input": [
      "%matplotlib inline"
     ],
     "language": "python",
     "outputs": []
    },
    {
     "cell_type": "code",
     "collapsed": false,
     "input": [
      "from mental_rotation import DATA_PATH, FIG_PATH\n",
      "from snippets import datapackage as dpkg\n",
      "from snippets import graphing as sg\n",
      "from datetime import timedelta\n",
      "import pandas as pd\n",
      "import numpy as np\n",
      "\n",
      "# set the random seed, so we always get the same randomness\n",
      "np.random.seed(6747)"
     ],
     "language": "python",
     "outputs": []
    },
    {
     "cell_type": "code",
     "collapsed": false,
     "input": [
      "VERSION = \"D\"\n",
      "FIG_PATH = FIG_PATH.joinpath(VERSION)"
     ],
     "language": "python",
     "outputs": []
    },
    {
     "cell_type": "markdown",
     "source": [
      "Load the data."
     ]
    },
    {
     "cell_type": "code",
     "collapsed": false,
     "input": [
      "def modtheta(x):\n",
      "    if x > 180:\n",
      "\treturn 360 - x\n",
      "    else:\n",
      "\treturn x"
     ],
     "language": "python",
     "outputs": []
    },
    {
     "cell_type": "code",
     "collapsed": false,
     "input": [
      "def zscore(x):\n",
      "    return (x - x.mean()) / x.std()"
     ],
     "language": "python",
     "outputs": []
    },
    {
     "cell_type": "code",
     "collapsed": false,
     "input": [
      "human_dp = dpkg.DataPackage.load(\n",
      "    DATA_PATH.joinpath(\"human\", \"%s.dpkg\" % VERSION))\n",
      "exp_all = human_dp.load_resource(\"experiment.csv\")\n",
      "\n",
      "# get just the experiment trials\n",
      "exp = exp_all\\\n",
      "    .groupby(\n",
      "        exp_all['mode'].apply(\n",
      "            lambda x: x.startswith('experiment')))\\\n",
      "    .get_group(True)\n",
      "\n",
      "# compute correct responses\n",
      "exp['correct'] = exp['flipped'] == exp['response']\n",
      "\n",
      "# compute zscored time\n",
      "exp['ztime'] = exp.groupby('pid')['time'].apply(zscore)\n",
      "\n",
      "# compute modtheta, where all angles are between 0 and 180\n",
      "exp['modtheta'] = exp['theta'].apply(modtheta)\n",
      "\n",
      "# split into the two different blocks\n",
      "expA = exp.groupby('mode').get_group('experimentA')\n",
      "expB = exp.groupby('mode').get_group('experimentB')\n",
      "expB['trial'] += expA['trial'].max()\n",
      "exp['trial'].ix[expA.index] = expA['trial']\n",
      "exp['trial'].ix[expB.index] = expB['trial']"
     ],
     "language": "python",
     "outputs": []
    },
    {
     "cell_type": "markdown",
     "source": [
      "Compute the average amount of time it takes to complete the\n",
      "experiment, as well as the average hourly wage."
     ]
    },
    {
     "cell_type": "code",
     "collapsed": false,
     "input": [
      "exp_all['timestamp'] = pd.to_datetime(exp_all['timestamp'])\n",
      "starttime = exp_all.groupby('pid').apply(lambda x: x.sort('timestamp')['timestamp'].min())\n",
      "endtime = exp_all.groupby('pid').apply(lambda x: x.sort('timestamp')['timestamp'].max())\n",
      "exptime = endtime - starttime\n",
      "medtime = timedelta(seconds=exptime.median() / 1e9)\n",
      "payrate = (1 / (exptime.astype(int) / (1e9 * 60 * 60))).mean()\n",
      "print \"Median time: %s\" % medtime\n",
      "print \"Average pay: $%.2f / hour\" % payrate"
     ],
     "language": "python",
     "outputs": []
    },
    {
     "cell_type": "markdown",
     "source": [
      "Print out the number of participants in each condition."
     ]
    },
    {
     "cell_type": "code",
     "collapsed": false,
     "input": [
      "print \"%d participants\" % len(exp['pid'].drop_duplicates())\n",
      "exp.groupby('condition').apply(lambda x: len(x['pid'].drop_duplicates()))"
     ],
     "language": "python",
     "outputs": []
    },
    {
     "cell_type": "markdown",
     "source": [
      "Plot a histogram of overall participant accuracy."
     ]
    },
    {
     "cell_type": "code",
     "collapsed": false,
     "input": [
      "expB.groupby('pid')['correct'].mean().hist()"
     ],
     "language": "python",
     "outputs": []
    },
    {
     "cell_type": "markdown",
     "source": [
      "## Response time analysis"
     ]
    },
    {
     "cell_type": "code",
     "collapsed": false,
     "input": [
      "def bootstrap(x, nsamples=10000):\n",
      "    arr = np.asarray(x)\n",
      "    n, = arr.shape\n",
      "    boot_idx = np.random.randint(0, n, n*nsamples)\n",
      "    boot_arr = arr[boot_idx].reshape((n, nsamples))\n",
      "    boot_mean = boot_arr.mean(axis=0)\n",
      "    stats = pd.Series(\n",
      "\tnp.percentile(boot_mean, [2.5, 50, 97.5]),\n",
      "        index=['lower', 'median', 'upper'],\n",
      "        name=x.name)\n",
      "    return stats"
     ],
     "language": "python",
     "outputs": []
    },
    {
     "cell_type": "code",
     "collapsed": false,
     "input": [
      "def plot_time(ax, df, flipped):\n",
      "    time = df.groupby('modtheta')['ztime']\n",
      "    stats = time.apply(bootstrap).unstack(1)\n",
      "    lower = stats['median'] - stats['lower']\n",
      "    upper = stats['upper'] - stats['median']\n",
      "    ax.errorbar(stats.index, stats['median'], yerr=[lower, upper], label=flipped)"
     ],
     "language": "python",
     "outputs": []
    },
    {
     "cell_type": "markdown",
     "source": [
      "Plot overall response times:"
     ]
    },
    {
     "cell_type": "code",
     "collapsed": false,
     "input": [
      "fig, ax = plt.subplots()\n",
      "\n",
      "for flipped, df in expB[expB['correct']].groupby('flipped'):\n",
      "    plot_time(ax, df, flipped)\n",
      "\n",
      "ax.set_xlim(-10, 190)\n",
      "ax.set_ylim(-1, 1)\n",
      "ax.set_xticks(np.arange(0, 200, 20))\n",
      "ax.set_xlabel(\"Rotation\")\n",
      "ax.set_ylabel(\"Response Time (z-scored)\")\n",
      "ax.legend(title=\"Stimuli\", loc=0)\n",
      "\n",
      "sg.save(FIG_PATH.joinpath(\"response-times\"), ext=\"png\", close=False)"
     ],
     "language": "python",
     "outputs": []
    },
    {
     "cell_type": "markdown",
     "source": [
      "Plot per-stimulus response times:"
     ]
    },
    {
     "cell_type": "code",
     "collapsed": false,
     "input": [
      "fig, axes = plt.subplots(4, 5, sharex=True, sharey=True)\n",
      "\n",
      "for i, (stim, sdf) in enumerate(expB[expB['correct']].groupby('stimulus')):\n",
      "    ax = axes.flat[i]\n",
      "    for flipped, df in sdf.groupby('flipped'):\n",
      "\tplot_time(ax, df, flipped)\n",
      "\n",
      "    ax.set_xlim(-10, 190)\n",
      "    ax.set_ylim(-1, 1)\n",
      "    ax.set_xticks([0, 60, 120, 180])\n",
      "    ax.set_title(\"Stim %s\" % stim)\n",
      "    \n",
      "fig.set_figwidth(10)\n",
      "fig.set_figheight(8)\n",
      "plt.tight_layout()\n",
      "\n",
      "sg.save(FIG_PATH.joinpath(\"response-times-stimuli\"), ext=\"png\", close=False)"
     ],
     "language": "python",
     "outputs": []
    },
    {
     "cell_type": "markdown",
     "source": [
      "## Accuracy analysis"
     ]
    },
    {
     "cell_type": "code",
     "collapsed": false,
     "input": [
      "def plot_accuracy(ax, df, flipped):\n",
      "    correct = df.groupby('modtheta')['correct']\n",
      "    stats = correct.apply(bootstrap).unstack(1)\n",
      "    lower = stats['median'] - stats['lower']\n",
      "    upper = stats['upper'] - stats['median']\n",
      "    ax.errorbar(stats.index, stats['median'], yerr=[lower, upper], label=flipped)"
     ],
     "language": "python",
     "outputs": []
    },
    {
     "cell_type": "markdown",
     "source": [
      "Plot overall accuracy:"
     ]
    },
    {
     "cell_type": "code",
     "collapsed": false,
     "input": [
      "fig, ax = plt.subplots()\n",
      "\n",
      "for flipped, df in expB.groupby('flipped'):\n",
      "    plot_accuracy(ax, df, flipped)\n",
      "\n",
      "ax.set_xlim(-10, 190)\n",
      "ax.set_ylim(0.5, 1)\n",
      "ax.set_xticks(np.arange(0, 200, 20))\n",
      "ax.set_xlabel(\"Rotation\")\n",
      "ax.set_ylabel(\"Accuracy\")\n",
      "ax.legend(title=\"Stimuli\", loc=0)\n",
      "\n",
      "sg.save(FIG_PATH.joinpath(\"accuracy\"), ext=\"png\", close=False)"
     ],
     "language": "python",
     "outputs": []
    },
    {
     "cell_type": "markdown",
     "source": [
      "Plot per-stimulus accuracy:"
     ]
    },
    {
     "cell_type": "code",
     "collapsed": false,
     "input": [
      "fig, axes = plt.subplots(4, 5, sharex=True, sharey=True)\n",
      "\n",
      "for i, (stim, sdf) in enumerate(expB.groupby('stimulus')):\n",
      "    ax = axes.flat[i]\n",
      "    for flipped, df in sdf.groupby('flipped'):\n",
      "\tplot_accuracy(ax, df, flipped)\n",
      "\n",
      "    ax.set_xlim(-10, 190)\n",
      "    ax.set_ylim(0.5, 1)\n",
      "    ax.set_xticks([0, 60, 120, 180])\n",
      "    ax.set_title(\"Stim %s\" % stim)\n",
      "    \n",
      "fig.set_figwidth(10)\n",
      "fig.set_figheight(8)\n",
      "plt.tight_layout()\n",
      "\n",
      "sg.save(FIG_PATH.joinpath(\"accuracy-stimuli\"), ext=\"png\", close=False)"
     ],
     "language": "python",
     "outputs": []
    },
    {
     "cell_type": "markdown",
     "source": [
      "## Practice effects"
     ]
    },
    {
     "cell_type": "markdown",
     "source": [
      "Plot response time as a function of trial, and compute the associated\n",
      "correlation."
     ]
    },
    {
     "cell_type": "code",
     "collapsed": false,
     "input": [
      "def bootcorr(x, y, nsamples=10000):\n",
      "    arr1 = np.asarray(x)\n",
      "    arr2 = np.asarray(y)\n",
      "    assert arr1.shape == arr2.shape\n",
      "    n, = arr1.shape\n",
      "    boot_idx = np.random.randint(0, n, n*nsamples)\n",
      "    boot_arr1 = arr1[boot_idx].reshape((n, nsamples))\n",
      "    boot_arr2 = arr2[boot_idx].reshape((n, nsamples))\n",
      "    boot_corr = np.empty(nsamples)\n",
      "    for i in xrange(nsamples):\n",
      "\tboot_corr[i] = np.corrcoef(boot_arr1[:, i], boot_arr2[:, i])[1, 0]\n",
      "    stats = pd.Series(\n",
      "        np.percentile(boot_corr, [2.5, 50, 97.5]),\n",
      "        index=['lower', 'median', 'upper'])\n",
      "    return stats"
     ],
     "language": "python",
     "outputs": []
    },
    {
     "cell_type": "code",
     "collapsed": false,
     "input": [
      "def corr_time(df, name):\n",
      "    trials = df[df['correct']]['trial'].drop_duplicates()\n",
      "    trials.sort()\n",
      "    times = df[df['correct']].groupby('trial')['ztime'].mean()\n",
      "\n",
      "    corr = bootcorr(trials, times)\n",
      "    print \"correlation (%s): %.2f [%.2f, %.2f]\" % (\n",
      "        name, corr['median'], corr['lower'], corr['upper'])\n",
      "\n",
      "    return trials, times, corr\n",
      "\n",
      "corr_time(expA, \"part A\")\n",
      "corr_time(expB, \"part B\")\n",
      "trials, times, corr = corr_time(exp, \"all\")"
     ],
     "language": "python",
     "outputs": []
    },
    {
     "cell_type": "code",
     "collapsed": false,
     "input": [
      "fig, ax = plt.subplots()\n",
      "ax.plot(np.asarray(trials), np.asarray(times), 'bo')\n",
      "ax.set_xlim(1, 200)\n",
      "ax.set_xlabel(\"Trial\")\n",
      "ax.set_ylabel(\"Response time (z-scored)\")\n",
      "\n",
      "sg.save(FIG_PATH.joinpath(\"trial-vs-time\"), ext=\"png\", close=False)"
     ],
     "language": "python",
     "outputs": []
    },
    {
     "cell_type": "markdown",
     "source": [
      "Plot accuracy as a function of trial, and compute the associated\n",
      "correlation."
     ]
    },
    {
     "cell_type": "code",
     "collapsed": false,
     "input": [
      "def corr_acc(df, name):\n",
      "    trials = df['trial'].drop_duplicates()\n",
      "    trials.sort()\n",
      "    acc = df.groupby('trial')['correct'].mean()\\\n",
      "\n",
      "    corr = bootcorr(trials, acc)\n",
      "    print \"correlation (%s): %.2f [%.2f, %.2f]\" % (\n",
      "        name, corr['median'], corr['lower'], corr['upper'])\n",
      "\n",
      "    return trials, acc, corr\n",
      "\n",
      "corr_acc(expA, \"part A\")\n",
      "corr_acc(expB, \"part B\")\n",
      "trials, acc, corr = corr_acc(exp, \"all\")"
     ],
     "language": "python",
     "outputs": []
    },
    {
     "cell_type": "code",
     "collapsed": false,
     "input": [
      "fig, ax = plt.subplots()\n",
      "ax.plot(np.asarray(trials), np.asarray(acc), 'bo')\n",
      "ax.set_xlim(1, 200)\n",
      "ax.set_ylim(0, 1)\n",
      "ax.set_xlabel(\"Trial\")\n",
      "ax.set_ylabel(\"Accuracy (fraction correct)\")\n",
      "\n",
      "sg.save(FIG_PATH.joinpath(\"trial-vs-accuracy\"), ext=\"png\", close=False)"
     ],
     "language": "python",
     "outputs": []
    },
    {
     "cell_type": "markdown",
     "source": [
      "## Response time vs accuracy"
     ]
    },
    {
     "cell_type": "code",
     "collapsed": false,
     "input": [
      "groups = expB.groupby(['stimulus', 'theta', 'flipped'])\n",
      "time = groups['ztime'].mean()\n",
      "acc = groups['correct'].mean()"
     ],
     "language": "python",
     "outputs": []
    },
    {
     "cell_type": "code",
     "collapsed": false,
     "input": [
      "fig, ax = plt.subplots()\n",
      "ax.errorbar(time, acc, linestyle='', marker='o')\n",
      "ax.set_xlabel(\"Response time (msec)\")\n",
      "ax.set_ylabel(\"Accuracy (fraction correct)\")\n",
      "\n",
      "sg.save(FIG_PATH.joinpath(\"time-vs-accuracy\"), ext=\"png\", close=False)"
     ],
     "language": "python",
     "outputs": []
    }
   ]
  }
 ]
}