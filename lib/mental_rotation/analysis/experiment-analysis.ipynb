{
 "metadata": {
  "name": ""
 },
 "nbformat": 3,
 "nbformat_minor": 0,
 "worksheets": [
  {
   "cells": [
    {
     "cell_type": "code",
     "collapsed": false,
     "input": [
      "%matplotlib inline"
     ],
     "language": "python",
     "outputs": []
    },
    {
     "cell_type": "code",
     "collapsed": false,
     "input": [
      "from mental_rotation import DATA_PATH, FIG_PATH\n",
      "from snippets import datapackage as dpkg\n",
      "from snippets import graphing as sg\n",
      "from datetime import timedelta\n",
      "import pandas as pd\n",
      "import numpy as np"
     ],
     "language": "python",
     "outputs": []
    },
    {
     "cell_type": "markdown",
     "source": [
      "Load the data."
     ]
    },
    {
     "cell_type": "code",
     "collapsed": false,
     "input": [
      "human_dp = dpkg.DataPackage.load(DATA_PATH.joinpath(\"human\", \"C.dpkg\"))\n",
      "exp_all = human_dp.load_resource(\"experiment.csv\")\n",
      "exp = exp_all\\\n",
      "    .groupby('mode')\\\n",
      "    .get_group('experiment')\n",
      "exp['correct'] = exp['flipped'] == exp['response']"
     ],
     "language": "python",
     "outputs": []
    },
    {
     "cell_type": "markdown",
     "source": [
      "Compute the average amount of time it takes to complete the\n",
      "experiment, as well as the average hourly wage."
     ]
    },
    {
     "cell_type": "code",
     "collapsed": false,
     "input": [
      "exp_all['timestamp'] = pd.to_datetime(exp_all['timestamp'])\n",
      "starttime = exp_all.groupby('pid').apply(lambda x: x.sort('timestamp')['timestamp'].min())\n",
      "endtime = exp_all.groupby('pid').apply(lambda x: x.sort('timestamp')['timestamp'].max())\n",
      "exptime = endtime - starttime\n",
      "medtime = timedelta(seconds=exptime.median() / 1e9)\n",
      "payrate = (0.75 / (exptime.astype(int) / (1e9 * 60 * 60))).mean()\n",
      "print \"Median time: %s\" % medtime\n",
      "print \"Average pay: $%.2f / hour\" % payrate"
     ],
     "language": "python",
     "outputs": []
    },
    {
     "cell_type": "markdown",
     "source": [
      "Print out the number of participants in each condition."
     ]
    },
    {
     "cell_type": "code",
     "collapsed": false,
     "input": [
      "exp.groupby('condition').apply(lambda x: len(x['pid'].drop_duplicates()))"
     ],
     "language": "python",
     "outputs": []
    },
    {
     "cell_type": "markdown",
     "source": [
      "Print out per-participant accuarcy as a sanity check."
     ]
    },
    {
     "cell_type": "code",
     "collapsed": false,
     "input": [
      "exp.groupby('pid')['correct'].mean()"
     ],
     "language": "python",
     "outputs": []
    },
    {
     "cell_type": "markdown",
     "source": [
      "## Response time analysis"
     ]
    },
    {
     "cell_type": "markdown",
     "source": [
      "First, zscore the times so we get a mean that reflects the trend,\n",
      "rather than individual differences:"
     ]
    },
    {
     "cell_type": "code",
     "collapsed": false,
     "input": [
      "def zscore(df):\n",
      "    return (df - df.mean()) / df.std()\n",
      "\n",
      "exp['ztime'] = exp.groupby('pid')['time'].apply(zscore)"
     ],
     "language": "python",
     "outputs": []
    },
    {
     "cell_type": "code",
     "collapsed": false,
     "input": [
      "def bootstrap(x, nsamples=10000):\n",
      "    arr = np.asarray(x)\n",
      "    n, = arr.shape\n",
      "    boot_idx = np.random.randint(0, n, n*nsamples)\n",
      "    boot_arr = arr[boot_idx].reshape((n, nsamples))\n",
      "    boot_mean = boot_arr.mean(axis=0)\n",
      "    stats = pd.Series(\n",
      "        np.percentile(boot_mean, [2.5, 50, 97.5]),\n",
      "        index=['lower', 'median', 'upper'],\n",
      "        name=x.name)\n",
      "    return stats"
     ],
     "language": "python",
     "outputs": []
    },
    {
     "cell_type": "code",
     "collapsed": false,
     "input": [
      "def modtheta(x):\n",
      "    if x > 180:\n",
      "\treturn 360 - x\n",
      "    else:\n",
      "\treturn x"
     ],
     "language": "python",
     "outputs": []
    },
    {
     "cell_type": "code",
     "collapsed": false,
     "input": [
      "def plot_time(ax, df, flipped):\n",
      "    ztime = df.set_index('theta').groupby(modtheta)['ztime']\n",
      "    stats = ztime.apply(bootstrap).unstack(1)\n",
      "    lower = stats['median'] - stats['lower']\n",
      "    upper = stats['upper'] - stats['median']\n",
      "    ax.errorbar(stats.index, stats['median'], yerr=[lower, upper], label=flipped)"
     ],
     "language": "python",
     "outputs": []
    },
    {
     "cell_type": "markdown",
     "source": [
      "Plot overall response times:"
     ]
    },
    {
     "cell_type": "code",
     "collapsed": false,
     "input": [
      "fig, ax = plt.subplots()\n",
      "\n",
      "for flipped, df in exp[exp['correct']].groupby('flipped'):\n",
      "    plot_time(ax, df, flipped)\n",
      "\n",
      "ax.set_xlim(-10, 190)\n",
      "ax.set_ylim(-1, 1)\n",
      "ax.set_xticks(np.arange(0, 200, 20))\n",
      "ax.set_xlabel(\"Rotation\")\n",
      "ax.set_ylabel(\"Response Time (z-scored)\")\n",
      "ax.legend(title=\"Stimuli\", loc=0)\n",
      "\n",
      "sg.save(FIG_PATH.joinpath(\"response-times\"), ext=\"png\", close=False)"
     ],
     "language": "python",
     "outputs": []
    },
    {
     "cell_type": "markdown",
     "source": [
      "Plot per-stimulus response times:"
     ]
    },
    {
     "cell_type": "code",
     "collapsed": false,
     "input": [
      "fig, axes = plt.subplots(4, 5, sharex=True, sharey=True)\n",
      "\n",
      "for i, (stim, sdf) in enumerate(exp[exp['correct']].groupby('stimulus')):\n",
      "    ax = axes.flat[i]\n",
      "    for flipped, df in sdf.groupby('flipped'):\n",
      "\tplot_time(ax, df, flipped)\n",
      "\n",
      "    ax.set_xlim(-10, 190)\n",
      "    # ax.set_ylim(-1, 1)\n",
      "    ax.set_xticks([0, 60, 120, 180])\n",
      "    ax.set_title(\"Stim %s\" % stim)\n",
      "    \n",
      "fig.set_figwidth(10)\n",
      "fig.set_figheight(8)\n",
      "plt.tight_layout()\n",
      "\n",
      "sg.save(FIG_PATH.joinpath(\"response-times-stimuli\"), ext=\"png\", close=False)"
     ],
     "language": "python",
     "outputs": []
    },
    {
     "cell_type": "markdown",
     "source": [
      "## Accuracy analysis"
     ]
    },
    {
     "cell_type": "code",
     "collapsed": false,
     "input": [
      "def plot_accuracy(ax, df, flipped):\n",
      "    correct = df.set_index('theta').groupby(modtheta)['correct']\n",
      "    stats = correct.apply(bootstrap).unstack(1)\n",
      "    lower = stats['median'] - stats['lower']\n",
      "    upper = stats['upper'] - stats['median']\n",
      "    ax.errorbar(stats.index, stats['median'], yerr=[lower, upper], label=flipped)"
     ],
     "language": "python",
     "outputs": []
    },
    {
     "cell_type": "markdown",
     "source": [
      "Plot overall accuracy:"
     ]
    },
    {
     "cell_type": "code",
     "collapsed": false,
     "input": [
      "fig, ax = plt.subplots()\n",
      "\n",
      "for flipped, df in exp.groupby('flipped'):\n",
      "    plot_accuracy(ax, df, flipped)\n",
      "\n",
      "ax.set_xlim(-10, 190)\n",
      "ax.set_ylim(0, 1)\n",
      "ax.set_xticks(np.arange(0, 200, 20))\n",
      "ax.set_xlabel(\"Rotation\")\n",
      "ax.set_ylabel(\"Accuracy\")\n",
      "ax.legend(title=\"Stimuli\", loc=0)\n",
      "\n",
      "sg.save(FIG_PATH.joinpath(\"accuracy\"), ext=\"png\", close=False)"
     ],
     "language": "python",
     "outputs": []
    },
    {
     "cell_type": "markdown",
     "source": [
      "Plot per-stimulus accuracy:"
     ]
    },
    {
     "cell_type": "code",
     "collapsed": false,
     "input": [
      "fig, axes = plt.subplots(4, 5, sharex=True, sharey=True)\n",
      "\n",
      "for i, (stim, sdf) in enumerate(exp.groupby('stimulus')):\n",
      "    ax = axes.flat[i]\n",
      "    for flipped, df in sdf.groupby('flipped'):\n",
      "\tplot_accuracy(ax, df, flipped)\n",
      "\n",
      "    ax.set_xlim(-10, 190)\n",
      "    ax.set_ylim(0, 1)\n",
      "    ax.set_xticks([0, 60, 120, 180])\n",
      "    ax.set_title(\"Stim %s\" % stim)\n",
      "    \n",
      "fig.set_figwidth(10)\n",
      "fig.set_figheight(8)\n",
      "plt.tight_layout()\n",
      "\n",
      "sg.save(FIG_PATH.joinpath(\"accuracy-stimuli\"), ext=\"png\", close=False)"
     ],
     "language": "python",
     "outputs": []
    }
   ]
  }
 ]
}