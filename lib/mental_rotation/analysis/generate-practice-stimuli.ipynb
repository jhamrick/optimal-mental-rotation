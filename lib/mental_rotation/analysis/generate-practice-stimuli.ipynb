{
 "metadata": {
  "name": ""
 },
 "nbformat": 3,
 "nbformat_minor": 0,
 "worksheets": [
  {
   "cells": [
    {
     "cell_type": "code",
     "collapsed": false,
     "input": [
      "%matplotlib inline"
     ],
     "language": "python",
     "outputs": [],
     "prompt_number": 5
    },
    {
     "cell_type": "code",
     "collapsed": false,
     "input": [
      "from mental_rotation import Stimulus2D, STIM_PATH"
     ],
     "language": "python",
     "outputs": [],
     "prompt_number": 6
    },
    {
     "cell_type": "code",
     "collapsed": false,
     "input": [
      "stimuli = []"
     ],
     "language": "python",
     "outputs": [],
     "prompt_number": 36
    },
    {
     "cell_type": "code",
     "collapsed": false,
     "input": [
      "# run this cell until you find a good practice stimulus\n",
      "s = Stimulus2D.random(6)\n",
      "fig, ax = plt.subplots()\n",
      "s.plot(ax)"
     ],
     "language": "python",
     "outputs": [
      {
       "output_type": "display_data",
       "png": "[encoded data removed]",
       "text": [
        "<matplotlib.figure.Figure at 0x110f990d0>"
       ]
      }
     ],
     "prompt_number": 104
    },
    {
     "cell_type": "code",
     "collapsed": false,
     "input": [
      "# then run this cell to append it to the list of stimuli\n",
      "stimuli.append(s.copy_from_vertices())"
     ],
     "language": "python",
     "outputs": [],
     "prompt_number": 105
    },
    {
     "cell_type": "code",
     "collapsed": false,
     "input": [
      "# choose the angles we want for the practice trials\n",
      "angles = list(np.linspace(0, 360, 7)[1:-1].astype(int))\n",
      "angles = angles + angles[-2:] + angles[:-2] "
     ],
     "language": "python",
     "outputs": [],
     "prompt_number": 126
    },
    {
     "cell_type": "code",
     "collapsed": false,
     "input": [
      "# save and plot all of the stimuli\n",
      "fig, axes = plt.subplots(1, 5)\n",
      "for i, stim in enumerate(stimuli):\n",
      "    stim.plot(axes[i])\n",
      "    sid = \"practice%d\" % i\n",
      "    for flip in [True, False]:\n",
      "\tif flip:\n",
      "\t    theta = angles[i]\n",
      "\telse:\n",
      "\t    theta = angles[i + len(stimuli)]\n",
      "\n",
      "\tname = \"%s_%d_%d.json\" % (sid, theta, flip)\n",
      "\tprint name\n",
      "\n",
      "\ts = stim.copy_from_vertices()\n",
      "\tif flip:\n",
      "\t    s.flip([0, 1])\n",
      "\tif theta > 0:\n",
      "\t    s.rotate(theta)\n",
      "\tpth = STIM_PATH.joinpath(\"A-training\", name)\n",
      "\tif pth.exists():\n",
      "\t    pth.remove()\n",
      "\ts.save(pth)\n",
      "\n",
      "\tj = (j + 1) % len(stimuli)"
     ],
     "language": "python",
     "outputs": [
      {
       "output_type": "stream",
       "stream": "stdout",
       "text": [
        "practice0_60_1.json\n",
        "practice0_240_0.json\n",
        "practice1_120_1.json\n",
        "practice1_300_0.json\n",
        "practice2_180_1.json\n",
        "practice2_60_0.json\n",
        "practice3_240_1.json\n",
        "practice3_120_0.json\n",
        "practice4_300_1.json\n",
        "practice4_180_0.json\n"
       ]
      },
      {
       "output_type": "display_data",
       "png": "[encoded data removed]",
       "text": [
        "<matplotlib.figure.Figure at 0x114069350>"
       ]
      }
     ],
     "prompt_number": 130
    }
   ]
  }
 ]
}