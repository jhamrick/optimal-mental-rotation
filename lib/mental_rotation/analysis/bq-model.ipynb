{
 "metadata": {
  "name": ""
 },
 "nbformat": 3,
 "nbformat_minor": 0,
 "worksheets": [
  {
   "cells": [
    {
     "cell_type": "code",
     "collapsed": false,
     "input": [
      "%matplotlib inline"
     ],
     "language": "python",
     "metadata": {},
     "outputs": []
    },
    {
     "cell_type": "code",
     "collapsed": false,
     "input": [
      "from IPython.display import Image\n",
      "from mental_rotation.stimulus import Stimulus2D\n",
      "from mental_rotation import config, STIM_PATH, FIG_PATH\n",
      "from mental_rotation.model import GoldStandardModel, HillClimbingModel\n",
      "from mental_rotation.model import bayesian_quadrature_model as bq\n",
      "import pickle"
     ],
     "language": "python",
     "metadata": {},
     "outputs": []
    },
    {
     "cell_type": "code",
     "collapsed": false,
     "input": [
      "import logging\n",
      "#logging.getLogger(\"bayesian_quadrature\").setLevel(\"DEBUG\")\n",
      "#logging.getLogger(\"bayesian_quadrature.util\").setLevel(1)"
     ],
     "language": "python",
     "metadata": {},
     "outputs": []
    },
    {
     "cell_type": "code",
     "collapsed": false,
     "input": [
      "def seed():\n",
      "    np.random.seed(425195)"
     ],
     "language": "python",
     "metadata": {},
     "outputs": []
    },
    {
     "cell_type": "code",
     "collapsed": false,
     "input": [
      "X = Stimulus2D.load(STIM_PATH.joinpath(\"A\", \"000_120_0.json\"))\n",
      "Xa = X.copy_from_initial()\n",
      "Xb = X.copy_from_vertices()\n",
      "\n",
      "fig, (ax1, ax2) = plt.subplots(1, 2)\n",
      "Xa.plot(ax1)\n",
      "Xb.plot(ax2)"
     ],
     "language": "python",
     "metadata": {},
     "outputs": []
    },
    {
     "cell_type": "code",
     "collapsed": false,
     "input": [
      "seed()\n",
      "gs_model = GoldStandardModel(Xa.vertices, Xb.vertices)\n",
      "gs_model.sample()\n",
      "gs_model.print_stats()"
     ],
     "language": "python",
     "metadata": {},
     "outputs": []
    },
    {
     "cell_type": "code",
     "collapsed": false,
     "input": [
      "reload(bq)\n",
      "seed()\n",
      "bq_model = bq.BayesianQuadratureModel(Xa.vertices, Xb.vertices)"
     ],
     "language": "python",
     "metadata": {},
     "outputs": []
    },
    {
     "cell_type": "code",
     "collapsed": false,
     "input": [
      "bq_model.sample()\n",
      "print \"\\n\\n\" + \"=\" * 70\n",
      "bq_model.print_stats()"
     ],
     "language": "python",
     "metadata": {},
     "outputs": []
    },
    {
     "cell_type": "code",
     "collapsed": false,
     "input": [
      "bq0 = bq_model.bqs[0]\n",
      "bq1 = bq_model.bqs[1]"
     ],
     "language": "python",
     "metadata": {},
     "outputs": []
    },
    {
     "cell_type": "code",
     "collapsed": false,
     "input": [
      "bq0.plot(f_l=lambda x: gs_model.S(x, 0))"
     ],
     "language": "python",
     "metadata": {},
     "outputs": []
    },
    {
     "cell_type": "code",
     "collapsed": false,
     "input": [
      "bq1.plot(f_l=lambda x: gs_model.S(x, 1))"
     ],
     "language": "python",
     "metadata": {},
     "outputs": []
    },
    {
     "cell_type": "code",
     "collapsed": false,
     "input": [
      "print \"E[Z0] = %f\" % bq0.Z_mean()\n",
      "print \"V(Z0) = %f\" % bq0.Z_var()\n",
      "print\n",
      "print \"E[Z1] = %f\" % bq1.Z_mean()\n",
      "print \"V(Z1) = %f\" % bq1.Z_var()"
     ],
     "language": "python",
     "metadata": {},
     "outputs": []
    },
    {
     "cell_type": "code",
     "collapsed": false,
     "input": [
      "step = bq_model.opts['step']"
     ],
     "language": "python",
     "metadata": {},
     "outputs": []
    },
    {
     "cell_type": "code",
     "collapsed": false,
     "input": [
      "fig, ax = plt.subplots()\n",
      "bq0.plot_expected_squared_mean(ax, xmin=bq0.x_s.min() - 2 * step, xmax=bq0.x_s.max() + 2 * step)"
     ],
     "language": "python",
     "metadata": {},
     "outputs": []
    },
    {
     "cell_type": "code",
     "collapsed": false,
     "input": [
      "fig, ax = plt.subplots()\n",
      "bq1.plot_expected_squared_mean(ax, xmin=bq1.x_s.min() - 2 * step, xmax=bq1.x_s.max() + 2 * step)"
     ],
     "language": "python",
     "metadata": {},
     "outputs": []
    }
   ],
   "metadata": {}
  }
 ]
}