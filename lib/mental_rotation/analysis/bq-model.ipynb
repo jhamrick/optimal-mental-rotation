{
 "metadata": {
  "name": ""
 },
 "nbformat": 3,
 "nbformat_minor": 0,
 "worksheets": [
  {
   "cells": [
    {
     "cell_type": "code",
     "collapsed": false,
     "input": [
      "%matplotlib inline"
     ],
     "language": "python",
     "outputs": []
    },
    {
     "cell_type": "code",
     "collapsed": false,
     "input": [
      "from IPython.display import Image\n",
      "from mental_rotation.stimulus import Stimulus2D\n",
      "from mental_rotation import config, STIM_PATH, FIG_PATH, SEED\n",
      "from mental_rotation.model import GoldStandardModel, HillClimbingModel\n",
      "from mental_rotation.model import bayesian_quadrature_model as bq\n",
      "import pymc"
     ],
     "language": "python",
     "outputs": []
    },
    {
     "cell_type": "code",
     "collapsed": false,
     "input": [
      "def seed():\n",
      "    np.random.seed(SEED)"
     ],
     "language": "python",
     "outputs": []
    },
    {
     "cell_type": "code",
     "collapsed": false,
     "input": [
      "X = Stimulus2D.load(STIM_PATH.joinpath(\"A\", \"000_120_0.json\"))\n",
      "Xa = X.copy_from_initial()\n",
      "Xb = X.copy_from_vertices()\n",
      "\n",
      "fig, (ax1, ax2) = plt.subplots(1, 2)\n",
      "Xa.plot(ax1)\n",
      "Xb.plot(ax2)"
     ],
     "language": "python",
     "outputs": []
    },
    {
     "cell_type": "code",
     "collapsed": false,
     "input": [
      "seed()\n",
      "gs_model = GoldStandardModel(Xa, Xb)\n",
      "gs_model.sample()\n",
      "gs_model.print_stats()"
     ],
     "language": "python",
     "outputs": []
    },
    {
     "cell_type": "code",
     "collapsed": false,
     "input": [
      "reload(bq)\n",
      "seed()\n",
      "bq_model = bq.BayesianQuadratureModel(Xa, Xb)\n",
      "bq_model.sample()\n",
      "print \"\\n\\n\" + \"=\" * 70\n",
      "bq_model.print_stats()\n",
      "\n",
      "fig, axes = plt.subplots(1, 3)\n",
      "bq_model.plot(axes, f_S=gs_model.S)"
     ],
     "language": "python",
     "outputs": []
    },
    {
     "cell_type": "code",
     "collapsed": false,
     "input": [
      "print \"E[Z] = %f\" % bq_model.bq.Z_mean()\n",
      "print \"V(Z) = %f\" % bq_model.bq.Z_var()"
     ],
     "language": "python",
     "outputs": []
    },
    {
     "cell_type": "code",
     "collapsed": false,
     "input": [
      "R = np.linspace(-np.pi, np.pi, 100)\n",
      "d = np.array([bq_model._dist_cost(r, 3) for r in R])\n",
      "em = -bq_model.bq.expected_squared_mean(R)\n",
      "\n",
      "fig, (ax1, ax2) = plt.subplots(1, 2)\n",
      "ax1.plot(R, em)\n",
      "ax2.plot(R, em * d)\n",
      "\n",
      "fig.set_figwidth(10)\n",
      "plt.tight_layout()\n"
     ],
     "language": "python",
     "outputs": []
    },
    {
     "cell_type": "code",
     "collapsed": false,
     "input": [
      "plt.plot(R, d)"
     ],
     "language": "python",
     "outputs": []
    }
   ]
  }
 ]
}